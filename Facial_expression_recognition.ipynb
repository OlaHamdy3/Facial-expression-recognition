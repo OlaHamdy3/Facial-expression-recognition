{
  "nbformat": 4,
  "nbformat_minor": 0,
  "metadata": {
    "colab": {
      "name": "Facial_expression_recognition.ipynb",
      "provenance": [],
      "collapsed_sections": []
    },
    "kernelspec": {
      "name": "python3",
      "display_name": "Python 3"
    },
    "accelerator": "GPU"
  },
  "cells": [
    {
      "cell_type": "markdown",
      "metadata": {
        "id": "xehP2wd7fxoR",
        "colab_type": "text"
      },
      "source": [
        "# **Machine learning engineer nanodegree**"
      ]
    },
    {
      "cell_type": "markdown",
      "metadata": {
        "id": "BEJJM2sTltqs",
        "colab_type": "text"
      },
      "source": [
        "## **Facial expression recognition**"
      ]
    },
    {
      "cell_type": "markdown",
      "metadata": {
        "id": "tZY65EOEmu-v",
        "colab_type": "text"
      },
      "source": [
        "### **Problem statement**\n",
        "One of the non-verbal communication methods by which one can understand the emotional state of a person is the expression of his face. As the technology runs our lives these days, the majority of our time is spent in interacting with computers and mobile phones in our daily lives. Therefore, Adding facial expression recognition feature to our devices to expect the user’s emotional state can improve human-computer interaction. \n",
        "\n",
        "\n",
        "The goal of this project is to apply deep learning techniques to recognize the key seven human emotions: anger, disgust, fear, happiness, sadness, surprise and neutrality.\n",
        "\n",
        "In this project, the dataset we will use is Kaggle’s Facial Expression Recognition\n",
        "Challenge dataset. This dataset is representative because of its size, unstructured nature of faces and relatively uniform distribution of the data across the seven main human emotions. \n",
        "https://www.kaggle.com/c/challenges-in-representation-learning-facial-expression-recognition-challenge/data"
      ]
    },
    {
      "cell_type": "markdown",
      "metadata": {
        "id": "TABfjlIXpe0k",
        "colab_type": "text"
      },
      "source": [
        "## **The Road Ahead**\n",
        " ***The notebook is broken into separate steps as shown below:***\n",
        "\n",
        "1.   Exploratory data analysis.\n",
        "2.   Data preprocessing.\n",
        "3.   Model building.\n",
        "4.   Model training.\n",
        "5.   Results.\n",
        "6.   Benchmark model creating.\n",
     
        "\n",
        "\n",
        "\n",
        "\n",
        "\n",
        "\n",
        "\n",
        "\n",
        "\n"
      ]
    },
    {
      "cell_type": "code",
      "metadata": {
        "id": "NZUit0iMoFou",
        "colab_type": "code",
        "colab": {}
      },
      "source": [
        "import numpy as np\n",
        "from tensorflow.keras.utils import to_categorical\n",
        "import pandas as pd\n",
        "import keras\n",
        "from keras.models import Sequential\n",
        "from keras.layers import Dense,Flatten,Conv2D,MaxPooling2D,Dropout\n",
        "from tensorflow.keras.preprocessing.image import ImageDataGenerator\n",
        "from keras.callbacks import ModelCheckpoint\n",
        "import matplotlib.pyplot as plt"
      ],
      "execution_count": 0,
      "outputs": []
    },
    {
      "cell_type": "markdown",
      "metadata": {
        "id": "lLezuMV9sNvw",
        "colab_type": "text"
      },
      "source": [
        "### **1. Exploratory data analysis**\n",
        "\n",
        "**Importing Kaggle dataset**\n",
        "\n",
        "In the cells below, we download Kaggle dataset into google colab \n",
        "https://www.kaggle.com/c/challenges-in-representation-learning-facial-expression-recognition-challenge/data"
      ]
    },
    {
      "cell_type": "code",
      "metadata": {
        "id": "s-D_mUz4Elrz",
        "colab_type": "code",
        "outputId": "132e61cb-2669-493e-d7ce-32ac897cea8c",
        "colab": {
          "resources": {
            "http://localhost:8080/nbextensions/google.colab/files.js": {
              "data": "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",
              "ok": true,
              "headers": [
                [
                  "content-type",
                  "application/javascript"
                ]
              ],
              "status": 200,
              "status_text": ""
            }
          },
          "base_uri": "https://localhost:8080/",
          "height": 91
        }
      },
      "source": [
        "from google.colab import files\n",
        "files.upload()"
      ],
      "execution_count": 0,
      "outputs": [
        {
          "output_type": "display_data",
          "data": {
            "text/html": [
              "\n",
              "     <input type=\"file\" id=\"files-3eba33e6-4dd0-4010-a61c-a9f6900123ec\" name=\"files[]\" multiple disabled />\n",
              "     <output id=\"result-3eba33e6-4dd0-4010-a61c-a9f6900123ec\">\n",
              "      Upload widget is only available when the cell has been executed in the\n",
              "      current browser session. Please rerun this cell to enable.\n",
              "      </output>\n",
              "      <script src=\"/nbextensions/google.colab/files.js\"></script> "
            ],
            "text/plain": [
              "<IPython.core.display.HTML object>"
            ]
          },
          "metadata": {
            "tags": []
          }
        },
        {
          "output_type": "stream",
          "text": [
            "Saving kaggle.json to kaggle (1).json\n"
          ],
          "name": "stdout"
        },
        {
          "output_type": "execute_result",
          "data": {
            "text/plain": [
              "{'kaggle.json': b'{\"username\":\"olahamdy\",\"key\":\"1f8162acc298d2029479bba677dbdc82\"}'}"
            ]
          },
          "metadata": {
            "tags": []
          },
          "execution_count": 118
        }
      ]
    },
    {
      "cell_type": "code",
      "metadata": {
        "id": "d-DHOJgjGE6R",
        "colab_type": "code",
        "colab": {}
      },
      "source": [
        "!mkdir -p ~/.kaggle\n",
        "!cp kaggle.json ~/.kaggle/\n",
        "\n",
        "!chmod 600 ~/.kaggle/kaggle.json"
      ],
      "execution_count": 0,
      "outputs": []
    },
    {
      "cell_type": "code",
      "metadata": {
        "id": "U2IBRu33lmHJ",
        "colab_type": "code",
        "colab": {}
      },
      "source": [
        "!kaggle competitions download -c challenges-in-representation-learning-facial-expression-recognition-challenge"
      ],
      "execution_count": 0,
      "outputs": []
    },
    {
      "cell_type": "markdown",
      "metadata": {
        "id": "0zsqm08Tu9p8",
        "colab_type": "text"
      },
      "source": [
        "**Extract our tar file**"
      ]
    },
    {
      "cell_type": "code",
      "metadata": {
        "id": "BaL2TFTawFSf",
        "colab_type": "code",
        "colab": {}
      },
      "source": [
        "import tarfile\n",
        "tf = tarfile.open(\"fer2013.tar.gz\")\n",
        "tf.extractall()"
      ],
      "execution_count": 0,
      "outputs": []
    },
    {
      "cell_type": "markdown",
      "metadata": {
        "id": "7pCU0r82wGFY",
        "colab_type": "text"
      },
      "source": [
        "### **Data Exploration**\n",
        "\n",
        "In the cells below, We need to explore our dataset and see its distribution over our labels\n"
      ]
    },
    {
      "cell_type": "code",
      "metadata": {
        "id": "J1jE8SJAK6br",
        "colab_type": "code",
        "outputId": "5b02865e-d492-4ff4-84dd-3fd28d79d9d5",
        "colab": {
          "base_uri": "https://localhost:8080/",
          "height": 204
        }
      },
      "source": [
        "dataset = pd.read_csv('fer2013/fer2013.csv')\n",
        "dataset.head()"
      ],
      "execution_count": 0,
      "outputs": [
        {
          "output_type": "execute_result",
          "data": {
            "text/html": [
              "<div>\n",
              "<style scoped>\n",
              "    .dataframe tbody tr th:only-of-type {\n",
              "        vertical-align: middle;\n",
              "    }\n",
              "\n",
              "    .dataframe tbody tr th {\n",
              "        vertical-align: top;\n",
              "    }\n",
              "\n",
              "    .dataframe thead th {\n",
              "        text-align: right;\n",
              "    }\n",
              "</style>\n",
              "<table border=\"1\" class=\"dataframe\">\n",
              "  <thead>\n",
              "    <tr style=\"text-align: right;\">\n",
              "      <th></th>\n",
              "      <th>emotion</th>\n",
              "      <th>pixels</th>\n",
              "      <th>Usage</th>\n",
              "    </tr>\n",
              "  </thead>\n",
              "  <tbody>\n",
              "    <tr>\n",
              "      <th>0</th>\n",
              "      <td>0</td>\n",
              "      <td>70 80 82 72 58 58 60 63 54 58 60 48 89 115 121...</td>\n",
              "      <td>Training</td>\n",
              "    </tr>\n",
              "    <tr>\n",
              "      <th>1</th>\n",
              "      <td>0</td>\n",
              "      <td>151 150 147 155 148 133 111 140 170 174 182 15...</td>\n",
              "      <td>Training</td>\n",
              "    </tr>\n",
              "    <tr>\n",
              "      <th>2</th>\n",
              "      <td>2</td>\n",
              "      <td>231 212 156 164 174 138 161 173 182 200 106 38...</td>\n",
              "      <td>Training</td>\n",
              "    </tr>\n",
              "    <tr>\n",
              "      <th>3</th>\n",
              "      <td>4</td>\n",
              "      <td>24 32 36 30 32 23 19 20 30 41 21 22 32 34 21 1...</td>\n",
              "      <td>Training</td>\n",
              "    </tr>\n",
              "    <tr>\n",
              "      <th>4</th>\n",
              "      <td>6</td>\n",
              "      <td>4 0 0 0 0 0 0 0 0 0 0 0 3 15 23 28 48 50 58 84...</td>\n",
              "      <td>Training</td>\n",
              "    </tr>\n",
              "  </tbody>\n",
              "</table>\n",
              "</div>"
            ],
            "text/plain": [
              "   emotion                                             pixels     Usage\n",
              "0        0  70 80 82 72 58 58 60 63 54 58 60 48 89 115 121...  Training\n",
              "1        0  151 150 147 155 148 133 111 140 170 174 182 15...  Training\n",
              "2        2  231 212 156 164 174 138 161 173 182 200 106 38...  Training\n",
              "3        4  24 32 36 30 32 23 19 20 30 41 21 22 32 34 21 1...  Training\n",
              "4        6  4 0 0 0 0 0 0 0 0 0 0 0 3 15 23 28 48 50 58 84...  Training"
            ]
          },
          "metadata": {
            "tags": []
          },
          "execution_count": 8
        }
      ]
    },
    {
      "cell_type": "markdown",
      "metadata": {
        "id": "XAOuK7rexiaG",
        "colab_type": "text"
      },
      "source": [
        "#### **Bar plot of the data distribution** \n",
        "\n",
        "The plot below shows the data distribution over the whole dataset, This plot is the most suitable one to start with as it is simple and easy to understand. It also gives valuable information on how the values are distributed."
      ]
    },
    {
      "cell_type": "code",
      "metadata": {
        "id": "YOFSosWlxQyj",
        "colab_type": "code",
        "outputId": "184accf3-74ed-47ea-87c3-e17937e4798a",
        "colab": {
          "base_uri": "https://localhost:8080/",
          "height": 435
        }
      },
      "source": [
        "train_df = dataset[dataset[\"Usage\"]==\"Training\"]\n",
        "valid_df = dataset[dataset[\"Usage\"]==\"PublicTest\"]\n",
        "test_df = dataset[dataset[\"Usage\"]==\"PrivateTest\"]\n",
        "\n",
        "all_data = dataset.groupby(\"emotion\").size()\n",
        "train_data = train_df.groupby(\"emotion\").size()\n",
        "test_data = test_df.groupby(\"emotion\").size()\n",
        "valid_data = valid_df.groupby(\"emotion\").size()\n",
        "\n",
        "labels = list(range(0, 7))\n",
        "em_list = [\"Angry\",\"Disgust\",\"Fear\", \"Happy\", \"Sad\", \"Surprise\", \"Neutral\"]\n",
        "colors = [\"R\", \"M\", \"y\", \"g\", \"black\", \"orange\", \"grey\"]\n",
        "plt.bar(em_list, height= [all_data[i] for i in labels], color=colors)\n",
        "plt.show()\n",
        "\n",
        "\n",
        "print(\"\\n Image Counts\")\n",
        "print(dataset['emotion'].value_counts())"
      ],
      "execution_count": 0,
      "outputs": [
        {
          "output_type": "display_data",
          "data": {
            "image/png": "[encoded data removed]",
            "text/plain": [
              "<Figure size 432x288 with 1 Axes>"
            ]
          },
          "metadata": {
            "tags": []
          }
        },
        {
          "output_type": "stream",
          "text": [
            "\n",
            " Image Counts\n",
            "3    8989\n",
            "6    6198\n",
            "4    6077\n",
            "2    5121\n",
            "0    4953\n",
            "5    4002\n",
            "1     547\n",
            "Name: emotion, dtype: int64\n"
          ],
          "name": "stdout"
        }
      ]
    },
    {
      "cell_type": "markdown",
      "metadata": {
        "id": "6Z8srTz22nNS",
        "colab_type": "text"
      },
      "source": [
        "The plot below show the distribution of the data in training, validation and testing sets, each emotion has a numeric code from 0 to 6 that represents the emotion of the image (0=Angry, 1=Disgust, 2=Fear, 3=Happy, 4=Sad, 5=Surprise, 6=Neutral)."
      ]
    },
    {
      "cell_type": "code",
      "metadata": {
        "id": "6HRMoKoP20kY",
        "colab_type": "code",
        "outputId": "0b721669-ff00-4b21-ffc2-1070b7aeac8d",
        "colab": {
          "base_uri": "https://localhost:8080/",
          "height": 265
        }
      },
      "source": [
        "X = np.arange(7)\n",
        "plt.bar(X + 0.00, train_data, color = 'b', width = 0.25)\n",
        "plt.bar(X + 0.25, valid_data, color = 'g', width = 0.25)\n",
        "plt.bar(X + 0.50, test_data, color = 'r', width = 0.25)\n",
        "\n",
        "plt.show()"
      ],
      "execution_count": 0,
      "outputs": [
        {
          "output_type": "display_data",
          "data": {
            "image/png": "[encoded data removed]",
            "text/plain": [
              "<Figure size 432x288 with 1 Axes>"
            ]
          },
          "metadata": {
            "tags": []
          }
        }
      ]
    },
    {
      "cell_type": "markdown",
      "metadata": {
        "id": "IqxzouFO0qhR",
        "colab_type": "text"
      },
      "source": [
        "## **2. Data preprocessing**\n",
        "\n",
        "For the “pixels” column, it contains a string for each image, This string consists of space-separated pixel values in row major order.\n",
        "\n",
        "For the “emotions” column, it contains a numeric code from 0 to 6 that represents the emotion of the image  (0=Angry, 1=Disgust, 2=Fear, 3=Happy, 4=Sad, 5=Surprise, 6=Neutral).\n",
        "\n",
        "So, To feed the neural network with the inputs we need to reshape them into 48x48x1 numpy arrays, and the emotions value will be converted into categorical values such that each emotion will be represented as 1x7 vector.\n"
      ]
    },
    {
      "cell_type": "code",
      "metadata": {
        "id": "9lLF5JpIVR45",
        "colab_type": "code",
        "colab": {}
      },
      "source": [
        "Xstr_train = train_df[\"pixels\"].values\n",
        "Xstr_valid = valid_df[\"pixels\"].values\n",
        "Xstr_test = test_df[\"pixels\"].values\n",
        "\n",
        "y_train = train_df[\"emotion\"].values\n",
        "y_valid= valid_df[\"emotion\"].values\n",
        "y_test= test_df[\"emotion\"].values\n",
        "\n",
        "X_train = []\n",
        "for x in Xstr_train:\n",
        "\tx_list = [float(i) for i in x.split()]\n",
        "\tX_train.append(x_list)\n",
        "\n",
        "X_valid = []\n",
        "for x in Xstr_valid:\n",
        "\tx_list = [float(i) for i in x.split()]\n",
        "\tX_valid.append(x_list)\n",
        " \n",
        "X_test = []\n",
        "for x in Xstr_test:\n",
        "\tx_list = [float(i) for i in x.split()]\n",
        "\tX_test.append(x_list)\n",
        "\n",
        "\n",
        "X_train_pre = np.array(X_train)\n",
        "X_valid_pre = np.array(X_valid)\n",
        "X_test_pre = np.array(X_test)\n",
        "\n",
        "y_train_pre = np.array(y_train)\n",
        "y_valid_pre = np.array(y_valid)\n",
        "y_test_pre = np.array(y_test)\n"
      ],
      "execution_count": 0,
      "outputs": []
    },
    {
      "cell_type": "code",
      "metadata": {
        "id": "naLDjAhHCTzW",
        "colab_type": "code",
        "outputId": "f27d412f-596d-4ce0-8645-639170a2f0c2",
        "colab": {
          "base_uri": "https://localhost:8080/",
          "height": 68
        }
      },
      "source": [
        "print(y_train_pre.shape[0])\n",
        "print(y_test_pre.shape[0])\n",
        "print(y_valid_pre.shape[0])"
      ],
      "execution_count": 0,
      "outputs": [
        {
          "output_type": "stream",
          "text": [
            "28709\n",
            "3589\n",
            "3589\n"
          ],
          "name": "stdout"
        }
      ]
    },
    {
      "cell_type": "code",
      "metadata": {
        "id": "SEX8tINkobdD",
        "colab_type": "code",
        "outputId": "dbb5dbb2-4ee2-4dbe-d7dc-f8333af57100",
        "colab": {
          "base_uri": "https://localhost:8080/",
          "height": 34
        }
      },
      "source": [
        "X_train = np.reshape(X_train_pre,(X_train_pre.shape[0],48,48,1))\n",
        "X_valid = np.reshape(X_valid_pre,(X_valid_pre.shape[0],48,48,1))\n",
        "X_test = np.reshape(X_test_pre,(X_test_pre.shape[0],48,48,1))\n",
        "\n",
        "X_train /= 255\n",
        "X_valid/= 255\n",
        "X_test/= 255\n",
        "\n",
        "num_classes = len (np.unique(y_train_pre))\n",
        "y_train = to_categorical(y_train_pre,num_classes)\n",
        "y_valid = to_categorical(y_valid_pre,num_classes)\n",
        "y_test = to_categorical(y_test_pre,num_classes)\n",
        "print (\"Number of classs: \",num_classes)"
      ],
      "execution_count": 0,
      "outputs": [
        {
          "output_type": "stream",
          "text": [
            "Number of classs:  7\n"
          ],
          "name": "stdout"
        }
      ]
    },
    {
      "cell_type": "markdown",
      "metadata": {
        "id": "mqCFOUBRvD7a",
        "colab_type": "text"
      },
      "source": [
        "## **3. Model building**\n",
        "\n",
        " CNN is the state-of-art algorithm for most image processing tasks including classification. It can be thought of automatic feature extractor from the image, It works really well when the order of the features is important, and this is exactly the case with images. The numeric representation of the image pixels are our features, and the order of pixels is very significant.\n",
        "\n",
        "Since our problem is to expect a facial expression in an image, we’ve decided to use CNN implemented in Keras library with a Tensorflow backend. We’ve used keras as it offers a great balance between simplicity and efficiency.\n",
        "\n",
        "*   A simple CNN is created to classify images. It consists of six convolutional layers with three max pooling layers in between (one after each 2 ConvLayers).\n",
        "\n",
        "*   Filters were increased from 32 to 128 and dropout was added.\n",
        "*   Relu was used as an activation function for the hidden layers.\n",
        "*   Flattening layer along with two fully connected layers were added at the end of the network.\n",
        "*   Last layer used softmax as the activation function with seven nodes for our seven labels."
      ]
    },
    {
      "cell_type": "code",
      "metadata": {
        "id": "CMHJ0eqtE6LH",
        "colab_type": "code",
        "outputId": "75c5d869-6768-4160-9df5-f7816bc26a9b",
        "colab": {
          "base_uri": "https://localhost:8080/",
          "height": 731
        }
      },
      "source": [
        "#Model Initialization\n",
        "model = Sequential() \n",
        "\n",
        "#Adding Input Layer\n",
        "model.add(Conv2D(32, (3, 3), padding='same', activation='relu', input_shape=(48,48,1)))\n",
        "\n",
        "#Adding more layers\n",
        "model.add(Conv2D(32, (3, 3), padding='same',activation='relu'))\n",
        "model.add(MaxPooling2D(pool_size=(2, 2)))\n",
        "#model.add(Dropout(0.25))\n",
        "\n",
        "model.add(Conv2D(64, (3, 3), padding='same', activation='relu'))\n",
        "model.add(Conv2D(64, (3, 3), padding='same', activation='relu'))\n",
        "model.add(MaxPooling2D(pool_size=(2, 2)))\n",
        "model.add(Dropout(0.25))\n",
        "\n",
        "model.add(Conv2D(128, (3, 3), padding='same', activation='relu'))\n",
        "model.add(Conv2D(128, (3, 3), activation='relu'))\n",
        "model.add(MaxPooling2D(pool_size=(2, 2)))\n",
        "model.add(Dropout(0.25))\n",
        "\n",
        "#Flattening\n",
        "model.add(Flatten())\n",
        "\n",
        "#Adding fully connected layer\n",
        "model.add(Dense(512, activation='relu'))\n",
        "model.add(Dropout(0.3)) #\n",
        "model.add(Dense(512, activation='relu')) #\n",
        "model.add(Dropout(0.4))\n",
        "\n",
        "#Adding Output Layer\n",
        "model.add(Dense(7, activation='softmax'))\n",
        "\n",
        "model.summary()"
      ],
      "execution_count": 0,
      "outputs": [
        {
          "output_type": "stream",
          "text": [
            "Model: \"sequential_2\"\n",
            "_________________________________________________________________\n",
            "Layer (type)                 Output Shape              Param #   \n",
            "=================================================================\n",
            "conv2d_7 (Conv2D)            (None, 48, 48, 32)        320       \n",
            "_________________________________________________________________\n",
            "conv2d_8 (Conv2D)            (None, 48, 48, 32)        9248      \n",
            "_________________________________________________________________\n",
            "max_pooling2d_4 (MaxPooling2 (None, 24, 24, 32)        0         \n",
            "_________________________________________________________________\n",
            "conv2d_9 (Conv2D)            (None, 24, 24, 64)        18496     \n",
            "_________________________________________________________________\n",
            "conv2d_10 (Conv2D)           (None, 24, 24, 64)        36928     \n",
            "_________________________________________________________________\n",
            "max_pooling2d_5 (MaxPooling2 (None, 12, 12, 64)        0         \n",
            "_________________________________________________________________\n",
            "dropout_5 (Dropout)          (None, 12, 12, 64)        0         \n",
            "_________________________________________________________________\n",
            "conv2d_11 (Conv2D)           (None, 12, 12, 128)       73856     \n",
            "_________________________________________________________________\n",
            "conv2d_12 (Conv2D)           (None, 10, 10, 128)       147584    \n",
            "_________________________________________________________________\n",
            "max_pooling2d_6 (MaxPooling2 (None, 5, 5, 128)         0         \n",
            "_________________________________________________________________\n",
            "dropout_6 (Dropout)          (None, 5, 5, 128)         0         \n",
            "_________________________________________________________________\n",
            "flatten_2 (Flatten)          (None, 3200)              0         \n",
            "_________________________________________________________________\n",
            "dense_4 (Dense)              (None, 512)               1638912   \n",
            "_________________________________________________________________\n",
            "dropout_7 (Dropout)          (None, 512)               0         \n",
            "_________________________________________________________________\n",
            "dense_5 (Dense)              (None, 512)               262656    \n",
            "_________________________________________________________________\n",
            "dropout_8 (Dropout)          (None, 512)               0         \n",
            "_________________________________________________________________\n",
            "dense_6 (Dense)              (None, 7)                 3591      \n",
            "=================================================================\n",
            "Total params: 2,191,591\n",
            "Trainable params: 2,191,591\n",
            "Non-trainable params: 0\n",
            "_________________________________________________________________\n"
          ],
          "name": "stdout"
        }
      ]
    },
    {
      "cell_type": "markdown",
      "metadata": {
        "id": "L6YM0Eg99rGZ",
        "colab_type": "text"
      },
      "source": [
        "## **4. Model training**\n",
        "\n",
        "\n",
        "\n",
        "*   The model is compiled using ‘adam’ as the optimizer and ‘categorical_crossentropy’ as the loss function.\n",
        "*   Data augmentation is applied on the images of the training set  like shifting, mirroring,rotating and zooming, so that the model is more generalized for more features of images (non-overfitted).\n",
        "\n",
        "*   The model is trained on 200 epochs with a batch size of 256. In addition, training and validation datasets are provided. Therefore, While training the model is able to validate itself against validation dataset in every single iteration.\n",
        "\n",
        "*   During training, the weights that results the best validation accuracy is saved using “ModelCheckPoint”, in order to achieve best results.\n",
        "\n",
        "\n",
        "\n",
        "\n"
      ]
    },
    {
      "cell_type": "code",
      "metadata": {
        "id": "0KAVDAmN2Tov",
        "colab_type": "code",
        "colab": {}
      },
      "source": [
        "model.compile(loss='categorical_crossentropy',optimizer='adam',metrics=[\"accuracy\"])"
      ],
      "execution_count": 0,
      "outputs": []
    },
    {
      "cell_type": "code",
      "metadata": {
        "id": "Ay4R0TvQ4bOn",
        "colab_type": "code",
        "outputId": "9f0c713b-6df4-4ccb-f7ed-b7802862d8e2",
        "colab": {
          "base_uri": "https://localhost:8080/",
          "height": 1000
        }
      },
      "source": [
        "train_datagen = ImageDataGenerator(\n",
        "      rotation_range=10,\n",
        "      width_shift_range=0.2,\n",
        "      height_shift_range=0.2,\n",
        "      shear_range=0.2,\n",
        "      zoom_range=0.2,\n",
        "      horizontal_flip=True,\n",
        "      fill_mode='nearest')\n",
        "\n",
        "\n",
        "\n",
        "checkpointer = ModelCheckpoint(filepath='aug_model.weights.best.hdf5',  monitor='val_acc', verbose=1, save_best_only=True, mode='max')\n",
        "batch_size=256\n",
        "epochs=200\n",
        "history=model.fit_generator(train_datagen.flow(X_train, y_train, batch_size=batch_size),\n",
        "                    steps_per_epoch=X_train.shape[0] // batch_size,\n",
        "                    epochs=epochs, verbose=2, callbacks=[checkpointer],\n",
        "                    validation_data=(X_valid, y_valid),\n",
        "                    validation_steps=X_valid.shape[0] // batch_size)"
      ],
      "execution_count": 0,
      "outputs": [
        {
          "output_type": "stream",
          "text": [
            "Epoch 1/200\n",
            " - 13s - loss: 1.8218 - acc: 0.2443 - val_loss: 1.7979 - val_acc: 0.2494\n",
            "\n",
            "Epoch 00001: val_acc improved from -inf to 0.24937, saving model to aug_model.weights.best.hdf5\n",
            "Epoch 2/200\n",
            " - 12s - loss: 1.7968 - acc: 0.2495 - val_loss: 1.7773 - val_acc: 0.2421\n",
            "\n",
            "Epoch 00002: val_acc did not improve from 0.24937\n",
            "Epoch 3/200\n",
            " - 12s - loss: 1.7842 - acc: 0.2523 - val_loss: 1.7941 - val_acc: 0.2675\n",
            "\n",
            "Epoch 00003: val_acc improved from 0.24937 to 0.26748, saving model to aug_model.weights.best.hdf5\n",
            "Epoch 4/200\n",
            " - 12s - loss: 1.7737 - acc: 0.2605 - val_loss: 1.7134 - val_acc: 0.3093\n",
            "\n",
            "Epoch 00004: val_acc improved from 0.26748 to 0.30928, saving model to aug_model.weights.best.hdf5\n",
            "Epoch 5/200\n",
            " - 12s - loss: 1.7334 - acc: 0.2864 - val_loss: 1.6485 - val_acc: 0.3360\n",
            "\n",
            "Epoch 00005: val_acc improved from 0.30928 to 0.33603, saving model to aug_model.weights.best.hdf5\n",
            "Epoch 6/200\n",
            " - 13s - loss: 1.6909 - acc: 0.3180 - val_loss: 1.5563 - val_acc: 0.3993\n",
            "\n",
            "Epoch 00006: val_acc improved from 0.33603 to 0.39928, saving model to aug_model.weights.best.hdf5\n",
            "Epoch 7/200\n",
            " - 12s - loss: 1.6195 - acc: 0.3569 - val_loss: 1.4352 - val_acc: 0.4394\n",
            "\n",
            "Epoch 00007: val_acc improved from 0.39928 to 0.43940, saving model to aug_model.weights.best.hdf5\n",
            "Epoch 8/200\n",
            " - 12s - loss: 1.5309 - acc: 0.3991 - val_loss: 1.3779 - val_acc: 0.4667\n",
            "\n",
            "Epoch 00008: val_acc improved from 0.43940 to 0.46670, saving model to aug_model.weights.best.hdf5\n",
            "Epoch 9/200\n",
            " - 12s - loss: 1.4506 - acc: 0.4371 - val_loss: 1.3124 - val_acc: 0.4739\n",
            "\n",
            "Epoch 00009: val_acc improved from 0.46670 to 0.47395, saving model to aug_model.weights.best.hdf5\n",
            "Epoch 10/200\n",
            " - 12s - loss: 1.4009 - acc: 0.4589 - val_loss: 1.2503 - val_acc: 0.5146\n",
            "\n",
            "Epoch 00010: val_acc improved from 0.47395 to 0.51463, saving model to aug_model.weights.best.hdf5\n",
            "Epoch 11/200\n",
            " - 12s - loss: 1.3730 - acc: 0.4694 - val_loss: 1.2142 - val_acc: 0.5311\n",
            "\n",
            "Epoch 00011: val_acc improved from 0.51463 to 0.53107, saving model to aug_model.weights.best.hdf5\n",
            "Epoch 12/200\n",
            " - 12s - loss: 1.3497 - acc: 0.4839 - val_loss: 1.2042 - val_acc: 0.5297\n",
            "\n",
            "Epoch 00012: val_acc did not improve from 0.53107\n",
            "Epoch 13/200\n",
            " - 12s - loss: 1.3015 - acc: 0.5039 - val_loss: 1.1679 - val_acc: 0.5439\n",
            "\n",
            "Epoch 00013: val_acc improved from 0.53107 to 0.54388, saving model to aug_model.weights.best.hdf5\n",
            "Epoch 14/200\n",
            " - 12s - loss: 1.2954 - acc: 0.5039 - val_loss: 1.1527 - val_acc: 0.5461\n",
            "\n",
            "Epoch 00014: val_acc improved from 0.54388 to 0.54611, saving model to aug_model.weights.best.hdf5\n",
            "Epoch 15/200\n",
            " - 12s - loss: 1.2757 - acc: 0.5161 - val_loss: 1.1519 - val_acc: 0.5506\n",
            "\n",
            "Epoch 00015: val_acc improved from 0.54611 to 0.55057, saving model to aug_model.weights.best.hdf5\n",
            "Epoch 16/200\n",
            " - 12s - loss: 1.2679 - acc: 0.5185 - val_loss: 1.1244 - val_acc: 0.5631\n",
            "\n",
            "Epoch 00016: val_acc improved from 0.55057 to 0.56311, saving model to aug_model.weights.best.hdf5\n",
            "Epoch 17/200\n",
            " - 12s - loss: 1.2476 - acc: 0.5242 - val_loss: 1.1298 - val_acc: 0.5637\n",
            "\n",
            "Epoch 00017: val_acc improved from 0.56311 to 0.56367, saving model to aug_model.weights.best.hdf5\n",
            "Epoch 18/200\n",
            " - 12s - loss: 1.2322 - acc: 0.5303 - val_loss: 1.1144 - val_acc: 0.5690\n",
            "\n",
            "Epoch 00018: val_acc improved from 0.56367 to 0.56896, saving model to aug_model.weights.best.hdf5\n",
            "Epoch 19/200\n",
            " - 12s - loss: 1.2245 - acc: 0.5382 - val_loss: 1.1329 - val_acc: 0.5639\n",
            "\n",
            "Epoch 00019: val_acc did not improve from 0.56896\n",
            "Epoch 20/200\n",
            " - 12s - loss: 1.2075 - acc: 0.5424 - val_loss: 1.1206 - val_acc: 0.5681\n",
            "\n",
            "Epoch 00020: val_acc did not improve from 0.56896\n",
            "Epoch 21/200\n",
            " - 12s - loss: 1.2011 - acc: 0.5455 - val_loss: 1.1154 - val_acc: 0.5704\n",
            "\n",
            "Epoch 00021: val_acc improved from 0.56896 to 0.57035, saving model to aug_model.weights.best.hdf5\n",
            "Epoch 22/200\n",
            " - 12s - loss: 1.1936 - acc: 0.5500 - val_loss: 1.0680 - val_acc: 0.5968\n",
            "\n",
            "Epoch 00022: val_acc improved from 0.57035 to 0.59682, saving model to aug_model.weights.best.hdf5\n",
            "Epoch 23/200\n",
            " - 12s - loss: 1.1795 - acc: 0.5526 - val_loss: 1.0856 - val_acc: 0.5787\n",
            "\n",
            "Epoch 00023: val_acc did not improve from 0.59682\n",
            "Epoch 24/200\n",
            " - 12s - loss: 1.1753 - acc: 0.5525 - val_loss: 1.0707 - val_acc: 0.5885\n",
            "\n",
            "Epoch 00024: val_acc did not improve from 0.59682\n",
            "Epoch 25/200\n",
            " - 12s - loss: 1.1643 - acc: 0.5613 - val_loss: 1.0590 - val_acc: 0.5974\n",
            "\n",
            "Epoch 00025: val_acc improved from 0.59682 to 0.59738, saving model to aug_model.weights.best.hdf5\n",
            "Epoch 26/200\n",
            " - 12s - loss: 1.1545 - acc: 0.5641 - val_loss: 1.0613 - val_acc: 0.5893\n",
            "\n",
            "Epoch 00026: val_acc did not improve from 0.59738\n",
            "Epoch 27/200\n",
            " - 12s - loss: 1.1583 - acc: 0.5584 - val_loss: 1.0711 - val_acc: 0.5784\n",
            "\n",
            "Epoch 00027: val_acc did not improve from 0.59738\n",
            "Epoch 28/200\n",
            " - 12s - loss: 1.1447 - acc: 0.5647 - val_loss: 1.0648 - val_acc: 0.5904\n",
            "\n",
            "Epoch 00028: val_acc did not improve from 0.59738\n",
            "Epoch 29/200\n",
            " - 12s - loss: 1.1447 - acc: 0.5682 - val_loss: 1.0645 - val_acc: 0.5899\n",
            "\n",
            "Epoch 00029: val_acc did not improve from 0.59738\n",
            "Epoch 30/200\n",
            " - 12s - loss: 1.1336 - acc: 0.5707 - val_loss: 1.0521 - val_acc: 0.6043\n",
            "\n",
            "Epoch 00030: val_acc improved from 0.59738 to 0.60435, saving model to aug_model.weights.best.hdf5\n",
            "Epoch 31/200\n",
            " - 13s - loss: 1.1243 - acc: 0.5734 - val_loss: 1.0371 - val_acc: 0.6130\n",
            "\n",
            "Epoch 00031: val_acc improved from 0.60435 to 0.61298, saving model to aug_model.weights.best.hdf5\n",
            "Epoch 32/200\n",
            " - 12s - loss: 1.1321 - acc: 0.5716 - val_loss: 1.0622 - val_acc: 0.5943\n",
            "\n",
            "Epoch 00032: val_acc did not improve from 0.61298\n",
            "Epoch 33/200\n",
            " - 12s - loss: 1.1210 - acc: 0.5759 - val_loss: 1.0391 - val_acc: 0.6102\n",
            "\n",
            "Epoch 00033: val_acc did not improve from 0.61298\n",
            "Epoch 34/200\n",
            " - 12s - loss: 1.1255 - acc: 0.5748 - val_loss: 1.0377 - val_acc: 0.5982\n",
            "\n",
            "Epoch 00034: val_acc did not improve from 0.61298\n",
            "Epoch 35/200\n",
            " - 12s - loss: 1.1182 - acc: 0.5795 - val_loss: 1.0295 - val_acc: 0.6113\n",
            "\n",
            "Epoch 00035: val_acc did not improve from 0.61298\n",
            "Epoch 36/200\n",
            " - 12s - loss: 1.1022 - acc: 0.5849 - val_loss: 1.0306 - val_acc: 0.6102\n",
            "\n",
            "Epoch 00036: val_acc did not improve from 0.61298\n",
            "Epoch 37/200\n",
            " - 12s - loss: 1.1202 - acc: 0.5764 - val_loss: 1.0111 - val_acc: 0.6108\n",
            "\n",
            "Epoch 00037: val_acc did not improve from 0.61298\n",
            "Epoch 38/200\n",
            " - 12s - loss: 1.0957 - acc: 0.5867 - val_loss: 1.0137 - val_acc: 0.6208\n",
            "\n",
            "Epoch 00038: val_acc improved from 0.61298 to 0.62079, saving model to aug_model.weights.best.hdf5\n",
            "Epoch 39/200\n",
            " - 12s - loss: 1.0926 - acc: 0.5897 - val_loss: 1.0309 - val_acc: 0.6160\n",
            "\n",
            "Epoch 00039: val_acc did not improve from 0.62079\n",
            "Epoch 40/200\n",
            " - 12s - loss: 1.0914 - acc: 0.5853 - val_loss: 1.0208 - val_acc: 0.6074\n",
            "\n",
            "Epoch 00040: val_acc did not improve from 0.62079\n",
            "Epoch 41/200\n",
            " - 12s - loss: 1.0904 - acc: 0.5887 - val_loss: 1.0043 - val_acc: 0.6227\n",
            "\n",
            "Epoch 00041: val_acc improved from 0.62079 to 0.62274, saving model to aug_model.weights.best.hdf5\n",
            "Epoch 42/200\n",
            " - 12s - loss: 1.0796 - acc: 0.5921 - val_loss: 1.0175 - val_acc: 0.6135\n",
            "\n",
            "Epoch 00042: val_acc did not improve from 0.62274\n",
            "Epoch 43/200\n",
            " - 12s - loss: 1.0896 - acc: 0.5886 - val_loss: 1.0137 - val_acc: 0.6177\n",
            "\n",
            "Epoch 00043: val_acc did not improve from 0.62274\n",
            "Epoch 44/200\n",
            " - 12s - loss: 1.0742 - acc: 0.5944 - val_loss: 1.0248 - val_acc: 0.6130\n",
            "\n",
            "Epoch 00044: val_acc did not improve from 0.62274\n",
            "Epoch 45/200\n",
            " - 12s - loss: 1.0703 - acc: 0.5997 - val_loss: 1.0048 - val_acc: 0.6194\n",
            "\n",
            "Epoch 00045: val_acc did not improve from 0.62274\n",
            "Epoch 46/200\n",
            " - 12s - loss: 1.0770 - acc: 0.5936 - val_loss: 1.0154 - val_acc: 0.6169\n",
            "\n",
            "Epoch 00046: val_acc did not improve from 0.62274\n",
            "Epoch 47/200\n",
            " - 12s - loss: 1.0633 - acc: 0.6011 - val_loss: 1.0127 - val_acc: 0.6160\n",
            "\n",
            "Epoch 00047: val_acc did not improve from 0.62274\n",
            "Epoch 48/200\n",
            " - 12s - loss: 1.0621 - acc: 0.6002 - val_loss: 1.0013 - val_acc: 0.6191\n",
            "\n",
            "Epoch 00048: val_acc did not improve from 0.62274\n",
            "Epoch 49/200\n",
            " - 12s - loss: 1.0733 - acc: 0.5974 - val_loss: 1.0075 - val_acc: 0.6208\n",
            "\n",
            "Epoch 00049: val_acc did not improve from 0.62274\n",
            "Epoch 50/200\n",
            " - 12s - loss: 1.0478 - acc: 0.6018 - val_loss: 0.9907 - val_acc: 0.6250\n",
            "\n",
            "Epoch 00050: val_acc improved from 0.62274 to 0.62497, saving model to aug_model.weights.best.hdf5\n",
            "Epoch 51/200\n",
            " - 12s - loss: 1.0631 - acc: 0.5957 - val_loss: 1.0456 - val_acc: 0.6077\n",
            "\n",
            "Epoch 00051: val_acc did not improve from 0.62497\n",
            "Epoch 52/200\n",
            " - 12s - loss: 1.0630 - acc: 0.6016 - val_loss: 1.0311 - val_acc: 0.6127\n",
            "\n",
            "Epoch 00052: val_acc did not improve from 0.62497\n",
            "Epoch 53/200\n",
            " - 12s - loss: 1.0503 - acc: 0.6038 - val_loss: 0.9962 - val_acc: 0.6269\n",
            "\n",
            "Epoch 00053: val_acc improved from 0.62497 to 0.62692, saving model to aug_model.weights.best.hdf5\n",
            "Epoch 54/200\n",
            " - 12s - loss: 1.0536 - acc: 0.6030 - val_loss: 1.0065 - val_acc: 0.6135\n",
            "\n",
            "Epoch 00054: val_acc did not improve from 0.62692\n",
            "Epoch 55/200\n",
            " - 12s - loss: 1.0504 - acc: 0.6013 - val_loss: 0.9980 - val_acc: 0.6194\n",
            "\n",
            "Epoch 00055: val_acc did not improve from 0.62692\n",
            "Epoch 56/200\n",
            " - 12s - loss: 1.0425 - acc: 0.6084 - val_loss: 0.9875 - val_acc: 0.6319\n",
            "\n",
            "Epoch 00056: val_acc improved from 0.62692 to 0.63193, saving model to aug_model.weights.best.hdf5\n",
            "Epoch 57/200\n",
            " - 12s - loss: 1.0381 - acc: 0.6119 - val_loss: 0.9960 - val_acc: 0.6255\n",
            "\n",
            "Epoch 00057: val_acc did not improve from 0.63193\n",
            "Epoch 58/200\n",
            " - 12s - loss: 1.0525 - acc: 0.6051 - val_loss: 0.9964 - val_acc: 0.6188\n",
            "\n",
            "Epoch 00058: val_acc did not improve from 0.63193\n",
            "Epoch 59/200\n",
            " - 12s - loss: 1.0349 - acc: 0.6103 - val_loss: 0.9936 - val_acc: 0.6311\n",
            "\n",
            "Epoch 00059: val_acc did not improve from 0.63193\n",
            "Epoch 60/200\n",
            " - 12s - loss: 1.0409 - acc: 0.6089 - val_loss: 0.9826 - val_acc: 0.6227\n",
            "\n",
            "Epoch 00060: val_acc did not improve from 0.63193\n",
            "Epoch 61/200\n",
            " - 12s - loss: 1.0361 - acc: 0.6095 - val_loss: 0.9887 - val_acc: 0.6305\n",
            "\n",
            "Epoch 00061: val_acc did not improve from 0.63193\n",
            "Epoch 62/200\n",
            " - 12s - loss: 1.0367 - acc: 0.6097 - val_loss: 0.9797 - val_acc: 0.6239\n",
            "\n",
            "Epoch 00062: val_acc did not improve from 0.63193\n",
            "Epoch 63/200\n",
            " - 12s - loss: 1.0260 - acc: 0.6169 - val_loss: 0.9823 - val_acc: 0.6314\n",
            "\n",
            "Epoch 00063: val_acc did not improve from 0.63193\n",
            "Epoch 64/200\n",
            " - 12s - loss: 1.0353 - acc: 0.6097 - val_loss: 0.9813 - val_acc: 0.6325\n",
            "\n",
            "Epoch 00064: val_acc improved from 0.63193 to 0.63249, saving model to aug_model.weights.best.hdf5\n",
            "Epoch 65/200\n",
            " - 12s - loss: 1.0400 - acc: 0.6070 - val_loss: 1.0118 - val_acc: 0.6255\n",
            "\n",
            "Epoch 00065: val_acc did not improve from 0.63249\n",
            "Epoch 66/200\n",
            " - 12s - loss: 1.0258 - acc: 0.6177 - val_loss: 0.9861 - val_acc: 0.6250\n",
            "\n",
            "Epoch 00066: val_acc did not improve from 0.63249\n",
            "Epoch 67/200\n",
            " - 12s - loss: 1.0277 - acc: 0.6096 - val_loss: 0.9741 - val_acc: 0.6364\n",
            "\n",
            "Epoch 00067: val_acc improved from 0.63249 to 0.63639, saving model to aug_model.weights.best.hdf5\n",
            "Epoch 68/200\n",
            " - 12s - loss: 1.0283 - acc: 0.6149 - val_loss: 0.9780 - val_acc: 0.6322\n",
            "\n",
            "Epoch 00068: val_acc did not improve from 0.63639\n",
            "Epoch 69/200\n",
            " - 12s - loss: 1.0210 - acc: 0.6194 - val_loss: 0.9854 - val_acc: 0.6269\n",
            "\n",
            "Epoch 00069: val_acc did not improve from 0.63639\n",
            "Epoch 70/200\n",
            " - 12s - loss: 1.0233 - acc: 0.6122 - val_loss: 0.9781 - val_acc: 0.6266\n",
            "\n",
            "Epoch 00070: val_acc did not improve from 0.63639\n",
            "Epoch 71/200\n",
            " - 12s - loss: 1.0233 - acc: 0.6164 - val_loss: 0.9686 - val_acc: 0.6353\n",
            "\n",
            "Epoch 00071: val_acc did not improve from 0.63639\n",
            "Epoch 72/200\n",
            " - 12s - loss: 1.0202 - acc: 0.6152 - val_loss: 0.9778 - val_acc: 0.6381\n",
            "\n",
            "Epoch 00072: val_acc improved from 0.63639 to 0.63806, saving model to aug_model.weights.best.hdf5\n",
            "Epoch 73/200\n",
            " - 12s - loss: 1.0174 - acc: 0.6178 - val_loss: 0.9666 - val_acc: 0.6311\n",
            "\n",
            "Epoch 00073: val_acc did not improve from 0.63806\n",
            "Epoch 74/200\n",
            " - 12s - loss: 1.0066 - acc: 0.6224 - val_loss: 0.9731 - val_acc: 0.6381\n",
            "\n",
            "Epoch 00074: val_acc did not improve from 0.63806\n",
            "Epoch 75/200\n",
            " - 12s - loss: 1.0135 - acc: 0.6210 - val_loss: 0.9800 - val_acc: 0.6375\n",
            "\n",
            "Epoch 00075: val_acc did not improve from 0.63806\n",
            "Epoch 76/200\n",
            " - 12s - loss: 1.0259 - acc: 0.6166 - val_loss: 0.9793 - val_acc: 0.6250\n",
            "\n",
            "Epoch 00076: val_acc did not improve from 0.63806\n",
            "Epoch 77/200\n",
            " - 12s - loss: 1.0099 - acc: 0.6206 - val_loss: 0.9798 - val_acc: 0.6300\n",
            "\n",
            "Epoch 00077: val_acc did not improve from 0.63806\n",
            "Epoch 78/200\n",
            " - 12s - loss: 1.0162 - acc: 0.6182 - val_loss: 0.9665 - val_acc: 0.6305\n",
            "\n",
            "Epoch 00078: val_acc did not improve from 0.63806\n",
            "Epoch 79/200\n",
            " - 12s - loss: 1.0125 - acc: 0.6170 - val_loss: 0.9682 - val_acc: 0.6356\n",
            "\n",
            "Epoch 00079: val_acc did not improve from 0.63806\n",
            "Epoch 80/200\n",
            " - 12s - loss: 1.0071 - acc: 0.6192 - val_loss: 0.9583 - val_acc: 0.6375\n",
            "\n",
            "Epoch 00080: val_acc did not improve from 0.63806\n",
            "Epoch 81/200\n",
            " - 12s - loss: 1.0053 - acc: 0.6221 - val_loss: 0.9665 - val_acc: 0.6378\n",
            "\n",
            "Epoch 00081: val_acc did not improve from 0.63806\n",
            "Epoch 82/200\n",
            " - 12s - loss: 1.0033 - acc: 0.6215 - val_loss: 0.9735 - val_acc: 0.6378\n",
            "\n",
            "Epoch 00082: val_acc did not improve from 0.63806\n",
            "Epoch 83/200\n",
            " - 12s - loss: 1.0076 - acc: 0.6213 - val_loss: 0.9908 - val_acc: 0.6305\n",
            "\n",
            "Epoch 00083: val_acc did not improve from 0.63806\n",
            "Epoch 84/200\n",
            " - 12s - loss: 1.0048 - acc: 0.6229 - val_loss: 0.9733 - val_acc: 0.6358\n",
            "\n",
            "Epoch 00084: val_acc did not improve from 0.63806\n",
            "Epoch 85/200\n",
            " - 12s - loss: 0.9979 - acc: 0.6262 - val_loss: 0.9861 - val_acc: 0.6266\n",
            "\n",
            "Epoch 00085: val_acc did not improve from 0.63806\n",
            "Epoch 86/200\n",
            " - 12s - loss: 1.0038 - acc: 0.6231 - val_loss: 0.9618 - val_acc: 0.6369\n",
            "\n",
            "Epoch 00086: val_acc did not improve from 0.63806\n",
            "Epoch 87/200\n",
            " - 12s - loss: 1.0022 - acc: 0.6228 - val_loss: 0.9454 - val_acc: 0.6431\n",
            "\n",
            "Epoch 00087: val_acc improved from 0.63806 to 0.64308, saving model to aug_model.weights.best.hdf5\n",
            "Epoch 88/200\n",
            " - 12s - loss: 0.9941 - acc: 0.6263 - val_loss: 0.9801 - val_acc: 0.6356\n",
            "\n",
            "Epoch 00088: val_acc did not improve from 0.64308\n",
            "Epoch 89/200\n",
            " - 12s - loss: 1.0075 - acc: 0.6210 - val_loss: 0.9601 - val_acc: 0.6383\n",
            "\n",
            "Epoch 00089: val_acc did not improve from 0.64308\n",
            "Epoch 90/200\n",
            " - 12s - loss: 1.0038 - acc: 0.6232 - val_loss: 0.9556 - val_acc: 0.6397\n",
            "\n",
            "Epoch 00090: val_acc did not improve from 0.64308\n",
            "Epoch 91/200\n",
            " - 12s - loss: 0.9991 - acc: 0.6239 - val_loss: 0.9607 - val_acc: 0.6470\n",
            "\n",
            "Epoch 00091: val_acc improved from 0.64308 to 0.64698, saving model to aug_model.weights.best.hdf5\n",
            "Epoch 92/200\n",
            " - 12s - loss: 0.9829 - acc: 0.6297 - val_loss: 0.9509 - val_acc: 0.6489\n",
            "\n",
            "Epoch 00092: val_acc improved from 0.64698 to 0.64893, saving model to aug_model.weights.best.hdf5\n",
            "Epoch 93/200\n",
            " - 12s - loss: 0.9940 - acc: 0.6258 - val_loss: 0.9649 - val_acc: 0.6453\n",
            "\n",
            "Epoch 00093: val_acc did not improve from 0.64893\n",
            "Epoch 94/200\n",
            " - 12s - loss: 0.9893 - acc: 0.6297 - val_loss: 0.9681 - val_acc: 0.6422\n",
            "\n",
            "Epoch 00094: val_acc did not improve from 0.64893\n",
            "Epoch 95/200\n",
            " - 12s - loss: 0.9909 - acc: 0.6285 - val_loss: 0.9662 - val_acc: 0.6414\n",
            "\n",
            "Epoch 00095: val_acc did not improve from 0.64893\n",
            "Epoch 96/200\n",
            " - 12s - loss: 0.9872 - acc: 0.6286 - val_loss: 0.9575 - val_acc: 0.6403\n",
            "\n",
            "Epoch 00096: val_acc did not improve from 0.64893\n",
            "Epoch 97/200\n",
            " - 12s - loss: 0.9893 - acc: 0.6270 - val_loss: 0.9714 - val_acc: 0.6372\n",
            "\n",
            "Epoch 00097: val_acc did not improve from 0.64893\n",
            "Epoch 98/200\n",
            " - 12s - loss: 0.9945 - acc: 0.6240 - val_loss: 0.9632 - val_acc: 0.6403\n",
            "\n",
            "Epoch 00098: val_acc did not improve from 0.64893\n",
            "Epoch 99/200\n",
            " - 12s - loss: 0.9832 - acc: 0.6313 - val_loss: 0.9648 - val_acc: 0.6400\n",
            "\n",
            "Epoch 00099: val_acc did not improve from 0.64893\n",
            "Epoch 100/200\n",
            " - 12s - loss: 0.9888 - acc: 0.6292 - val_loss: 0.9769 - val_acc: 0.6333\n",
            "\n",
            "Epoch 00100: val_acc did not improve from 0.64893\n",
            "Epoch 101/200\n",
            " - 12s - loss: 0.9865 - acc: 0.6298 - val_loss: 0.9687 - val_acc: 0.6406\n",
            "\n",
            "Epoch 00101: val_acc did not improve from 0.64893\n",
            "Epoch 102/200\n",
            " - 12s - loss: 0.9798 - acc: 0.6307 - val_loss: 0.9753 - val_acc: 0.6336\n",
            "\n",
            "Epoch 00102: val_acc did not improve from 0.64893\n",
            "Epoch 103/200\n",
            " - 12s - loss: 0.9822 - acc: 0.6345 - val_loss: 0.9567 - val_acc: 0.6461\n",
            "\n",
            "Epoch 00103: val_acc did not improve from 0.64893\n",
            "Epoch 104/200\n",
            " - 12s - loss: 0.9762 - acc: 0.6342 - val_loss: 0.9882 - val_acc: 0.6333\n",
            "\n",
            "Epoch 00104: val_acc did not improve from 0.64893\n",
            "Epoch 105/200\n",
            " - 12s - loss: 0.9848 - acc: 0.6314 - val_loss: 0.9629 - val_acc: 0.6431\n",
            "\n",
            "Epoch 00105: val_acc did not improve from 0.64893\n",
            "Epoch 106/200\n",
            " - 12s - loss: 0.9803 - acc: 0.6342 - val_loss: 0.9854 - val_acc: 0.6330\n",
            "\n",
            "Epoch 00106: val_acc did not improve from 0.64893\n",
            "Epoch 107/200\n",
            " - 12s - loss: 0.9804 - acc: 0.6312 - val_loss: 0.9595 - val_acc: 0.6383\n",
            "\n",
            "Epoch 00107: val_acc did not improve from 0.64893\n",
            "Epoch 108/200\n",
            " - 12s - loss: 0.9881 - acc: 0.6283 - val_loss: 0.9561 - val_acc: 0.6392\n",
            "\n",
            "Epoch 00108: val_acc did not improve from 0.64893\n",
            "Epoch 109/200\n",
            " - 12s - loss: 0.9688 - acc: 0.6334 - val_loss: 0.9679 - val_acc: 0.6425\n",
            "\n",
            "Epoch 00109: val_acc did not improve from 0.64893\n",
            "Epoch 110/200\n",
            " - 12s - loss: 0.9745 - acc: 0.6350 - val_loss: 0.9603 - val_acc: 0.6431\n",
            "\n",
            "Epoch 00110: val_acc did not improve from 0.64893\n",
            "Epoch 111/200\n",
            " - 12s - loss: 0.9849 - acc: 0.6319 - val_loss: 0.9559 - val_acc: 0.6439\n",
            "\n",
            "Epoch 00111: val_acc did not improve from 0.64893\n",
            "Epoch 112/200\n",
            " - 12s - loss: 0.9847 - acc: 0.6302 - val_loss: 0.9678 - val_acc: 0.6414\n",
            "\n",
            "Epoch 00112: val_acc did not improve from 0.64893\n",
            "Epoch 113/200\n",
            " - 12s - loss: 0.9675 - acc: 0.6349 - val_loss: 0.9564 - val_acc: 0.6417\n",
            "\n",
            "Epoch 00113: val_acc did not improve from 0.64893\n",
            "Epoch 114/200\n",
            " - 12s - loss: 0.9732 - acc: 0.6368 - val_loss: 0.9405 - val_acc: 0.6525\n",
            "\n",
            "Epoch 00114: val_acc improved from 0.64893 to 0.65255, saving model to aug_model.weights.best.hdf5\n",
            "Epoch 115/200\n",
            " - 12s - loss: 0.9606 - acc: 0.6376 - val_loss: 0.9546 - val_acc: 0.6431\n",
            "\n",
            "Epoch 00115: val_acc did not improve from 0.65255\n",
            "Epoch 116/200\n",
            " - 12s - loss: 0.9770 - acc: 0.6367 - val_loss: 0.9645 - val_acc: 0.6422\n",
            "\n",
            "Epoch 00116: val_acc did not improve from 0.65255\n",
            "Epoch 117/200\n",
            " - 12s - loss: 0.9711 - acc: 0.6375 - val_loss: 0.9547 - val_acc: 0.6411\n",
            "\n",
            "Epoch 00117: val_acc did not improve from 0.65255\n",
            "Epoch 118/200\n",
            " - 12s - loss: 0.9778 - acc: 0.6344 - val_loss: 0.9543 - val_acc: 0.6408\n",
            "\n",
            "Epoch 00118: val_acc did not improve from 0.65255\n",
            "Epoch 119/200\n",
            " - 12s - loss: 0.9657 - acc: 0.6365 - val_loss: 0.9417 - val_acc: 0.6453\n",
            "\n",
            "Epoch 00119: val_acc did not improve from 0.65255\n",
            "Epoch 120/200\n",
            " - 12s - loss: 0.9622 - acc: 0.6375 - val_loss: 0.9728 - val_acc: 0.6369\n",
            "\n",
            "Epoch 00120: val_acc did not improve from 0.65255\n",
            "Epoch 121/200\n",
            " - 12s - loss: 0.9601 - acc: 0.6356 - val_loss: 0.9552 - val_acc: 0.6375\n",
            "\n",
            "Epoch 00121: val_acc did not improve from 0.65255\n",
            "Epoch 122/200\n",
            " - 12s - loss: 0.9718 - acc: 0.6368 - val_loss: 0.9951 - val_acc: 0.6317\n",
            "\n",
            "Epoch 00122: val_acc did not improve from 0.65255\n",
            "Epoch 123/200\n",
            " - 12s - loss: 0.9563 - acc: 0.6386 - val_loss: 0.9437 - val_acc: 0.6503\n",
            "\n",
            "Epoch 00123: val_acc did not improve from 0.65255\n",
            "Epoch 124/200\n",
            " - 13s - loss: 0.9493 - acc: 0.6427 - val_loss: 0.9425 - val_acc: 0.6473\n",
            "\n",
            "Epoch 00124: val_acc did not improve from 0.65255\n",
            "Epoch 125/200\n",
            " - 12s - loss: 0.9666 - acc: 0.6369 - val_loss: 0.9377 - val_acc: 0.6531\n",
            "\n",
            "Epoch 00125: val_acc improved from 0.65255 to 0.65311, saving model to aug_model.weights.best.hdf5\n",
            "Epoch 126/200\n",
            " - 12s - loss: 0.9636 - acc: 0.6382 - val_loss: 0.9468 - val_acc: 0.6523\n",
            "\n",
            "Epoch 00126: val_acc did not improve from 0.65311\n",
            "Epoch 127/200\n",
            " - 12s - loss: 0.9571 - acc: 0.6354 - val_loss: 0.9578 - val_acc: 0.6422\n",
            "\n",
            "Epoch 00127: val_acc did not improve from 0.65311\n",
            "Epoch 128/200\n",
            " - 12s - loss: 0.9528 - acc: 0.6397 - val_loss: 0.9578 - val_acc: 0.6428\n",
            "\n",
            "Epoch 00128: val_acc did not improve from 0.65311\n",
            "Epoch 129/200\n",
            " - 12s - loss: 0.9608 - acc: 0.6409 - val_loss: 0.9759 - val_acc: 0.6411\n",
            "\n",
            "Epoch 00129: val_acc did not improve from 0.65311\n",
            "Epoch 130/200\n",
            " - 12s - loss: 0.9539 - acc: 0.6422 - val_loss: 0.9566 - val_acc: 0.6431\n",
            "\n",
            "Epoch 00130: val_acc did not improve from 0.65311\n",
            "Epoch 131/200\n",
            " - 12s - loss: 0.9589 - acc: 0.6407 - val_loss: 0.9602 - val_acc: 0.6436\n",
            "\n",
            "Epoch 00131: val_acc did not improve from 0.65311\n",
            "Epoch 132/200\n",
            " - 12s - loss: 0.9661 - acc: 0.6340 - val_loss: 0.9315 - val_acc: 0.6559\n",
            "\n",
            "Epoch 00132: val_acc improved from 0.65311 to 0.65589, saving model to aug_model.weights.best.hdf5\n",
            "Epoch 133/200\n",
            " - 12s - loss: 0.9597 - acc: 0.6401 - val_loss: 0.9344 - val_acc: 0.6553\n",
            "\n",
            "Epoch 00133: val_acc did not improve from 0.65589\n",
            "Epoch 134/200\n",
            " - 12s - loss: 0.9606 - acc: 0.6387 - val_loss: 0.9487 - val_acc: 0.6445\n",
            "\n",
            "Epoch 00134: val_acc did not improve from 0.65589\n",
            "Epoch 135/200\n",
            " - 12s - loss: 0.9507 - acc: 0.6411 - val_loss: 0.9609 - val_acc: 0.6367\n",
            "\n",
            "Epoch 00135: val_acc did not improve from 0.65589\n",
            "Epoch 136/200\n",
            " - 12s - loss: 0.9517 - acc: 0.6457 - val_loss: 0.9507 - val_acc: 0.6442\n",
            "\n",
            "Epoch 00136: val_acc did not improve from 0.65589\n",
            "Epoch 137/200\n",
            " - 12s - loss: 0.9654 - acc: 0.6361 - val_loss: 0.9483 - val_acc: 0.6486\n",
            "\n",
            "Epoch 00137: val_acc did not improve from 0.65589\n",
            "Epoch 138/200\n",
            " - 12s - loss: 0.9554 - acc: 0.6404 - val_loss: 0.9457 - val_acc: 0.6461\n",
            "\n",
            "Epoch 00138: val_acc did not improve from 0.65589\n",
            "Epoch 139/200\n",
            " - 12s - loss: 0.9530 - acc: 0.6428 - val_loss: 0.9340 - val_acc: 0.6470\n",
            "\n",
            "Epoch 00139: val_acc did not improve from 0.65589\n",
            "Epoch 140/200\n",
            " - 12s - loss: 0.9513 - acc: 0.6433 - val_loss: 0.9352 - val_acc: 0.6447\n",
            "\n",
            "Epoch 00140: val_acc did not improve from 0.65589\n",
            "Epoch 141/200\n",
            " - 12s - loss: 0.9568 - acc: 0.6405 - val_loss: 0.9399 - val_acc: 0.6473\n",
            "\n",
            "Epoch 00141: val_acc did not improve from 0.65589\n",
            "Epoch 142/200\n",
            " - 12s - loss: 0.9551 - acc: 0.6397 - val_loss: 0.9357 - val_acc: 0.6553\n",
            "\n",
            "Epoch 00142: val_acc did not improve from 0.65589\n",
            "Epoch 143/200\n",
            " - 12s - loss: 0.9366 - acc: 0.6474 - val_loss: 0.9305 - val_acc: 0.6523\n",
            "\n",
            "Epoch 00143: val_acc did not improve from 0.65589\n",
            "Epoch 144/200\n",
            " - 12s - loss: 0.9539 - acc: 0.6416 - val_loss: 0.9308 - val_acc: 0.6489\n",
            "\n",
            "Epoch 00144: val_acc did not improve from 0.65589\n",
            "Epoch 145/200\n",
            " - 12s - loss: 0.9561 - acc: 0.6397 - val_loss: 0.9645 - val_acc: 0.6414\n",
            "\n",
            "Epoch 00145: val_acc did not improve from 0.65589\n",
            "Epoch 146/200\n",
            " - 12s - loss: 0.9446 - acc: 0.6460 - val_loss: 0.9317 - val_acc: 0.6531\n",
            "\n",
            "Epoch 00146: val_acc did not improve from 0.65589\n",
            "Epoch 147/200\n",
            " - 12s - loss: 0.9421 - acc: 0.6480 - val_loss: 0.9391 - val_acc: 0.6542\n",
            "\n",
            "Epoch 00147: val_acc did not improve from 0.65589\n",
            "Epoch 148/200\n",
            " - 12s - loss: 0.9482 - acc: 0.6449 - val_loss: 0.9584 - val_acc: 0.6428\n",
            "\n",
            "Epoch 00148: val_acc did not improve from 0.65589\n",
            "Epoch 149/200\n",
            " - 12s - loss: 0.9579 - acc: 0.6431 - val_loss: 0.9527 - val_acc: 0.6450\n",
            "\n",
            "Epoch 00149: val_acc did not improve from 0.65589\n",
            "Epoch 150/200\n",
            " - 12s - loss: 0.9460 - acc: 0.6458 - val_loss: 0.9407 - val_acc: 0.6489\n",
            "\n",
            "Epoch 00150: val_acc did not improve from 0.65589\n",
            "Epoch 151/200\n",
            " - 12s - loss: 0.9553 - acc: 0.6439 - val_loss: 0.9444 - val_acc: 0.6492\n",
            "\n",
            "Epoch 00151: val_acc did not improve from 0.65589\n",
            "Epoch 152/200\n",
            " - 12s - loss: 0.9340 - acc: 0.6499 - val_loss: 0.9573 - val_acc: 0.6417\n",
            "\n",
            "Epoch 00152: val_acc did not improve from 0.65589\n",
            "Epoch 153/200\n",
            " - 12s - loss: 0.9455 - acc: 0.6445 - val_loss: 0.9502 - val_acc: 0.6417\n",
            "\n",
            "Epoch 00153: val_acc did not improve from 0.65589\n",
            "Epoch 154/200\n",
            " - 12s - loss: 0.9533 - acc: 0.6443 - val_loss: 0.9432 - val_acc: 0.6447\n",
            "\n",
            "Epoch 00154: val_acc did not improve from 0.65589\n",
            "Epoch 155/200\n",
            " - 12s - loss: 0.9554 - acc: 0.6415 - val_loss: 0.9389 - val_acc: 0.6512\n",
            "\n",
            "Epoch 00155: val_acc did not improve from 0.65589\n",
            "Epoch 156/200\n",
            " - 12s - loss: 0.9446 - acc: 0.6482 - val_loss: 0.9416 - val_acc: 0.6442\n",
            "\n",
            "Epoch 00156: val_acc did not improve from 0.65589\n",
            "Epoch 157/200\n",
            " - 12s - loss: 0.9505 - acc: 0.6448 - val_loss: 0.9469 - val_acc: 0.6445\n",
            "\n",
            "Epoch 00157: val_acc did not improve from 0.65589\n",
            "Epoch 158/200\n",
            " - 12s - loss: 0.9388 - acc: 0.6462 - val_loss: 0.9571 - val_acc: 0.6528\n",
            "\n",
            "Epoch 00158: val_acc did not improve from 0.65589\n",
            "Epoch 159/200\n",
            " - 12s - loss: 0.9377 - acc: 0.6518 - val_loss: 0.9337 - val_acc: 0.6534\n",
            "\n",
            "Epoch 00159: val_acc did not improve from 0.65589\n",
            "Epoch 160/200\n",
            " - 12s - loss: 0.9373 - acc: 0.6517 - val_loss: 0.9406 - val_acc: 0.6478\n",
            "\n",
            "Epoch 00160: val_acc did not improve from 0.65589\n",
            "Epoch 161/200\n",
            " - 12s - loss: 0.9390 - acc: 0.6470 - val_loss: 0.9558 - val_acc: 0.6470\n",
            "\n",
            "Epoch 00161: val_acc did not improve from 0.65589\n",
            "Epoch 162/200\n",
            " - 12s - loss: 0.9404 - acc: 0.6471 - val_loss: 0.9574 - val_acc: 0.6414\n",
            "\n",
            "Epoch 00162: val_acc did not improve from 0.65589\n",
            "Epoch 163/200\n",
            " - 12s - loss: 0.9423 - acc: 0.6459 - val_loss: 0.9480 - val_acc: 0.6525\n",
            "\n",
            "Epoch 00163: val_acc did not improve from 0.65589\n",
            "Epoch 164/200\n",
            " - 12s - loss: 0.9306 - acc: 0.6504 - val_loss: 0.9461 - val_acc: 0.6498\n",
            "\n",
            "Epoch 00164: val_acc did not improve from 0.65589\n",
            "Epoch 165/200\n",
            " - 12s - loss: 0.9444 - acc: 0.6467 - val_loss: 0.9413 - val_acc: 0.6495\n",
            "\n",
            "Epoch 00165: val_acc did not improve from 0.65589\n",
            "Epoch 166/200\n",
            " - 12s - loss: 0.9305 - acc: 0.6517 - val_loss: 0.9713 - val_acc: 0.6431\n",
            "\n",
            "Epoch 00166: val_acc did not improve from 0.65589\n",
            "Epoch 167/200\n",
            " - 12s - loss: 0.9461 - acc: 0.6458 - val_loss: 0.9494 - val_acc: 0.6498\n",
            "\n",
            "Epoch 00167: val_acc did not improve from 0.65589\n",
            "Epoch 168/200\n",
            " - 12s - loss: 0.9438 - acc: 0.6460 - val_loss: 0.9396 - val_acc: 0.6517\n",
            "\n",
            "Epoch 00168: val_acc did not improve from 0.65589\n",
            "Epoch 169/200\n",
            " - 12s - loss: 0.9330 - acc: 0.6518 - val_loss: 0.9358 - val_acc: 0.6500\n",
            "\n",
            "Epoch 00169: val_acc did not improve from 0.65589\n",
            "Epoch 170/200\n",
            " - 12s - loss: 0.9260 - acc: 0.6536 - val_loss: 0.9313 - val_acc: 0.6548\n",
            "\n",
            "Epoch 00170: val_acc did not improve from 0.65589\n",
            "Epoch 171/200\n",
            " - 12s - loss: 0.9427 - acc: 0.6469 - val_loss: 0.9575 - val_acc: 0.6539\n",
            "\n",
            "Epoch 00171: val_acc did not improve from 0.65589\n",
            "Epoch 172/200\n",
            " - 12s - loss: 0.9442 - acc: 0.6463 - val_loss: 0.9739 - val_acc: 0.6475\n",
            "\n",
            "Epoch 00172: val_acc did not improve from 0.65589\n",
            "Epoch 173/200\n",
            " - 12s - loss: 0.9185 - acc: 0.6568 - val_loss: 0.9493 - val_acc: 0.6481\n",
            "\n",
            "Epoch 00173: val_acc did not improve from 0.65589\n",
            "Epoch 174/200\n",
            " - 12s - loss: 0.9382 - acc: 0.6435 - val_loss: 0.9622 - val_acc: 0.6478\n",
            "\n",
            "Epoch 00174: val_acc did not improve from 0.65589\n",
            "Epoch 175/200\n",
            " - 12s - loss: 0.9321 - acc: 0.6488 - val_loss: 0.9470 - val_acc: 0.6514\n",
            "\n",
            "Epoch 00175: val_acc did not improve from 0.65589\n",
            "Epoch 176/200\n",
            " - 12s - loss: 0.9335 - acc: 0.6482 - val_loss: 0.9328 - val_acc: 0.6562\n",
            "\n",
            "Epoch 00176: val_acc improved from 0.65589 to 0.65617, saving model to aug_model.weights.best.hdf5\n",
            "Epoch 177/200\n",
            " - 12s - loss: 0.9275 - acc: 0.6518 - val_loss: 0.9464 - val_acc: 0.6537\n",
            "\n",
            "Epoch 00177: val_acc did not improve from 0.65617\n",
            "Epoch 178/200\n",
            " - 11s - loss: 0.9330 - acc: 0.6510 - val_loss: 0.9505 - val_acc: 0.6559\n",
            "\n",
            "Epoch 00178: val_acc did not improve from 0.65617\n",
            "Epoch 179/200\n",
            " - 12s - loss: 0.9255 - acc: 0.6522 - val_loss: 0.9489 - val_acc: 0.6565\n",
            "\n",
            "Epoch 00179: val_acc improved from 0.65617 to 0.65645, saving model to aug_model.weights.best.hdf5\n",
            "Epoch 180/200\n",
            " - 12s - loss: 0.9280 - acc: 0.6511 - val_loss: 0.9405 - val_acc: 0.6545\n",
            "\n",
            "Epoch 00180: val_acc did not improve from 0.65645\n",
            "Epoch 181/200\n",
            " - 12s - loss: 0.9287 - acc: 0.6520 - val_loss: 0.9572 - val_acc: 0.6539\n",
            "\n",
            "Epoch 00181: val_acc did not improve from 0.65645\n",
            "Epoch 182/200\n",
            " - 12s - loss: 0.9236 - acc: 0.6539 - val_loss: 0.9562 - val_acc: 0.6439\n",
            "\n",
            "Epoch 00182: val_acc did not improve from 0.65645\n",
            "Epoch 183/200\n",
            " - 12s - loss: 0.9258 - acc: 0.6533 - val_loss: 0.9573 - val_acc: 0.6534\n",
            "\n",
            "Epoch 00183: val_acc did not improve from 0.65645\n",
            "Epoch 184/200\n",
            " - 12s - loss: 0.9221 - acc: 0.6516 - val_loss: 0.9519 - val_acc: 0.6534\n",
            "\n",
            "Epoch 00184: val_acc did not improve from 0.65645\n",
            "Epoch 185/200\n",
            " - 12s - loss: 0.9217 - acc: 0.6566 - val_loss: 0.9557 - val_acc: 0.6506\n",
            "\n",
            "Epoch 00185: val_acc did not improve from 0.65645\n",
            "Epoch 186/200\n",
            " - 12s - loss: 0.9306 - acc: 0.6505 - val_loss: 0.9658 - val_acc: 0.6436\n",
            "\n",
            "Epoch 00186: val_acc did not improve from 0.65645\n",
            "Epoch 187/200\n",
            " - 12s - loss: 0.9250 - acc: 0.6546 - val_loss: 0.9453 - val_acc: 0.6576\n",
            "\n",
            "Epoch 00187: val_acc improved from 0.65645 to 0.65756, saving model to aug_model.weights.best.hdf5\n",
            "Epoch 188/200\n",
            " - 12s - loss: 0.9281 - acc: 0.6534 - val_loss: 0.9403 - val_acc: 0.6534\n",
            "\n",
            "Epoch 00188: val_acc did not improve from 0.65756\n",
            "Epoch 189/200\n",
            " - 12s - loss: 0.9216 - acc: 0.6533 - val_loss: 0.9368 - val_acc: 0.6542\n",
            "\n",
            "Epoch 00189: val_acc did not improve from 0.65756\n",
            "Epoch 190/200\n",
            " - 12s - loss: 0.9199 - acc: 0.6549 - val_loss: 0.9481 - val_acc: 0.6553\n",
            "\n",
            "Epoch 00190: val_acc did not improve from 0.65756\n",
            "Epoch 191/200\n",
            " - 12s - loss: 0.9184 - acc: 0.6571 - val_loss: 0.9302 - val_acc: 0.6517\n",
            "\n",
            "Epoch 00191: val_acc did not improve from 0.65756\n",
            "Epoch 192/200\n",
            " - 12s - loss: 0.9142 - acc: 0.6561 - val_loss: 0.9309 - val_acc: 0.6556\n",
            "\n",
            "Epoch 00192: val_acc did not improve from 0.65756\n",
            "Epoch 193/200\n",
            " - 12s - loss: 0.9171 - acc: 0.6552 - val_loss: 0.9254 - val_acc: 0.6565\n",
            "\n",
            "Epoch 00193: val_acc did not improve from 0.65756\n",
            "Epoch 194/200\n",
            " - 12s - loss: 0.9292 - acc: 0.6553 - val_loss: 0.9255 - val_acc: 0.6598\n",
            "\n",
            "Epoch 00194: val_acc improved from 0.65756 to 0.65979, saving model to aug_model.weights.best.hdf5\n",
            "Epoch 195/200\n",
            " - 12s - loss: 0.9173 - acc: 0.6564 - val_loss: 0.9401 - val_acc: 0.6534\n",
            "\n",
            "Epoch 00195: val_acc did not improve from 0.65979\n",
            "Epoch 196/200\n",
            " - 12s - loss: 0.9142 - acc: 0.6550 - val_loss: 0.9655 - val_acc: 0.6445\n",
            "\n",
            "Epoch 00196: val_acc did not improve from 0.65979\n",
            "Epoch 197/200\n",
            " - 12s - loss: 0.9171 - acc: 0.6566 - val_loss: 0.9412 - val_acc: 0.6531\n",
            "\n",
            "Epoch 00197: val_acc did not improve from 0.65979\n",
            "Epoch 198/200\n",
            " - 12s - loss: 0.9199 - acc: 0.6544 - val_loss: 0.9526 - val_acc: 0.6445\n",
            "\n",
            "Epoch 00198: val_acc did not improve from 0.65979\n",
            "Epoch 199/200\n",
            " - 12s - loss: 0.9149 - acc: 0.6553 - val_loss: 0.9317 - val_acc: 0.6506\n",
            "\n",
            "Epoch 00199: val_acc did not improve from 0.65979\n",
            "Epoch 200/200\n",
            " - 12s - loss: 0.9207 - acc: 0.6561 - val_loss: 0.9548 - val_acc: 0.6534\n",
            "\n",
            "Epoch 00200: val_acc did not improve from 0.65979\n"
          ],
          "name": "stdout"
        }
      ]
    },
    {
      "cell_type": "markdown",
      "metadata": {
        "id": "qMVHjQf8APiw",
        "colab_type": "text"
      },
      "source": [
        "##### **Loading the model with best validation accuracy**"
      ]
    },
    {
      "cell_type": "code",
      "metadata": {
        "id": "6ttiAUNz9B_9",
        "colab_type": "code",
        "colab": {}
      },
      "source": [
        "model.load_weights('aug_model.weights.best.hdf5')"
      ],
      "execution_count": 0,
      "outputs": []
    },
    {
      "cell_type": "code",
      "metadata": {
        "id": "MZE-J6XyxAIq",
        "colab_type": "code",
        "colab": {}
      },
      "source": [
        "from google.colab import files\n",
        "files.download('aug_model.weights.best.hdf5') "
      ],
      "execution_count": 0,
      "outputs": []
    },
    {
      "cell_type": "markdown",
      "metadata": {
        "id": "GwKK1SX2_Fa_",
        "colab_type": "text"
      },
      "source": [
        "## **5. Results**\n",
        "\n",
        "The plotting below shows us a the accuracy curves of training set and validation set while training, to make sure that the model generalizes well (doesn’t overfit) and it uses the data in the best possible way (doesn’t underfit). "
      ]
    },
    {
      "cell_type": "code",
      "metadata": {
        "id": "MXmYpQUK-Fbo",
        "colab_type": "code",
        "outputId": "a6472133-0c03-4b84-f63c-3dc16c06b5a7",
        "colab": {
          "base_uri": "https://localhost:8080/",
          "height": 428
        }
      },
      "source": [
        "plt.figure(figsize=[8,6])\n",
        "plt.plot(history.history['acc'],'r',linewidth=3.0)\n",
        "plt.plot(history.history['val_acc'],'b',linewidth=3.0)\n",
        "plt.legend(['Training Accuracy', 'Validation Accuracy'],fontsize=18)\n",
        "plt.xlabel('Epochs ',fontsize=16)\n",
        "plt.ylabel('Accuracy',fontsize=16)\n",
        "plt.title('Accuracy Curves',fontsize=16)\n"
      ],
      "execution_count": 0,
      "outputs": [
        {
          "output_type": "execute_result",
          "data": {
            "text/plain": [
              "Text(0.5, 1.0, 'Accuracy Curves')"
            ]
          },
          "metadata": {
            "tags": []
          },
          "execution_count": 51
        },
        {
          "output_type": "display_data",
          "data": {
            "image/png": "[encoded data removed]",
            "text/plain": [
              "<Figure size 576x432 with 1 Axes>"
            ]
          },
          "metadata": {
            "tags": []
          }
        }
      ]
    },
    {
      "cell_type": "code",
      "metadata": {
        "id": "psmEbbAIB1Hu",
        "colab_type": "code",
        "outputId": "0bf3fe2d-d4ac-4da7-ba2a-e68617e5f46b",
        "colab": {
          "base_uri": "https://localhost:8080/",
          "height": 51
        }
      },
      "source": [
        "accuracy=model.evaluate(X_test,y_test)\n",
        "print(\"Testing accuracy= \",accuracy[1])"
      ],
      "execution_count": 0,
      "outputs": [
        {
          "output_type": "stream",
          "text": [
            "3589/3589 [==============================] - 0s 109us/step\n",
            "Testing accuracy=  0.67205349682898\n"
          ],
          "name": "stdout"
        }
      ]
    },
    {
      "cell_type": "code",
      "metadata": {
        "id": "D6MvOpu__upa",
        "colab_type": "code",
        "outputId": "a585e374-bd83-4830-991b-49ef23db672e",
        "colab": {
          "resources": {
            "http://localhost:8080/nbextensions/google.colab/files.js": {
              "data": "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",
              "ok": true,
              "headers": [
                [
                  "content-type",
                  "application/javascript"
                ]
              ],
              "status": 200,
              "status_text": ""
            }
          },
          "base_uri": "https://localhost:8080/",
          "height": 111
        }
      },
      "source": [
        "files.upload()"
      ],
      "execution_count": 0,
      "outputs": [
        {
          "output_type": "display_data",
          "data": {
            "text/html": [
              "\n",
              "     <input type=\"file\" id=\"files-f9e231a7-3c44-4027-b8a9-40818300b664\" name=\"files[]\" multiple disabled />\n",
              "     <output id=\"result-f9e231a7-3c44-4027-b8a9-40818300b664\">\n",
              "      Upload widget is only available when the cell has been executed in the\n",
              "      current browser session. Please rerun this cell to enable.\n",
              "      </output>\n",
              "      <script src=\"/nbextensions/google.colab/files.js\"></script> "
            ],
            "text/plain": [
              "<IPython.core.display.HTML object>"
            ]
          },
          "metadata": {
            "tags": []
          }
        },
        {
          "output_type": "stream",
          "text": [
            "Saving sad2.jpg to sad2.jpg\n"
          ],
          "name": "stdout"
        },
        {
          "output_type": "execute_result",
          "data": {
            "text/plain": [
              "{'sad2.jpg': b'\\xff\\xd8\\xff\\xe0\\x00\\x10JFIF\\x00\\x01\\x01\\x02\\x01,\\x01,\\x00\\x00\\xff\\xe2\\x0cXICC_PROFILE\\x00\\x01\\x01\\x00\\x00\\x0cHLino\\x02\\x10\\x00\\x00mntrRGB XYZ \\x07\\xce\\x00\\x02\\x00\\t\\x00\\x06\\x001\\x00\\x00acspMSFT\\x00\\x00\\x00\\x00IEC sRGB\\x00\\x00\\x00\\x00\\x00\\x00\\x00\\x00\\x00\\x00\\x00\\x00\\x00\\x00\\xf6\\xd6\\x00\\x01\\x00\\x00\\x00\\x00\\xd3-HP  \\x00\\x00\\x00\\x00\\x00\\x00\\x00\\x00\\x00\\x00\\x00\\x00\\x00\\x00\\x00\\x00\\x00\\x00\\x00\\x00\\x00\\x00\\x00\\x00\\x00\\x00\\x00\\x00\\x00\\x00\\x00\\x00\\x00\\x00\\x00\\x00\\x00\\x00\\x00\\x00\\x00\\x00\\x00\\x00\\x00\\x00\\x00\\x11cprt\\x00\\x00\\x01P\\x00\\x00\\x003desc\\x00\\x00\\x01\\x84\\x00\\x00\\x00lwtpt\\x00\\x00\\x01\\xf0\\x00\\x00\\x00\\x14bkpt\\x00\\x00\\x02\\x04\\x00\\x00\\x00\\x14rXYZ\\x00\\x00\\x02\\x18\\x00\\x00\\x00\\x14gXYZ\\x00\\x00\\x02,\\x00\\x00\\x00\\x14bXYZ\\x00\\x00\\x02@\\x00\\x00\\x00\\x14dmnd\\x00\\x00\\x02T\\x00\\x00\\x00pdmdd\\x00\\x00\\x02\\xc4\\x00\\x00\\x00\\x88vued\\x00\\x00\\x03L\\x00\\x00\\x00\\x86view\\x00\\x00\\x03\\xd4\\x00\\x00\\x00$lumi\\x00\\x00\\x03\\xf8\\x00\\x00\\x00\\x14meas\\x00\\x00\\x04\\x0c\\x00\\x00\\x00$tech\\x00\\x00\\x040\\x00\\x00\\x00\\x0crTRC\\x00\\x00\\x04<\\x00\\x00\\x08\\x0cgTRC\\x00\\x00\\x04<\\x00\\x00\\x08\\x0cbTRC\\x00\\x00\\x04<\\x00\\x00\\x08\\x0ctext\\x00\\x00\\x00\\x00Copyright (c) 1998 Hewlett-Packard Company\\x00\\x00desc\\x00\\x00\\x00\\x00\\x00\\x00\\x00\\x12sRGB IEC61966-2.1\\x00\\x00\\x00\\x00\\x00\\x00\\x00\\x00\\x00\\x00\\x00\\x12sRGB IEC61966-2.1\\x00\\x00\\x00\\x00\\x00\\x00\\x00\\x00\\x00\\x00\\x00\\x00\\x00\\x00\\x00\\x00\\x00\\x00\\x00\\x00\\x00\\x00\\x00\\x00\\x00\\x00\\x00\\x00\\x00\\x00\\x00\\x00\\x00\\x00\\x00\\x00\\x00\\x00\\x00\\x00\\x00\\x00\\x00\\x00\\x00\\x00\\x00\\x00\\x00\\x00XYZ \\x00\\x00\\x00\\x00\\x00\\x00\\xf3Q\\x00\\x01\\x00\\x00\\x00\\x01\\x16\\xccXYZ \\x00\\x00\\x00\\x00\\x00\\x00\\x00\\x00\\x00\\x00\\x00\\x00\\x00\\x00\\x00\\x00XYZ \\x00\\x00\\x00\\x00\\x00\\x00o\\xa2\\x00\\x008\\xf5\\x00\\x00\\x03\\x90XYZ \\x00\\x00\\x00\\x00\\x00\\x00b\\x99\\x00\\x00\\xb7\\x85\\x00\\x00\\x18\\xdaXYZ \\x00\\x00\\x00\\x00\\x00\\x00$\\xa0\\x00\\x00\\x0f\\x84\\x00\\x00\\xb6\\xcfdesc\\x00\\x00\\x00\\x00\\x00\\x00\\x00\\x16IEC http://www.iec.ch\\x00\\x00\\x00\\x00\\x00\\x00\\x00\\x00\\x00\\x00\\x00\\x16IEC http://www.iec.ch\\x00\\x00\\x00\\x00\\x00\\x00\\x00\\x00\\x00\\x00\\x00\\x00\\x00\\x00\\x00\\x00\\x00\\x00\\x00\\x00\\x00\\x00\\x00\\x00\\x00\\x00\\x00\\x00\\x00\\x00\\x00\\x00\\x00\\x00\\x00\\x00\\x00\\x00\\x00\\x00\\x00\\x00\\x00\\x00\\x00\\x00desc\\x00\\x00\\x00\\x00\\x00\\x00\\x00.IEC 61966-2.1 Default RGB colour space - sRGB\\x00\\x00\\x00\\x00\\x00\\x00\\x00\\x00\\x00\\x00\\x00.IEC 61966-2.1 Default RGB colour space - sRGB\\x00\\x00\\x00\\x00\\x00\\x00\\x00\\x00\\x00\\x00\\x00\\x00\\x00\\x00\\x00\\x00\\x00\\x00\\x00\\x00\\x00\\x00desc\\x00\\x00\\x00\\x00\\x00\\x00\\x00,Reference Viewing Condition in IEC61966-2.1\\x00\\x00\\x00\\x00\\x00\\x00\\x00\\x00\\x00\\x00\\x00,Reference Viewing Condition in IEC61966-2.1\\x00\\x00\\x00\\x00\\x00\\x00\\x00\\x00\\x00\\x00\\x00\\x00\\x00\\x00\\x00\\x00\\x00\\x00\\x00\\x00\\x00\\x00\\x00\\x00\\x00\\x00view\\x00\\x00\\x00\\x00\\x00\\x13\\xa4\\xfe\\x00\\x14_.\\x00\\x10\\xcf\\x14\\x00\\x03\\xed\\xcc\\x00\\x04\\x13\\x0b\\x00\\x03\\\\\\x9e\\x00\\x00\\x00\\x01XYZ \\x00\\x00\\x00\\x00\\x00L\\tV\\x00P\\x00\\x00\\x00W\\x1f\\xe7meas\\x00\\x00\\x00\\x00\\x00\\x00\\x00\\x01\\x00\\x00\\x00\\x00\\x00\\x00\\x00\\x00\\x00\\x00\\x00\\x00\\x00\\x00\\x00\\x00\\x00\\x00\\x02\\x8f\\x00\\x00\\x00\\x02sig \\x00\\x00\\x00\\x00CRT curv\\x00\\x00\\x00\\x00\\x00\\x00\\x04\\x00\\x00\\x00\\x00\\x05\\x00\\n\\x00\\x0f\\x00\\x14\\x00\\x19\\x00\\x1e\\x00#\\x00(\\x00-\\x002\\x007\\x00;\\x00@\\x00E\\x00J\\x00O\\x00T\\x00Y\\x00^\\x00c\\x00h\\x00m\\x00r\\x00w\\x00|\\x00\\x81\\x00\\x86\\x00\\x8b\\x00\\x90\\x00\\x95\\x00\\x9a\\x00\\x9f\\x00\\xa4\\x00\\xa9\\x00\\xae\\x00\\xb2\\x00\\xb7\\x00\\xbc\\x00\\xc1\\x00\\xc6\\x00\\xcb\\x00\\xd0\\x00\\xd5\\x00\\xdb\\x00\\xe0\\x00\\xe5\\x00\\xeb\\x00\\xf0\\x00\\xf6\\x00\\xfb\\x01\\x01\\x01\\x07\\x01\\r\\x01\\x13\\x01\\x19\\x01\\x1f\\x01%\\x01+\\x012\\x018\\x01>\\x01E\\x01L\\x01R\\x01Y\\x01`\\x01g\\x01n\\x01u\\x01|\\x01\\x83\\x01\\x8b\\x01\\x92\\x01\\x9a\\x01\\xa1\\x01\\xa9\\x01\\xb1\\x01\\xb9\\x01\\xc1\\x01\\xc9\\x01\\xd1\\x01\\xd9\\x01\\xe1\\x01\\xe9\\x01\\xf2\\x01\\xfa\\x02\\x03\\x02\\x0c\\x02\\x14\\x02\\x1d\\x02&\\x02/\\x028\\x02A\\x02K\\x02T\\x02]\\x02g\\x02q\\x02z\\x02\\x84\\x02\\x8e\\x02\\x98\\x02\\xa2\\x02\\xac\\x02\\xb6\\x02\\xc1\\x02\\xcb\\x02\\xd5\\x02\\xe0\\x02\\xeb\\x02\\xf5\\x03\\x00\\x03\\x0b\\x03\\x16\\x03!\\x03-\\x038\\x03C\\x03O\\x03Z\\x03f\\x03r\\x03~\\x03\\x8a\\x03\\x96\\x03\\xa2\\x03\\xae\\x03\\xba\\x03\\xc7\\x03\\xd3\\x03\\xe0\\x03\\xec\\x03\\xf9\\x04\\x06\\x04\\x13\\x04 \\x04-\\x04;\\x04H\\x04U\\x04c\\x04q\\x04~\\x04\\x8c\\x04\\x9a\\x04\\xa8\\x04\\xb6\\x04\\xc4\\x04\\xd3\\x04\\xe1\\x04\\xf0\\x04\\xfe\\x05\\r\\x05\\x1c\\x05+\\x05:\\x05I\\x05X\\x05g\\x05w\\x05\\x86\\x05\\x96\\x05\\xa6\\x05\\xb5\\x05\\xc5\\x05\\xd5\\x05\\xe5\\x05\\xf6\\x06\\x06\\x06\\x16\\x06\\'\\x067\\x06H\\x06Y\\x06j\\x06{\\x06\\x8c\\x06\\x9d\\x06\\xaf\\x06\\xc0\\x06\\xd1\\x06\\xe3\\x06\\xf5\\x07\\x07\\x07\\x19\\x07+\\x07=\\x07O\\x07a\\x07t\\x07\\x86\\x07\\x99\\x07\\xac\\x07\\xbf\\x07\\xd2\\x07\\xe5\\x07\\xf8\\x08\\x0b\\x08\\x1f\\x082\\x08F\\x08Z\\x08n\\x08\\x82\\x08\\x96\\x08\\xaa\\x08\\xbe\\x08\\xd2\\x08\\xe7\\x08\\xfb\\t\\x10\\t%\\t:\\tO\\td\\ty\\t\\x8f\\t\\xa4\\t\\xba\\t\\xcf\\t\\xe5\\t\\xfb\\n\\x11\\n\\'\\n=\\nT\\nj\\n\\x81\\n\\x98\\n\\xae\\n\\xc5\\n\\xdc\\n\\xf3\\x0b\\x0b\\x0b\"\\x0b9\\x0bQ\\x0bi\\x0b\\x80\\x0b\\x98\\x0b\\xb0\\x0b\\xc8\\x0b\\xe1\\x0b\\xf9\\x0c\\x12\\x0c*\\x0cC\\x0c\\\\\\x0cu\\x0c\\x8e\\x0c\\xa7\\x0c\\xc0\\x0c\\xd9\\x0c\\xf3\\r\\r\\r&\\r@\\rZ\\rt\\r\\x8e\\r\\xa9\\r\\xc3\\r\\xde\\r\\xf8\\x0e\\x13\\x0e.\\x0eI\\x0ed\\x0e\\x7f\\x0e\\x9b\\x0e\\xb6\\x0e\\xd2\\x0e\\xee\\x0f\\t\\x0f%\\x0fA\\x0f^\\x0fz\\x0f\\x96\\x0f\\xb3\\x0f\\xcf\\x0f\\xec\\x10\\t\\x10&\\x10C\\x10a\\x10~\\x10\\x9b\\x10\\xb9\\x10\\xd7\\x10\\xf5\\x11\\x13\\x111\\x11O\\x11m\\x11\\x8c\\x11\\xaa\\x11\\xc9\\x11\\xe8\\x12\\x07\\x12&\\x12E\\x12d\\x12\\x84\\x12\\xa3\\x12\\xc3\\x12\\xe3\\x13\\x03\\x13#\\x13C\\x13c\\x13\\x83\\x13\\xa4\\x13\\xc5\\x13\\xe5\\x14\\x06\\x14\\'\\x14I\\x14j\\x14\\x8b\\x14\\xad\\x14\\xce\\x14\\xf0\\x15\\x12\\x154\\x15V\\x15x\\x15\\x9b\\x15\\xbd\\x15\\xe0\\x16\\x03\\x16&\\x16I\\x16l\\x16\\x8f\\x16\\xb2\\x16\\xd6\\x16\\xfa\\x17\\x1d\\x17A\\x17e\\x17\\x89\\x17\\xae\\x17\\xd2\\x17\\xf7\\x18\\x1b\\x18@\\x18e\\x18\\x8a\\x18\\xaf\\x18\\xd5\\x18\\xfa\\x19 \\x19E\\x19k\\x19\\x91\\x19\\xb7\\x19\\xdd\\x1a\\x04\\x1a*\\x1aQ\\x1aw\\x1a\\x9e\\x1a\\xc5\\x1a\\xec\\x1b\\x14\\x1b;\\x1bc\\x1b\\x8a\\x1b\\xb2\\x1b\\xda\\x1c\\x02\\x1c*\\x1cR\\x1c{\\x1c\\xa3\\x1c\\xcc\\x1c\\xf5\\x1d\\x1e\\x1dG\\x1dp\\x1d\\x99\\x1d\\xc3\\x1d\\xec\\x1e\\x16\\x1e@\\x1ej\\x1e\\x94\\x1e\\xbe\\x1e\\xe9\\x1f\\x13\\x1f>\\x1fi\\x1f\\x94\\x1f\\xbf\\x1f\\xea \\x15 A l \\x98 \\xc4 \\xf0!\\x1c!H!u!\\xa1!\\xce!\\xfb\"\\'\"U\"\\x82\"\\xaf\"\\xdd#\\n#8#f#\\x94#\\xc2#\\xf0$\\x1f$M$|$\\xab$\\xda%\\t%8%h%\\x97%\\xc7%\\xf7&\\'&W&\\x87&\\xb7&\\xe8\\'\\x18\\'I\\'z\\'\\xab\\'\\xdc(\\r(?(q(\\xa2(\\xd4)\\x06)8)k)\\x9d)\\xd0*\\x02*5*h*\\x9b*\\xcf+\\x02+6+i+\\x9d+\\xd1,\\x05,9,n,\\xa2,\\xd7-\\x0c-A-v-\\xab-\\xe1.\\x16.L.\\x82.\\xb7.\\xee/$/Z/\\x91/\\xc7/\\xfe050l0\\xa40\\xdb1\\x121J1\\x821\\xba1\\xf22*2c2\\x9b2\\xd43\\r3F3\\x7f3\\xb83\\xf14+4e4\\x9e4\\xd85\\x135M5\\x875\\xc25\\xfd676r6\\xae6\\xe97$7`7\\x9c7\\xd78\\x148P8\\x8c8\\xc89\\x059B9\\x7f9\\xbc9\\xf9:6:t:\\xb2:\\xef;-;k;\\xaa;\\xe8<\\'<e<\\xa4<\\xe3=\"=a=\\xa1=\\xe0> >`>\\xa0>\\xe0?!?a?\\xa2?\\xe2@#@d@\\xa6@\\xe7A)AjA\\xacA\\xeeB0BrB\\xb5B\\xf7C:C}C\\xc0D\\x03DGD\\x8aD\\xceE\\x12EUE\\x9aE\\xdeF\"FgF\\xabF\\xf0G5G{G\\xc0H\\x05HKH\\x91H\\xd7I\\x1dIcI\\xa9I\\xf0J7J}J\\xc4K\\x0cKSK\\x9aK\\xe2L*LrL\\xbaM\\x02MJM\\x93M\\xdcN%NnN\\xb7O\\x00OIO\\x93O\\xddP\\'PqP\\xbbQ\\x06QPQ\\x9bQ\\xe6R1R|R\\xc7S\\x13S_S\\xaaS\\xf6TBT\\x8fT\\xdbU(UuU\\xc2V\\x0fV\\\\V\\xa9V\\xf7WDW\\x92W\\xe0X/X}X\\xcbY\\x1aYiY\\xb8Z\\x07ZVZ\\xa6Z\\xf5[E[\\x95[\\xe5\\\\5\\\\\\x86\\\\\\xd6]\\']x]\\xc9^\\x1a^l^\\xbd_\\x0f_a_\\xb3`\\x05`W`\\xaa`\\xfcaOa\\xa2a\\xf5bIb\\x9cb\\xf0cCc\\x97c\\xebd@d\\x94d\\xe9e=e\\x92e\\xe7f=f\\x92f\\xe8g=g\\x93g\\xe9h?h\\x96h\\xeciCi\\x9ai\\xf1jHj\\x9fj\\xf7kOk\\xa7k\\xfflWl\\xafm\\x08m`m\\xb9n\\x12nkn\\xc4o\\x1eoxo\\xd1p+p\\x86p\\xe0q:q\\x95q\\xf0rKr\\xa6s\\x01s]s\\xb8t\\x14tpt\\xccu(u\\x85u\\xe1v>v\\x9bv\\xf8wVw\\xb3x\\x11xnx\\xccy*y\\x89y\\xe7zFz\\xa5{\\x04{c{\\xc2|!|\\x81|\\xe1}A}\\xa1~\\x01~b~\\xc2\\x7f#\\x7f\\x84\\x7f\\xe5\\x80G\\x80\\xa8\\x81\\n\\x81k\\x81\\xcd\\x820\\x82\\x92\\x82\\xf4\\x83W\\x83\\xba\\x84\\x1d\\x84\\x80\\x84\\xe3\\x85G\\x85\\xab\\x86\\x0e\\x86r\\x86\\xd7\\x87;\\x87\\x9f\\x88\\x04\\x88i\\x88\\xce\\x893\\x89\\x99\\x89\\xfe\\x8ad\\x8a\\xca\\x8b0\\x8b\\x96\\x8b\\xfc\\x8cc\\x8c\\xca\\x8d1\\x8d\\x98\\x8d\\xff\\x8ef\\x8e\\xce\\x8f6\\x8f\\x9e\\x90\\x06\\x90n\\x90\\xd6\\x91?\\x91\\xa8\\x92\\x11\\x92z\\x92\\xe3\\x93M\\x93\\xb6\\x94 \\x94\\x8a\\x94\\xf4\\x95_\\x95\\xc9\\x964\\x96\\x9f\\x97\\n\\x97u\\x97\\xe0\\x98L\\x98\\xb8\\x99$\\x99\\x90\\x99\\xfc\\x9ah\\x9a\\xd5\\x9bB\\x9b\\xaf\\x9c\\x1c\\x9c\\x89\\x9c\\xf7\\x9dd\\x9d\\xd2\\x9e@\\x9e\\xae\\x9f\\x1d\\x9f\\x8b\\x9f\\xfa\\xa0i\\xa0\\xd8\\xa1G\\xa1\\xb6\\xa2&\\xa2\\x96\\xa3\\x06\\xa3v\\xa3\\xe6\\xa4V\\xa4\\xc7\\xa58\\xa5\\xa9\\xa6\\x1a\\xa6\\x8b\\xa6\\xfd\\xa7n\\xa7\\xe0\\xa8R\\xa8\\xc4\\xa97\\xa9\\xa9\\xaa\\x1c\\xaa\\x8f\\xab\\x02\\xabu\\xab\\xe9\\xac\\\\\\xac\\xd0\\xadD\\xad\\xb8\\xae-\\xae\\xa1\\xaf\\x16\\xaf\\x8b\\xb0\\x00\\xb0u\\xb0\\xea\\xb1`\\xb1\\xd6\\xb2K\\xb2\\xc2\\xb38\\xb3\\xae\\xb4%\\xb4\\x9c\\xb5\\x13\\xb5\\x8a\\xb6\\x01\\xb6y\\xb6\\xf0\\xb7h\\xb7\\xe0\\xb8Y\\xb8\\xd1\\xb9J\\xb9\\xc2\\xba;\\xba\\xb5\\xbb.\\xbb\\xa7\\xbc!\\xbc\\x9b\\xbd\\x15\\xbd\\x8f\\xbe\\n\\xbe\\x84\\xbe\\xff\\xbfz\\xbf\\xf5\\xc0p\\xc0\\xec\\xc1g\\xc1\\xe3\\xc2_\\xc2\\xdb\\xc3X\\xc3\\xd4\\xc4Q\\xc4\\xce\\xc5K\\xc5\\xc8\\xc6F\\xc6\\xc3\\xc7A\\xc7\\xbf\\xc8=\\xc8\\xbc\\xc9:\\xc9\\xb9\\xca8\\xca\\xb7\\xcb6\\xcb\\xb6\\xcc5\\xcc\\xb5\\xcd5\\xcd\\xb5\\xce6\\xce\\xb6\\xcf7\\xcf\\xb8\\xd09\\xd0\\xba\\xd1<\\xd1\\xbe\\xd2?\\xd2\\xc1\\xd3D\\xd3\\xc6\\xd4I\\xd4\\xcb\\xd5N\\xd5\\xd1\\xd6U\\xd6\\xd8\\xd7\\\\\\xd7\\xe0\\xd8d\\xd8\\xe8\\xd9l\\xd9\\xf1\\xdav\\xda\\xfb\\xdb\\x80\\xdc\\x05\\xdc\\x8a\\xdd\\x10\\xdd\\x96\\xde\\x1c\\xde\\xa2\\xdf)\\xdf\\xaf\\xe06\\xe0\\xbd\\xe1D\\xe1\\xcc\\xe2S\\xe2\\xdb\\xe3c\\xe3\\xeb\\xe4s\\xe4\\xfc\\xe5\\x84\\xe6\\r\\xe6\\x96\\xe7\\x1f\\xe7\\xa9\\xe82\\xe8\\xbc\\xe9F\\xe9\\xd0\\xea[\\xea\\xe5\\xebp\\xeb\\xfb\\xec\\x86\\xed\\x11\\xed\\x9c\\xee(\\xee\\xb4\\xef@\\xef\\xcc\\xf0X\\xf0\\xe5\\xf1r\\xf1\\xff\\xf2\\x8c\\xf3\\x19\\xf3\\xa7\\xf44\\xf4\\xc2\\xf5P\\xf5\\xde\\xf6m\\xf6\\xfb\\xf7\\x8a\\xf8\\x19\\xf8\\xa8\\xf98\\xf9\\xc7\\xfaW\\xfa\\xe7\\xfbw\\xfc\\x07\\xfc\\x98\\xfd)\\xfd\\xba\\xfeK\\xfe\\xdc\\xffm\\xff\\xff\\xff\\xdb\\x00C\\x00\\x08\\x06\\x06\\x07\\x06\\x05\\x08\\x07\\x07\\x07\\t\\t\\x08\\n\\x0c\\x14\\r\\x0c\\x0b\\x0b\\x0c\\x19\\x12\\x13\\x0f\\x14\\x1d\\x1a\\x1f\\x1e\\x1d\\x1a\\x1c\\x1c $.\\' \",#\\x1c\\x1c(7),01444\\x1f\\'9=82<.342\\xff\\xdb\\x00C\\x01\\t\\t\\t\\x0c\\x0b\\x0c\\x18\\r\\r\\x182!\\x1c!22222222222222222222222222222222222222222222222222\\xff\\xc0\\x00\\x11\\x08\\x02\\x15\\x03 \\x03\\x01\\x11\\x00\\x02\\x11\\x01\\x03\\x11\\x01\\xff\\xc4\\x00\\x1c\\x00\\x00\\x01\\x05\\x01\\x01\\x01\\x00\\x00\\x00\\x00\\x00\\x00\\x00\\x00\\x00\\x00\\x02\\x00\\x01\\x03\\x04\\x05\\x06\\x07\\x08\\xff\\xc4\\x00E\\x10\\x00\\x02\\x01\\x03\\x03\\x02\\x04\\x03\\x06\\x03\\x07\\x02\\x04\\x05\\x05\\x00\\x00\\x01\\x02\\x03\\x04\\x11\\x05!1\\x12A\\x06\\x13\"Q2aq\\x07\\x14#\\x81\\x91\\xa1BR\\xb1\\x153br\\xc1\\xd1\\xe1$\\xf0\\x164CScs\\x82\\xb2\\xf1D\\x83\\x92\\xa2\\xc2\\xff\\xc4\\x00\\x19\\x01\\x01\\x01\\x01\\x01\\x01\\x01\\x00\\x00\\x00\\x00\\x00\\x00\\x00\\x00\\x00\\x00\\x00\\x01\\x02\\x03\\x04\\x05\\xff\\xc4\\x00\\'\\x11\\x01\\x01\\x01\\x01\\x00\\x02\\x02\\x02\\x03\\x01\\x01\\x01\\x00\\x03\\x01\\x00\\x00\\x01\\x02\\x11\\x031\\x12!\\x04A\"2Q\\x13#3\\x14Baq\\xff\\xda\\x00\\x0c\\x03\\x01\\x00\\x02\\x11\\x03\\x11\\x00?\\x00\\xb9\\x18\\x9c\\xd5\"\\x88\\x06\\xa2\\x01\\xa8\\x80\\xfd%\\x02\\xe2\\x04R\\x88\\x11J!\\x11\\xb8\\x81\\x05\\xc4\\x7f\\r\\x91\\\\\\xcd\\xf2\\xf53\\x96\\xdd\\xbcf\\xb4\\x8f\\xa0\\xf3i\\xea\\xcaY#\\r\\xa0\\xc7\\xad\\x16%mi\\xcbtz0\\xf3y\\x1d\\x15\\x18\\xfaQ\\xe8\\x8f-Z\\x84J&\\x8cJ\\x89\\x14@~\\x90\\x1f\\xa4\\x07\\xe9\\x01`\\x07\\xe9\\x01\\xfa@|\\x14,\\x10.\\x90\\x1f\\xa4\\x07\\xc1Ct\\x90,\\x00\\xb0\\x02\\xc0\\x0b\\x00,\\x00\\xd8\\x01\\xb0\\x02\\xc0\\t\\xa0\\x1b\\x006\\x00l\\x15K\\x00\\x0e\\x08\\x16\\x00l\\x00\\xd8\\x01`\\x06\\xc0\\x0b\\x00,\\x00\\xd8\\x01`\\x81`\\x06\\xc0\\x0b\\x006\\x02\\x96\\x02\\x19\\xa2)\\xb0\\x03`\\x06h\\x01h\\x01q\\x00\\x1cB\\x81\\xa2\\x08\\xe4\\x80\\xca\\xbe\\x8e\\xcc\\xcdn9]IrcN\\xb9suW\\xad\\x9ck\\xbcF\\xcc\\xa9`\\xa8l\\x00\\x9a(l\\x15\\x12\\xd2[\\x9a\\x8c\\xd6\\x85\\x04t\\x8e:hRF\\x98Z\\x82\\x02x\\xa2\\x89\\x12\\x084\\x80t\\x8a\\x87\\xc0\\t\\xa0\\x05\\xa0\\xa0h\\x08\\xe4\\x80\\x06\\x88\\x01\\xa2\\x86\\xc0\\x02\\xd1\\x034P-\\x00\\xcd\\x00-\\x01\\x14\\x91\\x05z\\x88\"\\xac\\xd1G\\xaeF%A\\xa8\\x84\\x1a\\x89A(\\x80\\xfd \\x0bA\\x11\\xca!P\\xca F\\xe2\\x047\\x11\\xfc&\\x071z\\xbdL\\xe3\\xb7o\\x19Z/I\\xe6\\xd3\\xd5\\x91\\xd40\\xda\\xb3\\xf8\\xd1a[zo(\\xf4a\\xe5\\xf2:J+\\xd2\\x8fLy\\xaa\\xd4\\x11Q4PD\\x89\\x00\\xf8\\x01\\xf0\\x03\\xe0\\x05\\x80\\x1f\\x05\\x0f\\x80\\x1f\\x00,\\x00\\xb0\\x03\\xe0\\x07\\xc0\\x0c\\xd0\\r\\x80\\x16\\x08\\x16\\x00X\\x01\\xb0\\x02\\xc0\\x0b\\x006\\x00X\\x01\\xb0\\x03`\\x01\\xc0\\x0b\\x05S`\\x88X\\nl\\x00\\xd8\\x01\\xb0\\x02\\xc0\\x0b\\x00,\\x00\\xb0\\x03`\\x05\\x80\\x1b\\x04\\x0b\\x006\\x00X\\x01\\xb0\\x03`\\x06\\xc0S`\\x88\\x16\\x82\\x85\\xa0\\x05\\xa0\\xa8\\xe4\\x80\\x8eH\\x832\\xf6;2V\\xe3\\x94\\xd4\\x97\\':\\xeb\\x975Uz\\xd9\\xc2\\xbb\\xc4M\\x11\\xa3`\\x07\\xc1P\\xd8(l\\x04KMnj1Z\\x14;\\x1dc\\x95hRF\\x98[\\x82\\x08\\x9e(\\xa2D\\x82\\r \\x1f\\x05\\x0f\\x80\\x16\\x00\\x16\\x80\\x06\\x80\\x8d\\xa0\\x01\\xa0\\x01\\xa0\\x07\\x006\\x00\\x16\\x80l\\x00\\xcd\\x00-\\x01\\x14\\x90\\x15\\xea *\\xd4A\\x1e\\xba\\x91Pi\\x04\\x12E\\x04\\x90\\x0f\\x80\\x06H\"9 \"\\x92\\n\\x8d\\xa0!\\xb8_\\x84\\xc0\\xe5\\xaf\\xb6\\x938\\xed\\xd7\\xc6\\x0bYzO6\\x9e\\xbc\\x8a\\xa32\\xda\\xb6}hB\\xb7\\xb4\\xce\\xc7\\xa3\\xc6\\xf3y\\x1d-\\x05\\xe9G\\xa6<\\xb5n\\x08\\xa8\\x9a(\\t\\x12\\x08|\\x00\\xf8\\x01\\xf0\\x02\\xc0\\x0f\\x82\\x87\\xc0\\x0f\\x80\\x16\\x00X\\x01`\\x07\\xc0\\r\\x80\\x1b\\x00,\\x00\\xb0\\x02\\xc0\\r\\x80\\x16\\x00X\\x01`\\x06\\xc1\\x03`\\x06\\xc1C4@\\xd8\\x01\\xb0\\x02\\xc0\\r\\x80\\x16\\x02\\x9b\\x00,\\x00\\xb0\\x03`\\x05\\x80\\x16\\x00X\\x01\\xb0\\x03`\\x05\\x82\\x06\\xc0\\x0b\\x006\\x00f\\x80f\\x80\\x16\\x88\\xa1h\\x01h\\x08\\xda\\x029 \\xac\\xdb\\xd8\\xec\\xcc\\xd6\\xa3\\x94\\xd4\\xe3\\xc9\\xcfN\\xd9s\\x15\\x97\\xe23\\x85z\",\\x19h\\xb0\\x02\\xc1P\\xcd\\x15\\r\\x82\\x89)\\xad\\xcdF+B\\x82:\\xc7\\x1a\\xd0\\xa4\\xb64\\xc2\\xdc\\x10E\\x88\\xa0$\\x8a*\\r \\x1f\\x05\\x0f\\x80\\x16\\x00\\x16\\x82\\x05\\xa0#h*6\\x80\\x06\\x80\\x1c\\x00\\xcd\\x008\\x01\\x9a\\x00Z\\x01\\x9a\\x02) +\\xd4D\\x15j\"\\xa3\\xd7R*\\r \\x83H\\xa0\\x92\\x01\\xf0\\x00\\xb4\\x11\\x1c\\x90\\x11I\\x01\\x1b@Cp\\xbf\\t\\x85r\\x9a\\x86\\xd2g/#\\xaf\\x8d\\x05\\xab\\xd8\\xf2\\xe9\\xeb\\xc8\\xea3-\\xab\\xe7\\xd6\\x8aWA\\xa5\\xf6;\\xe1\\xe6\\xf2:z\\x0b\\xd2\\x8fLyj\\xdc\\x11Q4P\\x12$\\x03\\xe0\\x07\\xc0C\\xe0\\xa1`\\x07\\xc0\\x0b\\x00>\\x00X\\x01`\\x07\\xc0\\x0b\\x006\\x00X\\x01\\xb0\\x02\\xc0\\x0b\\x00,\\x00\\xb0\\x02\\xc0\\r\\x80\\x16\\x00l\\x00\\xd8\\x01\\x9a\\x01\\xb0\\x03`\\x81\\xb0\\x02\\xc0\\r\\x80\\x16\\x00X\\x01\\xb0\\x14\\xb0\\x02\\xc0B\\xc0S`\\x05\\x80\\x1b\\x00,\\x00\\xd8\\x01\\xb0@\\xb0\\x03`\\x06\\xc0\\x02\\xd0P\\xb4\\x00\\xb4A\\x1bA@\\xd0\\x19\\xb7\\xabff\\xb5\\x1c\\xa6\\xa6\\xbe#\\x9e\\x9d\\xb2\\xe5\\xab\\xaf\\xc4g\\x9fODBe\\xb2\\xc0B(fT1Q->MF*\\xfd\\x0e\\xc7h\\xe3Z4\\x91\\xa6\\x16\\xe9\\xa0\\x8b\\x11@H\\x91Pi\\x00X\\x01\\xf0P\\xcd\\x00\\xcd\\x00\\r\\x04G$\\x04rA@\\xd0\\x03\\x80\\x05\\xa0\\x19\\xa0\\x1b\\x00\\x0b@\\x0b@G4\\x05z\\x88\\n\\xb5\\x10\\x1e\\xbc\\x91X\\x1aE\\x04\\x90\\x06\\x90\\x0f\\x80\\x81h\\x08\\xe4\\x80\\x8aH\\x08\\xda\\x02\\x1a\\xeb\\xf0\\x98W%\\xa9,I\\x9c\\xb7\\xe9\\xd7\\xc7\\xedN\\xdai&y\\xb4\\xf5\\xe4Ufe\\xb4\\n^\\xb4\\x11\\xd2iO8=\\x18y\\xfc\\x8e\\xaa\\xddz\\x11\\xe8\\x8f-[\\x82*&\\x8a\\x084\\x8a\\xa7\\xc0C\\xe0\\x07\\xc0\\x0b\\x00>\\x00|\\x00\\xb0\\x02\\xc0\\x0b\\x00>\\x00X\\x01`\\x06\\xc0\\x0b\\x006\\x00X\\x01\\xf0\\x03`\\x05\\x80\\x16\\x00X\\x01\\xb0\\x02\\xc0\\r\\x80\\x05\\xa0\\x19\\xa0\\x1b\\x00,\\x00\\xd8\\x01`\\x81\\xb0\\x02\\xc0\\x0b\\x01K\\x01\\r\\x80\\xa5\\x80\\x1b\\x00,\\x00\\xb0\\x03`\\x05\\x80\\x1b\\x006\\x08\\x05\\xa0\\x19\\xa0\\xa1h\\x01h\\x826\\x82\\x81\\xa03\\xafV\\xcc\\xcdj9=Mm#\\x9e\\x9d\\xb2\\xe5n\\x17\\xe2\\xb3\\xcf\\xa7\\xa6 f\\x1a \\x11P\\xc6\\x90\\xc5D\\xb4\\xd6\\xe6\\xa35\\xa1@\\xeb\\x1ct\\xd0\\xa4\\xb66\\xe6\\xb9M\\x01b(\\xa8\\x96(\\x03H \\xb0P\\xb0\\x02\\xc0\\x02\\xd0\\x00\\xd0\\x11\\xc9\\x01\\x1b@F\\xc0\\x16\\x03`\\x06h\\x01\\xc0\\r\\x80\\x86h*)\\xa0+\\xd4@U\\xa8\\x80\\xf5\\xe8\\xeeV\\x06\\x91A\\xa4\\x01$\\x03\\xe0!\\x9a(\\x8eH\\x82)\"\\x88\\xda\\x02\\x1a\\xeb\\xf0\\xd9\\x07\\x1f\\xabm&s\\xdb\\xae=\\xb2\\xad\\xe7\\x86\\xcf=\\x8f^h\\xaa\\xd43\\xc6\\xba\\x863\\xf5\\xa1\\xc4\\xeb\\xa8\\xd1\\xdezN\\xf8p\\xddu\\xf6\\xcb\\xd0\\x8e\\xf1\\xe6\\xab\\x90ED\\xd1@\\x1aE\\x05\\x80\\x1f\\x00,\\x04>\\x00|\\x00\\xb0\\x02\\xc0\\x0f\\x80\\x16\\x00X\\x01`\\x05\\x80\\x16\\x00l\\x00\\xb0\\x02\\xc0\\x0b\\x00,\\x00\\xd8\\x01`\\x05\\x80\\x16\\x00l\\x00\\xd8\\x01\\x9a\\x00Z\\x01\\xb0\\x02\\xc0\\x0b\\x006\\x00X X\\x01\\xb0\\x02\\xc0\\x0b\\x01M\\x80\\x16\\x00X\\x01\\xb0\\x02\\xc0\\r\\x80\\x16\\x00\\x1c\\x00\\xcd\\x103AB\\xd0\\x00\\xd0\\x00\\xd0\\x11\\xb4Eg\\xde-\\x99\\x9a\\xd4rz\\x9a\\xdaG=;e\\xca\\\\\\xaf\\xc5g\\x9bONU\\xda2\\xd9\\x00\\x8a\\x86*\\x18\\xa9R\\xd2\\xe4\\xdcb\\xb4(.\\x0e\\xb1\\xc7M\\x1aH\\xdb\\x9a\\xe54\\x05\\x88\\xa0\\x89b\\x8a\\r \\x82H\\x07\\xc1C`\\x06h\\x00h\\x08\\xa4\\x80\\x8eH\\x08\\xda\\x00Z\\x01\\x9a\\x01\\xb0\\x00\\xe0\\x06h\\x06h\\x08\\xe6\\xb6\\x02\\xb5D\\x05J\\x88\\x0fQ\\xb3\\xb9\\xf3\\x1a\\xdcK\\xd2\\xc6\\x8aF\\x98\\x1a@\\x12A\\x05\\x80\\x05\\xa2\\x88\\xe4\\x88\"\\x92*\\x81\\xa0\\x88k/\\xc3`q\\xda\\xcc}R9\\xe9\\xd3\\x1e\\xd80\\x9e\\x1b8\\xd8\\xf4\\xca\\x8e\\xadW\\x92qzjm\\xb9 :\\xfd\\x11m\\x13\\xa6\\\\\\xb6\\xec\\xad\\x97\\xa1\\x1d\\xa3\\xcfW`\\x8a\\x89b\\x8a$H!\\xf0\\x14\\xf8\\x01\\xf0\\x10\\xb0\\x03\\xe0\\x05\\x80\\x16\\x00|\\x00\\xb0\\x02\\xc0\\x0b\\x00,\\x00\\xb0\\x02\\xc1B\\xc0\\r\\x82\\x05\\x80\\x16\\x00X\\x01`\\xa1`\\x81\\xb0\\x03`\\x06\\xc0\\x0c\\xd0\\x02\\xd0S`!`\\x05\\x80\\x16\\x08\\x1b\\x00,\\x05,\\x00\\xb0\\x03`\\x05\\x80\\x1b\\x00,\\x00\\xb0\\x03`\\x05\\x80\\x1b\\x006\\x00l\\x00-\\x11L\\xd0\\x00\\xd0\\x00\\xd0\\x11\\xb4EP\\xbc^\\x96J\\xd4rz\\xa2\\xf8\\x8eZv\\xcb\\x92\\xb9_\\x8a\\xcf6\\x9e\\xac\\xab\\xe0\\xc3e\\x82\\xa1\\x9a*\\x18\\xa8b\\xa2Z|\\x9b\\x8cV\\x85\\x0e\\xc7X\\xe3\\xa6\\x8d\\x1e\\r\\xb0\\xb9M\\x04Y\\x82\\x08\\x96(\\xa2D\\x80$\\x82\\x16\\x00X(\\x16\\x82\\x01\\xa0\\xa8\\xa4\\x80\\x8d\\xa0#h\\x06h\\x01h\\x06h\\x06h\\x01\\xc0\\r\\x80#\\x92\\xd8\\n\\xd5\\x10\\x15*\\xa0;\\xed&M\\xe3,\\xe7\\x8a\\xe9\\xb8\\xe9 \\xbd(\\xec\\xe04\\x82\\r\"\\x87\\xc0\\x02\\xd0\\x01$\\x04R@F\\xd0\\x11\\xd6_\\x86\\xc0\\xe3\\xb5\\xa5\\xbc\\x8ci\\xd3>\\xdc\\xcc\\x13sx8Z\\xf4C\\xba\\x12l\\xcfZ\\xe2ZTq$N\\xb5\\xc7Y\\xa2\\xc7\\n\\'\\\\8\\xed\\xd8\\xdb/B;\\xc7\\x9a\\xaeA\\x15\\x13E\\x15\\x06\\x90\\x0f\\x80\\x1f\\x00>\\x00X\\x01\\xf0\\x02\\xc0\\x0b\\x00,\\x14>\\x00X\\x01`\\x05\\x80\\x16\\x00X\\x01`\\x05\\x80\\x16\\x00l\\x00\\xb0\\x02\\xc0\\r\\x80\\x16\\x00X l\\x00\\xd8\\x00Z\\x01\\xb0\\x02\\xc0\\x0b\\x006\\x00X l\\x05,\\x00\\xb0\\x02\\xc0\\r\\x80\\x1b\\x00,\\x00\\xb0\\x03`\\x05\\x80\\x1b\\x00,\\x00\\xd8\\x00Z\\x00Z\\n\\x16\\x88\\x01\\xa0#h\\x8a\\xa1x\\xbd,\\x95\\xa8\\xe4\\xb5E\\xb4\\x8eZv\\xcb\\x91\\xb9_\\x8a\\xcf6\\x9e\\xac\\xa0\\xc1\\x86\\xccP\\xb0T\\x0e\\n\\x86\\xc1YKO\\x93Q\\x9a\\xd0\\xa0\\xb8;G\\x1d4\\xa8\\xad\\x8d9\\xaeSEE\\x98\\xa0\\x89b\\x8a$H \\x92\\x01\\xf0P\\xb0\\x00\\xb4\\x11\\x1bAQ\\xc9\\x01\\x14\\x90\\x00\\xd0\\x02\\xd0\\x02\\xd0\\x0c\\xd0\\x0c\\xd0\\r\\x80\\x05\\xa0\\x02h\\n\\xd5\\x10\\x14\\xea\\x81\\xdbh\\xd3\\xcbG,;y\\x1d]=\\xe0\\x8e\\xef2T\\x80$\\x8a\\x82\\xc0\\x02\\xd0\\x11\\xc9\\x01\\x1c\\x90\\x11\\xb4\\x04uW\\xe1\\xb08\\xfdf9r1\\xbfM\\xe3\\xdb\\x0e\\xda\\x86f\\xf6<\\xba\\xaffb\\xdb\\xb6Ipc\\xae\\xbc\\x02\\xa4\\x93\\'S\\x8e\\x8bH\\x8e0w\\xf1\\xb8y\\x1dm\\xaa\\xf4#\\xd3\\x1eJ\\xb9\\x04TM\\x14T\\x1a@>\\x00|\\x00\\xf8\\x01`\\x07\\xc0\\x0b\\x00,\\x14,\\x00\\xf8\\x01`\\x05\\x80\\x16\\x00X\\x01`\\x05\\x80\\x16\\x00X\\x01`\\x05\\x80\\x1b\\x00,\\x00\\xd8\\x01`\\x06\\xc0\\x0c\\xd0\\x0c\\xd1\\x03`\\x05\\x80\\x1b\\x00,\\x00\\xd8\\x01`\\x06\\xc0S\\xe0\\x81\\xb0\\x03`\\x05\\x80\\x1b\\x00,\\x00\\xb0\\x02\\xc0\\r\\x80\\x1b\\x006\\x00f\\x80\\x16\\x80\\x16\\x82\\x81\\xa2\\x08\\xda\\n\\xa1x\\xbd,\\xcdj9=Um#\\x96\\x9d\\xb2\\xe3\\xee\\x97\\xe2\\xb3\\xcd\\xa7\\xab*\\xec\\xc3f(E\\x88\\x16T1Y\\xa9i\\xf2j3Z\\x16\\xe7X\\xe3\\xa6\\x9d\\x14m\\xcdv\\x9a*,A\\x14M\\x14\\x11\"A\\x0f\\x82\\x87\\xc0\\x0b\\x00\\x0bA\\x01$\\x04rAQI\\x01\\x1b@\\x0b@6\\x00f\\x80\\x16\\x80l\\x00\\xcd\\x01\\x1c\\xd0\\x15\\xaa )\\xd5@u\\x1a=u\\x17\\x1d\\xceyv\\xdb\\xb4\\xb5\\xa8\\xa7Mnv\\x8f5ZH\\xa84\\x80|\\x00\\xcd\\x01\\x1c\\x90\\x11\\xc9\\x01\\x1b@GQz\\x18\\x1c\\x9e\\xb1\\x1fS9\\xef\\xd3\\xa6=\\xb2-b\\xbc\\xc6y4\\xf6\\xe1r\\xa4V\\x0en\\x88:w\\x03{J\\x8f\\x07\\xa3\\xc6\\xf3\\xf9]U\\xb2\\xf4\\x9e\\xa8\\xf1\\xdfk\\x91F\\x914PA\\xa4\\x03\\xe0\\x07\\xc0\\x0f\\x80\\x16\\x00X\\x01`\\xa1\\xf0\\x02\\xc0\\x0b\\x00,\\x04>\\x02\\x96\\x00X\\x01`\\x05\\x80\\x16\\x00X\\x01`\\x05\\x80\\x1b\\x00,\\x00\\xb0\\x03`\\x06\\xc0\\r\\x80\\x1b\\x04\\r\\x80\\x16\\x00l\\x00\\xb0\\x03`\\x05\\x80\\x16\\x00X\\nl\\x00\\xb0\\x02\\xc1\\x03`!`\\x06\\xc0R\\xc0\\r\\x80\\x16\\x00f\\x80\\x16\\x80\\x16\\x80\\x16\\x82\\x81\\xa0\\x01\\xa2\\n\\x17\\x8b\\xd2\\xcc\\xd6\\xe3\\x93\\xd5c\\xc9\\xcbN\\xd9q\\xd7k\\xf1Y\\xe7\\xd3\\xd5\\x95f\\x8em\\x9b\\x05\\x0cT1P\\xc5D\\xb4\\xd6\\xe6\\xa3\\x15\\xa1n\\x8e\\xb9q\\xd3N\\x827\\x1c\\xea\\xf54TY\\x82\\x08\\x9a(\\xa0\\xd2\\x08$\\x8a\\x1f\\x00,\\x00-\\x04\\x04\\x90\\x11\\xc9\\x05E$\\x04m\\x00-\\x00\\xcd\\x00-\\x00\\xcd\\x008\\x01\\xb0\\x00I\\x01Z\\xa2\\x02\\x95T\\x05\\xdb+\\xaf.\\xaaL\\xe3+\\xd1\\xa8\\xed\\xf4\\xab\\xce\\xb8-\\xce\\xd2\\xb8k.\\x82\\x94\\x94\\xa2\\x8d\\xb9%H\\x02\\xc0\\x0c\\xd0\\x11\\xc9\\x01\\x1c\\x90\\x11\\xb4\\x04s^\\x96\\x07+\\xac\\xc7\\xd4\\xcco\\xd3x\\xf6\\xc5\\xb5\\xfe\\xf5\\x9e-\\xbd\\xd8_\\x9cs\\x13\\x9b\\xaa\\x05\\r\\xc0\\xdd\\xd2\\xd7\\x07\\x7f\\x1b\\xcf\\xe5u\\x16\\xcb\\xd2\\x8fdx\\xaa\\xe4\\x11\\xa4M\\x14\\x10i\\x00\\xf8\\x01\\xf0\\x02\\xc0\\x0f\\x82\\x85\\x80\\x16\\x00|\\x00\\xb0\\x02\\xc0B\\xc0R\\xc0\\x0f\\x80\\x85\\x80\\x16\\x00X\\nX\\x01`\\x05\\x80\\x16\\x00l\\x00\\xb0\\x10\\xb0\\x14\\xd8\\x01`\\x06h\\x01d\\x0c\\xc0\\x07R+\\x87\\x9f\\xa0\\x02\\xaa\\xc1\\xbcgp\\x0b\\xa9\\x00\\xe0 \\x10\\x0b\\x00,\\x00\\xd8\\nX\\x01`\\x88l\\x05,\\x00\\xd8\\x01`\\x06\\xc0\\x0c\\xd0\\x0c\\xd0\\x02\\xd0\\x02\\xd0P4@\\r\\x01F\\xedzY+Q\\xcaj\\xb1\\xdaG-;\\xe1\\xc6^/\\xc6g\\x9bOV}*\\xb4st\\x0b*\\x1b\\x006\\n\\x85\\x82\\xa7\\x12\\xd3[\\x9a\\x8cX\\xd0\\xb7Gl\\xb8\\xe9\\xa7A\\x1b\\x8eU~\\x9a*,\\xc1\\x04K\\x14Q\"EA$\\x03\\xe0\\x05\\x80\\x86h\\x08\\xe4\\x82\\xa3\\x92\\x08\\x8aH*&\\x80\\x16\\x80l\\x00\\xcd\\x00-\\x00\\xd8\\x01\\x9a\\x029 +T@R\\xaa\\x80lb\\xa2h\\xf3\\xbd\\x8e\\x87J\\xbc\\xe8i6ni\\xcfYv\\x167jInu\\xcdy\\xf5\\x96\\xc4\\x1a\\x92\\xca6\\xe6<\\x00\\xcd\\x00\\x12@E$\\x04m\\x00\\x12^\\x96\\x07/\\xadGvc~\\x9b\\xc7\\xb6\\x1d\\xac\\x7f\\x1c\\xf1m\\xef\\xc3Q\\xd3\\xccN.\\xa8\\x9d<\\x0e\\x8dm5c\\x07\\xa3\\xc4\\xf3\\xf9]=\\xaa\\xf4\\xa3\\xdb\\x1e\\x1b\\xedr\\x08\\xd2&\\x8a\\x084\\x80|\\x00\\xf8\\x01`\\xa1`\\x05\\x80\\x1f\\x00,\\x00\\xf8\\x01`\\x07\\xc0\\x0b\\x00,\\x00\\xb0\\x10\\xb0\\x02\\xc0\\x0b\\x01M\\x80\\x16\\x02\\x16\\x02\\x96\\x00X\\x01\\xb0\\x02`G.\\xaf\\xe1\\xd8\\x00\\x95H\\xc5z\\xa4\\xb6\\xf9\\x90D\\xab\\xf5\\xcb\\x11\\xa7,{\\xe0\\x06\\x9c\\xb2\\xb3\\x8d\\xbf\\x9b\\xfd\\x80\\x08\\xb8t\\xad\\xa6\\xf3\\xee\\x03\\xca\\nQ\\xde4\\xfeXy`7\\x97\\x85\\xb2Q\\xf9\\xa7\\x80\\x1dJ\\xac\\x1e1\\xd4\\xbd\\xd3\\xdc(\\xa1q\\x19m\\xff\\x00\\x0f\\xf4\\x08\\x95a\\xf0\\x03\\x80\\xe06\\x00X\\nX\\x01`\\x81\\xb0\\x02\\xc0\\r\\x80\\x16\\x00\\x1c\\x00\\xcd\\x00-\\x00-\\x00\\r\\x05\\x03D\\x14\\xee\\xd7\\xa5\\x92\\xb5\\x1c\\xa6\\xac\\xb6g-;\\xe1\\xc5\\xde\\xaf\\xc6g\\x9bOV=*3\\x9b\\xa8B\\x1b\\x05C`\\x05\\x82\\x89)\\xad\\xcdF4\\xd1\\xb7[\\xa3\\xb6^}4\\xe8#\\xa4r\\xab\\xf4\\xd1Qf\\x08\"h\\xa2\\x89\\x12*\\t \\x1f\\x00,\\x04\\x0b@\\x04\\x91U\\x1c\\x91\\x04R@E$\\x00\\xb4\\x03`\\x01h\\x06h\\x06\\xc0@\\xb4\\x14\\x12[\\x04V\\xaa\\x82\\xa8\\xd6@>=G\\x99\\xedOJ\\xa3\\xa6\\xf2\\x81c{L\\xd4\\xb7I\\xb3\\xaek\\x86\\xf2\\xec,.\\xd5H\\xad\\xce\\xd2\\xbc\\xfa\\x8dE\\xba\\xc9Y&\\x80\\t #\\x92\\x026\\x80\\t-\\x98\\x1c\\xce\\xb3\\x1d\\xd9\\x8d\\xfao\\x1e\\xd86\\xab\\xf1\\xcf\\x0e\\xde\\xfc6\\x94}\\'\\x17dS@_\\xd3\\xb9G\\xa3\\xc4\\xf3\\xf9\\x9d5\\xaa\\xf4\\xa3\\xdd\\x97\\x82\\xfb]\\x824\\xcah\\xa0\\r \\x1f\\x05\\x0b\\x04\\x0e\\x02\\xc1B\\xc0\\x0f\\x80\\x16\\x00|\\x00\\xb0\\x02\\xc0\\x0f\\x80\\x16\\x00X\\x08X\\x01`)`\\x06\\xc0\\x0b\\x00,\\x04 \\xa5\\x80\\x18\\x00\\x94\\x94V^\\xed\\xf0\\x80\\x89\\xac\\xb7*\\x92\\xc2]\\x90\\r\\xd1\\x16\\xb2\\xd2\\xf9G\\xd8\\x82\\xb5\\xc5Zv\\xf1\\xc4[r\\xf6AU\\'t\\xfa\\x1b\\x9bi\\xe3d\\x96\\xc9\\x04\\x1d*\\x8eK\\x0e\\xa4W\\xceM\\x05\\x1f\\x95E\\xe7\\x13\\xea\\x97\\xd4\\x01\\xf2\\xa9\\xc5\\xe7\\xa9\\xa5\\xf2x\\xc0\\x12\\xaar\\x8a\\xeb\\x84\\xe5%\\xf5O &\\x94\\xbe(b^\\xe9\\x04\\x14[K\\xd34\\xfe\\xa1R\\xc6\\xaao\\xa6^\\x99{0%A\\x0e\\x14\\xb9\\x01`\\x05\\x80\\x1b\\x00,\\x106\\x00X\\x01\\xb0\\x034\\x00\\xb4\\x00\\xb4\\x004\\x004ES\\xba^\\x96J\\xd4r\\xba\\xb2\\xd9\\x9c\\xb4\\xef\\x97\\x13|\\xbf\\x19\\x9e]\\xfbz\\xf1\\xe9I\\x9c\\xdd!\\x82\\x9b\\x05C\\x15\\x08\\t)\\xf2j1\\xa6\\x8d\\xbf\\'|\\xbc\\xfbjP[\\x1d#\\x8d_\\xa6\\x8a\\x8bP@M\\x14TH\\x90A$P\\xf8\\x01`\\xa8f\\x80\\x8eH\\x829 \\xa8\\xa4\\x80\\x89\\xa0\\x05\\xa0\\x05\\xa0\\x19\\xa0\\x07\\x05\\x0c\\xd1\\x034\\x00I\\x01V\\xaa\\x02\\x8dd\\x01t\\xef\\x83\\xcc\\xf7\\x16\\x1e\\x00zUeJ\\xa2\\x92e\\x95,\\xeb\\xab\\xd25\\x1f\\x856u\\xce\\x9e}\\xe1\\xd8Z\\\\\\xa9\\xc5nu\\x95\\xe7\\xb1s\\x94T\\x03@E$\\x04m\\x14\\x0b[2\\x0eoZ[3\\x1b\\xf4\\xde=\\xb9\\xca\\x0f\\x17\\x07\\x87o~\\x1bp~\\x84pwG0.\\xe9\\xdf\\x12=>\\x17\\x9b\\xcd\\xe9\\xd4Z\\xfc(\\xf7e\\xe1\\xd7\\xb5\\xe8\\xa3L&\\x8a\\x00\\xd2(X\\x01\\xf0\\x02\\xc0\\x0e\\x02\\xc0\\x0f\\x80\\x16\\x00|\\x00\\xb0\\x02\\xc0\\x0f\\x80\\x85\\x80\\x16\\x00X\\x01`\\x05\\x80\\x1b\\x00,\\x00\\x80`\\xa6\\x00*TPYl\\n\\xf1\\xf3*7=\\xa2\\xb8M\\xf3\\x801\\xefu\\xcb\\x1b\\'9U\\xb8ME\\xf6y\\xdc\\x9d\\x187\\x1e/\\xb7\\xaa\\xf3\\x0b\\xc6\\x97\\xfe\\xd4W\\xab\\xf5\\'Tv\\x9e#\\xb4\\xa9ZN\\xac\\xdd(\\xa8\\xff\\x00\\x1cp\\xff\\x00Q\\xd0\\xd7Z\\xed\\x85\\x1bo>\\xadhG\\xad\\xe5uK\\x84\\x06u\\xc7\\x8f\\xb4\\xcak\\xf0e*\\x9d]\\xa2\\x94\\x7fp3\\xa7\\xf6\\x8dF\\x13k\\xee\\x11\\x97\\xff\\x00\\xbb\\x90-\\xdb\\xfd\\xa4[\\xec\\x9d\\xa4\\x94_|\\xf0\\x06\\xbd\\x9f\\x8e\\xb4z\\xb2Q\\x9dWI\\xbfu\\xb0\\xe8\\xe8-5+[\\xc4\\x9d\\xb5\\xd5*\\x99\\xddG\\xab\\xb1E\\xbc\\xae\\xa5$\\x92o\\xe7\\xc8\\x12FQ\\x9eb\\xde1\\xcc_+\\xe8\\x01oO\\x1dK1|N?\\xea\\x01\\xc6_\\xcd\\x86\\xbd\\xd0\\x12\\xe0\\x05\\x80\\x16\\x00l\\x00\\xb0\\x03`\\x05\\x82\\x06\\xc0\\x0c\\xd0\\x0c\\xd0\\x02\\xd0\\x00\\xd0\\x00\\xd0U;\\xa5\\xe9fkQ\\xca\\xea\\xcbfr\\xd3\\xb6\\x1cE\\xfa\\xfcfyv\\xf6c\\xd2\\x93G*\\xeb\\r\\x80\\xa6\\xc1P\\xcd\\x15\\x03\\x82\\x89i\\xf2k,i\\xa3n\\x8e\\xf9y\\xb6\\xd5\\xa0\\xb6GH\\xe3W\\xe9\"\\xa2\\xd4\\x10\\x13\\xc5\\x15\\x06\\x90A$PX\\x01`\\xa8f\\x80\\x06\\x80\\x8aH\\x08\\xa4\\x88\\xa8\\x9a\\x00Z\\x00Z\\x00p\\x10\\xcd\\x15M\\x82\\x06\\xc0\\x01$\\x05Z\\xa8\\n\\x15\\x90\\x13F=G\\x91\\xf4\\x0e\\xe0:\"\\x94\\n\\x9cOk^T*-\\xf6,\\xbcgY\\xeb\\xb0\\xd2\\xf5\\x1e\\xa4\\x93gl\\xe9\\xe6\\xde\\x1d5\\xbdu8\\xad\\xce\\xce\\x16\\'eDr@F\\xd0@\\xb5\\xb0W9\\xad-\\x99\\x8dzk>\\xdc\\xc5%\\x8b\\x93\\xc3\\xb7\\xbf\\r\\xbak\\xd0y\\xde\\x80\\xcd\\x01sN\\xf8\\x8fG\\x85\\xc3\\xcd\\xe9\\xd4\\xda|(\\xf7\\xe5\\xf3\\xf5\\xedz\\x08\\xd3\\t\\xa2\\x8a\\r \\x1f\\x00>\\x00@,\\x00\\xf8\\x01`\\x07\\xc0\\x0b\\x01\\x0b\\x01O\\x80\\x16\\x00|\\x04,\\x00\\xb0\\x02\\xc0\\r\\x80\\x16\\x00`\\x18\\x01y_@\\xa8k\\\\B\\x8d797\\x84\\x07%\\xad\\xf8\\xdbN\\xd1\\xea~4\\xfc\\xdb\\x84\\xb2\\xa9\\xc7\\xf8~\\xa6m\\x1c\\x1e\\xab\\xf6\\x9fuy\\tR\\xa1\\x0f*\\rc)\\xeeN\\xab\\x99\\xa9\\xac\\xd4\\xaf\\x16\\xea\\xd5\\xca^\\xef\\xfd\\x00\\xa7SQ\\xa7\\x18\\xb7N2\\xf96\\xf1\\xb8P\\x7f\\xe2\\x1b\\xb5\\x15\\x14\\xe2\\xd2\\xf9e\\x8e ?\\xb5\\x15G\\xd7^\\x10\\x9c\\xbf\\xc4\\xf284\\xed\\xf5\\r!B>e*i\\xbe\\x7f\\r\\xbc~e\\x07+\\xed\\x0e2\\xcc\\x13\\x8b|z\\x1e\\xc0<\\xf5M:\\xa3\\xc4\\xea\\xc6q\\xe3\\x12\\x8f\\xfc\\x01\\x17\\xdd\\xb4\\xcb\\x9c\\xca\\x9d\\xc2\\xa77\\xc6%\\x84\\xc0\\x17\\xf7\\xdb\\n\\xaaV\\xd73\\xf4\\xf1\\xbb\\xfd\\x98\\x1dV\\x85\\xf6\\x89sl\\xa3KU\\xa7:\\xd4\\xd6\\xca\\xa4_\\xa9\\x7f\\xb8\\x1e\\x87\\xa4\\xeb\\xfa~\\xb1M}\\xd6\\xe2.K\\x8c\\xbcJ?T:6)\\xd7PX\\xaa\\xd2\\xcf~\\xcf\\xf3(\\x9e.3[?\\xcc\\x07\\x8c\\x9c^\\x1e\\xe0J\\xb7\\x08p\\xa5\\x80\\x1b\\x00,\\x00\\xd8\\x01\\xb0@\\xd8\\x01\\x9a\\x00Z\\x00\\x1a\\x00\\x1a\\n\\xa9r\\xbd,\\x95c\\x96\\xd5\\xa3\\xe9\\x91\\xc7N\\xf8p\\xda\\x82\\xfcfyv\\xf6\\xe3\\xd2\\x8bG\\x1a\\xeb\\x0c\\x025\\x10,\\xa1\\xb0\\x11%>Me\\x8d4m\\x97\\x07|\\xbc\\xfbk[\\xa3\\xacp\\xad\\nH\\xa8\\xb5\\x04\\x04\\xd1ED\\x89\\x15\\x04\\x90\\x05\\x80\\x16\\n\\x81h\\x01h\\x08\\xa4\\x80\\x8aH*) \\x01\\xa2\\x06h\\x01\\xc1P\\xd8\"\\x87\\x01\\x0c\\xd0PI\\x01V\\xaa\\xd8\\n\\x15\\x90\\x13\\xc7fy+\\xdf\\x125\\x94E\\x07A@\\xca\\x98\\x16l\\xee\\xa5Bi6k7\\x8ck=u\\xdaf\\xa2\\xa4\\x96\\xe7|\\xe9\\xe4\\xde]\\r\\x1a\\xca\\xa4y:\\xc7\\x11\\xb2\\x80h\\x01h#\\x9e\\xd6\\x97\\xa5\\x98\\xd7\\xa6\\xf3\\xed\\xcb\\xd2_\\xf5+\\xeaxv\\xf7\\xf8\\xdb\\xb4\\xe3\\xe8G\\x07\\xa0\\x15\\x11\\x95Y\\xd3\\xfe4z<>\\xde\\x7f7\\xa7Si\\xf0\\xa3\\xe8e\\xf3\\xf5\\xed~\\x08\\xd3\\t\\xa2\\x8a\\t\\x00X\\x01`\\x05\\x80\\x1f\\x00,\\x00\\xf8\\x01`!\\xc2\\x96\\x00X\\x01\\xf0\\x02\\xc0B\\xc0\\x0b\\x00 \\x10\\x0c\\x030\\xa8\\xdc\\xdf\\xf0\\xa5\\xf5`W\\xadV0\\xcejuO\\xeb\\xb2\\x03\\xcc\\xfcg\\xe3\\x8av\\x1ee\\xad\\x85N\\xbb\\x94\\xf0\\xea7\\xb4~\\x8b\\xdc\\xc5\\xab\\xc7\\x93\\xd7\\xb8\\xad{^U\\xabT\\x9c\\xe4\\xdee&\\xc0\\xafR\\xa4c\\xf0\\xc5d\\x08z\\xdb`;\\xad&\\xba\\x14\\xbd>\\xc0\\x157O\\x89G\\xf3\\xc6J,\\xc2\\x85)p\\x9b\\xfa\\x01?\\xdc\\x12\\x8fR\\xb6r^\\xfdy\\xfd\\x80zV\\xb3O\\xa5G\\xa5?\\x92\\xc3\\x02\\xd5\\x08N\\x9dm\\xd4\\xdc~^\\xa8\\x81\\xb5F\\x92\\xb9QN4\\'\\x95\\x85\\xd3\\x14\\x82\\x9e\\xb6\\x9f\\x086\\xfc\\x9a\\xd4\\xf7\\xf8\\xb7\\xe9\\xfdPFM{8\\xceo\\xcb\\x8c\\xb3\\xfe\\x14\\x044kW\\xd3\\xee#:5%\\n\\x91{J\\x0f\\x0c\\x8a\\xf4?\\x0e}\\xa3BJ\\x16\\x9a\\xbe)\\xb7\\xb2\\xad\\xd3\\x98\\xbf\\xf3.\\xdfQ\\xd4z\\x15\\xb5{j\\xb0\\x85ZSIK\\x89E\\xe53B\\xee6\\xe9{>\\xcc\\t\\xa3\\xbcS\\xef\\xdc!\\xc0p\\xa5\\x80\\x85\\x80\\xa5\\x80\\x1b\\x00\\x0bD\\r\\x80\\x05\\xa0\\x05\\xa0\\x01\\xa0\\xaa\\xb7+\\xd2\\xc9V9}Z>\\x99\\x1ct\\xef\\x87\\t\\xa8\\xaf\\xc6g\\x93\\xc8\\xf6\\xe3\\xd3>H\\xe3]`GT\\x8d!\\x99P\\xc0IMz\\x8d\\xe5\\x8d4\\xad\\x97\\x07|\\xbc\\xdbk[\\xa3\\xacq\\xad\\nh\\xac\\xadA\\x014QQ*EA$\\x03\\xe0\\x05\\x82\\xa1\\x9a\\x00\\x1a\\x029 \"\\x92 \\x8aH(\\x1a(\\x16\\x80\\x16\\x82\\x19\\xa0\\x19\\xa2\\x06\\xc1U\\x1c\\x91\\x05j\\xa8\\x0c\\xfa\\xe8\\x0b\\x1d;\\x1eg\\xb4\\xc9\\xe1\\x99\\xe3R\\x8d\\x11\\xa3\\xb4\\x04S\\x888\\xb7cy*U\\x12l\\xdet\\xe5\\xbcu\\xd7\\xe9\\xd7\\xeaQ[\\x9e\\x9c\\xe9\\xe4\\xdex\\xdc\\xa7QN\\'G#\\xb0\\x86`s\\xfa\\xd2\\xf4\\xb3\\x1a\\xf4\\xde}\\xb9h\\x7f\\xe6W\\xd4\\xf1m\\xee\\xf1\\xb7i\\x7fv\\x8f5zQ\\xd5\"\\xa7\\xd3\\xdf\\xac\\xf4x}\\xb8y\\xbd:\\xbb?\\x85\\x1fC/\\x9d\\xafk\\xf04\\xc2h\\x94\\x1a@>\\x00X\\x01\\xc0X\\x01\\xf0\\x02\\x01\\xf0\\x10\\x80@>\\x00@>\\x00X\\x01`\\x06\\x01\\x98\\r/Jm\\xbc\\x05C\\xd3:\\x8f\\x1dN1\\\\\\x81V\\xee\\xe24\"\\xe3M)K\\xdd\\xef\\x80<\\xdf\\xc6\\xde2ze\\ti\\xf6\\x93_{\\xa9\\xfd\\xe4\\x94\\xb2\\xd1\\x9bW\\x8f/\\xa5o;\\x8a\\x8e\\xbdo[\\x96\\xfe\\xf9dT\\x17\\x9dk\\xd3\\xf0\\xa5\\xc2\\x03>Qx\\xcb\\x07\\x11\\xee\\x10\\xf1\\xc6w(\\xbbJQP\\xcfN\\x7f\\xcc\\xc0\\x91\\xdcS\\x8c\\x96c\\x18\\xe3\\xd8\\x0b\\xb4/\\xe9\\'\\x18+\\xba{\\xff\\x002x_\\xb0U\\xba\\x1a\\x8ca<\\xbb\\xba.[\\xe6I~\\xbc\\xa0\\x8b\\x94\\xedl\\xee=r\\xac\\x9boiF\\xa8\\x16jXP\\xf2\\xe2\\xa1Z.\\xaa\\x7f\\x0e2\\xda\\xfa\\xec\\xc0*\\x8e\\xad\\x04\\xe9\\xba\\xb0\\x92\\xf6\\xe7\\xfeQD\\x177\\x94\\xe6\\xa3\\xe6PT\\xe4\\xbb\\xae\\xff\\x002\\x0c\\xea\\xf8\\xa8\\xb2\\x9f\\\\}\\xc0\\xa3V\\x0f\\r-\\xd2\\xe7 mxs\\xc6\\x17Z\\x14\\xfc\\x8a\\x89\\xd6\\xb3\\x97\\xc5NOx\\xfc\\xe2\\xc8\\xafc\\xd0\\xf5\\xcbm^\\xde\\x9dJ\\x15z\\xa9\\xbe\\x1c\\x9e\\xf9\\xf6e\\x95\\x1d\\x0c^%\\x8fr\\xa0\\xc0AH\\x07\\xc0\\x0b\\x006\\x00l\\x103@\\x0b@\\x03@\\x03AU\\xae\\x17\\xa4\\x95c\\x99\\xd5c\\xe9\\x91\\xcbN\\xf8pz\\x9a\\xfcVx\\xfc\\x8fo\\x8f\\xd32H\\xe1]\\xa0XS\\x1a\\x88b\\xa1`\"J\\x7f\\x11\\xbc\\xb1\\xa6\\x9d\\xb2\\xe0\\xf4e\\xe7\\xdb^\\xdd\\x1dc\\x85hSEef\\x08\\t\\xe2\\x8a\\x89\\x12*\\t\"\\x87\\xc0\\x0f\\x80\\x86h\\x00h\\x08\\xe4\\x80\\x8aH\\x08d\\x82\\x87\\x01\\x02\\xd1\\x14-\\x143@\\x0e\\x08\\x86h\\x00\\x92\\n\\xabUl\\x06}t\\x05\\x85\\xba<\\xcfh$\\x08Q\\x97c5\\xd2$O$S2\\x08Z\\xc3\\xca\\xe4t\\xb1\\xa7\\xa7_8I&\\xce\\xb8\\xd3\\x86\\xf0\\xeb\\xac/T\\xd2\\xdc\\xf4\\xe7O&\\xb3\\xc6\\xbcd\\xa7\\x1c\\xa3nga\\x18:\\xca\\xf43:\\xf4\\xd6}\\xb9H\\xaf\\xfa\\x95\\xf5<>G\\xbf\\xc6\\xdc\\xa5\\xfd\\xda<\\xd5\\xe9\\x80\\xaaF\\x92\\xe9\\xff\\x00\\xde\\x1e\\x8f\\x0f\\xb7\\x0f7\\xa7Ye\\xf0\\xa3\\xe8e\\xf3u\\xed\\xa3\\x13L%\\x89A\\xa0\\x1c\\x07\\xc0\\x08\\x07\\x01`\\x07\\x08@ \\x1f\\x00 \\x16\\x00p\\x16\\x00@3\\x01`\\x08f\\xfa\\xa5\\xb7n\\x02\\xa0\\xb8\\xab\\xd3\\x05N2\\xe9\\xca\\xfc\\xf0\\x07\\t\\xe3o\\x12S\\xd0\\xecTi\\xfa\\xae\\xaa\\xa6\\xa9G;\\xaf\\xf1\\x19\\xb5c\\xc6\\xa3:\\xd7\\x17R\\xad])\\xcaO-\\xc9\\xf2\\xcc\\xabQ\\xb9\\xc6\\x92pt\\xd3Koe\\xfa\\x94g\\xd1\\xb2\\xad\\x7fU\\xf5<\\xc8\\xcd\\xbcjN\\xab\\xdd\\xda*3\\x94v\\xf4\\xf2\\xdb\\x12\\xad\\x8aU#\\x1c,\\'\\x97\\xdd\\x961P\\xb8g|\\x9aAB\\x8eVz\\xe0\\xbe\\xa0\\x15KY\\xc3w(\\xbc\\xff\\x00,\\xb2:\\xbcE\\xd0\\xd7f\\x11b2\\x8b\\x9b\\x9c\\x9e\\x1b\\xe7\\xaa;\\x01\\xa1mgV\\xabN\\x8a\\xa3R/\\xdf\\x19\\xfd\\xc0\\xd8\\x85\\x1a\\xd1QN\\x9d\\xcd\\xbdH\\xff\\x00#\\xea\\x87\\xd7\\x0f\\x80 \\xb9\\xa5w4\\xaa:\\xd1\\x93\\xe3\\x1f\\x0c\\xbfLnQZN\\xe3\\xa7\\xaap\\x94\\xa9\\xa5\\xf1g)\\x7f\\xb1\\x04p\\xab*~\\xbas\\xcey\\x8f\\xb8\\rZ\\xa4jE5\\xe9\\x7f\\xf7\\xc8\\x15%\\x85\\xc6\\xf1}\\xbd\\x88\\xado\\x0f\\xeb\\x97:-\\xecjR\\x97U)mR\\x9b\\xe2H\\x0fp\\xd0\\xb5\\xfa\\x1a\\x8d\\x8d+\\x8a\\x15\\xfc\\xdaY\\xe9j\\x7f\\x1d7\\xec\\xcb*:H\\xcb+\\x7f\\xc8\\xa85\\xc0\\x0b\\x1b\\x05>\\x00X\\x01\\xb0\\x03`\\x80Z(f\\x88\\x01\\xa0\\x05\\xa0\\xaa\\xd7\\x0b\\xd2\\xc5X\\xe6\\xb5X\\xfadq\\xd3\\xb6\\x1c\\x16\\xa8\\xbf\\x14\\xf1\\xf9\\x1e\\xef\\x1f\\xa6T\\x8e\\x15\\xde\\x01\\x91H\\xd2\\x11P\\xc5J\\x92\\x9f&\\xb2\\xc6\\x9av\\xcb\\x83\\xd1\\x97\\x9bm\\x8bu\\xc1\\xda8V\\x854VV\\xa0\\x80\\x9a(\\xa8\\x91\"\\xa0\\x92\\x00\\xb0T,\\x00\\xd8\\x00Z\\x02) #\\x92 \\x86H\\xaa\\x06\\x80f\\x80\\x16\\x88\\x81h\\x06\\xc1@\\xe0\\x80d\\x82\\xaa\\xd6@gW@(\\xcfc\\xca\\xf7\\x1aR/R\\x06,\\xcdn&R\\xd8\\x8d\\x13\\x91\\x95\\x0b\\xdc\\x1c2n\\x12\\xeaBT\\xb1\\xb7\\xa7_8\\xb4\\xb2w\\xc6\\xde\\x7f&\\x1dU\\x9d\\xe2\\x94V\\xe7\\xa35\\xe4\\xd6x\\xd1Ub\\xd6rm\\x86\\x1e\\xb3V=\\x0fs:k3\\xed\\xcbC\\x0e\\xe1?\\x99\\xe1\\xf2=\\xde6\\xed?\\xee\\xd1\\xe6\\xafLCU\\x91\\xa4\\xb6\\x0f\\xf1\\x0e\\xfe\\x1fn\\x1eoN\\xb6\\xcb\\xe1G\\xd1\\xcb\\xe7o\\xdbJ(\\xd3\\x9aX\\x94\\x1a\\x01\\xf0\\x03\\x80\\x80p\\x16\\x00|\\x00\\xf8\\x01`!`)\\xf0\\x02\\x08@,\\x00\\x98\\x0b\\x18\\n\\n\\x8f\\xa6\\x0f\\xdf\\x84\\x05|\\xa8\\xa6\\xe4\\x07?\\xaek4\\xf4\\xab\\x1a\\xf7\\x95p\\x9a[g\\xdf\\xd8\\x96\\xf0|\\xff\\x00\\xadk\\x15\\xf5\\x9dJ\\xad\\xdd\\xc5F\\xfa\\x9f\\xa5{.\\xc6\\x1aG\\xa6\\xce\\x9b\\xbaK\\xa2ue\\xda1\\x8f\\xf5\\xc9GGZ5\\xdd5\\'B\\xde\\x94Z\\xc6\\x14V?\\xfc\\x99\\xb5\\xb9\\x16\\xec\\xec\\x17\\xdd\\xe7V\\x9e\\xef\\x1c\\xf4\\xec\\x9f\\xcc\\xe7k\\xaer\\xce\\xbd\\xb2\\x85\\xb2r\\x9ci\\xd7\\xaf\\xc3\\x8a\\x8b\\x9b\\xcf\\xd1l\\x84\\xa9g\\x1c\\xddzu\\xe3)y\\xf4*G\\xe4\\xdfJ_\\x91\\xd29UYS\\xf3\\'\\xe9\\xa5\\x85\\xec\\xa4\\xdf\\xf54\\xc9\\xa7o8I/*QX\\xcf\\r\\x94<\"\\xe2\\xf1\\x86\\xbeOl\\x81r\\xde=\\x9d\\x1a\\x12\\xcb\\xcb\\xeaM\\xe3\\xf7@_\\xa1V\\x956\\xe3+;Y\\'\\xdaq\\x94_\\xea\\x98\\x12P\\x85ZN5!k\\x16\\xf3\\xb3\\x8b{|\\xb7\\xff\\x00p:;\\x1dN\\x95\\x07(^\\xd9J5\\x9a\\xcc]X\\xfc/\\xe5\\x80\\x8b\\x97Z\\x95\\xbd{g\\x1f\\xbb\\xdbU\\xa7\\xb7\\xa5\\x94s\\x97]\\x11\\xab\\x19Q\\xa9*-?\\x87<~~\\xdf&EU\\x95\\x8d;\\x8ar\\x9a\\xab\\x1au\\x17\\xf1\\xc7\\x89?f\\x80\\xcc\\xb8\\x84\\xe8\\xc9\\xd3\\xac\\x92\\x97)\\xc7\\x86\\xbd\\xc2+T\\x8e\"\\xa4\\xb8`G\\x1a\\x98\\xe7\\xb1\\x15\\xd2xg\\xc45\\xf4{\\xe8\\xd5\\xa7.\\xaar\\xda\\xa4\\x1f\\xf1\"\\x0ft\\xd1\\xb5JW\\xb6t\\xaa\\xdb\\xcb\\xaa\\x9c\\xd6Ro\\x86jTl\\xd3\\x9ev\\x96\\xcc\\xa2\\\\\\xa0\\x1f\\x00,\\x00\\xd8\\x01`\\x80pP\\xcd\\x10\\x0b@\\x03AU\\xeb\\xafK\\x0b\\x1c\\xde\\xab\\x1fL\\x8eZv\\xc3\\x81\\xd5\\x97\\xe2\\xb3\\xc7\\xe4{\\xbcl\\x99#\\xcf]\\xe26\\x88\\xa4j!\\x140A\\xd3\\xe4\\xd6X\\xd3R\\xd7\\xb1\\xe9\\xcb\\xcf\\xb6\\xcd\\xb2\\xd9\\x1d\\xa3\\xcdZ\\x14\\xd1YZ\\x82\\x02h\\xa2\\xa2D\\x8a\\x83H\\xa1\\xf0\\x02\\xc0Bh\\x00h\\x08\\xe4\\x80\\x8aH\\x08\\xa4\\x80\\x06\\x82\\x85\\xa0\\x05\\xa0\\x19\\xa0\\x81h\\x06\\xc1\\x00I\\x15Uj\\xad\\x883\\xab\\xa0\"\\xc7\\xb1\\xe4{\\xcb\\x19\\x07\\t,\\x05\\x16B\\xcaM\\x99\\xadBL\\xca\\x8d,\\x85\\x14f\\xe9K(\\xb2\\xb1cb\\xcfR\\xe9Ks\\xd1\\x9d\\xbc\\xdb\\xc3V:\\xb2Q\\xf8\\x8e\\x93nW\\xc6\\xc6\\xd5u.\\xbe\\xe4\\xd6\\x89\\x85\\x0b:\\xdeeD\\xcf/\\x92\\xbd>8\\xe8\\xa9\\xcf\\xf0\\x91\\xe6\\xafT\\x88*Md\\x8a\\x96\\xc2_\\x8aw\\xf1{q\\xf2\\xfav\\x16?\\n>\\x8e_3~\\xda\\x906\\xe6\\x96%\\x06\\x80 \\x10\\x0f\\x80\\x10\\x0e\\x02\\x01\\xc0X\\x08|\\x05 \\x10C\\xe0\\x05\\x80\\x1b\\x05\\x0b\\x04\\x10Vk;\\xf0\\xb7\\n\\xa5q7\\x1a\\x0eOi\\xcf\\x8f\\xf0\\xa6\\x07\\x87}\\xa2\\xf8\\xa2:\\x96\\xa2\\xec\\xedf\\xdd\\xbd\\x0fF\\xcff\\xfb\\x9c\\xef\\xddj<\\xfd\\xc9\\xcaYl\\xa3wE\\xb4u\\xa5\\xd0\\x9e \\xfdS\\x9fV8\\xed\\x8eH\\xb1\\xd2SQ\\xa7\\x88\\xb5\\xd7\\x0c\\xe3tb\\xbae\\xd2X\\xd5\\xb6\\xb7\\xd3\\xeaI\\xc3-\\'\\xd1\\x0e\\xac.;\\xafc\\x8d\\xf6\\xf4ONCW\\xb9\\xabR\\xac)\\xfd\\xe2\\xb4\\xa3\\x1c\\xc9S\\xa5\\x95\\x1d\\xfe_\\xeeo.zs\\x15\\xe9\\xcau\\xa5&\\xa7\\x89I\\xe1<\\xc9\\xfd3\\xdc\\xeb\\x1c\\xacX\\xb6R\\x8aJ6\\x91\\x9f\\xbb\\xa9K%\\xeb<\\\\\\xa3s\\x84\\xd5YZ\\xd3\\x92\\xd9EZ\\xc5m\\xf5/Y\\xe2\\xe5\\xaduY%7l\\xde\\xfd.Mc\\xf4\\xc1E\\x9f\\xba\\xc3)\\xf9vO>\\xd3\\x8e\\xff\\x00\\xa7\\x00[\\xb6\\xb4\\xa1\\xd5\\x99F\\t\\'\\xf0\\xe63\\xcf\\xe4Af\\x9f\\x92\\xa4\\xa1\\xe4AC;FQq\\x8c\\xbekv\\x8a \\xbb\\xb9\\x84\\xa9\\xb8F\\x9a]\\x1f\\x0b\\x8c\\xf3\\xfb`#\\x9f\\xba\\xeaS\\xfc\\x1a\\x94z\\xbd\\xa9\\xae\\x96\\xfe\\xa8\\n\\xce\\xb4d\\xdc:f\\xaaw\\x83\\x96\\xcd\\xfc\\xb3\\xfd\\x18\\x15\\xa7U.\\xa7\\x06\\xe0\\xfb\\xae\\x1f\\xd1\\xa0#\\xa9u\\xd7\\x08\\xc6\\xa7\\xab\\x1c?`\"m:n\\t\\xf7\\xca\\xcfp+\\xcb`\\n\\x9c\\xdc\\x1eS\\xc3[\\xa2\\x0e\\xf3\\xc1~\\'\\xfb\\x8d\\xc4hU\\x9b\\x8d:\\x8do\\x9d\\xa3/\\xf6\\'\\xa1\\xed6W^}(\\xb5\\xc9\\xa1z2r\\xdf\\x87\\xed\\x8eJ$\\x8a\\x93\\xdd\\xbd\\xbd\\x80,\\x00\\xb0\\x03`\\x06h\\x80Z\\x00Z\\x00\\x1a\\x02\\x1a\\xcb\\xd2\\x1a\\x8ewT\\x8f\\xa6G-:\\xe1\\xe7\\xfa\\xba\\xfcFx\\xfc\\x8fw\\x8d\\x8f#\\xcf^\\x88\\x06eM\\x83P,\\x1aC\\x00t\\xfe#YcM[U\\xc1\\xe8\\xc3\\xcd\\xb6\\xcd\\xb2\\xd9\\x1d\\xa3\\xcdZ4\\xd1\\xa6V`\\x8a&\\x8a*$H \\xd2(|\\x04>\\x00f\\x80\\x16\\x80\\x8eH\\x08\\xa4\\x80\\x8aH\\x00h\\x00h)\\x9a\\x08\\x16\\x88\\x05\\xa2\\x86h\\x00\\x92\\xd8\\n\\xd5V\\xc4Vmu\\xc8\\x11\\xa4x\\xdf@\\x9a(l\\x14?I\\x035\\x82qa\\xd2%\\x8dJ\\x9a(\\xcf\\x1a\\x0c\\xcdFj8\\xb6\\x9e\\xcc\\xbdc\\x89]J\\x89r\\xc7O\\x8b6\\xee\\xadF\\xf7c\\xac\\xdc\\xadi\\x92\\xf5#\\x9e\\xdb\\xc4t\\x8ax\\xa4pwU\\x9dIdD]\\xd3d\\xddS\\xb7\\x8f\\xdb\\x9f\\x93\\xd3\\xb4\\xb0\\xf8Q\\xf4p\\xf9\\x9b\\xf6\\xd6\\x87\\x07W$\\xb1\\x00\\xd0\\x04\\x02\\xc0\\x0e\\x03\\x80\\x82\\x1c\\x04\\x03\\xe0\\x05\\x82\\x85\\x80\\x1f\\x00 \\x10\\t-\\x80g\\xb2 \\xadSu&\\xfd\\x82\\xb8O\\x1f\\xeb\\xee\\xc3M\\xadB\\x94\\x9cjJ8\\xea_\\xd0\\xce\\xaa\\xc7\\x81W\\x9b\\x9c\\xdc\\xa4\\xf2\\xdb\\xcb3\\x14T\\xe8\\xb8\\xc1Nky|+\\xfdJ64\\xba\\x9e]H\\xa5Z0\\xfeiq\\x8f\\xcc\\x8a\\xea\\xed\\xeaP\\x8cc+z\\xf4\\xeaO;\\xac\\xef\\xfa\\x99\\xb1\\xb9V(\\xddy\\xb0t\\xdd\\xbcv\\xeaM\\xae7\\xf7\\xdc\\xe7c\\xb6j\\xf5\\r:\\x9d\\xe5\\xb6\\x1a\\xa7F\\r\\xfe$a\\x1cq\\xc6{w\\xee\\xce}\\xe3\\xa7\\x15/\\xfc;R\\x858\\xca\\x9at\\xd4\\xb8\\xe9\\x82o\\xfe\\rM%\\xcf\\xf8\\xe6n\\xf4+\\xe5W\\xa3\\xaaq\\xa77\\x86\\xfas\\x9f\\xa7\\xcc\\xe95\\x1c\\xae*\\x9dO\\x0b\\xdd\\xc6n0U%,g\\x1b6\\xd7\\xbe\\xc6\\xbel_\\x1dU\\x95\\x85\\xed\\x9e\\xd3\\x8e\\x12\\xf7\\x8a\\xd8\\xd4\\xac\\xdc\\xd4\\x94n1$\\xbc\\xcat\\xe5\\x17\\xdeY_\\xba/Y\\xe3R\\x14\\xee*\\xd3\\xfb\\xc5:\\x94\\x9e;\\xc3\\x11\\xcf\\xd7u\\xb88\\x86\\xe2\\xea\\xea\\x82\\xfcJU\\x92[\\xe3\\xcc\\xdb\\xf6*!\\x95\\xe5\\x9d\\xc4#\\xd7sR\\rv\\x9c3\\x8f\\xcd\\x7f\\xb0\\x0fM\\xd5\\x9cqO\\xcb\\xba\\x82Y\\xe9Me}\\x00\\xcd\\xaf\\x18I\\xb9)N\\x9c\\x9b\\xd9M?\\xeb\\xd8\"\\xbc\\xe7*\\x94\\xdb\\x94c)C\\x9e\\xd2\\xc7\\xbf\\xcd\\x01Y\\xb8\\xcb\\xe1\\xfd\\x00o6P]/x\\x80\\xfdJ[~\\xe0\\x0bX\\x02ZU]<4\\xc8=c\\xc0\\xfe0\\xa7:4\\xedn\\xaa5(\\xe1E\\xb1\\xe8z\\xad\\xb5UQ\\xf4\\xb6\\x9eVc%\\xdc\\xd0\\xb4\\xb9\\xc3\\xe4 \\xb0\\x02\\xc0S0\\x07\\x04\\r\\x80\\x05\\xa0\\x01\\xa0\"\\xac\\xbd!\\\\\\xf6\\xa7\\x1fK9\\xe9\\xdb\\x0f>\\xd6V*3\\xc7\\xe4{\\xbcLYry\\xab\\xd1\\x01\\x83-\\x1f\\x06\\xa2\\x13F\\x90-\\x01%5\\xea5\\x18\\xd3R\\xd5pz0\\xf3m\\xb5l\\xb6Gx\\xf3i\\xa1M\\x15\\x95\\x98\"\\x89\\xa2\\x8a\\x89\\x12\\x084\\x8a\\x1f\\x01\\x0f\\x80\\x1b\\x05\\x02\\xd1\\x00I\\x01\\x14\\x90\\x10\\xc9\\x00\\r\\x00-\\x00-\\x00\\xcd\\x00-\\x00-\\x05\\x04\\x91\\x05z\\xab`3n\\x10\\x11\\xe3+c\\xc8\\xfa\\x06`\\x08\\x04\\x8a\\x13D\\x0f\\x14\\x16T\\xa9`\\x8b\\xd4sDSB\\r\\xb2ux\\x99\\xc3\\xd2C\\x8c\\xdb\\xbaF\\x98\\xb1.\\x9d\\x1e\\x99#\\x1b\\\\\\xba$\\xd3\\xa7\\xcfc\\x87\\x1d\\xba\\xad6\\xb2T\\\\\\xd3\\xa4\\x95dt\\xf1\\xfbc\\xc9\\xe9\\xdbi\\xdf\\x02>\\x96=>g\\x93\\xdbb\\x1c\\x1d\\\\R\\xc4\\t\\x10\\x0e\\x03\\xe0\\x04\\x03\\x80\\xb0\\x10\\xe0 \\x1c\\xa1\\x10>\\n\\x10\\x08\\x04\\xd0\\x08\\x00\\xa8\\xf1\\x12\\n7\\xf5\\xd5\\xad\\xa4\\xaa\\xcb\\x85\\xfd[\\n\\xf0\\x8f\\xb4]Y\\xd6\\xd4\\xfe\\xeb\\x19ut\\xb6\\xe6\\xd3\\xdb>\\xc7:\\xd4pK\\x0e{\\xf0\\x01V\\xae\\xeaO9\\xfd\\n\\'\\xb7\\xb7s\\xe9u$\\xa2\\xb9\\xc3\\'W\\x8e\\xabLt\\xa1\\x1cu(\\xd4k\\x11I\\xef/\\xd3\\x18\\'[\\x91\\xb9B\\xd6pS\\x94c\\x08\\xc1a\\xcar\\x8a\\xca\\xcfd\\xda\\xfe\\x86+\\xaeb\\xc2\\xb8\\xba\\x9c\\xa3\\x1bu\\xd54\\xf3\\xea\\xcc\\xb1\\xf5\\\\\\x1c\\xaf\\x1dgo\\xa7C\\xa7i\\xf7T\\xe8F\\xb5\\xfd\\xcb\\xc2\\xf5\\xfa\\xa3\\x9d\\xf9\\xc2\\xdf\\x7f\\xc9\\x1c\\xedu\\x99\\xe7\\xb5\\x9a\\x971\\xbcqUa\\x1av\\xf0n[\\xad\\xe4\\xfe\\x8b\\x8f\\xd4\\xb2\\x97-h\\xd8[j\\x16\\xb0\\x8ch*T\\xde\\x14\\x94r\\x9c\\x97\\xcd\\xad\\xff\\x00Cr\\xb9\\xd8\\xc5\\xbf\\xf0\\x8c.z\\xe1MSo=IN;Ev\\xc2_\\xeanVl\\x8eZ\\xff\\x00\\xc0\\xda\\xadK\\xaf!F\\x9a\\xa6\\x96SiF)|\\xfaV\\xc6\\xbeI\\xff\\x00>\\xb1\\xe5\\xe1+\\xfb\\x1b\\xb9S\\x87\\x93U\\xae1\\x15\\xfbgt?\\xe9\\x12\\xf8i\\xee\\xb4\\xfdO\\xa5\\xfd\\xe2\\xca\\xe3\\xa3\\x87*p\\x8e\\x1f\\xe6\\xa2\\x91~q\\x9f\\xf9V=\\xe7\\x87\\xd6T\\xa8T\\xa8\\x93\\xfe\\x1a\\xb0i\\xe7\\xdbu\\x8f\\xdc\\xd4\\xdb\\x17\\xc5Y\\x15\\xac\\xae\\xad\\xdea\\xd4\\xf1\\xc3\\xee\\xbf5\\xc9\\xae\\xb9\\xdc\\xd8\\x8b\\xef\\xf5\\xe1\\x17N\\xe2\\x9by\\xee\\xd6\\x1a\\x7f\\xf7\\xeeVQ\\xba\\xe9\\xb4\\xe9\\xbe\\x97\\xed\\xd9\\x81\\x04\\xd4d\\xdc\\xa1\\xe9}\\xe2\\x10\\xcd\\xa7\\xb3\\x00_\\xa4\\t3\\xd5\\x8fr\\x06k\\x00]\\xd2\\xef%iw\\x1a\\x8b\\xb3\\xe1\\xf0\\xc5W\\xb6\\xf8;\\\\\\x93\\x85\\n\\x15\\xa4\\xe7BxTf\\xf7\\xe8o\\xf8_\\xcb\\xd8Dz\\x04e\\x97\\x87\\xcf)\\xfb\\x9a\\x12\\xad\\xd0B\\xc0\\x0c\\xd0S4\\x00\\xb4@\\xcd\\x00\\r\\x01\\x15U\\xe9\\n\\xc1\\xd4\\xe3\\xe8\\x91\\x8d:\\xe1\\xe7\\xda\\xdc}o\\xeax\\xfc\\xafw\\x89\\x83.O.\\x9e\\x98\\x1c\\x19h\\x8b\\x024\\x81*$\\xa5\\xf1\\x1a\\x8c\\xd6\\xad\\xaa\\xe0\\xf4a\\xe5\\xdbj\\xd9l\\x8e\\xf1\\xe6\\xad\\nh\\xac\\xadA\\x14L\\x91Q\"EA$\\x10\\xe9\\x00\\xf8(l\\x00-\\x00\\x12D\\x11I\\x01\\x14\\x90\\x00\\xd0\\x02\\xd0\\x02\\xd0\\x02\\xd0\\x02\\xd0\\x02\\xd0\\x03$\\x15Z\\xaa\\xd8\\x836\\xe1\\x01\\x059\\x1eZ\\xf7\\nH\\x8a\\x0c\\x05:($\\x80\\x921\\x02E\\x02):y2\\xd4<)\\xe1\\xf0F\\x92\\xf4\\xac\\x10S\\xb8\\xa4\\xa4^\\xa5\\x80\\xb6\\x86%\\x81\\xce\\xb3\\xe9\\xbdkET\\x8e\\x04\\xf1\\xf5\\x9b\\xe4\\xe2g\\xa7e\\xfc%\\xff\\x00\\x8b?\\xf6[\\xb1\\xd3\\xfa*\\xa7\\x83\\xa6<\\\\\\xaco\\xcd\\xd8\\xea\\xac\\xa9\\xf4\\xc5\\x1e\\xbc\\xce<z\\xbdjC\\x83nib\\x04\\x88\\x07\\x01\\xc0@8B\\x01\\xc0|\\x00\\x8a\\x1c\\x04\\x02\\xc0\\x0b\\x00&\\x88\\x16\\n\\x06Q\\xcbD\\x1c\\xbf\\x8a\\xaf\\xd5\\n*\\x1bb-\\xcd\\xe7\\xe9\\xb7\\xef\\x82U|\\xe5\\xac\\\\}\\xe7S\\xafU6\\xe3\\xd4\\xf0\\xdfs\\r3\\xb3\\xdc\\xa0\\xe8\\xc3\\x12M\\xee\\xfd\\x85X\\xd4\\xb6\\xa5)\\xcdI\\xad\\xfd\\xdfc\\x16\\xb5#v\\xd5B\\x93\\xcbo>\\xe9\\xe0\\xcd\\xae\\xb2:+7^\\xbfB\\x8d7*r\\xddg\\xd8\\xc5\\xd3\\xb6r\\xeb4\\xebx[RR\\x9d\\x189,\\xb4\\x9c\\xbd+\\xf48\\xda\\xef\"\\xfa\\xa6\\xaf\\xe7\\xd5V\\xa3i\\x7f\\x0c>\\x15\\xff\\x00$\\xeb\\\\\\xe0\\xa5\\xa6Q\\x82\\xea\\x9caF+\\xbb\\xf5I\\xfey\\xe7\\xe8\\x0e\\x02\\x9e\\x97^U\\xb3AJ\\x9c\\x1f\\xf1Mfr\\x7f%\\xd8\\xb2\\xb3cn\\xd6\\xce\\xa5\\x85\\xb7JN\\xa5Lg\\x13\\x96\\xf9\\xf7x\\xff\\x00s\\xa4\\xbcs\\xb3\\xb5b\\xd6\\xce\\xa5Y\\xb9\\xce\\x94\\xa5)o)I\\xf3\\xec\\xb1\\xd9|\\x84\\xed/\"\\xef\\xf6E\\x17\\x14\\xe5J.]\\xd3Y\\xfe\\xa6\\xb8\\xcf\\xc9^z%%\\xd4\\xe9u\\xd1\\xca\\xde1~\\x99}S\\xd9\\x93\\x87\\xc9\\x93{\\xe1\\x8a5\\xe9M8\\xc5\\xa7\\xbe\\xd1\\xc6\\xff\\x00C-\\xf5\\xcc^\\xf8F\\xdet%J\\xac%Me\\xf4\\xcb\\xa7\\xaa\\x1f\\xee\\x84\\xd5\\x8bs/\\xd5qZ\\xdf\\x81.`\\xa5V\\x8aU`\\xf8pyO\\xf37\\x9f/\\xfa\\xe3\\xbf\\x07\\xf8\\xe1/4\\xaa\\xd6\\xd2yO\\xe8\\xd6\\x19\\xdanW\\x9b^;\\x14d\\x9ax\\x92\\xc1\\xae\\xb9\\xf0\\x93\\xec\\xca\\x84\\xf6x\\xe5\\x01b\\xcdf\\xee\\x82\\xe7\\xd6\\xbf\\xa9\\x04m\\xfa\\x9b\\xec\\xd8\\t<\\x01\\xdf\\xf8\\'V\\xf2\\xa4\\xed\\xeaa\\xd3q\\xfd7\\xe7\\xf2x\"\\xbd\\xb6\\xca\\xa7\\x99IG-\\xbe\\x958\\xb3h\\xbfN}K\\x0ff\\x11 \\x0c\\x14\\xcc\\x06\\xc0\\x02\\xc0\\x16\\x88\"\\xa8\\xbd!X\\x9a\\x92\\xf4\\xb3\\x1at\\xc3\\xcfu\\xd5\\xeag\\x93\\xca\\xf7x\\x9c\\xec\\xb9<\\xb5\\xea\\x860\\xd12\\x81f\\x90\\xc5D\\xb4\\xbe\"\\xc6t\\xd6\\xb5\\xeczp\\xf3m\\xb7l\\xb6;G\\x9bM\\nH\\xd3\\x0b0E\\x13E\\x15\\x06\\x91Ph!\\xf0\\x03\\xe0\\xa1\\xb0\\x00\\xb4\\x004\\x04RD\\x11I\\x00\\r\\x00-\\x00-\\x00-\\x00-\\x00-\\x002@V\\xaa\\xb6\\x036\\xe1\\x11T\\xe2\\xf0y\\x9e\\xe4\\xa9\\xf5\"U\\x86k\\x0c\\x8ax\\xad\\xca%Q\\x02D\\x80=\\x89TI\\xa6f\\xb5\\x05\\x94E\\x04\\xa4J\\xa8&\\xf2N\\xaf\\x03Ibf\\xa5cQ\\xd1i\\xb0r\\xc1\\xe8\\xc4y|\\x8e\\x8a\\x8d\\xaa\\x9cV\\xc7y\\x1e[\\xaa\\xb9J\\xd1E\\xf0k\\x8c\\xf6\\xaf\\xd2\\x82\\x8a*-D\\xa8\\x96 H\\x80p\\x1c\\x04\\x03\\x848\\x08\\x07\\x01`\\xa1\\xc0D\\x0b\\x05\\x0e\\x02\\xc0\\r\\xc0\\x0c\\xc8<\\xaf\\xc7\\x97\\xf2\\x8d\\x1b\\xe9u.\\x85\\x1e\\x98\\xbf\\x9f\\x7f\\xf43Z\\x8f\\x0f\\x9brm\\xf2\\xdf&U\\x1bO\\xa8\\xa8\\xb3B.SX%j:K:4\\xe8\\xd0sq\\\\l\\xfb\\xbf\\x929\\xda\\xed\\x98\\xb1m\\x17Z\\xaaK\\xe1Ow\\xcfW\\xc9/c\\x16\\xbbf;[)*\\x14p\\xe3\\x96\\x97\\xa9c8\\xf6O\\xdf\\xe8p\\xb5\\xe9\\xccm\\xd9RW9\\x9dg)a\\xe7\\xa1\\xbc\\xfeo\\xfd\\xbb\\x19\\xb5\\xb9\\x1d\\r\\x9d\\xb4\\x9cr\\xa0\\xbf\\xc3\\xb6\\x12_\"\\xc4\\xb5v\\x9d\\xb4!S8\\xeb\\xac\\xbf\\x89\\xef\\x85\\xfe\\x85N\\xafS\\xb7\\xe9\\x8ez^_sR1j\\xc5*0O.\\r\\xfeF\\xe4s\\xb5f3\\x94W\\xa2\\x18f\\xa3\\x16w\\xd9\\xe5*\\xce<$_\\xb4\\xe4C(\\xd4{\\xca\\\\{\\x19h\\x12\\xb7\\xcc^d\\xf7\\xf9\\x93\\x8b*\\xa4\\xad\\x9e0\\xbf4\\xd1\\x8e:u\\x9bs\\xa4Q\\x9ee\\x08\\xbark~\\x9e\\x19\\x1a\\x95\\xc3k\\xfe\\x16u\\xe1$\\xa8\\xd3\\xa9\\xcb\\xca\\xf4\\xb5\\xf9\\x7f\\xb7\\xe8Y\\xae\\x1a\\xcc\\xd4y\\x86\\xb1\\xe1\\xe9Z6\\xe7\\x17\\x1f\\xf3#\\xbew\\xd7\\x8f\\xc9\\xe2\\xe3\\x9b\\xafm:2\\xc4\\x93\\xc1\\xd6^\\xbc\\xf7<D\\x9fb\\xb2\\x9a\\xd2]\\x17Po\\x84\\xff\\x00\\xd0\\x00\\\\c\\xb3\\x01\\'\\x94\\xc0\\xd4\\xd1.\\x9d\\xbd\\xfd7\\xfc\\xcf\\x0f\\xe8\\xc9U\\xf4\\x07\\x84\\xef\\xbe\\xfd\\xa3\\xda\\xcf-T\\xa4\\xfa\\x1b\\xf9\\x1a\\x88\\xe9h\\xcb\\xab\\nK\\r6\\x8a,`\\x05\\x80\\x18\\x06`\\x0b@\\x0b\\x02:\\x8b\\xd2E\\x8cMEz\\x19\\x9d:e\\xe7\\xda\\xf2\\xdd\\x9e?+\\xdd\\xe2sr\\xe4\\xf2\\xe9\\xea\\x86\\xc1\\x86\\x8cP\\xcc\\xa1\\xb0TKK\\x93Q\\x8d5\\xad{\\x1e\\x8c\\xbc\\xdbm\\xdb-\\x91\\xde<\\xdah\\xd2F\\x98Y\\x82*%\\x8a*$H\\xa0\\x92\\x08,\\x04,\\x00\\xb0P-\\x00\\x12AQ\\xc9\\x01\\x14\\x91\\x04m\\x00-\\x00-\\x00-\\x00-\\x00-\\x00-\\x01^\\xaa\\xd9\\x81\\x99p\\xb9\\n\\xa78\\xe1\\x9eN\\xbd\\xfc2x\\x08\\x939DhP\\x02l\\xe0\\xa0\\\\\\x80\\x17W\\x04\\x02\\xab\\xe3\\xb9\\x9a\\xdcH\\xaa\\xe4\\xc5j\\x13\\x96I\\xd6\\xb8\\x16\\x02YO#\\xa5\\x8dm>\\xf7\\xa5\\xa4\\xd9\\xdb\\xc7\\xb7\\x9f\\xc9\\xe3\\xeb\\xab\\xb1\\xbbRKs\\xd7\\x9du\\xe1\\xde8\\xd9\\xa5%$trY\\x80D\\xd1(\\x9a \\x1a\\x00\\x80p\\x10C\\x80\\xe0 \\x1c\\xa1\\xc0X\\x01\\x00\\x80p\\x11\\x030 \\xaf.\\x9as}\\x92\\x03\\xc4\\xbe\\xd1\\xae\\x9d=6\\x14\\xf0\\xba\\xeb\\xcf\\xaaO;\\xe391Z\\x8f,\\x9b\\xc6B\\xa3\\x8f\\xb8\\x17\\xac\\xe2\\x9dH\\xe7\\x8eY\\x8a\\xdecmV\\x9dv\\xa3\\x07\\x88-\\x97\\xfb\\x9c\\xeb\\xbe[\\xfaV\\x9b78\\xbe\\xb7\\x08\\xf2\\xe4\\xd6Z\\xff\\x00\\x93\\x96\\xb4\\xf4g.\\xb7L\\xd3\\xe3x\\xf2\\xfa\\xa3B\\x1bB\\x19\\xf8\\x9fy3\\x95\\xae\\xd2:\\xed>\\xca\\x14\\xa9Ea\\xb4\\xb8O\\x8f\\xd0Hu\\xabJ\\x13[)?\\x9e\\rH\\x96\\xad[P\\xe8\\xd9n\\xb95#\\x1a\\xab\\xb0R\\xc60\\x8d\\xc8\\xe7h\\xb3%\\x1f\\x81\\x9ad\\xbc\\xda\\xa9mOa\\xdar\\ty\\xcf|(\\xfey/\\xda}\\x03\\xcbm\\xb6\\xdf\\xe8g\\x8dt\\xa5\\x06\\xa2\\xf7\\xf9\\x13\\x80\\x1e\\xdc\\x91\\xa45\\xa3\\x16\\xb3\\xfb2U\\x8a\\x15-\\xd4\\xde\\xf1\\x8c\\x97\\xcdne\\xae\\xb2\\xb5/\\x0fY\\xdfQq\\x9d\\x18\\xaf\\x9e\\x08\\xbd\\xfdW\\x96\\xf8\\xc3\\xc0U\\xadiJ\\xe6\\xcf\\x13\\x82\\xdeP\\xff\\x00o\\xf6:\\xe3\\xc9\\xcf\\xaa\\xe3\\xe5\\xf0\\xf7\\xef/1\\xafBT\\xa6\\xe18\\xb8\\xc9r\\x9a=2\\xbc6q\\x14_L\\x96x+\"\\x92JmE\\xb7\\x1c\\xec\\xdf\\xb0\\n)\\xb7\\xb7\\xb0\\x05\\t8\\xc9J/\\rw\\x03\\xd3|\\t\\xe2\\xb7B\\xbd:\\x15\\xe4\\xba$\\xfad\\xfd\\xbed\\xf4\\xafe\\xb7\\xa8\\xaaR\\x8c\\xd3\\xdd\\xee\\x9f\\xb9\\xb4\\\\\\x8b\\xca\\x00\\x80f\\x80`\\x19\\xa0\\x01\\x81\\x1dO\\x84\\x8a\\xc6\\xd4W\\xa5\\x99\\xd3\\xa6^}\\xaf-\\xe4x\\xfc\\xafw\\x89\\xcd\\xc9ny4\\xf5\\xc0\\xe0\\xcbFh\\xa0pT,\\x15\\x07O\\xe25\\x19\\xd3V\\xd3\\xb1\\xe8\\xc3\\xcd\\xb6\\xed\\xaf\\x08\\xef\\x1e]4\\xa9#l,\\xc1\\x04K\\x14TH\\x91A$\\x10\\xf8(|\\x04,\\x00-\\x00\\r\\x01\\x1c\\x90\\x11I\\x11Q\\xb4\\x00\\xb4\\x00\\xb4\\x00\\xb4\\x034\\x00\\xb4\\x004\\x05z\\xab`\\xac\\xdb\\x85\\xc8\\x15Z\\xc9\\xe1\\xeb\\xe9q\\x1b\\x8e\\x0b\\xd6xn\\x19\\xa1$Y\\x019\\xec\\x15\\x14\\xaa\\x03\\x88g2\\x1cG\\xd6\\xc2\\xa5\\xa7S\\xe6b\\xb7\\x16\\xa2\\xfa\\x91\\xce\\xd7H4\\x87N\\x16\\x07N\\x19I\\xc2YE\\x95,mi\\x9a\\x8e\\x1aM\\x9e\\x9f\\x1e\\xde_/\\x8d\\xd7\\xd8\\xdd\\xa9\\xa5\\xb9\\xea\\xcd\\xeb\\xc3\\xbc\\xf1\\xb1I\\xa9,\\xa3nk\\x11*%\\x88\\x12 \\x08\\x07\\x01\\x048S\\x84,\\x149\\x03\\x94 \\x10\\x0f\\x80\\x10\\x08\\x80YEK\\xfd\\xed*E<f/rU|\\xfd\\xf6\\x8dq\\xe7]Q\\xca\\x7f\\x0f\\xe8b\\xb5\\x1c\\rF\\x03D\\x82\\xfd\\xa7\\x193]2\\xea\\xf4K,\\xbau\\x1c\\x14\\xabM\\xe2\\t\\xf0\\xbf\\xef\\x93\\xcf\\xba\\xf5\\xf8\\xf2\\xed\\xedt\\xf8\\xd2t\\xed\\xa9\\xcb3\\x96\\xf5j>N6\\xf5\\xe9\\x93\\x8e\\xaa\\xca\\xd2\\x14\\xa0\\xa3\\x18\\xe2\\x11\\xfd\\xc4\\x85\\xad\\xba\\x14\\xda\\x8f\\xef\\xb1\\xb9\\x18\\xb5v\\x8c#\\x94jFm]\\xc2\\x8c0\\xa2\\xf3\\xf27\\xc7>\\x92\\xebOh\\xec>\\xcf\\xa4\\xb1r\\xc6Y\\xa6K\\xa9\\xa4\\xde?Q\\xd3\\x86u$\\xf3\\x8e\\t\\xd5\\x90\\xcdg\\xea\\x14\\x92\\xddn\\x02\\x9cV6\\xe4\\x94\\x8a\\xd5\\x16vfkq\\x0b]\\xcc\\xa9\\xba\\x13^\\xc4V>\\xa5o\\x19R\\x9c\\\\r\\x99\\x9a\\xd4x\\xf7\\x8c\\xbc6\\x9c\\xa5qF\\t/\\x92\\xdd\\x7f\\xc1\\xd7\\xc5\\xbe}8y\\xbc}\\xfby\\xb5Zn\\x94\\xdcd\\xb0\\xd1\\xea\\x95\\xe0\\xb3\\x81i\\xad\\x9a\\xdc\\xa8(<<\\x80\\xebf\\x05\\xad6\\xbf\\x93{JNN1\\xce\\x1b%W\\xbbxW]\\xe8\\x84mnd\\xdd\\x1d\\x959\\xbf\\xe8YJ\\xee\\xa8\\xcdJ)\\xa7\\x94\\xf8f\\x91/\\x1f\\xec\\x03\\xf2\\x03\\x00\\xcc\\x01h\\x08\\xe6\\xbd$V6\\xa0\\xbd,\\xce\\x9d2\\xe05\\xe5\\xbc\\x8f\\x1f\\x95\\xee\\xf19\\x99#\\xc7\\xa7\\xb2\\x07\\x06\\x1a3F\\xa2\\x1b\\x06\\x90\\xd8((|E\\x8cV\\xa5\\xa7c\\xd1\\x87\\x9fm\\xebN\\x11\\xe8\\x8f.\\x9at\\x91\\xb75\\x98\"\\xa2X\\xa0\\x89\\x12($\\x8a\\x87\\xc0\\x0f\\x80\\x85\\x80\\x05\\xa0\\x02H\\x08\\xe4\\x80\\x8aH\\x8a\\x8d\\xa0\\x05\\xa0\\x19\\xa0\\x05\\xa0\\x05\\xa0\\x05\\xa0\\x05\\xa0+\\xd5[\\x01\\x99p\\xb9\\n\\xa6\\x99\\xe0}!l\\xd1@I\\x1ae\\x17WK\\x01\\xfa\\xb2F\\x91\\xc9\\x90F\\xc2\\xa3\\x96\\xc5B\\x8c\\xb0\\xcc\\xd6\\xa2\\xdd\\x19\\x9c\\xact\\x95v\\x1b\\xa3-\\x89\\xc3`\"\\x94MFh!9R\\xa9\\xd4\\x8e\\x99\\xfas\\xd4\\xeb\\xa4\\xd2u%\\xb2\\xc9\\xea\\xf1\\xe9\\xe2\\xf2\\xe1\\xd8\\xd8\\xdc\\xa9\\xc5nzc\\xc9cV\\r4VS\\xc4\\t\\x10\\x0e\\x80r\\x87\"\\x1c\\x07*\\x9c!\\x00\\xe0 \\x10\\x0e\\x02\\x01\\x002\\x03?R}T\\xaaR\\x8b\\xc7\\xa7\\xd5/dJ\\xaf\\x9f>\\xd0\\xa1\\xe5\\xdf\\xd3\\x8b{\\xc78\\x8b\\xf6\\xecb\\xab\\x86`:\\x0b\\x1aV1\\xcc\\xe2\\x9f\\x0bs\\x9e\\x9dp\\xee\\xbc:\\xd2~l\\x93\\xe9^\\x9air\\xfe\\x9fS\\xcd\\xb7\\xb7\\xc6\\xef\\xacm%\\xd3\\xd7<uKw\\x8e\\xdf#\\x97\\x1d\\xba\\xdb\\xb5K\\x18\\xfd\\x8d\\xc6j\\xfd\\x19>\\x97\\x9e\\x12\\xe0\\xd4K\\x17-+E\\xf3\\x8d\\xb67\\x18\\xd4j\\xc2Q\\xe9GH\\xe5R<4VQ\\xe1g\\x1f\\xb1\\x96\\x8e\\xf6\\xec\\x00\\xad\\xb6\\x7fR\\xc8\\xa6\\xdb\\xa9\\x00\\xee),\\xa7\\xb9,:J.O,\\x9c^\\xaa\\xd6\\xcb\\xa9\\xd2\\xb8\\xf73cP=&x\\xd1\\xa4\\x9aD\\xa2\\x85\\xd5%(=\\xb93Z\\x8eWR\\xd3csF\\xa5)\\xc7\\x9e\\xfe\\xcc\\xcc\\xfa\\xabyg\\x1e)\\xe2m\\x1av7\\x93]/\\x19\\xf6=~=v<>\\\\r\\xb9\\xb9\\xe5c=\\xb8;<\\xf6\\x050\\x83l\\t)\\xae\\xa8\\xc9%\\xba\\xdc+\\xd1\\xbc\\r\\xa9F\\xe2\\xd1\\xdb\\xd7\\x8b\\xa98m\\x87\\xfc\\xa4\\x1e\\xa7\\xa4]N\\xd5F\\x8dY\\xb9\\xd0{\\xd3\\xa9\\xf2\\xf9\\x9a\\x88\\xe8\\xa2\\xd4\\xe2\\x9e~\\x8c\\xa8|\\xe1\\x85?p\\x19\\x80-\\x01\\x1c\\xd7\\xa4+\"\\xfdz\\x19\\x8d:e\\xc0\\xeb\\xcby\\x1e?+\\xdd\\xe1r\\xf2G\\x8fOd\\x01\\x86\\x89\\xa2\\xc085\\x10\\xd8*\\n\\x0b\\xd4j3Z\\x96\\x8btz0\\xf3y\\x1b\\xd6\\x8bdz#\\xcb\\xa6\\x9d$m\\xcdj\\x08\\xa2X\\xa2\\xb24\\x802\\xa1\\xd2\\x01\\xf0\\x10\\x80\\x16\\x80\\x06\\x80\\x8eH\\x08\\xa4\\x82\\xa3h\\x80Z\\x00Z\\x01\\x9a\\x00Z\\x00Z\\x00Z\\x02\\xbdU\\xb0\\x19\\x97+\\x903\\x93\\xc1\\xe1}#y\\x98eC\\xb9\\xa6\\x82\\xa2\\x93\\xc8D}Xe\\x04\\x9eL\\xb5\\x0c\\xd1\\x1aG$\\x00%\\x86\\x04\\xf4\\xb93cQ\\xa1A\\xe7\\x07;\\x1d%\\\\\\x8c2\\x84\\x87C:[\\x1b\\x91\\x8bU*\\xc3\\x07I\\x18\\xb5^\\x95\\xcc\\xad\\xaa\\xa6\\x9e\\xc7\\\\\\xce8n\\xf5\\xd9\\xe8\\x9a\\xa2\\xa8\\xa2\\xba\\x8fNk\\xc5\\xb8\\xec\\xec\\xeb\\xa9\\xc5nts\\xad\\x08\\x84H\\x80\"\\x87\\x08p\\x1c\\x07\\x01\\xc0@8\\x08\\x04\\x03\\x80\\x80@\\x04\\x9e\\x13o\\x803\\xeaEN\\x9dG/\\xe3\\xc9\\x15\\xe1\\x1fj\\x94\\x1cu\\xa8\\xd4k\\x1e\\x9clb\\xfbX\\xf3\\xc6\\x80h\\xf2\\x164l\\x93\\x94\\xe2\\xbd\\xd9\\xcfN\\xb8z\\'\\x87i7R\\x9c\\xda\\xf4\\xaf\\x85\\x7f\\xa9\\xe7\\xdb\\xdd\\xe3z5\\xae\\xd4\\xd2\\xeest\\xab\\x96\\xf0\\xea\\x96\\x11`\\xb6\\xa1V\\x9dx\\xed\\x94\\xd3\\xdc\\xd7/S\\xb3\\x8bq\\xb5\\xf4\\xaa\\x90x\\xce\\xed\\x1b\\xe3\\x9f\\xcb\\xf4\\xbbJRtZ\\x97(\\xd37\\xd8\\xad\\xeeZ\\x9fL\\xb8\\x12\\x9a\\xcf\\xd2i\\xd5\\x8a\\x92y\\xd9\\xec[RD\\x91\\x92qX\\xed\\xce\\rFlT\\xb9\\xab(4\\xda\\xdb\\x8eL\\xdb\\xc6\\xf3\\x14n5\\x8aV\\x94\\x9c\\xebI\\xc5\\'\\xdc\\xcf\\xc9\\xaf\\x87}\\x02\\xcb\\xc4\\xb67\\x15\\xfa!uM\\xcd\\xac\\xf4\\xb7\\x816\\x9a\\xc3]\\xdfR\\xe9\\\\a\\xf0\\xd1\\xaf\\x93\\x9f\\xc6\\xa3\\x9dXT\\x92\\x92c\\xda\\xcf\\xa0\\xc2+\\xad\\xef\\xb1\\x8e5\\xd3\\xca)\\xbeI\\xc5\\xea\\n\\xd4\\xf3\\x16\\x89b\\xca\\xc1\\xb9\\xa7\\xd3U\\xc5\\xf71cng\\xc4\\xfe\\x1d\\xa7\\xa9\\xd9M\\xa8~\"\\\\\\xe3tY~5\\x9dfjq\\xe1Z\\x95\\x94\\xec\\xae\\xaaR\\xa9\\x1c8\\xbc\\x1e\\xbc\\xde\\xc7\\xcf\\xdeyx\\xcf\\xe1\\x9bs\\x12`KE\\xb8\\xcf\\x90\\xad\\xff\\x00\\x0b\\xea/L\\xd6\\xe9M\\xbcS\\xa8\\xd4d\\x89G\\xb6\\xd9J\\x14\\xf1C9\\xa5Qy\\x94\\x9b\\xfe\\x17\\xecht\\x96\\x15\\x9c\\x93\\x84\\xbfB\\xa2\\xf3YX\\xef\\xd8\\x06\\x83\\xcbk\\xd8\\x07h\\x01h\\x00\\x9a\\xf4\\x85d\\xdf\\xafK3[\\xcb\\x82\\xd7\\xa3\\xf1\\x1e?+\\xdd\\xe1r\\xb2[\\x9e-=\\xb0\\x180\\xd9\\x99R\\x84\\xd4B*\\x1e\\x1f\\x125\\x19\\xadKN\\xc7\\xa3\\x0f?\\x91\\xbfh\\xb6G\\xa3/&\\x9at\\xd1\\xb75\\x98\"\\xa2d\\x8a\\x83H \\x92(,\\x04,\\x00\\xb0\\x034\\x004\\x04r@E$\\x04m\\x05\\x0bD\\x02\\xd1@\\xb4\\x034@-\\x00-\\x01\\x05U\\xb0\\x19\\x97+\\x90\\xac\\x9c\\xecx_E\\x14\\xd9\\xa4D\\xaa\\xb4\\xca\\x1f\\xaf(\\x81\\xb3\\x90\\n;\\x11bT\\xb2e\\xa8g\\x02(z\\x02\\x8e0\\xc3\\n\\xb9C\\x92qz\\xd0\\xa5\\xc18t\\xf51\\x83r3j\\x85\\xc3\\xe4\\xeb\\x98\\xe3\\xaa\\xcc\\xacu\\x91\\xc6\\xd5\\x8d2\\xfav\\xd5\\xd2ol\\xecj^9\\xeau\\xe8\\xfa6\\xa2\\xaa\\xc2;\\x9dep\\xb1\\xd5[\\xd5R\\x8a4\\xc2\\xda\\x00\\x8a\\x87 r\\xa9\\xc2\\x1c\\x04\\x03\\x80\\xe0 \\x10\\x0e\\x02\\x01\\x80\\x8e\\xa7\\xc1&\\x05g\\x0c\\xd2P\"\\xbc{\\xedb\\xcb0\\x85ln\\x92\\xcb\\xfc\\xf0f\\xacy\\x1c\\x92\\x89\\x14\\xf5i\\xbauf\\xb1\\x8d\\xf8 \\xd3\\xd2h\\xf5\\xcdI\\xf0cN\\xde8\\xf4\\xaf\\x0e\\xc1JqIq\\xd8\\xf3\\xed\\xec\\xf1\\xbd\\x06\\xd6\\xdd\\xf4)5\\x8f\\x91\\x99\\x1b\\xb5r\\x9d5FNM\\xac}MH\\xcf\\xc9bW\\x10]1\\xce\\xec\\xd2A\\xd4\\xbdT\\xa1\\xd3\\xd4\\x92B\\xd2N\\xa1\\x9e\\xbfioM\\xceu\\xe9\\xac-\\xf2\\xd0\\xf9/\\xc3\\xaa\\xdf\\xf8\\x8e\\xc6\\xb5X\\xa8U\\x8fS{a\\xf2O\\x93S\\x1c[\\x95\\xfeR\\x9ai\\xc5=\\xc5\\xa4\\xcbV\\xde\\xb2\\xa9AN<v7/\\xd3\\x9d\\x9fh.d\\xe7\\x9d\\xf6_\\xd4\\x95c\\x97\\xd5,\\xae\\xef\\x1b\\x8d)\\xa5\\x1c>{\\x1c\\xec\\xb5\\xdaY#\\xceu\\x0f\\x0ex\\x92\\xd6\\xb4\\x9d\\x18\\xa9\\xd3\\x95N\\xae\\xa8Ox\\xef\\xdf\\xbb:K?n\\x16k\\xbfI*x\\x8bQ\\x85\\tQ\\xa5R\\xe9J\\x0f\\x12\\x94\\x96?E\\xed\\xf5,\\xccK\\xaa\\x82\\x9f\\x8b\\xfcKNy\\x8d\\xc5J\\x94\\xe2\\xf1\\xd3Qa\\xfc\\xbeF\\xfe\\x11\\xcf\\xe7\\xa8\\xdf\\xb1\\xd7<Wy\\x18\\xf4\\xd0\\xad\\x1e\\xa6\\xb1\\'#\\x17255o\\xe9w\\xcc\\xf1\\xd4\\x1f\\xa5\\xa6\\xd6\\xe9\\xc9-\\xd7\\xb6\\x7f\\xe0\\x9c\\x8dv\\xaf[\\xf8\\x83\\xc56\\xc9F\\xf7H\\xf3R\\xe6T\\xda\\xdc\\xcdj}\\xfbhGU\\xa7\\xa8\\xd2S\\xf2*\\xd1\\xab\\x17\\xbcjG\\x0f\\xfeL[\\xd6\\xfe<[\\xa7\\x89\\xd2O\\x94\\xd1\\x11\\xe4\\x9fiZ\\x14(\\xdd+\\xca1\\xc4f\\xbdIv;\\xf8\\xb5\\xfay\\xbc\\xf9\\xfd\\xbc\\xcaP\\xc3h\\xf4<\\x86\\x8cH\\x1e2\\xc5DQr\\x9b\\xddIr\\x9ev\\x03\\xdb<1\\xa8\\xff\\x00j\\xf8r\\x85w\\x8f2\\x83\\xdf\\xe9\\xc3\\x10v6\\x95z#\\x19g+f\\x9f\\xbf\\xb9\\xa4lr\\x96>\\xa8\\x01[O?\\x93\\x00\\xd8\\x02\\xc0\\t\\xad\\x82\\xb2\\xaf\\x97\\xa5\\x99\\xad\\xe5\\xc2k\\xd1\\xdaG\\x8f\\xca\\xf7x\\\\\\xa4\\xd6\\xe7\\x8bOlF\\xd1\\x86\\xc0\\xcb\\x10\\xcc\\xd2\\x18\\xa8(\\xfcE\\x89Zv\\x9c\\xa3\\xd1\\x87\\x9bm\\xfbN\\x11\\xe9\\xcb\\xc9\\xa6\\xa5>\\xc6\\xdc\\xd6\\xa0TK\\x14TH\\x90\\x04\\x91P\\xf8\\x08|\\x00\\xb0\\x034\\x004\\x04m\\x01\\x14\\x90Tm\\x00-\\x00-\\x00,\\x06h\\x80Z\\x00Z\\x02\\n\\xab`3nW b\\xb7\\xb9\\xe2}$s\\xe0\\x8a\\xa94\\xf2k\\xac\\x9e\\x0f\\x01R\\x00p\\xdc\\x82TF\\x92-\\xcc\\xa9t\\x85\\x12H*Zo\\x0c\\x0b\\x94\\xe7\\xb0B\\x9d]\\x8dFj\\x8die\\x9d\\xb2\\xe1\\xa5*\\xbb\\x9d\\x1c\\x90t\\xbc\\xe7\\xb8\\xea\\xf1\\xd0\\xe8Z\\x94\\xa8\\xd4\\x8c$\\xcb4\\xce\\xb0\\xf4}2\\xf9T\\x84w:\\xca\\xf3\\xeb<o\\xd1\\xa8\\xa5\\x14i\\x84\\xc8\\xa1\\xc2\\x10\\x0e\\x03\\x80\\xe08\\x08\\x07\\x01\\x00\\x80@ \\x06i8\\xbf\\xa0\\x10\\xb8\\xe1g\\xb0\\x1e\\x7f\\xf6\\x89\\xa7}\\xf7H\\xb8\\x9cc\\x95\\nm\\xbf\\xeaf\\xac|\\xfb\\xd2\\xe5\\x1c\\xb3-\\x14\\xb3\\'\\x96\\xfb\\x10t\\x9a%\\x0c\\xdb)\\xf69k\\xdb\\xd1\\xe3\\xf4\\xect\\x8dZ\\xdbI\\xa3\\xe7\\xd7\\xdd\\xf3\\x85\\xec\\x8ez\\xcf};\\xe7R{MW\\xc7\\xba\\xb5\\xed\\x17\\xf7\\x0bUN2}1\\x9bM\\xe5\\x8f\\x87\\xfbO\\xfa\\x7f\\x91V\\xb5o\\x19\\xca\\x8f\\xde*J\\xe20o;G\\t/\\x99\\xa92\\xcd\\xd6\\x99\\x7f\\xda\\xbe!U3\\tW\\x93\\x8b\\xc4^%\\xcf\\xbe0k\\xe3\\x96~{IV~\\'\\xbd\\xc4`\\xef\\x9c\\xfd\\xdbi1\\xfcW\\xbb\\xa2\\xa1\\xe1?\\x11T\\x94]\\xcdeI\\x7f\\xf32\\xcc\\xddg\\xf4\\xd6s\\xab\\xee\\xba\\x1d;\\xc2N\\x17T\\xebV\\xb9ujEv[d\\xc7z\\xed\\'>\\xdd\\xcd\\xad\\xab\\xa1b\\xa8\\xee\\xe3\\xd3\\x8d\\xde\\xed\\x8e}5\\xdf\\xb6\\xce\\x84\\xe5;4\\xa5,\\xe3cX\\xf4\\xc7\\x96\\xfd\\xb4*Q\\xe4\\xb5\\x89\\xa6}\\xc3\\xa7M\\xe0\\xcdj}\\xb0\\xf5*\\xae\\x9d9T\\x84\\x92k\\xb3\\xeef\\xd6\\xe4\\xeb\\x97\\x97\\x8d-\\xac\\xeb\\xb8\\xdcY\\xb7\\x8ee\\x04\\xa5\\x82\\xe7\\xb5\\x9d\\xc9?m=?\\xc7~\\x19\\xba\\xa8\\xa2\\xeb\\xdb\\xd3\\xaa\\xf6\\xc5E\\xd0\\xff\\x00|\\x1d9\\xaf\\xf1\\xc7\\xe5\\x9f\\xd5t\\x96~ \\xd3\\xabT\\xb8T\\xaaRtm\\xd4T\\xea\\'\\xb2\\x93\\xdf\\x0b\\xdfl~\\xb83\\xde\\x1c\\xeb^5\\xa3R)\\xb4\\x96{\\x0e\\xaf\\x11Tq\\xf9\\x0e\\x9cT\\xafJ\\x94\\xa2\\xfd\\x0b,\\xcd\\xe3R\\xd5z0\\xe8\\xea\\x83\\xed\\xc1\\x9e7\\xd7)\\xe3}6w\\xba\\\\\\x9d:niw\\xed\\xfa\\x9a\\xc7\\xd5s\\xf2\\xf2\\xe5\\xe1\\xba\\x86\\x9bqk9:\\x94d\\xa2\\x9f+u\\xfb\\x1e\\xa8\\xf0\\xd8\\xd1\\xf0\\xaf\\x85\\xaf|Q~\\xed\\xadZ\\x858\\xef:\\xb2[E\\x7f\\xb9\\x8d\\xef\\xe2\\xe9\\xe2\\xf1\\xdd\\xde;MW\\xecjv\\xd6N\\xad\\x95\\xf4\\xaa\\\\Eg\\xa2\\xa4p\\xa4s\\x9e[\\xfbz/\\xe2\\xcb?\\x8dy\\xe5:2\\xb6\\xba\\x9d\\x1a\\xd0q\\x9c[R\\x8b\\xe53\\xbb\\xc7e\\x97\\x95\\xde\\xf8\\x17PVwU\\xac+K\\xa6\\x15\\xa0\\xe5\\x05\\xdb\\x8d\\xc4\\x1e\\xa1\\xa2\\xcf\\xcf\\xd1\\xe9K=MG\\x7f\\xc8\\xd4J\\xdd\\xb6\\x97\\xe1G>\\xdb\\x15\\x12Il\\xdf\\xb8\\x05\\xbe\\x00f\\x00K\\x802\\xefW\\xa5\\x99\\xae\\x99p\\xda\\xf2\\xdaG\\x93\\xca\\xf7x\\\\\\x8c\\xf9g\\x87OlF\\xcc6\\x06X\\x81*\\x16\\r!\\xe3\\xc9bV\\x9d\\x9f(\\xf4a\\xe7\\xf2:\\x0b>\\x11\\xe9\\xcb\\xc9\\xb6\\xad>\\r\\xb9,\\xc1lTM\\x14T\\x1aEA$\\x01`!`\\x05\\x82\\x86h\\x01h\\x08\\xda \\x8aH\\x08\\xda\\x00Z\\n\\x16\\x10-\\x05\\x0b@3D\\x02\\xd1D\\x15\\x16\\xc4\\x19\\xb7+\\x90\\xac\\x16\\xcf\\x0b\\xe9\\x05\\xf0A\\x0c\\xe2X\\x80\\xc6\\n\\xa6\\xea\\xc3*%\\xa7,\\x92\\x8b+\\x83*\\\\\\x05\\x12dRl\\xa7N\\xa6\\x15$k\\xe3\\xb8\\nUv,f\\xa0\\x94\\xf2nV5\\x11\\xb5\\x93\\x7f&>%\\xd1\\xb9.\\x96e$=\\r5\\xca3t\\xd7\\xc1\\xd4\\xe8z\\xbe\\x1a\\x84\\xa5\\xba:x\\xfc\\x8e>_\\x17\\xf8\\xefl/\\x15H\\xad\\xcfL\\xaf\\x1e\\xa7\\x1b\\x10\\x9a\\x926\\xc0\\xc0p\\x1c!\\xc0p\\x1c\\x04\\x02\\x01\\xc0@0\\x08\\x05\\x8c\\x80\\ret\\x81\\x83\\xae\\xd8\\xc6\\xf2\\xda\\xb5\\x16\\xbf\\xbc\\xa6\\xe3\\xb7\\xb9*\\xbeh\\xd54\\xfa\\xd6:\\x85k9\\xc5\\xc6T\\xa4\\xd6\\xe6\\x15\\x99Sitw\\xc8Wk\\xa2P\\xc6\\x94\\xa5\\x8e\\xc7\\x1d{zq\\xfd]\\x1e\\x8f\\xa5Z\\xddF.\\xe6*Iv}\\xccZ\\xeb\\x98\\xedm\\xa3iN4\\xe1J\\x94\"\\xa1\\xc4R\\xd8\\xcbMY_\\xd0\\xa7K\\xf1:q\\xf35\\xd6y\\\\\\xee\\xa3\\xe2\\xfd\\x0e\\xd20\\xe9\\xaf\\tNm\\xa5\\x08\\xae\\xa9\\'\\xec\\xd79\\xce\\xc5\\x99\\xb7\\xd4f\\xeaOu\\xc7_\\xf8\\xf2\\xe2\\xb4)}\\xce\\xdd)I\\xb4\\xa5)En\\xb6{r\\x8d\\xcf\\x17\\xfa\\xcf\\xfd\\xa7\\xe9^\\x86\\xb7\\xadWn\\xa4\\xe8+\\xa8\\'\\xeaT&\\x9b_\\x97&u\\xe3\\x8dg\\xcb]\\x1e\\x8f\\xafS\\xbc\\x8a\\x8d98Ml\\xe2\\xf9O\\xd8\\xe5sc\\xd1\\x9dM:\\nZ\\x9dLt\\xd4d\\xeb\\\\u\\xde\\x19\\xf5\\xdb\\'\\xef\\xba:a\\xcb\\xcb[\\x17k\\xa2\\r\\x9a\\xaeY\\xaen\\xeb3\\x9b\\x93\\xce2sw\\x95\\x8b}K\\xce\\x84\\xba\\xea*t\\xd7\\xc59<$\\x89g[\\x97\\x8f3\\xd6u:\\xba\\x9d\\xf7\\xf6W\\x87\\xec\\xaaJ\\x10m\\xb9\\xa5\\x99Ux\\xdd\\xfd?\\xef\\xe4w\\xf1\\xf8\\xf9\\xf7^?7\\x96\\xdf\\xa8\\xe3\\xbc\\xcb\\xc8_\\xd1\\xb7\\x9c\\xe9[Fu\\x159V\\xa9\\x14\\xd4\\x13xr\\x7f$u\\x968Y}\\xa4\\xadV\\xe3E\\xbd\\xc5\\x96\\xa2\\xeb\\xf4\\xce]U(O\\x11r\\x8c\\xdaRM=\\xd3II?\\x98\\xd7\\t\\xf2\\x9e\\x9d\\x15\\x1f\\x1fx\\xa7E\\x93\\x8d\\xdb\\x9c\\xd4\\xf0\\xf3q\\x0c\\xf6\\xdb\\x12F/\\x8b5\\xa9\\xe6\\xd4\\xf6\\xed<5\\xf6\\x93k\\xa8\\xba\\x16\\xb71\\x9d;\\x99u9\\xb9IbO\\xb2\\x8f\\xfc\\xe3\\t\\x1c\\xb5\\xe3\\xb9\\xfbw\\xc7\\x96k\\xeb\\xf6\\xef)W\\x85Y$\\xa4\\xb2\\xd6q\\x9d\\xce]v\\xe2\\xd4m\\xd4\\xeauK\\xe1\\x8a\\xcb\\xf9\\x9a\\x8cZ\\xcf\\xd6-\\xea\\xea\\x165\\xe9\\xc2^\\\\:^\\x1e\\x07\\xec\\xfd<+V\\xa5yas9Nj\\xe2\\x8a~\\xad\\xb0\\xd2\\xf7=2\\xbcz\\x9fk^\\x0f\\xd6?\\xf0\\xc7\\x8b\\xac\\xee\\xe1,i\\xf7\\x7f\\x87UvI\\xf7\\xfc\\x9e\\x0cy\\'g]<7\\xe3\\xae=;U\\xf1%\\xfdM]+[u\\xf7\\x14\\xfad\\xda\\xde_3\\xcb\\xabz\\xfa\\xfe?\\x14\\xf8\\xfd\\xfbyW\\x8elU\\xaf\\x8c*J+\\xa5W\\x8cjc\\xeb\\xc9\\xea\\xf1\\xdf\\xe2\\xf9_\\x93\\x9ey\\x03(\\xce\\xcf\\xee\\xf5[\\xc4\\xe8\\xcdn\\xbb\\xa6ty\\xde\\xc5\\xe19\\xf5i\\x0f/\\xdd\\xe3\\xd92\\xe5+\\xa3\\xb6\\xf5\\xd0\\x87\\xb6\\r\"\\xcc\\x96b\\xd7\\xc8\\xa1G\\x82\\x06`\\x0c\\xb8\\n\\xcc\\xbd^\\x96f\\xb5\\x97\\r\\xaf/L\\x8f\\'\\x95\\xee\\xf0\\xb8\\xf9\\xf2\\xcf\\x0e\\x9e\\xe8\\x89\\x98l,\\xb03EC`\\xa8x\\xf2j3ZV\\x9c\\xa3\\xd1\\x87\\x0f#\\xa0\\xb3\\xe1\\x1e\\x8c\\xbc{kR\\xe0\\xe8\\xe5V`TM\\x12\\xa2D\\x8a\\x82A\\x0f\\x80\\x1f\\x00,\\x00\\xcd\\x14\\x03@G$\\x04rD\\x11\\xb4\\x14\\r\\x00\\xcd\\x00-\\x00-\\x04\\x0bAB\\xd0\\x11T[\\x10f\\\\\\xaeB\\xb9\\xcc\\xe4\\xf0>\\x91\\x00,\\xa0%\\x12\\xc4W\\x9eS7#6\\x8a\\x9dL1a*\\xdc\\'\\x94b\\xc6\\xe0\\xf3\\x93*t\\xc0Y\\x00[\\xc0PJ@%7\\x8c\\x14:y/S\\x89\"\\x89\\xd5\\xe2N\\x94N\\xac\\xc9\\x9a3k\\\\=:\\x92\\xa55(\\xbc4I\\xae\\x17=vZ\\x16\\xb2\\xa5\\x14\\x9c\\xb7=~/\\'^/7\\x8b\\x8e\\xce\\xd6\\xfe2\\x8a\\xf5\\x1e\\xa9^;\\x95\\xd5w\\x17\\xdc\\xbdg\\x89\\xa1]K\\xb8\\xea\\'\\x8b\\xc9A\\x048\\x0e\\x03\\x80\\x80@ \\x10\\x08\\x04\\x04m\\xf7Q\\x93K\\x96\\x90\\x14\\xef\"\\xaaz\\x93\\xc7J\\xcf\\xd4\\x8a\\xf9\\xbf\\xc7\\xf7\\xf6\\xd7\\xbe)\\xb9\\xa9d\\xda\\x82\\xf4\\xc9\\xfb\\xb5\\xc9\\xcf\\xbd\\xadq\\xcaEfh\\x0fG\\xd0\\xe8gD\\x8b\\xf9\\x1c5\\xed\\xeb\\xc4\\xfe-ke+ke4\\xf0b\\xba\\xe4\\xf7\\xda\\xe4t\\xcby\\xd4\\x9eZ\\xc3\\xc2O|\\x89\\x9e\\xa6\\xf53;^{\\xa8\\xf8\\x8fV\\xd4\\xea\\xba.\\xa5Zp\\xab-\\xa8\\xd3o\\x7f\\xd0\\xf4\\xe7\\xc7#\\xc7\\xaf&\\xaa\\xad\\xce\\x8f\\xa8\\xda\\xca0\\xad\\x07NS\\x87Z\\xf9\\xa2\\xebS>\\xd39\\xba\\xf4\\x9e\\xc2\\xcfH\\x9e\\x99\\xd3r\\xef^\\xa8\\xeed\\xbaa\\xfd\\xdf\\x95\\xe5\\xbe\\x97\\x9f~\\xbcg\\xe4.\\xe7\\x1a\\x9e;\\xd7u\\xe1_\\xb3\\x8a\\xba\\xcf\\x87\\x9d\\xfd\\x9d\\xe5[[\\xea\\x15e\\x05(\\xbfL\\xf1\\x8c}\\x1fb\\xe7\\xf9g\\xac\\xeb\\xf8\\xeb\\x8d\\x1aZ\\rjS\\x8d\\x96\\xa8\\xbe\\xeb\\xadF_\\x81_\\x18\\x85\\xd41\\x94\\x9b\\xef.w\\xe5\\x9c<\\x91\\xec\\xf1_\\xae\\xb4%F\\xe2\\x9d\\x17\\n\\xab\\xd6\\xbd\\xf98;\\xf5\\xe8\\x9e\\x15\\x8fF\\x9dI\\xb5\\xbfI\\xdf\\x0e\\x1eJ\\xdc\\xbb\\x8fU\\x16k^\\x9c\\xf3\\xed\\x86\\xed\\xbc\\xda\\xea\\x0f\\x89lsv\\xef#\\x1b\\xc4\\x9aUJ\\xfd\\x1au\\x19\\xc6\\x8a\\x9c\\\\\\xa7Z|\\x7f\\x95|\\xc7>\\xf8\\xb9\\xd7\\xd7O\\xe1\\xed?\\xc3\\xda\\x16,\\xe8\\xca\\x1eb\\xced\\xa2\\xe4\\xe4\\xdfv\\xd2\\xc1\\xdf:\\x91\\xe6\\xf2x\\xf5\\xaf\\xb9\\x1c\\'\\x8c<\\x17\\n\\xf7\\xf5*\\xe9\\xdd\\x17V\\xf5$\\xe5\\x15NK\\xaa\\x9bot\\xd3\\xed\\xf39\\xef7\\xbd\\xcb~?\\\\\\xd4g\\xe9\\x1e\\n\\xa1J\\xe5\\x7flW\\xb6\\xb3\\xb3\\xa2\\xd4\\xab9V\\x8c\\xa7S\\xd9$\\xb3\\xf9\\xb1\\x9c^\\xf7Uwg?\\x8cmx\\xb7P\\xd1u*?s\\xb1\\xb2\\xfb\\xcc\\xd6\\x1a\\x92\\x8e2\\x9f\\x7f\\x9a\\xe0\\xeb\\xad\\x7f\\x8e~?\\x1f=\\xb8\\xed+\\xec\\xfe\\xad\\xed\\xe3\\xebU(\\xd3\\xceq\\x0e\\xdf,3\\x95\\xf2X\\xe9<\\x13\\xbd\\xaf^\\xf0\\xdf\\x85\\xe1\\xa2S\\x9b\\x84\\xddITi\\xcar[\\xbf\\xabm\\xe4\\xe3\\xae\\xdb\\xd7i\\xc99\\x1d*\\xa3\\x9a5\\xe2\\xbe&\\xb6\\xfd\\x0b=9\\xdfl\\xfb\\xa8\\xba\\xb6j0]]-\\xe6?\\xae\\x07\\xe9g\\xb7\\x8fk\\xd6\\n\\xdf\\xc4\\xb74!\\x99R\\x94:\\xa4\\x9ffu\\xcd\\xfar\\xd6~\\xd9\\x96\\xba\\r[\\xcd>\\xce\\x11M%W+\\xe9\\x92]}.q\\xda\\xf6\\xdaze?/\\xcbp]Q\\x8aO\\xf41#\\xd9\\xf3\\xaf\\x1b\\xfbJ\\xf5\\xf8\\xcf\\xa6+jT\\xa3\\x0f\\xcf\\x93\\xb6\\'\\xd3\\xc3\\xf9\\x17\\xbbT\\x9d7^\\x84\\xe9\\xb4\\xb2\\xe9\\xa9~\\x87G\\x07o\\xe0+\\xa6\\xf4\\x89G\\xcc\\xce%\\xd3\\x86\\xfd\\xc4J\\xf4\\x8bx\\xa8\\xc2\\tp\\x91\\xa6R\\xc8\\xa1\\x97\\x00&@\\x12\\xe0\\x0c\\xdb\\xc5\\xe9fkq\\xc3\\xeb\\xeb\\xd3#\\xcb\\xe5{\\xbc.6|\\xb3\\xc3\\xa7\\xba#g6\\xc3\\x82\\xc0\\xb0i\\x0c\\xd0B\\\\\\x9a\\x89Z6\\x9c\\xa3\\xbe\\x1e\\x7f#\\xa1\\xb2\\xe1\\x1e\\x9c\\xbc{kS\\xe0\\xe8\\xe4\\xb3\\x04TO\\x14T\\x1aEA$\\x10\\xe5\\x0e@\\xe0\\x0b(\\x16\\x80\\x8d\\xa0#\\x92 \\x89\\xa0\\xa1h\\x01h\\x06h Z\\x00Z\\n\\x16\\x82!\\xa8\\xb6\"\\xb3\\xaeW s\\x08\\xf0\\xbe\\x99\\xfb\\x05\\x03e@\\xf5&jFmES\\x0c\\xd4e\\x07\\x0c\\xa2jUq\\xb1\\x9b\\x1a\\x8bP\\x96Nu\\xb87\\xeeE6B\\x0b\\x94\\x14\\x12\\x8e\\t\\xd0=%\\x0f\\x10&\\x83%i*\\xe0\\xcbP\\xcd\\x19\\xadDl\\x82K{\\x99[\\xd5R\\x8b:f\\xf1\\xcfS\\xbfN\\x8e\\xcf\\xc4\\x1d1Y\\x91\\xe8\\xcf\\x95\\xe5\\xdf\\x85\\xa5\\x1f\\x12Ac3\\xfd\\xce\\x9f\\xf6\\x8e7\\xc3]\\x06\\x97\\xaaF\\xe6)\\xa9d\\xeb\\x9du\\xc7x\\xb1\\xd1\\xdb\\xcf\\xaa(\\xe9\\x1c\\x96J\\x87\\x01\\x00\\xe0 \\x10\\x08\\x07\\x01\\x80@@\\xbe*?\\xe5\\x8f\\xfa\\x81\\x8b\\xae\\xdcN\\x86\\x8fs8I\\xc6^T\\xa3\\x16\\xbd\\xf0J\\xaf\\x96\\xee\\xaa9\\xd7\\xa8\\xe5\\xf1u<\\xb3\\x9c\\x8d\"\\xa4\\x9b\\x9e\\xc1c\\xd6<5C\\xcc\\xd2\\xa8\\xc7\\xdd\\x1em\\xdf\\xb7\\xb7\\xc7?\\x8b\\xa0\\xaf\\xa5\\xe6\\xd9\\xc1,<\\x18\\xeb\\xa7\\x1eq\\xafh\\xb7\\xf4\\xba\\xa9\\xc2\\xadY\\xc39Q\\x968=\\x18\\xd4y|\\x98\\xd1\\xbc%GK\\xd3\\xef\\x95\\xc6\\xadRt\\xdc\\x1e\\xd2p\\xeb\\x8e\\x7f-\\xd1\\xd3\\xe5\\xf6\\xc4\\xc7\\xd3\\xd2u\\xb9x[\\xc4Z|+P\\xd6m\\xad\\xee\\xa8G\\xaa\\x9c\\xe7\\x17\\x84\\x9fiG\\x19\\xc3\\xfdG\\x92gq|sX\\xbe\\x9c\\xad\\x87\\x85\\xd3\\xd4!:\\x97V\\xb1\\xa7U\\xb8*\\xd4s5\\x94\\xd2\\xe1\\xa5\\x8d\\xdf\\xf5<\\xff\\x00\\x07\\xa7\\xb5\\xeb\\xda$k\\xe9\\xdam-6\\xc26\\xd6\\xd6\\xf4\\xb2\\xbc\\xc9\\'RS}\\xe4\\xf8Yl\\xef5d\\xe4q\\xbe<\\xdb\\xdd}\\x95\\xd6\\x81gyt\\xae\\xef+\\xd4\\xb9\\xad\\x08\\xa5\\x1d\\xb0\\xa2\\x93\\xca\\xfd\\xccjw\\xddt\\xce\\xbe?Rq\\x85\\xa8SU+\\xc9\\xed\\x85\\xe9\\xc9\\xc7\\x8e\\xb1\\xd8\\xe81\\x8cl\\xa0\\xa2\\xbb\\x1b\\xcb\\x9e\\xda\\x95\\xfe\\x06n\\xb9\\xc6b\\x86e\\xd4\\xb6i\\x98t[\\x92\\x95jK\\x18\\xdb|c\\xb9\\xd29\\xfa\\xac\\xab\\xabJ\\xbb\\xca\\x1c\\xb5\\xd9\\xe0\\x96:\\xe7Q\\x8dKFt\\xe3W2\\xad\\x19Ol\\xa9pN\\xb5lg]xJ\\x85\\xcc\\xe39\\xba\\xb2}=?\\x13\\xdd\\x0f\\x92}4\\xad<9mo\\n>]\\x08Fj*\\t\\xe3$\\xefR\\xde6mliRY\\x82o\\r\\'\\xd4\\x97}\\xb3\\xb1,g\\xe5Zq\\xa4\\x94R\\xc1\\x9e\\x1dG8\\xb8>\\xa8\\xf3\\xc6=\\xc9\\xe9}\\xb2\\xef#BNRr\\x9d7\\xdfa\\xf4\\xb3\\xaf7\\xf1-:_~j\\xde\\x12\\xf5\\xed:\\x8d\\x0e\\xf253\\xdb\\xf6\\xe8<#\\xa4\\xf9\\xb2\\xa7V\\xa5\\x1e\\x98\\xd3\\xc2\\x8aoe\\x8f\\xfb\\xe4\\xcc\\xb6\\xd6\\xf5>1\\xdb\\xd3\\x82\\x8dj\\x9bn\\xce\\x8c\\xf7\\xe9\\xf3\\xef\\x8ck}\\xe3\\xc5\\xfa\\x85^c\\xe78\\xaf\\xcbc\\xbe=<~[\\xdd\\xd0\\xda\\xac\\xc5Uk8\\xc24\\xe6\\xdb\\xf0=^\\x9b\\xdb\\x8b\\x1ca\\xaa\\x9dK\\xe8H\\x95\\xeb\\xf4\\x13\\x858\\xf7X:2\\x93\\x9a\\x9c\\xed\\x80\\t\\xa0\\x19\\x80\\x12[\\x10g^/K%n8}yzdy<\\xafo\\x85\\xc6T\\xe5\\x9e\\x1d=\\xf1\\x1b9\\xb6E\\x89M\\x83Hf\\x80e\\xc9b4,\\xfb\\x1d\\xfcn\\x1eGEe\\xc2=Yx\\xf6\\xd7\\xa7\\xc1\\xd1\\xc6\\xac\\xc1\\x1aD\\xd1\\x084T\\x1a\\x08p\\x16\\x00X(L\\x00`\\x04\\x90\\x11I\\x10F\\xd0P0\\x86h\\x01h\\x01`\\x0b@\\x0b@EQlA\\x9dr\\xb9\\n\\xe6\\x1cw</\\xa8e\\xb0DUV\\rFj\\xbb\\x9e\\x19\\xd2G;L\\xe7\\x92\\xf1>A\\xc1\\x1a\\x87Qy\\xd8\\x8a\\xb7C\\x8c3\\x167*\\xcfN\\xc77D2\\xd9\\x963E\\x06,YRc(\\xca\\x81\\xc4\\xa1t\\x95\\x05\\x1d\\x89V&\\x8b3Z\\x87h\\xcbq\\x14\\xd6\\xc2\\x15\\x17sL\\x8d p\\xa4\\xdf\\xb9c6:\\xff\\x00\\nUiEd\\xf5xk\\xc5\\xe7\\x8fI\\xb2\\x96`\\x8f\\\\x\\xaa\\xf1Y8\\x08\\x07\\x01\\x00\\x80p\\x1b\\x8d\\xdf\\x00F\\xe4\\xdf9\\xc7h\\xa7\\x8f\\xcd\\xbe\\xc02{JQ\\x8a\\xd9g)\\xb6\\x9f\\xc8\\x01\\x8f\\xc7G\\xfc\\xb0\\xff\\x00P<\\xdf\\xed7Q\\xa9CH\\x8d\\xb4*\\xca\\x9a\\x9a\\x93\\x97C\\xdd\\xfb#\\x1a\\xaa\\xf1\\x17F\\x85\\xa4\\x7f\\xea!*\\xb5\\xde\\xfd\\x19\\xc2\\x8f\\xd5\\xfb\\x91\\xbe$t\\xa9\\xca\\xde\\x9dx\\xd1\\xf2d\\xe7\\xd1\\xd3\\x9d\\x9a\\xc7$\\xab\\x1e\\xad\\xe0\\xfa]v4\\xd6RP\\x8an]\\x91\\xe6\\xdc\\xed{<w\\xf8\\xbbXR\\xa75\\x8e\\x8e\\xad\\xb9\\x9c\\x9e_\\xe4\\x8c\\xc6\\xafUn4Kk\\x9d\\xfc\\xbcM\\xec\\xb7\\xeaM\\xff\\x00\\xa1\\xa3\\xaev\\xa7\\x84\\xac\\xe5u\\x15^\\x83\\x958\\xf6[w/\\xca\\x9f\\x1c\\xd5\\xab\\x7f\\tin=N\\x9b\\x84]L\\xb4\\x9e\\\\\\xb0\\xf3\\x85\\xfb\\x1a\\x9a\\xa9\\xc9\\xfat6Zm\\x85\\xbd8S\\xa3e\\x07\\xd3\\xef&:q\\xd0\\xd0\\xa19Ee8\\xa8\\xac\\xf4s\\xb7\\xc9\\x9b\\x9fl[\\xc1\\xdd\\xfai\\xf9t\\xf1\\x97\\xed\\xd9\\x13W\\x8b\\x99\\xdf\\xb75yN\\t\\xbc\\xb6\\xa1\\x17\\x84\\x972g>:F\\xbe\\x83r\\xa5\\x0e\\x95\\x04\\x96v\\xfcG\\x9f\\xd4\\xb9\\xac\\xee7.f\\xfc\\xa7\\x97\\'\\xb7\\x0f\\xd3\\x8f\\xab\\xff\\x00cu\\xcf1F\\x94\\xa2\\xde\\xcb\\x1f\\xe5\\x9b\\xcf\\xe8\\xf92\\xd5\\x8b\\xb4\\x1f\\xab\\x19\\xcb\\xec\\xfb4_I\\xed4\\xa2\\x9fl3]N \\x95$\\xf2\\x9a\\xe3\\x96\\xb7\\x7fD\\x12\\xd4N\\xda\\x92\\xe6\\x9cs\\xec\\xe6\\xdb\\'\\x0e\\xd4\\xb1\\xa2\\xa3(\\xc5,%(\\xf3\\xca\\xf9\\x0e/~\\x8f\\x1aq\\x8cy\\x8b\\xea\\xe6-\\xfb6D;\\x8c1\\xc4\\x7f\\xfeR\\x02)\\xe3\\x0b\\xa5a6\\xe3\\x8c\\xb6\\xb8\\xe4\\xc5\\x8d\\xe5\\x93\\x7f$\\xa3RR]J;%\\x9c\\x19m\\xc3^RW:\\xbf\\x97\\x05\\xb3\\x8a\\x92M\\xe7\\x9e\\xc4\\xad\\xe6\\xbb\\xbd\\x1a\\xdf\\xa6\\xde\\x1d\\r\\xa5\\x84\\x9bKy?dk9g\\xc9\\xa5\\xcb\\xda\\x94\\xec\\xa9\\xd5\\xadQE(Sry\\xa8\\xf3\\xb7\\xcc\\xe9\\xc7/\\x93\\xe7\\xedJV\\xb5\\xae+W\\x94\\xa79T\\x9b\\x9f\\x96\\xf6yo\\xbb\\xf6;<\\x96\\xf6\\xf5f\\x85J\\x1fvQ\\x95\\xbfB\\xc6z\\xa17\\x95\\xfa\\xf2Q\\x7f\\xc3\\x11v\\xbe#\\xa7W=p\\xad\\x16\\xd4\\xb1\\xca\\xef\\xf9\\x90\\xbe\\x9e\\xc5Jx\\xb7\\x8fw\\xdb\\xe6m\\x93\\xe1\\'\\xd5-\\xdfu\\xd5\\xd2\\x97\\xfb\\x80\\xf9\\x8b{,?\\xf0\\xc9\\xe7\\xf4`\\x12}\\x9bO+)\\xae\\xe8\\x05%\\xb1\\x06m\\xe2\\xf4\\xb2V\\xe3\\x89\\xd7\\x97\\xa6G\\x97\\xca\\xf6x\\\\UO\\x89\\x9e\\r>\\x84Fa\\xb3\\x16!\\x143\\x01\\x97\"%hY\\xf2\\x8fF\\x1e\\x7f#\\xa2\\xb2\\\\\\x1e\\xac\\xbc{lR[\\x1d\\\\j\\xcc\\x11Q,QPi\\x04\\x1a\\x08p\\x1c\\xa1\\x00\\xcd\\x00\\r\\x00\\x12\\x02)\\x01\\x1bD\\x02\\x00\\xb0\\x05\\x80\\xcd\\x00,\\x01`ES\\x803nV\\xcc\\x8a\\xe6\\xa4\\x8f\\x03\\xea#h\\xa8\\x8e|\\x1a\\x89UjD\\xeb\\x97\\r@$\\xf2j\\xb3\"\\xc5:y9\\xda\\xed\"\\xf5\\x1b\\\\\\xae\\x04J\\x96v\\x8e\\x0b\\xa9\\x0b\\x12P\\xac5\\x83\\x86\\x9e\\x8c\\xd4s\\xa6IK\\x03\\x184\\xcdu8\\x97\\x1b\\x11\\xa34\\x03`\\xa1c\\x04AD\\x96,\\xa9V\\xe8\\xcd\\x8d\\xcai\\xc7$i\\x17\\x96^\\x9c\\x1cc\\xb1\\x142\\x89ef\\xc7C\\xe1\\x8a\\x9d5p\\xfd\\xcfO\\x86\\xbc\\x9f\\x91\\x9f\\xa7\\xa7i\\xf5\\x13\\x82=\\xb1\\xf3\\xb5\\x1a\\x88\\xd3\\x07\\x01\\x00\\xe0 \\x10\\x0e\\x00\\xc9u8\\xc7\\xb4\\xa5\\x87\\xfd\\x7f\\xd0\\x08\\xd3\\xebNOv\\xf0\\xd7\\xd5\\xf1\\xfa $\\xe8\\xcb\\xcc\\xa5)?\\x9b\\x02\\x14\\xbdT\\x7f\\xcb\\x0f\\xf5\\x03\\xc7\\xfe\\xd6*\\xaf\\xedM&\\xdb\\xb4\\x9c\\xa5/\\x9e\\x0ck\\xda\\xc7$\\xb4*o\\xc2\\x1f\\xf8\\x8e\\x84\\x9c\\xeb\\xf9\\xae\\x9c\\xe3%\\x95\\x06\\xdb\\xdf\\xf4\\xc1\\x9b\\xf5:\\xe9\\x9f\\xbb\\xc75\\x1f6\\xad\\xc4]Y\\xcaX\\xdbvg\\xad\\xfc^\\xb1\\xe1it\\xe9\\xb6\\x90\\x8f5\\x17S\\xfa\\xe7\\x08\\xe3\\xb7\\xa3\\xc7\\xe9\\xe8\\x16;6\\xa2\\xf1\\x08>\\x9d\\xb9\\x9c\\xbe\\xa4\\x8bWU%&\\xeaMe7\\x9c/\\xe2\\x7f/\\x91\\x7f\\xfe\\x9f\\xff\\x00\\r+J}\\x13\\x94\\xa2\\x9c\\xb7d_CVT\\x95E\\x0e\\x9fL\\x163\\xf2\\xc6Y\\xbe3\\xd5\\xba4\\x9c\"\\xbd]\\x0b\\xb4c\\xc2/S\\x82r\\x94c\\x98-\\xd3|vk}\\xbe\\xa8u9\\xfe\\x82\\xad.\\x88\\xd4~\\xcf?\\xeaK\\x1a\\x95\\xca\\xea2\\xfchA\\xf1\\xd2\\xbf\\xd5\\xb2WL\\xfai\\xe8\\x15\\xa5;ES>\\x97\\xbfF\\x161\\xec%\\xfb5\\x9f\\xa7AZ]0qk*\\x11\\x93Y\\xf9c\\x1f\\xd4\\xdb\\x8cQ\\x8c\\xdb\\x9a\\x84\\xa4\\xe4\\xa5\\x9c7\\xd9\\xfb\\x99\\x95\\xd2\\xce.Y\\xbe\\xb8\\xc5\\xaf\\xe6\\xfd\\x9a\\xcf\\xf55\\x18\\xd7\\xd3A\\xd2x\\xe0\\xbcg\\xe4\\xa78\\xca+1xy\\x93\\xff\\x00Bp\\xeaH\\xb7\\xd5%\\x97\\x18\\xa7\\x8cDux<Et$\\xbf\\x89\\x04\\xb3\\x81\\x8biK\\x0f\\x1f\\n\\xca\\xff\\x003+\"\\xa9\\x98\\xac\\xf5\\xcf\\xe4\\x91\\x96\\xa4\\x8a\\xb3\\xd9\\xe6]]X\\xdb\\xa9\\xe4\\xcdn05it[\\xd5\\xc7\\xf3/\\xe8g\\xf4\\xdf\\xed\\xcd\\xe9\\xf6\\xce\\xbf\\x89-\\xa5\\x05\\x9cB=_L\\x13\\xf6\\xb3\\xd3\\xbe\\xb2Q\\x87\\x97\\x14\\xb0\\x9a\\xce\\xdd\\xb2\\xf7;G=zs\\xbe?\\xd5\\x9d\\x86\\x8e\\xd4e\\xea\\xab\\xe8P\\xed\\x8c\\xef\\xfb\\x1a\\x9fu\\xcb_Yx\\xfdZ\\x10\\x8e\\xad(\\xf4\\xa7\\x04\\xba\\xa2\\x9f\\xd3\\'G\\x04\\xd6u\\xea]\\xd5\\x85\\n\\xd2\\xeb\\x85]\\x9ak\\x8f\\x9a\\x03CG^E\\xe4\\x17VU:\\xa9g\\xeb\\xb3 \\xf5\\x9bG)Q\\x8c\\xb3\\xfd\\xdc6\\xfa\\xbd\\xb2j2\\xb5\\x1c\\xfaT\\x12\\xea\\x96T[\\xfe\\x14\\x8a\\t\\xb76\\x92yKt\\xdf\\xf5\\x01\\xa2\\xb3\\x8cg\\x0b)7\\xdf<\\xb0\\x1e\\\\\\x10g]\\xafK%n8\\xadyz$y\\xbc\\xaf_\\x85\\xc4U^\\xa6x4\\xfa\\x19Fa\\xb2\\xc0\\x08\\x00\\x90\\r\\xdc\\xb1+F\\xcf\\xb1\\xdf\\xc6\\xe1\\xe4tV]\\x8f^\\x1e-\\xb6)-\\x91\\xd68\\xac\\xc1\\x15\\x13E\\x15\\x06\\x82\\t\\x00\\xe5C\\x80\\x80f\\x00\\xb0#h\\x08\\xe4\\x04l\\x00`\\x0b \\x16\\x034\\x00\\xb4\\x00\\xb4\\x04U\\x16\\xc0g\\\\\\xad\\x99\\x15\\xcbB\\xa2\\x92<\\x16>\\x9c\\xa7h4\\x8eq5+6 \\x94\\r\\xca\\xc5\\x85\\x1a]\\xc5\\xd2|Va\\r\\x8c\\xda\\xd4\\x8d;>\\x96\\x84\\xa9\\xa8\\x9a\\xb6\\x14ZF\\xfa\\xe7\\xc6UG\\xd1S\\xe4s\\xd4u\\xcd\\x1cd\\xa4s\\xb1\\xd6Q\\xaay@\\x0c\\xa2\\xe2P  \\x10BE\\x12&N5\\x05\\xc9\\x9e5)`\\x8d\\x1b\\x18\"\\x99\\x90^\\xd2\\xae>\\xefr\\xb7\\xeeu\\xf1\\xeb\\x95\\xc7\\xcb\\x9e\\xc7\\xa4\\xe97\\xaat\\xe3\\xb9\\xf41{\\x1f/\\xc9\\x9eWEF\\xaa\\x94Q\\xd5\\xc6\\xa6\\x08p\\x10\\x0e\\x02\\x01\\x002xq\\x97h\\xbc\\xff\\x00\\xa7\\xfa\\x80\\tt\\xa7\\x06\\xf1\\x86\\x92o\\xb3\\\\~\\xa8\\t\\x1b\\x9e>\\x07\\x17\\xdd\\xbe\\x10\\x11\\xec\\x9a\\x97\\xf0\\xc5~\\xc9m\\xfb\\xb0<\\x83\\xed\\'O\\xabu\\xe2\\xcd*\\x19\\xc2T\\xda\\xfc\\xdeLk\\xda\\xc0x6\\xde\\x95\\xef\\x85\\xb5]\\x12\\xaaY\\xeb\\xcc~\\xa3\\x9d\\x9cj^^\\xb8;\\x9d:V\\xf3\\x92\\xc6\\xf1md\\xf3\\xf5\\xeb\\xe7\\xd3\\xb3\\xf0\\x9d\\xcfU\\x85\\xb4\\xa3\\x8e\\xaaRp\\x7f\\'\\x9c\\xa2mq\\xfe=3O\\x97T\\x1b\\x84<\\xcar\\x97V3\\x86\\x9fr4\\xd8\\x87S\\xdd\\xc2Y\\xe1b;$9i\\xf5\\x12\\xf4\\xa9\\xc2Q\\xdd<wX\\x1c:l\\xaf7\\xaf\\xf8d\\xb2\\xfe\\x8da\\xff\\x00C]N}&\\x82x]I\\xb5\\xfc\\xd1\\xdd1\\xc5\\xe8\\xd55\\xd1,q\\xd6\\xff\\x00\\xfbMH\\xc5\\xbfa\\xbaJ1\\xab\\xff\\x00}\\x852\\xe25|\\xcbT\\xa1N<\\xcb\\x0b\\xff\\x00\\xea\\xcc_n\\xf9\\xf4\\xd9\\xd1h\\xf96\\x10_\\xe0D\\x8b\\xafM\\xfa\\xd1mU\\xff\\x00,\\xbf\\xa2:\\xb8E\\t\\xc7\\xa6\\xbd?\\xab\\xfe\\x8c\\xc7\\xed\\xd2\\xfaK\\xa7U\\xf4\\xaf~\\xa8\\xff\\x00\\xf6\\x96Vu\\x1a\\xf1\\xb9Y\\xc2R\\x97\\xbe\\x11\\xb9\\\\\\xaeC$\\xa5\\x84\\xb9\\xdf+\\xdb/b\\xb1\\xf7\\tE>\\xa7\\xef&f\\xc7IC?J\\x8b\\xf6\\x92fV\\xa3M\\xfa\\x96\\xd9\\xcf\\xee\\x9e\\x7fr\\xa7\\rR\\xa4\\x9e\\xed5\\x84\\xd2\\xf9\\xb2*\\xac\\xdfJ\\x8aKn\\xa6\\xff\\x00$\\xb1\\xfdL\\xdfMOn\\x7fZ\\xa9\\xf83_\\xe3K\\xf63\\xfak\\xf6\\x8f@\\xb4\\xab+\\xd9U\\xa3\\x15\\xd5\\xe5E7\\xec\\x87/~\\x96Y\\'\\xdb\\xa0\\xeav~K\\x9c\\\\\\x9c\\xa3\\x1d\\x97\\xbe\\xe6\\xfd1\\xde\\xfay\\'\\x8e\\xf5i_j\\x9eD\\x9f\\xa6\\x82k\\t\\xf0\\xd9\\xd7\\x13\\xeb\\xae\\x1e[\\xf7\\xc6\\x1eS\\xd5&\\xde\\xfe\\x8f\\xff\\x00\\xc9\\xb7$z_\\xfev\\x8b\\\\)\\x7f\\xa1\\x05\\xfb\\x14\\xdd\\xdc\\xe0\\x96\\xf2\\xafM\\xfe\\xe0z\\xf5\\xa3r\\x8c\\xe3\\xdeQX\\xfa\\xad\\xf0j2\\xb9\\x04\\xdca\\xd1\\x87(g\\x0b\\xf9\\x93(|>\\x9cyR\\x8c{\\xa4\\x9b\\xc8\\t4\\xd6S\\xd8\\x08\\xa5Wl\\xe3\\x0b\\xe6\\x05;\\x97\\xd5\\x06\\xf8\\xf935\\xa8\\xe35\\xd5\\xe8\\x91\\xe6\\xf2\\xbd~\\x17\\x0fUz\\x9f\\xd4\\xf0\\xe9\\xf4r\\x8b\\x07:\\xd9\\xf0\\x14\\x9a\\x029\\x00(\\xb1+J\\xcf\\x94w\\xc3\\x87\\x91\\xd1Yp\\x8f^\\x1e\\x1d\\xb6)p\\x8e\\xb1\\xc5f\\x08\\xa8\\x99\"\\xb24\\x01\"\\x87\\x08p\\x10\\x0c\\xc0\\x16\\x04r\\x029 #`\\x03\\x00Y\\x030\\x05\\x80,\\x01h\\x08\\xe7\\xc0\\x19\\xd7+\\x92+\\x80\\xb4\\xbcSKs\\xcb\\xac\\xbd\\x98\\xdbR\\x9c\\xd4\\x91\\xca\\xc7\\xa2S\\xb8\\xe4\\x9dh>Yef\\xc1F8/N%Q\\'W\\x89)\\xcd\\xd2\\x9ak\\x81*X\\xb1*\\xbdp7+\\x9d\\xca\\xac\\xe8\\xca{\\xe0\\xbe\\xd9\\xf4\\x83\\x12\\xa7-\\xc5\\xca\\xcd,\\xc2\\xa6Q\\x8b\\x1d&\\x8am4e\\xa4,)\\xc8\\x11Cg\\x00>@%,\\x05\\x1fQ\\x1a\\xe9\\xb2f\\xb5)\\xcc\\xb4\\x06\\xdc^P\\xeaX\\xe94-e\\xc2J\\x9c\\xe5\\xba=^/\\'\\xe9\\xe3\\xf3x\\xbb\\xf7\\x1e\\x81\\xa7\\xdf*\\x91O\\'\\xb6^\\xbe~\\xb3\\xc6\\xcd:\\x8aH\\xdb\\x9a@\\x87\\x01\\x00\\x80p\\x17+\\x00F\\xe3\\x8es\\xec\\x9aY\\xdb\\xd9\\xae\\xe0\\nQ\\\\8\\xfeP\\x7f\\xd0\\x03\\xe9\\xca\\xc3MG\\x9d\\xf9o\\xe6\\x07\\x9f}\\xa1\\xc6\\x14k[\\xddM\\x7fv\\xba\\xb3\\xdfg\\xff\\x00&t\\xb1\\xc9\\xe87T\\xb4\\xddk\\xaa\\x95U5V\\xb2r\\xd9\\xa4\\xa2\\xd6\\xdf\\xb9\"\\xa0\\xf15\\xb2\\xb6\\xafr\\x9cRnM\\xed\\xf38jsOv/p\\xc6\\xf0\\x9e\\xa6\\xed\\xf5\\x1a\\xb4e\\x87\\t,\\xb8>\\xe1\\'\\xb7\\xae\\xe9\\xd5\\xe98FQ\\xa8\\x96W\\xf1\\xa6\\x9f\\xea\\x8en\\x9fm\\xda\\x15#\\x85\\xf8\\x90\\xfdYR\\xad\\xc6\\xa6\\xf1\\xc3o\\t\\xa6\\xf7\\xdf/\\xfd\\x0bRA\\xc7\\x86\\xf0\\xda\\xe7nS\\xf9\\x08\\xb6,Q\\xc2\\x94e\\xd5\\xber\\xf1\\x16\\x9b\\xfc\\x8d\\xc6*n\\x9e\\x8a}2};\\xe56\\xb2\\xb8\\xc6\\r1\\xfbT\\xbb\\x92\\x94*=\\xf0\\xf8\\xf7\\xe0\\xc5\\xae\\x99\\x8e\"ucq\\xab\\xd2\\xad\\xd4\\xff\\x00\\rt\\xf4t\\xbd\\xde\\xe8\\xc7~\\xdd\\xb9\\xc9\\xc7W\\xa7\\xd2\\xff\\x00\\xa7\\x8c3\\xba\\x8e\\rH\\xce\\x9a\\xae\\x8c\\xaa)I\\'\\xeaMc\\x0fl\\xe3\\x9f\\xd0\\xe9\\xc7\\x9f\\xe5\\xf7\\xc5[\\x9a]\\x13\\x8c\\x9f\\xf0\\xbd\\xff\\x00C\\x1c\\xe3\\xaf{\\x14-\\xdf\\x97\\x85\\x19\\xc6MI7\\xd2\\xf2\\x92K\\x04k\\xda\\xc2\\xaf)auo\\x1eb\\xd3\\xdf~A\\xc5\\xbb;\\xc8V\\xcca%\\xd5\\x1d\\xb8\\xe9Q\\xfc\\x8b\\x9d1\\xbf\\x1d_m$\\x92\\xe1\\x1b\\xb5\\x89\\x11\\xcb\\x12Mvf\\x1bC<\\xac\\xa9\\'\\xfele5\\xf3A\\x10\\xed\\xb6\\x1a\\xff\\x00\\xe9\\x8b\\xcf\\xea\\xf8 \\x8a\\xab\\xc2m\\xe1m\\x84\\x97df\\xb5#\\x9c\\xd51)8\\xca]=RM<e\\x11kCGUi\\xd2\\x9dZ\\x0f\\t\\xa5\\x14\\xda\\xe5%\\xc8\\xbd\\xef\\xd1$\\xe7\\xda\\x96\\xa7\\xad\\xbd.\\xce\\xa5\\xe5\\xe5LN\\x0b\\xa2\\x9c\\x1a\\xf8\\x9e\\xf8\\xc7\\xd4\\xde{k;\\xe6c\\xc5\\xaen*W\\xaf^\\xa5Yfs\\x9b\\x93o\\xdd\\x9d\\xe3\\xc9~\\xd6#sC\\xcc\\x95\\xca\\xa9\\xebp\\xc7\\x97\\xd2\\xf3\\x9cc\\xf4*&\\xd2\\x1d8U\\xf3*g\\xa5I<\\x81\\xa1m\\xd3\\x1b\\xeaIT\\x84\\xa5:\\xd0k\\xa1\\xe7d\\xfb\\x92\\x8fX\\xb2\\xde\\xac\\xe9\\xee\\x9eS\\xcf\\xb1\\xa6kE\\xc5e\\xa9l\\xde\\xef1\\xcc[\\xff\\x00B\\xa1\\xb0\\x93_\\x89\\x15\\xf4o 3\\x8fTg\\xdb\\xa9\\xbc|\\xb2\\x15\\x04\\xbb\\xa6\\x92\\xcbow\\x86\\xb3\\xd8\\n\\xd5\\xa3\\x8ao\\xfd~\\x983Z\\x8eC]^\\x89\\x1e\\x7f+\\xd7\\xe1\\xf6\\xe1k/[\\xfa\\x9e\\x1d>\\x86P\\xf79WH$F\\x8c\\xca\\x88\\xe4\\x00.DJ\\xd1\\xb3\\xe5\\x1e\\x8f\\x1b\\x87\\x91\\xd1\\xd9v=xxv\\xd9\\xa5\\xc1\\xd68\\xadC\\x82\\xb2\\x95\\x15\\x06\\x80$\\x8a\\x87\\x01\\x00\\xe03\\x00X\\x11\\xb0#\\x90\\x11\\xb0\\x01\\x80,\\x06d\\x02\\xca\\x05\\x90\\x0b\\x029\\xf0\\x06}\\xcf\\x0c+\\xc7,\\xaf\\x1c$\\xb7\\xd8\\xe7\\xac\\xf5\\xbc\\xeb\\x8e\\x8e\\xd2\\xe9J+s\\xcf\\xac\\xbdx\\xdbR\\x9c\\xd4\\x91\\xca\\xc7yR\\xe3c-\\x07\\x05\\xeapq\\n&\\x84JQx\\xd8\\xd7Y\\xab\\xd4\\x94]3R\\xb1b\\xad\\xdd5\\xd2\\xce\\x92\\xb9\\xd8\\xcbW\\x0e\\x9c\\xb0\\xc9cR\\xa5\\x8d\\xc7Q\\xce\\xc7YR)d\\xcbC\\x8b\"\\x89\\xa2tF\\xf6\\x1dSd\\xa1u` \\xe3 \\xa2L\\x8b\\x0f\\x935\\xb8\\t2)\\xa19S\\x9a\\x94^\\x1a\\x12\\xf1\\x9b:\\xec\\xb4\\rk=0\\x94\\xb7G\\xb3\\xc5\\xe4\\xfd<>\\x7f\\x17\\xee;\\xbb+\\xb58\\xa7\\x93\\xd9+\\xc3\\xac\\xf1\\xab\\t\\xa9#L\\x08!\\xc0@ \\x1c\\x04\\x02\\x01\\x01\\xc1\\xfd\\xa5\\xda\\xca\\xb6\\x95N\\xa4w\\xe9\\x9fK\\xff\\x00\\xeaX3\\xa5\\x8f\\'\\x94n,\\xec\\xe8\\xdeC\\xab1j\\x95H\\xbe\\xcdn\\x8c\\xb4\\xean\\xba5\\xed\\x1f\\xef\\xf0O\\xcd\\xa6\\x92\\xab\\x0f\\x97\\xb9\\x8d\\xe7\\xbfn\\xde/\\'>\\x9c}\\xc5*\\x16\\x97\\xf4n\\xed\\xa5\\xb2{\\xfd;\\x9c\\xba\\xf4=#\\xc3\\xf7\\xeap\\x84z\\xb3\\x836}\\xb7/\\xd3\\xb4\\xb4\\xab\\x95\\x94\\xfb\\x08U\\xd8O+\\x92\\x8b\\xb4^\\xc9\\x963V\\xa9\\xbc\\x1aJz\\xb5\\x1a](Z\\x921\\xf5\\x8a\\xbeE\\xa3\\x97V\\xf2j(\\xcdo?u\\xc2_\\xde\\xce\\xcfQ\\xa7QEt%\\xfb\\x98v\\x8e\\xcbE\\xd4\\xe8\\xde[\\xc6\\xa4\\x1e\\xfd\\xd1\\xd75\\xcbq\\xd1\\xd3\\xbe}\\x1d=\\x9a:|\\x9e{\\x89\\xde\\xb3\\xefo \\x9fJy\\x931k\\xaeb\\xb5\\x15\\x17\\x16\\xdb\\xeee\\xb1Sk\\xef0\\x8a{\\xb7\\xc1?k\\xfaI{o*\\x9f\\x8fA\\xf4W\\x87\\rq%\\xec\\xc9\\xa9\\xfb\\x8b\\x8ds\\xea\\xfaY\\xb0\\xbb\\xfb\\xc5\\x14\\xe4\\x9a}\\xd3\\xec\\xcb\\x9dv1\\xe4\\xc7\\xc6\\xadK\\x194\\xc1\\xa4\\xfd\\xc8\\x88\\xa5\\x84ER\\xb8y[\\x19\\xab\\x1c\\xfd\\xf2~j\\x0b[\\xbal\\xa1ON\\xa6\\xdbY\\xc6K\\x11\\xe5_h\\x1a\\xdd;\\xfdv\\x16V\\xd5\\x14\\xe1l\\xb3S\\x0fn\\xa7\\xff\\x00\\x07LO\\xdb\\x97\\x96\\xfe\\x9c%i\\xbf\\xbc\\xc9{\\x9d\\x1c\\x07I\\xee\\xd3*.\\xdaM\\xafK|\\xbd\\x8a6hF\\x14\\xf5;\\x04\\xdeS\\x92\\xea\\xfa\\xe4\\x94z\\xe5\\x96\\xf5]E\\xff\\x00h\\xd3->\\xe8\\xa1\\xd8\\x00\\xc0\\x17\\xc0\\x14n\\xb8fkQ\\xc7k\\x8b\\xd1#\\xcf\\xe5z\\xbcN\\x12\\xba\\xf5\\xb3\\xc3\\xa7\\xd0\\xca$\\xb79WXs-\\x86EDR*\\x05rX\\x95\\xa3g\\xca;\\xe1\\xc3\\xc8\\xe9,\\xb8G\\xaf\\x0f\\x0e\\xdb4\\xb8:\\xb8\\xd5\\xa8\\x15\\x94\\xa8\\xa84\\x10H\\x07(p\\x10\\x0c\\xc0\\x16\\x04r\\x029 #`\\x03\\x00X\\x02\\xc0f\\x00\\xb2\\x01`G5\\xb0\\x19\\xf7+f\\x15\\xe0\\xf4\\xe6\\xe3\"\\r{+\\xc7\\x16\\x96Nz\\xcf]q\\xae:KK\\x95$\\xb7<\\xfa\\xcb\\xd7\\x8d4\\xe1>\\xa4q\\xae\\xf2\\x9d\\xa2uxu\\xb1A\\xa6P2x\\x0c\\xd8\\x92\\x8d\\xcfB\\xc35+6\\x15\\xc5u8`\\xd4\\xac\\xfcY\\x15\\xe9\\xb6\\xdb7+<C\\n\\x8e\\x0f\\x0cX\\xb2\\xad\\xd3\\xaas\\xb1\\xb9V\\xa0\\xf2\\x8cX\\xd4I\\xd8\\xcdi\\x1c\\xb6 \\x06h6J\\t0\\x1f\\xa8\\x07\\xea\\'\\x16S6f\\xc6\\xa5$EMF\\xbc\\xa8TS\\x8b\\xe0\\xb9\\xbc\\xac\\xeav;\\x8d\\x0bZU#\\x14\\xe5\\xb9\\xee\\xf1y:\\xf9\\xfeo\\x17\\x1d\\xb5\\x9d\\xd2\\x9cV\\xe7\\xa6W\\x8e\\xc6\\x8cd\\xa4\\x8d2p\\x84\\x03\\x80\\xe0 \\x10\\x08\\x0c\\x1f\\x15Y\\xca\\xff\\x00C\\xbb\\xa3\\x05\\xeb\\xe9R\\x8f\\xd5nK\\xe9c\\xcb+\\xd8J\\xa5\\x8dU?\\xee\\xaa\\xfae\\xfe\\t\\xae\\x19\\x95V\\xf0m\\xe2\\xb3\\xadZ\\xca\\xed\\xff\\x00{\\xd5\\x07\\x91\\x06f\\xbd\\xa3=:\\xe2\\xac!.\\xaa3\\xf5C\\xe4p\\xdey^\\xbf\\x1e\\xbeQ{\\xc3\\x1a\\x84\\xa3N\\x93o-z_\\xe4b\\xfd\\xc7\\\\\\xdeW\\xa6\\xe9\\xb7]T\\xe3\\xea\\xd9\\x927[\\x14\\xe6\\xfa\\xb6\\xe3\\x05E\\xfa3\\xf4\\xa4\\x9f\\xe4\\x11o\\xaf\\xa6\\x19l\\xbdNuF\\xa5\\xcbu\\x1e\\xe6z\\xeb3\\xf4\\xc3\\xf1d\\xee\\xaaip\\x9d\\xac]I\\xd2\\x9f[\\x82\\x7f\\x12\\xef\\xf9\\x8d_\\xa6\\xbcrw\\xed\\xe6\\xba\\xae\\xb7}Z\\n\\x14\\xac*y\\x8fo\\xc5\\x8b_\\xfeL\\xca\\xde\\xb3\\xcfF\\xd1<M\\xa8h\\xf5\\xfao\\xed\\'J\\x9c\\xbb\\xc7.?\\xf0k\\xd7\\xa6=\\xfdWiC\\xc6\\xf4e\\x14\\xe1(\\xcb=\\xa2\\xf2\\xdf\\xe4\\x8b\\xf3O\\xf9@T\\xb9\\xf1\\x0e\\xa8\\xdc\\xec\\xa8B\\xda\\x0f\\x89\\xd5\\x8ee\\xfap;i\\xfc3\\xed\\x15\\xbd\\x87\\x8c\\xe1U\\'}\\x19\\xc7\\xba\\x958\\xa5\\xfb\"^\\xb7/\\x8d\\xd9h\\xd67Tq^\\xf6\\xaa\\x9dla(\\xac$\\\\\\xcb\\xfbr\\xf2j_\\xac\\xb6R\\xe4\\xd3\\x97Ui\\xd3\\xf2n$\\xa3\\xb2o&=WK{\\x17\\x97\\x194\\xe4v\\xb2TCS\\x8d\\x89UJ\\xb7\\xc2\\xdf\\xb1\\x95`\\xdd\\xb4\\xea6\\x8a<G\\xc4>8\\xf1\\x15\\x1d^\\xfe\\xc2\\x86\\xa1*v\\xd1\\xab(EE,\\xa5\\xf5:\\xcf\\x1c\\xf6\\xe1\\xaf6\\xe7\\xd4g\\xe8\\x93\\x94\\xa9\\xd4\\xa9RNS\\x93\\xcb\\x93ym\\x9br\\x1d\\xcc\\xba/\\x168aS\\xd3~\\xb7\\x92\\xa2\\xfci\\xc9S\\xa5U/O\\x1f@4\\xf4\\xc7\\xe7k\\xb6p\\x7f\\xfb\\x88#\\xda,b\\xdd<\\xb5\\xbf\\x06\\xd9]Y\\xd8 \\x9eB\\x83|\\x00\\xcf\\x80(\\xdd|,\\xcdj8\\xfdqz$p\\xf2zz|^\\xdc%u\\xf8\\x8f\\xeax4\\xfa9B\\x91\\xca\\xbbd\\x8c\\xb4\\x19pTC#H\\x04\\xf7\\x0c\\xd6\\x95\\x93\\xdd\\x1d\\xf0\\xe3\\xe4t\\xb6<#\\xd7\\x87\\x8b\\xc8\\xda\\xa5\\xc2:\\xc7\\n\\xb5\\x02\\xb2\\x95\\x15\\x06\\x80$T8\\x08\\x04\\x02`\\x0b\\x026\\x04r\\x026\\x000\\x05\\x80,\\x06`\\x0b\\x00X\\x11\\xcf\\x82\\n\\x17+f\\x15\\xe0dT\\x94\\xaa8\\xb06\\xac/:ZM\\x9c\\xb7\\x97\\\\k\\x8e\\x92\\xd6\\xe1I-\\xcf6\\xb2\\xf6ck\\xf1}H\\xe4\\xed)\\xf0\\x14\\xb2T&\\xf2\\x80\\x82[2\\xc6l$\\xcd e\\x1c\\xa2\\xca\\x9cR\\xadO\\x1b\\xa3r\\xb3b:u\\x1axl\\xb63+B\\x85L\\xa3\\x9d\\x8e\\x92\\xac9ls\\xb1\\xb8\\x19K$\\xe2\\x80\\xa1\\x14 \\x12`\\x1a\\x012\\x1d18\\xd4\\xa4\\xde\\x07\\x0e\\xa6\\xb4\\xbd\\x9d\\xa5e(\\xbd\\xbb\\xa3\\xa6{+\\x96\\xe4\\xb1\\xe8:\\x16\\xb3\\x1a\\xd0\\x8f\\xa8\\xf6\\xe3]|\\xff\\x00&8\\xec\\xadnT\\xe2\\xb7;J\\xf3\\xd8\\xba\\x9eQY8\\x0e\\x02\\x01\\x00\\xe00\\x11N\\x9a\\x9c*E\\xf7\\n\\xe15\\x1d:\\x95\\xae\\xa9V\\xdek\\x14.\\xe3\\x8c\\xfbK\\xb3\\xfdL\\x8e\\x1fU\\xb0\\xab\\xa6^N\\xa5M\\xa7\\t%&\\xbfi\\x11Z7\\xb6\\xcbT\\xd2!V\\x9c\\x94\\xa7\\x15\\xef\\xfb\\x19\\xde~Q\\xd3\\xc7\\xbf\\x8dr\\xbaT\\xdd\\xbd\\xedki\\'\\x19\\xc2I\\xb4\\xce<\\xe3\\xd35-\\xfazN\\x89[4\\xa3\\xbeNn\\xae\\xaa\\xdb.\\x0b\\x05\\x17\\xe9\\xbc4\\x05\\x89\\xc9\\xf9x\\x0b=\\xb3*\\xc9\\xa96GN\\x81O1\\xc3Y^\\xc5f\\xd4R\\xb1\\xb7\\xad<\\xf9Qo\\xe8D\\xf9S\\xbf\\x0fP\\xbb\\x8f\\xae\\x8cZ\\xf6h\\xb3=f\\xef\\x89\\xad|3gm[0\\xb7\\xa7\\x17\\xceR72\\xcd\\xf2Z\\xdf\\xa3mJ\\x9c0\\xa2\\x8dq\\xcc\\xce+/c<h\\xbe@\\x1a\\xeeP\\x15!\\xeaR3cR\\xa4\\x8f\\x01(\\xb8+(*\\xfc\\x1brJ\\xb1\\x9dq,FFZs\\xd7\\x95:i\\xd4\\x9f\\xb2l\\xb3\\xd9}>s\\xd6*\\xf9\\xda\\x9dj\\xb8\\xf8\\xe6\\xe5\\xfa\\xb3\\xd2\\xf0\\xdfm\\x9d\\x1a\\tY\\x7f\\x89\\x91\\xa9\\xe9\\x16\\xa0\\xfa+Gp\\x8b6\\xef\\xaa\\x19\\xee\\x8aV\\xf4\\xe3\\x18\\xe8\\xd6\\xf3\\x83\\xcf]G\\x16\\xbd\\x98D\\xd6p\\x95\\rr\\xda\\xac7t\\xdc^=\\xc0\\xf6}6}v\\xb0\\x9fi\\x1a\\x8c\\xaf\\xaeQP\\xef\\x80\\x1b\\x1b\\x05\\x04\\x80\\xa5u\\xf0\\xb35\\xa8\\xe4\\xb5\\xb5\\xe8\\x91\\xc3\\xca\\xf5x\\xbd\\xb8:\\xeb\\xf1%\\xf5>~\\x9fG1]\\x9ck\\xb43#@\\x91\\xb8\\xcdW\\x9c\\x8d3Q\\xa9nTj\\xd8<\\xb4u\\xc3\\x8e\\xdd=\\x8f\\x08\\xf5a\\xe2\\xf26\\xa9p\\x8e\\xd1\\xc2\\xad@\\xac\\xa5EA\\xa2\\x87A\\x0e\\x03\\x80\\x80L\\x00`\\x03\\x029\\x01\\x1b\\x00\\x18\\x02\\xc0\\x16\\x030\\x05\\x90\\x0b(\\x8e|\\x10Q\\xb8[0<\\x0b\\x04h\\x80\\x9a\\x8dW\\x19-\\xc7\\x0e\\xb7\\xf4\\xfb\\xde\\x13g\\x1d\\xe1\\xdb\\x1bt6\\xd5\\x94\\x92\\xdc\\xf3k/^6\\xb8\\x9eQ\\xcd\\xdeP\\xcbb\\xa1\\xb2P\\xcd&D\\x03\\x8e\\r2dQ\\x1dJ}HJX\\xcf\\xadI\\xc2YGI\\\\\\xacKB\\xa9,j/B\\xa6Q\\xce\\xc7Hw\\xeeeK\\xb1T\\xc0$\\x01`\\x80\\xe2\\x8a\\x1d\\xa2\\xf1\\x02\\xd6\\x0b\"u\\x1c\\xa5\\x83S,\\xdd+\\xca{\\x9b\\xf8\\xb9\\xdd4t\\xadBv\\x95\\xe3\\xea}97\\x9f\\xa7=}\\xbd;E\\xd5#Z\\x9c}G|\\xde\\xbc\\x9b\\xcf\\x1dM\\xbdu(\\xad\\xce\\x8eui\\x15\\x92\\x01\\xc0@ \\x10\\x03\\xda@c\\xea\\xfalo\\xed\\xa5O\\x8a\\x91y\\x84\\x89b\\xb8\\xcdZ\\xcez\\xce\\x97?GM\\xe5\\xab\\xe8\\xad\\x07\\xcc\\xa2Oj\\xe2-\\xef\\xa5\\xa1\\xde\\xce\\xce\\xbb\\x97\\x93=\\xd6\\x7f\\xa9:\\x02\\xe61\\x9e\\xa5\\xf7\\xc8c2\\x87L\\xb1\\xdc\\xc6\\xa3\\xae+\\xac\\xd0+\\xe5F-\\x9ek\\xed\\xed\\xcd\\xecwV\\r\\xbe\\xe5\\x1a\\xd4\\xe1\\x90\\x89\\xa5\\x0c\\xc0,\\xac\\x8b\\x97\\x99\\xc9\\x05\\xea\\x15<$\\x808\\xd7\\x85?\\xe2J^\\xc1fm\\\\\\xb7\\xd5\\xe8\\xd3\\x83\\x8c\\xa9\\xc9\\xfc\\xf1\\xb1\\xa9x_\\x15\\xa3\\x86\\xb9m<\\xf4\\xd2\\x9b}\\x97\\xb9\\xa9z_\\r\\x9f\\xb1\\xc3Z\\xea\\xe9\\xc58\\xc5?y\\xa2\\xf5?\\xe2\\x91j\\n\\xa6\\xd8DO\\xf9\\xa5\\x85\\xc4_\\xd43r\\xb3\\tel\\xc3\\x02\\xe5n\\x02\\x89\\x95\\x1b\\xc3x* \\xaf\\xb2\\xc1)\\x18\\xf7\\xb2Q\\x84\\x88\\xdcr>\\'\\xbev:\\x1d\\xdde\\xf1ym/\\xcfb\\xe2wL\\xf9/2\\xf9\\xf2\\xe5\\xb7S/\\x9c\\x9e\\x87\\x8d\\xd0\\xe8\\x95\\x17\\xdd\\xde\\x7f\\x84\\x8b\\x10\\xea\\xad+\\x88\\xcb\\xdc\\xa2{7\\xd3J]_\\\\\\x04t\\x16qs\\xb6\\x82\\x94_FT\\x92\\xfc\\xca/\\xd8t\\xff\\x00\\xe2z)o\\t\\xd5[d\\x94{\\x05\\xa2T\\xeaJ\\x9c\\x16#\\xf1#l\\xae\\xa98\\xc9el\\x11#\\xdd\\x80\\x98P=\\xc0\\xa7r\\xb6d\\xadG\\'\\xad/D\\x8f?\\x97\\xd3\\xd3\\xe2\\xf6\\xe0\\xee\\x17\\xe2\\xcb\\xea|\\xed\\xfb}<*\\xb4p\\xae\\xf0,*9\\x1b\\x95\\x9a\\xaf5\\xb9\\xb9\\\\\\xea4\\xb7*5t\\xfeQ\\xd3\\x0e{u\\x16<#\\xd7\\x87\\x8b\\xc8\\xdb\\xa5\\xc2;\\xc7\\x9a\\xac\\xc0\"dT\\x12( \\x87\\x01\\x00\\xe03\\x08\\x16\\x04l\\x08\\xe4\\x15\\x1b\\x00\\x18\\x02\\xc0f\\x00\\xb0\\x05\\x80,\\x00\\x90\\x14n8 \\xf0L\\x19l,\\xa8\\x1e\\x02-[Wq\\x92\\xdc\\x96\\x12\\xba[\\x0b\\xbc\\xa5\\xb9\\xc7yz1\\xb6\\xed\\n\\xbdIny\\xf5\\x97\\xb3\\x1a\\xeag\\xba9\\xba\\x81\\xecT \\x85\\xc9@\\xe3\\x0c\\xac\\x89G$U[\\x8aY\\\\\\x1a\\x95\\x9b\\x14>\\t\\x1d\\x19Z\\xa7Sl\\x98\\xb1\\xa8\\xb1\\t\\xe4\\xc3I0F\\x89\\xc4\\x04\\x90Q\\xa4E\\x1aX5\\x19\\xa7gI\\x1c\\xedCRXGI\\x97;\\xa5I\\xd472\\xe5t\\x8b\\xab,\\xd7\\x19\\xeajFlX\\xe8\\xf4MNV\\xd5#\\tI\\xe0\\x93\\\\\\xab\\xacv=\\x1fK\\xd4\\x15XG\\xd4z3\\xae\\xbc\\x9a\\xcf\\x1d\\x05\\x1a\\xaaK\\x93\\xa3\\x9ap\\x84\\x02\\x01\\x00\\xf9\\x00{0#\\xa9\\x1cJ2\\xfc\\x80\\xc2\\xd5\\xf4\\xda\\xb0\\xaa\\xb5\\x0b(\\xe6\\xb4V*S\\xedR>\\xdfR_\\xf4r\\x1a\\xe7\\x87,\\xf5\\xeb\\x07Z\\x8b\\xe8i\\xfa\\'\\x8fU)wL\\x9c\\xebO9\\x8f\\xde\\xf4\\x0b\\x9a\\x9a~\\xabM\\xa8I\\xfe\\x15d\\xb61Z\\xc5\\xfbu\\x1a5\\xcaN2O\\xb9\\xe7\\xdb\\xdb\\xe3\\xbfOG\\xd2j\\xf5\\xd3_31\\xd2\\xc7CIzV\\xe6\\x98IRx\\x8b\\xdc\\x0c\\x1a\\xd3\\xc4\\xaaJ]\\xbb\\x86\\x9c\\xfd}r\\x8c+y}Y\\xdf\\xb7r;\\xe7\\t)\\xddW\\xae\\xd7\\x97\\xd0\\xb2\\xb1\\xebxh:\\xccF\\x94m\\xae\\xebC.\\xbc\\x16W\\x11\\x89\\xaeS\\xea \\x86\\x9d{n\\xa5/\\xbd\\xd1\\x9fS\\xe1\\xd1\\xcb\\xfc\\xdfP\\x92\\xc5\\xb75+\\xa1x\\xa2\\x97\\x9f\\x04\\xfd\\xe3\\x02\\xf2\\xa7\\xf14>\\xfbI\\xcb\\xaa\\xa4f\\x9f\\x0b\\xa3\\xa7\\x1f\\x9a\\x1fifSR\\xbc\\xba\\xa76\\xaa\\xc1aw\\x8b\\x0ew2\\xfali\\xd7\\xf0\\xad\\xb3\\x9e\\xfc`J\\xf3\\xf91\\xc6\\xafZ\\xe9\\xe4\\xaep\\xf0\\x96Z\\xc1\\x14N^\\xa0\\x88._\\xa7(R05*\\xb8x0\\xdcy\\x97\\xda6\\xa8\\xa1moc\\x17\\xea\\xa8\\xfa\\xe6\\xbeK\\x83\\xaf\\x8a~\\xdc|\\xd7\\xf4\\xf2{\\xc8\\xf4\\xcd{\\xf2uy\\xda\\x9aL\\x9ci\\xcb|\\'\\x825\\x12j\\xeb\\xa2T\\xf3\\xfa\\x95*\\xcd\\x18\\xa9B8\\xfeP\\x8d\\x9b[\\x89\\xc24b\\xdeSI`\\x0bv\\x93\\x94<IFX\\xf8j\\xad\\x90\\xa3\\xda-\\xb6\\x92\\x9a\\xde-\\x1be}I6\\xbea\\x06\\x96\\xe0;AB\\xc0\\xa7s\\xf0\\xb2V\\xa3\\x94\\xd6W\\xa2G\\x9f\\xcb\\xe9\\xe9\\xf1{pw+\\xf1e\\xf5>n\\xfd\\xbe\\xa6=*3\\x85w\\x80`\\x03F\\xa2!\\x9cw5\\xd6l\\x02\\x86\\xe5\\xeaq\\xa9b\\xb0\\xd1\\xd7\\x15\\xcb\\xc9\\x1d5\\x8f\\x08\\xf6a\\xe0\\xf26\\xa8\\xf0\\x8e\\xf1\\xe6\\xabP4\\x89PA\\xa2\\x87\\x08p\\x1c\\x04\\x03\\x043\\x029\\x01\\x1b\\n\\x8d\\x80\\x0c\\x01`\\x0b\\x00X\\x0c\\xc0\\x16\\x00H\\n7\\x0bfA\\xe0\\xcd\\x18t\\x03Ed\\x0c\\xa8x\\xec\\xf2\\x06\\xa5\\x95w\\x16\\xb73[\\xcb\\xa4\\xb3\\xb9\\xd9nq\\xd6^\\x8ci\\xa9N\\xa2\\x92<\\xfa\\xcb\\xd5\\x9du#Y0\\xe8\\x0c\\x15)\\xd1P\\xee9\\t\\xc2H(*\\xc71\\x11+2\\xb4=GIX\\xe1\\xa9\\xe5\\x12\\xd6\\xa4X\\x83\\xc1\\x9a\\xd7\\x16i\\xcb&U.\\x08\\xd1\\xfaIB\\x11D\\x8e\\x91\\x8d\\x13\\xe0\\xeb\\x1c4\\xa7]\\xb3\\xb6\\\\t\\xa36\\xf2m\\xc8\\xf4\\xd3l,[\\x87c\\x15\\xb8\\xb5\\x07\\x8c4\\xf7G+]\\xb3\\x1d6\\x83\\xab\\xbasT\\xe7.\\rx\\xf7\\xf7\\xc6<\\x9e>\\xce\\xbb\\xeb\\x0b\\xf5R+\\xd4z\\xa5xu\\x9e6)\\xd7R\\\\\\x9bc\\x89UD\\x01u\\xa0\\x85\\xd6\\x80|\\xa7\\xdc\\x04\\x97;\\x80\\xa6\\xb3\\x0c\\x01\\x12nK\\xf6h\\x0c{\\xfd\\x11\\xc2\\xbc\\xaft\\xe6\\xa3Y\\xff\\x00yE\\xfc\\x15W\\xcf\\xd9\\xfc\\xc9\\xcf\\xdc\\x1c\\xd6\\xb1\\xa2\\xdak\\xba}J.\\x8fEu\\xcd\\n\\xbbJ/\\xe4K:\\xb2\\xb8\\x88YOF\\xaf\\x1biNR\\x8e6l\\xf3\\xf9\\'\\x1e\\xcf\\x0e\\xbb\\x1d\\xe7\\x87\\xae\\xfa\\xe1\\x08\\xb7\\xdc\\xe2\\xf5_\\xb8\\xeem\\xbdT\\xf2\\x8d\\xc7*\\xadsS\\x12qD\\xebR9\\xedn\\xe3\\xee\\xd6\\x95\\x12Y\\x9c\\xf6Is\\x92Z\\xdeg\\xdb\\x94\\xd3tK\\xc9\\xd6\\xf3\\xea\\xc9)\\xc9\\xfe\\x8b\\xd8:\\xcd\\xc9\\xed\\xd1\\xd2\\xb0\\xabG\\x0eN<\\x1a\\x8d\\xcf.kB\\x85\\xe2\\xa3\\x858e/\\x99\\xa9\\xa5\\xb3\\xab\\x0bT\\xb5\\x93I\\xd2YK\\xdc\\xd7\\xca1|z\\xff\\x00R+\\xf8O\\n\\x9d:q^\\xe3\\xe5\\x13\\xe3\\xcfu$(\\xd3\\xa8\\xb2\\xe7\\xb9:\\xc6\\xb7\\xc4r\\xd2|\\xdc\\xb5Q\\xe5\\xb6\\xc9Y\\xff\\x00\\xaf\\x15^\\x8fsgS\\xcd\\xa1<\\xfb\\xa7\\xdc\\xc9|\\x93_U\\xb5cr\\xea\\xd2P\\x9f\\xc5\\xdcu\\xca\\xe5\\xa7B\\x18H\\xd4f\\xd35\\x9a\\x81\\x14\\xaf\\'\\xd2\\x9a%X\\xe5u;\\xcap\\xa99\\xca]1\\xa7\\x17)7\\xc6\\x08\\xd5x\\x9e\\xa9\\xa9?\\x10x\\x8a\\xb5\\xdbo\\xca\\xcfM4\\xff\\x00\\x95pz398\\xf1\\xea\\xfc\\xaf\\\\\\xde\\xa4\\xbf\\xea$\\xbd\\x8d0\\xbd\\xa65\\xe5\\xb4\\xfb\\xc54e\\xa8\\xb1\\xad\\xbc\\xd1\\xa1,o\\xd5\\x82\\x955\\xa4\\xb2\\xb8\\xe1$\\x06\\x9d\\xb2\\x8c\\xa5F9\\xdf\\xa9`\\xa3b\\xac|\\xbf\\x11\\xe6\\x1bbk\\x1f\\xa2%G\\xb1\\xd9\\xa6\\xe8G/\\x88\\xa4j2\\xb7G=x\\x7f\\x91E\\x8e\\xe1\\t\\x85\\x0b\\x02\\x9d\\xca\\xd9\\x92\\xacr\\xda\\xca\\xf4H\\xe1\\xe5\\xf4\\xf5x\\xbd\\xb8+\\xaf\\xef\\xa5\\xf5>f\\xfd\\xbe\\xa6=*H\\xe1]\\xe0\\x18P\\xb2\\xc4F\\xd1\\xa467\\x02\\xfd\\x9f(\\xed\\x87\\x0f\\'\\xa7Ic\\xc2=\\xb8x<\\x8d\\xba<#\\xbcy\\xaa\\xd4\\r2\\x9a!\\x04\\x8a\\x08!\\xc0@ \\x13\\x08\\x16\\x04l\\xa29\\x11@\\xc0\\x8d\\x80\\xcc\\x01`\\x0b\\x00X\\x0c\\xc0\\tp\\x05+\\x8e\\x19\\x07\\x83\\xc9\\x1c\\xe3\\xadF\\xd1Y\\x03F\\x90\\xf1[\\x90[\\xa2\\xb0\\xd33Z\\x8dkZ\\xcd`\\xcb\\xa4l\\xdb\\\\p\\x8ez\\xcb\\xb64\\xd1\\xa7>\\xa4y\\xb58\\xf5\\xe6\\xf4rFej\\xc0\\xe4\\xd7Y\\xe0\\xd3\\x08X\\xdc)\\xa7\\x1c\\xa1\\x12\\xa9U\\xa7\\x99\\x1b\\xeb<(P\\xca\\xe0\\xc5\\xae\\x92\\t\\xd2\\xe9\\xecN\\xad\\x84\\x93\\x89YO\\t\\xe7\\x90\\xa3r2\\xa1\\xea\\n8\\xb3R\\xb3a\\xe5\\xc1\\xb9\\xa7=eN\\xb9\\xdf5\\xe7\\xdcT\\x94r\\xce\\xbdq\\xe0\\xa3\\xb1:\\xd4\\x89b\\xccZ\\xdc\\x89\\xa3?\\x99\\xcbN\\xd9X\\xa7U\\xc2JQ{\\xa3\\x97]9\\xd7O\\xa4k\\x8e8\\x8c\\xa4z<~O\\xf5\\xe5\\xf2\\xf8\\xbf\\xc7N\\xbcGkkC\\xcd\\xafZ0\\x82\\xee\\xd9\\xeb\\xcd\\xeb\\xc7\\xac\\xf1\\r?\\xb4=\\x02R\\xe9\\xfb\\xfc\\x13\\xe3t\\xce\\x9f\\x1a\\xe5\\xd8\\xd6\\xb5\\xf1\\x1d\\x85\\xecsmwJ\\xa2\\xff\\x00\\x0c\\x89e\\x8b\\xd8\\xb6\\xb5\\x18\\xbf\\xe2\\'W\\x89#\\xa8E\\xff\\x00\\x10\\xe9\\xc4\\xf4\\xae\\xd4\\xa5\\xb3\\xe4t\\xe2\\xdcg\\xd4\\x8a\\x85$\\xe3.\\xb5\\xf9\\xa0\\x82\\xdaIJ,\\n\\x1a\\x86\\x9fJ\\xeb\\xa6R\\x82\\xeb]\\xc5W\\x03\\xe3\\r\\x02\\x16\\xd6R\\xbb\\xa7:\\x8aT\\xdfWL\\x9eQ\\xcb\\xc9\\x9f\\xae\\xba\\xf8\\xb5\\xcb\\xc6O\\x87\\xf5O&\\xa47\\xd9\\x9eZ\\xfa\\x19\\xaf[\\xd3+\\xc2\\xa5\\xbcd\\x9a\\xc6\\rG=O\\xb0\\\\\\xc6*u*vfkR\\xfd9i\\xe2\\xfe\\xfeu1\\x9aQ\\xda??\\x99\\x9fn\\x9e\\xa2\\xf4)F4\\xb1\\xc6\\n\\xcb:\\xe6\\xad\\xec\\xa5\\xe5\\xdb\\xd0\\x9dYq\\x95\\xb2D\\xedjH\\xafO\\xc2\\xfa\\xdd\\xf4\\xf3^\\xf6\\x9d\\xb4%\\xda\\x0b\\xaa_\\xecjf\\xd6\\xff\\x00\\xe9\"\\xf4~\\xce\\xdfJ\\xeb\\xd5\\xae\\xb2\\xfb\\xfaW\\xfa\\x1b\\xff\\x00\\x9a\\x7f\\xf9\\x13\\xfcL\\xbc\\x05uF9\\xb7\\xd7*\\xa7\\x8d\\xba\\xa3\\x19!\\xff\\x00;\\xfe\\xb3\\x7f\"_q\\x1ct\\xbf\\x12i\\xd3}uh\\xdd\\xd2]\\xe1\\xb4\\xbfFb\\xcdC\\xe5\\xe3\\xd3Z\\xc6\\xfar\\x8a\\xf3\\x14\\xa2\\xfb\\xa6\\x84\\xd3\\x17\\r?23\\x8f\\xd4\\xd7Y\\xe2\\xb7\\xf75\\xd4\\x97\\r\\xeef\\xb5\\xee5iV\\xf4\\xf2jW;\\nu\\xa3\\x04\\xdbe\\xeb<`\\xeaw\\xaa1\\x94\\x9b\\xdb\\x04\\xebr<\\x97\\xc7\\x1a\\xfb\\xf2\\xbf\\xb3\\xe8M\\xf9\\xb5\\xe5\\x8a\\x8d>#\\xeco\\x19\\xfb\\xeb\\x97\\x97_\\\\\\x8eJ\\xc6\\x8b\\xa7Js\\xc2IE\\xe0\\xee\\xf30n\\x92\\x95II<\\xeeAn\\xc7.\\x84\\x1f\\x1d\\x89Z\\x8b\\xba\\xcc_E%\\x8c\\xe6i\\x95)ZO\\xab\\xcc\\x8e~\\x1e@\\xbfI\\xf4T\\xa6\\xdb\\xdf9\\x08\\xd9\\xa5\\tOW\\x9c^T\\xa3\\x158\\xfc\\xf8\\x03\\xd9t\\xb6\\xe5J\\x1dy\\xeaqO\\x06\\xa3-)G\\t5\\xd9\\x95\\x13 \\x19\\xf2\\x14\\xcc\\n\\x97<2U\\x8e_X^\\x89\\x1c<\\x9e\\x9e\\x9f\\x17\\xb7\\x03w\\xfd\\xf4\\x8f\\x99\\xbfo\\xab\\x8fJR8Wx\\x06E\\x0b(\\x8d\\x9aC\"\\xa2\\xf5\\x9b\\xf5#\\xb7\\x8d\\xc7\\xc9\\xe9\\xd2\\xd8\\xf0\\x8fn\\x1f?\\xc8\\xdc\\xa3\\xc2;\\xc7\\x9a\\xad@\\xd3)\\xa2\\x10I\\x14\\x10C\\x80\\x80EC0\\x05\\x80\\x0c\\x08\\xe4A\\x1b\\n\\x06\\x00\\xb0\\x19\\x80,\\x01`\\x0b\\x00%\\xc0\\x14\\xee8d\\x1e\\x1f^\\x83\\x84\\x9e\\xc7\\'eg\\x12\\xb3`\\x1cJ\\x86[2\\xa2\\xc59\\x19\\xadJ\\xbbF\\xa6\\x1a2\\xdbN\\x85^7\\x0b+R\\xde\\xb6\\xd8g\\x1d\\xe5\\xe8\\xf1\\xedyO(\\xf3Y\\xc7\\xaa^\\x85\\xb2J\\xb6\\x14dk\\xa9\\xc4\\xb9\\xca\\'W\\x87\\xce\\xc5N\"\\x94S*pp\\x8aFkPr\\x8ah\\xca\\xda\\xaf(a\\x9b\\x8c\\x83\\x82\\x87\\xeb\\xca\\xc3\\'\\x00\\xb9\\xe1\\x8e\\x1d\\x1cj\\x17\\x8b\\xd1\\xca{\\x08\\x95V\\xac\\x8e\\xd9\\xae\\x1a\\x8a\\xcd\\x9d>NW&\\xea\\xdc|\\x8f\\x8a\\xc5\\n\\x15\\xae%\\xd3J\\x0eFmjF\\xf5\\x97\\x86\\xebT\\xc4\\xab<|\\x8eWQ\\xd6f\\xb5c\\xe1\\xdaJ8\\xe9y0\\xd9\\x97\\x87\\xe3\\tf=H\\xb2\\xf1\\x9b:\\xc5\\xf1\\x0f\\x87o.)y\\x94g9t\\xff\\x00\\xe9\\x9e\\xaf\\x0f\\x9b9\\xbc\\xaf\\'\\x9b\\xc3\\xad}\\xc7\\x05^\\x8dj\\x15\\x1c*\\'\\x19.S>\\x96l\\xb3\\xb1\\xf3\\xf5,\\xbc\\xa6\\xa1qZ\\xdejt\\xaa\\xce\\x12]\\xe2\\xf0i\\x96\\xf5\\x8f\\x8c5\\x8bM\\x9d\\xd3\\xab\\x15\\xda\\xa6\\xff\\x00\\xb9.%Y\\xaa\\xd7\\x8f\\xda%\\xdaK4\\x16\\x7f\\xccb\\xf8\\xa3_:\\xd2\\xa1\\xf6\\xa5\\xe4\\xd2]v\\xb2s]\\x933\\xff\\x003\\xe6\\xd7\\xb3\\xfbb\\xb1\\xc2\\xf3\\xed+A\\xf7\\xc2\\xc8\\xf8\\x9dIw\\xf6\\xd1\\xa7B\\x12\\xf2-kNX\\xdb+\\x03\\x87\\\\\\x95_\\xb6\\x1dnw2\\x95\\x1a4cM\\xbd\\xa2\\xf2\\xcc[\\xc6\\xa4\\xebwI\\xfba\\xab,GS\\xb2\\xe9_\\xcfM\\xe7\\xf63\\xff\\x00I\\xfbk\\xe1Qx\\x97\\xedF\\xcfT\\xb0\\xabeim6\\xeaE\\xc5\\xcak\\x183\\xad\\xcb9\\x1a\\xcel\\xbdr\\x9a>\\xa1\\x9fD\\xa5\\x86\\x8f=\\x8f^+\\xd3|1\\xe2\\x85N1\\xb5\\xba\\x96\\xebe/tc\\xbcu\\xe7]\\x0e\\xb3\\xab(i\\x15\\xe7NK=\\x0f\\xa5\\xe4\\x96\\x93?l\\x9d\\x16\\xba\\x9d\\x92o\\xbcD\\xadU\\xef;/\\xa3\\x0f\\x04\\xea\\xf1\\xa3cV-b+\\x0b&\\xf3R\\xc5\\xe9Tq{=\\xd1\\xbe\\xf1\\x9eub3\\xeb\\x87\\xa9\\xb6\\xd7b\\xf4\\xe7\\x05\\x1a\\xb3Q\\xf4\\x93\\xa9d3\\x9c\\xd2yo\\x04\\xb59\\x19\\xf7=;\\xce\\x9c\\x93\\x97s5\\xb8\\x1b[\\xa5R9R[l\\xd0\\x94\\xd4\\xe0\\xeb\\xd4]9\\x15\"\\xcd*\\xf8\\xa2\\x9b\\xe7\\x04f\\xc5\\x0b\\xedEA5\\xd5\\xb8\\xe9\\xc7\\x15\\xadkS\\xabW\\xc8\\xa4\\xf7|\\xbc\\xf0\\x87J\\xf2\\xdd^\\xaf\\x99\\xa8\\xca\\xab\\xe1g\\x19\\xef\\x93\\xd1\\x8fO\\'\\x93\\xd8\\xea\\xd6t\\xb4\\xe5\\x15\\x8e\\xa9\\xac\\xfd\\x0e\\xaeLJ\\xd0P\\xa0\\xfd\\xf2Af\\xc58\\xdbGe\\xc9\\x16/\\xea\\xde\\xa7J?\\xca\\xcaV}\\x85G\\x1b\\xdb\\xa87\\xd8#[\\xcc\\xcdZi\\xaca\\x14lYT\\x95=f2\\xeaO\\xaa\\x9e\\x1e@\\xf6\\xad>P\\x95\\x0bZ\\xf0{:is\\xecX\\xcbMII\\xb4TH\\xb6@>6\\x01\\x05T\\xb8\\xe1\\x92\\xacs:\\xba\\xf4H\\xe3\\xe4\\xf4\\xf4x\\xbd\\xbc\\xfe\\xf5~<\\x8f\\x97\\xe4\\xf6\\xfa\\xde?J2<\\xf5\\xde\\x01\\x86\\x82\\xca\\x88\\xd9@\\xa2\\xc4\\xab\\xd6\\x7f\\x12;\\xf8\\xdc<\\x9e\\x9d-\\x8f\\x08\\xf6a\\xe0\\xf27h\\xfc\\'\\xa2<\\xb5n\\x05e**\\r\\x14\\x12\\x08@8\\x0cP\\xcc Y\\x000#\\x90\\x11\\xb0\\xa0`3\\x00X\\x02\\xc0f\\x00\\xb0\\x02\\\\\\x01N\\xe3\\x86A\\xe5W\\xd6\\\\\\xecs\\xb1\\xd2V\\x15j.2\\xdd\\x19i\\x03F\\xa35\\x1bX*\\x1dK\\x00ON\\xae\\x198\\xb2\\xae\\xd1\\xb9\\xc3[\\x93\\x8du\\xa7B\\xef\\xe6K\\x1a\\x9a\\xe3V\\xde\\xba\\x9a[\\x9c7\\x87\\xab\\xc7\\xb5\\x9eVO=\\x9cze\\xe8x\"\\x8e2\\n\\x912\\xc434\\xcd\\x0b\\x9e\\x07\\x13\\xa1u\\xd6G\\xc5-\\x12\\x9a\\x92\\x1c:\\tlEC7\\x8d\\xcd\\x1d\\x04\\xa5\\x94Y\\x19\\xb4\\xd1\\x9b5\\xc4\\xe8\\xfa\\xd9\\x9e5\\xd0L\\xb2\\xb3`#JU%\\xd3\\x14\\xdb}\\x8du\\x9e7\\xb4\\xbf\\x0cN\\xbb\\x8dK\\x8c\\xa8\\xff\\x00).\\xd6a\\xd9\\xd8\\xe8\\xf4m\\xe0\\x95:i~G;m\\xf6\\xdc\\x925i\\xda%\\x1e\\x07\\x152\\xb5X\\xe0\\xd7\\x13\\xa2\\xfb\\xa2k\\x81\\xc6zu\\xa6\\xc6|\\xa2\\xf1-y\\xd7\\xdaO\\x87)\\xdb[\\xd3\\xd4iEE\\xf5t\\xcf\\x1d\\xcfw\\xe2j\\xcb\\xf1x?+3\\xfb<\\xbek\\x0c\\xf7\\xbcE\\x07\\x96\\x03\\xc8\\x06K+$\\xe0\\x19l\\x89\\xc5W\\x9a3b\\xae\\xe8\\xf6\\x9fy\\xb9y[E\\x1e_5\\xe4z<9\\xf9V\\xa5\\xdd\\x9a\\x84\\x1e\\x11\\xe5\\x9azn\\x18\\xdd\\x0e5\\x91\\xd3\\xae|[\\x84\\xe7B\\xa2\\x9c{\\x11\\xb8\\xea4\\xadJ2Q\\xea\\xdf\\x1f\\xb1\\x8b\\x1ds]w\\xdfc_O\\x958T\\xdd\\xae\\x19\\xcf\\x8e\\x9d\\x1e\\x95w*4c\\x0c6\\xf8\\x16\\xb5>\\xdd\\x05\\x8d_6\\xa5H\\xcf\\xd2\\xa3\\x1c\\x93?e_\\xa3)QNQ\\xc6\\x0e\\x93\\xe9\\x9a\\x9a7\\x91\\xf3\\x92r\\xdd\\xf0^\\xac\\x8b\\xb4\\xabI\\xcd\\xc5\\x1a\\x13T\\xb8\\x8d\\x08\\xe79\\xa9\\xde(_\\xa6y\\xd4q\\xd5)\\xc5\\xfa\\xd3k\\xe8g\\xa7\\xc2\\x89\\xd1\\xa7s.\\xb8,?\\xea,;c\\x03Q\\xb3\\xadat\\xeb\\xd9\\xd4P\\x94\\xb7\\xa9I\\xbd\\xa5\\xf4\\xf6f/\\xd3sR\\xceUZ^ u*yU)N3\\x8f+\\xa5\\x8f\\x92\\\\\\xae\\xd4\\xd5[\\xa5\\xdd/\\x98\\xeb\\x1cr\\xda\\xbe\\xbc\\x94\\xbc\\xaa^\\xa9\\xc8\\xa9k6\\x8d\\xa4\\xa5oZ\\xe6\\xbbnrM\\xe4\\xcd\\xd7\\xd9\\'\\xd3\\x80\\xd4\\xe5\\xd7}5\\x9d\\xb3\\x8f\\xd0\\xf6b}<^K\\xf6\\x8d\\xcaU:\\xe5\\x87\\x88\\xac/\\xa9\\xb74\\x17p\\xf2\\xe1\\x1aO\\x97\\x1c\\xb6\\x05\\x8aQJ\\xd2R\\xe9\\xd95\\x824\\xb7z\\xfa\\x9d,\\xbcf)\\x84bJ^N\\xafS\\xa7\\x894Tm)\\xaf=6\\xb7K M\\n\\xd3U%%\\'\\x97\\x1c\"\\x8d\\x8b/\\x1aj\\x9aM%F\\x15\\x94\\xe9\\xe3\\xd0\\xa7\\xd8\\xdcf\\xac\\xd0\\xfbU\\xd5\\xe8W\\x94\\xea\\xc2\\x9dH\\xf6\\x8a\\xd8\\xd7\\xc5\\x9e\\xb6l~\\xd8*\\xce\\xe2\\n\\xee\\xc9F\\x8b\\xf8\\x9c%\\x96\\x8b\\xf0:\\xec,>\\xd2<?}8SW]\\x13\\x96\\xc9M4f\\xe7\\x8b+\\xac\\xa7R5`\\xa7\\x07\\x98\\xc9e3*\\x82\\xe3\\x86J\\xb1\\xcdj\\xcb\\xd1#\\x8f\\x93\\xd3\\xd1\\xe3\\xf6\\xf3\\xfb\\xe5\\xf8\\xf2>g\\x93\\xdb\\xea\\xf8\\xfd3\\xe4y\\xeb\\xd1\\x00\\xcc\\xb4\\x16hG \\x86\\\\\\x9a\\x89Wm>$v\\xc3\\x87\\x93\\xd3\\xa5\\xb1\\xe1\\x1e\\xdc<\\x1eF\\xed\\x1e\\x11\\xe8\\x8f-[\\x81\\xa6SD \\xd1P\\xe08\\x08\\x06(L X\\x00\\xc8#\\x90\\x11\\xb0\\xa0`\\x0b\\x00X\\x0c\\xc0\\x16\\x030\\x02@S\\xb8\\xe1\\x90qW\\x96i\\xa7\\xb1\\x9b\\x16W5}e\\x86\\xdaFlt\\x95\\x8bV\\x9b\\x8b\\xe0\\x8a\\x82H\\xb1\\x9b\\x114i\\x0c\\xa4\\xd0D\\x91\\xac\\xd0\\xe1\\xd5\\x9aWX|\\x8e/Z\\xf6W\\xbb\\xad\\xcck=t\\xce\\xf8\\xdf\\xa1]N+s\\xcd\\xac=\\x98\\xd8\\xe5\\xc9\\xc6\\xe5\\xdeh\\xe8H\\xbd\\x1ax5\\xf1f\\xe8\\xcef\\xbe,\\xfc\\x91M\\xe5\\x17\\x89\\xd5y\\xe7%\\xe2%\\xa56cMD\\xd2yFcJ\\xf3f\\xe4b\\xa3L\\xd34J8y*\\x0f\\x1b\\x18\\xae\\x90T\\xa8\\xce\\xbdE\\x08,\\xb6e]~\\x8d\\xa1\\xc2\\x8aS\\x94s?\\x98\\xb5#\\xaa\\xb6\\xb4I-\\x89\\xc5\\xebR\\x8d\\xbaI\\x1a\\x91-Y\\x8d\\x04^3\\xd1\\xf9?\"\\xf1:x\\xd3Y\\xc1x\\x96\\xacS\\xa6Y\\x18\\xb5\\xcc\\xfd\\xa1\\xd8+\\x9f\\x08\\xdd\\xbe\\xf4\\xd7Z\\xfc\\x8e\\xfe\\x1b\\xcd\\xc7\\x0f7\\xde+\\xe7\\xb9\\xc3+c\\xea>z\\ny\\xf30\\xc8$\\x9a\\xc2(Q~\\x90\\x06\\\\\\x10E(\\xa6\\x8c\\xd8\\xb1\\xb5\\xe1Z}w\\xd5!\\x8ebx\\xbf+\\xeb={?\\x17\\xfbq\\xd1^\\xd9z_\\xa4\\xf0M=\\xd7.b\\xe6\\xd5\\xd3\\xae\\xb6\\xeev\\x95\\xc2\\xe7\\xed%Kl\\xc38/N \\xa79\\xdb\\xd4\\xca\\xfd\\nznYj\\xbce\\xbf\\xd4\\xcd\\x8dJ\\xea\\xf4\\x8b\\xcas\\x9c\\x12\\x92\\xe4\\xc5\\x8e\\xb9\\xae\\xd6\\xde\\xd5US\\xaf\\x05\\xbb\\xfe\\x85\\x93\\xf6w\\xf4W\\x10\\xaf=\\xa2\\xa5\\x85\\xdb\\x05\\xbdY\\xc55u;J\\x8e\\x9d\\xd5\\tF\\x12\\xe2q\\xdf\\x0cO\\xafk\\xef\\xd3f\\xd2\\xe22\\x86c4\\xdb\\xed\\x9d\\xce\\xb1\\x9a\\x96w\\t\\xf3\\x05\\x1e\\xddMnJ\\x90\\xa0\\x95Y\\xf9t\\xa3\\xd5&\\xb6X\\xc2F\\x17\\xd7\\xdd^\\xd3\\xa1YS\\x97\\\\\\x1cZx\\xc3,\\xeb;\\xb0\\x17\\x16\\xaau\\x9c\\xe6\\x93om\\xd1\\x9b\\x12_\\xa5\\rF\\xea\\xd6\\xce\\xdd\\xf5\\xc61\\xc2\\xe4\\x95~\\xdes\\xac\\xf8\\x8e\\xa5\\xcdIQ\\xb5{q\\x94Y?\\xd6n\\xbfQ\\x1e\\x97\\xa6\\xceO\\xce\\xaa\\x9b\\x7f?s\\x1a\\xd2\\xe7?\\xebO]\\xa9\\x1d?F\\x966j#\\x13\\xba\\xe2\\xee\\xf3=y7\\\\\\xae.\\x9c\\xa5\\xba\\xe5\\xe0\\xf7\\xc9\\xc7\\xce\\xb7\\xad\\n=\\x0e\\x8a\\xe1\\',g\\xdf\\xdd\\x84P\\xae\\xfe\\xf5{QC\\x8c\\xa8\\xa0\\xad\\x0e\\x8e\\x8d>\\xa6\\xdf\\xc4ECv\\xd3\\x95\\x1c>#\\x8d\\xca\\x8c\\x9a\\xe9\\xab\\xee\\xa7\\xcba\\x1a\\xd0NUT\\x93\\xed\\x80,\\xb7\\xd3\\xd2\\xf1\\xbe\\n*\\xdd\\xc7\\xa9BI\\xee\\x8e\\x91\\x9a\\xcf\\x9c[\\x9b\\xf6\\xect\\x91\\x8a[\\xc5s\\xb9\\xbe#\\xad\\xf0n\\x87\\xfd\\xa1q;\\x8a\\xd1\\xcd\\n[\\xbf\\xa9\\xe7\\xf3\\xef\\x9fOO\\xe3x\\xa6\\xf5\\xdb\\xe9\\xecvujB\\xda\\x9caZj\\x11[<d\\xe9\\x9cN>\\xa7\\xff\\x00\\x8f\\xe3\\xff\\x00\\x13T\\xbb\\xad\\x18\\xf5y\\xaaq\\\\\\xac\\x19\\xd6d\\x9dc_\\x89\\x8f\\xd3*\\xf6\\xe9\\xdcE\\xa5J[\\x9e\\x1d\\xf9eq\\xcf\\x86\\xe6\\xb8\\xcdJ\\xda\\xac*\\xcaR\\xa7$\\xbd\\xf0x<\\x9e\\xde\\xef\\x1f\\xa6T\\xb9<\\xf5\\xe8\\x80fZ\\x03(\\x8d\\x942\\xe4\\xd4f\\xae\\xda|H\\xed\\x87\\x0f\\'\\xa7Ka\\xc2=\\xb8x<\\x8d\\xda\\x1c#\\xd1\\x1eZ\\xb7\\x03L\\xa6\\x88A\\xa2\\xa1\\xc0p\\x10\\x08\\xa8`\\x05\\x80\\x0c\\x08\\xe4A\\x1b\\n\\x06\\x00\\xb0\\x05\\x840S\\x00,\\x00\\x97\\x00T\\xb8\\xf8X\\x18U\\xe8)\\'\\xb1\\x921/l\\xf2\\x9e\\xc4\\xb1\\xa9\\\\\\xcd\\xf5\\x93\\x8bm#\\x16:J\\xc7\\xabM\\xc5\\x90\\xe2\\xbc\\xa2jVlG$i\\x00\\xca\\x86\\xcbA\\x13\\xd0\\xb9\\x959\\xad\\xc0\\xe9,/s\\x14\\xb2s\\xd6]\\xb1\\xb6\\xdd*\\xaa\\xa4Q\\xc3Yz\\xb3\\xb4\\xcbc?\\x17O\\x90g4\\x8dH\\xcd\\xd2\\x07W~M\\xfcX\\xf9\\x8e/\\xa9\\x19\\xb1f\\x8aP\\xca1] \\x12\\xe9f+r$R\\xd8\\xca\\x82q\\xc9\\xb9Y\\xb1\\x1e0\\xca\\xc2H\\xb0\\x1f|\\xa4\\xbb\\x99\\xad:}\\x07M\\xe2n>\\xa6=\\x1d\\xeb\\xb6\\xb3\\xb4J)`Hu\\xabF\\x81x\\x9d\\\\\\x85,v/\\x12\\xd4\\xd0\\xa7\\xbf\\x05\\xe36\\xa6T\\xb6/\\x18\\xe8\\x1d4\\xbbn^\\x1d\\x14V\\n\\x95\\x87\\xe3]\\xbc\\'\\x7f\\xff\\x00\\xcagO\\x1f\\xf7\\x8e^O\\xeb_7\\xa5\\xb60}g\\xce@\\xe3\\x8a\\xc4\\x05Ql\\x14)l\\x02\\x96q\\xb8@\\xb8\\xe6$V\\xdf\\x83\\xd65\\xd8\\xc7\\xf9\\xa2x\\xff\\x00.\\x7f\\xe6\\xf5\\xfe%\\xff\\x00\\xd1\\xdf^Zf<\\x1f\\'\\xaf\\xab\\xc7#\\xab\\xda\\xf9sO\\x1d\\xce\\xb9\\xae;\\x87\\x8d\\xbf]$\\xd1\\xbe\\xb3\\xc5+\\x9b\\'\\xbe\\xc5\\x95\\x9b\\x19\\xb2\\xa7:\\x13\\xca5\\xd6x\\xd1\\xb1\\xd4\\xa7Jp\\x94^\\x1a\\xec\\x16W\\xabxK\\xc4\\x14\\xae\\xe9\\xaaS\\x92R[4\\xcc\\xcf\\xa7[\\xf7:\\xed\\xd4#R\\x9e)\\xa8\\xc93n}c\\xea:mJuc^1rkg\\x85\\xc2\\xfa\\x19\\xb1\\xbc\\xea_\\xa4V\\x90\\xa1\\tz\\xb1FI\\xf7\\x8e\\xcf\\xe8jX\\xb7\\xae\\x82\\x9d:\\x15)\\')E\\xc5\\xff\\x003\\xd8\\xdf#\\x97l\\xa6\\xc5;J\\xaaP\\x8e!\\xdb\\xd8\\xcf\\xaa\\xd7\\xde\\xa2\\xcdk\\xcaJ=i\\xac\\xb5\\xb8\\xb5\\x89\\x9a\\xe6u\\x9f\\x13ZYA\\xf5U]^\\xcb\\x96b\\xd7I9\\xed\\xe7:\\xbe\\xb5u\\xadWj9\\x8d,\\xec\\x89\\xe9-\\xe8\\xf4\\xbd#\\xaaJR\\x89\\x8dis\\x97[mm\\x1aT\\xe3\\x85\\xb2\\xeca\\xb7\\x13\\xf6\\x8d~\\xe9\\xd0\\xa7m\\x19|[\\xcb\\x07\\xa3\\xc3>\\xfa\\xe1\\xe7\\xbc\\xcf\\x1e}n\\xfa(7\\xfcS|\\xfc\\x8fS\\xc4\\xb79\\xfa\\x14V\\xc9 \\x16\\x9fC*2|\\xcam\\x92\\xac\\\\\\xad\\x9f\\xba\\xf4\\xfb\\xbd\\xc2\\xa8\\xdc\\xcb\\xa6\\xa5,\\xbd\\xd1YR\\x9au/\\x9b\\xec\\x06\\xad\\xb2J\\xa7K^\\xc0h\\xd6\\x82\\x94\\x16\\x16\\xe5\\x15k\\xd0~OV6\\xeet\\xcaVd\\xa2\\xd2\\x87\\xa7\\x94v\\xcb\\x9dG(\\xfe\"\\xd8\\xd3/j\\xf0~\\x9a\\xad<%E\\xc6>\\xbb\\x8d\\xd9\\xf3\\xbc\\x9d\\xdf\\x97\\x8f\\xa7\\xf8\\xd9\\xe6cm\\xd3\\xa9N1\\x842\\x92\\xf6>\\x84\\x9c\\x8f\\xa7\\x9b\\x16\\xa8S\\xb8\\x95.\\x99,\\xc0\\xf1~O\\x97\\x9f\\xc69\\xefS\\xbfIU\\x9aq\\xf8pxx\\xe7\\xd4U\\xf4\\xfau\\xa0\\xe38&\\xbe\\x86nz\\xb3\\\\rZ\\xcf\\x85\\xdc\\x14\\xaa\\xda\\xaf\\x9fI\\xc7~/\\xf1\\xdb\\x1eO\\xf5\\xc9U\\xa7*sp\\x9cZ\\x92\\xe53\\xcdg\\x1e\\x84L\\x08\\xd9C#Q\\x9a\\xbbi\\xf1#\\xb6\\x1c7\\xe9\\xd2X\\xf6=\\xb8x<\\x8d\\xea\\x1f\\t\\xe9\\x8f-[\\x81YM\\x10\\x83E\\x0e\\x10\\xe0\"\\x84\\x10\\xc03\\x026\\x04r\\x029\\x11@\\xc0\\x16\\x00\\xb0\\x86\\x01\\x82\\x85\\x802\\x02\\x95\\xd3\\xc4\\x18\\x14gL\\x88\\xa3qn\\xa4\\x9e\\xc1X7\\xd6YOc67+\\x99\\xbd\\xb3qm\\xe0\\xc5nVEJx`\\xa8$\\x8dFx\\x8d\\xa2\\xa0Z*\\x18\"\\xd5\\xa5\\xcb\\xa55\\xb8Y\\xf4\\xe9lo\\x13Ks\\x16:\\xe7Mx\\xd5\\xea\\x89\\xcf\\xe2\\xef6\\xafZ\\xae\\x0b2\\xce\\xb4\\xae\\xaa\\xe5\\x9b\\xe3\\x9f\\xc9b\\x95C7-\\xe7K*yG\\x1dG\\xa35\\x15I\\x1c\\xect\\xe8cSrp\\xeaU%\"(\\'\\xb1\\xa8\\xcdG\\xd7\\x86VW\\xb4\\xda\\x7fx\\xb9\\x8a\\xc6\\xc8p\\xb5\\xe8\\xdaM\\xaf\\x97J;\\x19\\xfd\\xab\\xa3\\xb7\\xa7\\xb2\\xd8\\xd4KZ\\x14\\xa0\\x99Y\\xb5j\\x105#\\x16\\xa6PF\\xb8\\xcfO\\x84\\x00\\xca)\\xee@\\x1d8\\x03\\x07\\xc6\\x91r\\xf0\\x9d\\xfe?\\xf6\\x99\\xd3\\xc7\\xfd\\xe3\\x9f\\x93\\xfa\\xd7\\xcex\\xe4\\xfa\\xef\\x9c\\xadR+\\xcdL\\x81\\xe6\\xb6\\x01\\xa2\\xbd!N\\xe3\\x94D\\x0fN\\xc1Z\\xbe\\x16\\x97\\x97\\xe2+_\\x9c\\xb0y\\xbf*w\\xc5]\\xff\\x00\\x1a\\xf3\\xc9\\x1e\\xb1uE5\\xc1\\xf0\\xeb\\xed\\xc7\\x17\\xe2*}-?\\x99\\xd7\\xc6\\xe3\\xe4\\x15\\x8d\\x15*+\\xe8j\\xd6dIZ\\xc94\\xf6\\x1d,d\\xddi\\xd9\\xce\\xc6\\xa5f\\xe5\\x89qk:2m#r\\xb1b{\\x1dR\\xb5\\x9dX\\xce\\x12q\\x92\\xee\\x8aK\\xc7{\\xa2\\xfd\\xa2\\xce\\x8a\\x8c.\\x96b\\xbf\\x8a$\\xe5\\x9e\\x9b\\xec\\xbe\\xddt<ac}\\x08\\xca\\x85\\xc2\\x8c\\xf1\\xc3\\x7f\\xd4t\\x99E\\x1f\\x11yM\\xc6\\xea4e\\tq*o+\\xf4\\x13M\\\\\\xff\\x00\\x87\\xa7\\xe2=.-\\xfe2k\\xb4_\\x08\\xbdN\"\\xbd\\xf1\\xa5\\x8d\\x1aO\\xcb\\xab\\xd4\\xd7\\t\\x12\\xd4\\x9fNR\\xfb\\xc6W\\xb7rt\\xed\\x93\\x84_~\\xe4>_\\xe2\\x8d\\x0b\\x1b\\xab\\xea\\x9eeyI\\xb7\\xee\\xc9t\\x9c\\xb5\\xb5GM\\xa7m\\x18\\xba\\x9be\\xe1/vb\\xd6\\xe4o\\xd9Z,,,\"\\r%F1\\xa6\\xf3\\xed\\xb9x\\x9dx\\x9f\\x8e\\xef~\\xf9\\xae\\xcd)f1\\xd9$z\\xbc3\\x91\\xe5\\xf3\\xde\\xde0\\xeda\\xe6TJ_\\x0cv\\xc2;<\\xebN>c\\x94b\\xb7o\\t\\x01qG\\xee\\xf5)\\xc1-\\xa1\\x06\\xdb\\xfa\\x91\\xa4uj\\xbe\\xaapK\\xf83\\x80U\\x1dE\\xe2t_\\xf3G%d\\xd0\\xa0\\xd4\\xe3>;\\x85]\\xa4\\xd3\\x94\\xe4\\x80\\xbbNY\\x94S|\\x81\\xe8\\x9a>\\x95i\\xa9\\xd9R\\xa5\\x08ST\\xdc={o\\x92\\xc4y\\x96\\xa7B\\x9d\\r^\\xbd\\xb5)FT\\xe9\\xd4\\x92\\x8b\\x8f\\x18\\xc9\\xea\\xc7\\xa7*\\xa3(~:\\xfa\\x9d,e\\xf4?\\x87\\xed\\x94\\xb4{\\x08\\xa5\\x85\\x1a1g\\x87\\xc5\\x9e\\xf9-}_\\r\\xfa\\x8dO\\xba\\xa9K\\x18\\xeez\\xad\\xe4z>|h+U\\x1ai$\\xb0|\\xbd\\xde\\xde\\xb8|\\xbbQN\\x92H\\xe7[\\x95]\\xd3\\\\\\x19m\\rJ\\x11\\x92\\xc3@\\xeb\\x97\\xd7\\xfc5N\\xee\\x12\\xa9J=5Wu\\xdc\\xe5\\xe4\\xf1\\xca\\xeb\\xe3\\xf2\\xf3\\xea\\xbc\\xfa\\xea\\xda\\xa5\\xadiS\\xab\\x17\\x19#\\xc9sg\\xb7\\xaeYg\\xd2\\xbbD\\x8ad\\x8d\\xc6j\\xdd\\xa7\\xc4\\x8e\\xd8q\\xdf\\xa7Ic\\xc2=\\xb8|\\xff\\x00#z\\x87\\xc2z#\\xcbW i\\x94\\xb1\\x084PA\\x08\\x04P\\x82\\x10\\x02\\xc0\\x06\\x04r\\x026A\\x1b\\n\\x16\\x030\\x81`3*\\x98\\x88\\tp\\x15\\x9dx\\xfd-\\x12\\x86\\x952\\xa2\\xbdJd\\x19\\xf76\\xddI\\xecEs\\xf7\\xf69ObX\\xdc\\xaeb\\xf6\\xd1\\xc1\\xbd\\x8cX\\xdceT\\x86\\x18\\x94\\xa8Z4\\xc8\\x1a*\\x19\\xa2\\xa1\\xb8\\x02\\xf5\\x9d\\xd3\\xa7$\\x9b\\x04\\xae\\x8e\\xd6\\xe9J+rq\\xb9\\xa4\\xf5}Q\\xca\\x1c>J\\x99j[\\x95\\x9e\\xa5\\xa7P\\x95\\xbc\\xd5\\xa8T\\xd8\\xe3\\xa8\\xf4f\\x94\\xa5\\x93\\x9d\\x8e\\xb2\\xab\\xcaxc\\x87RR\\xaf\\xbe2f\\xc5\\x95e\\xc9I\\x18mV\\xabqf\\xa5f\\xc7M\\xe1\\xab|\\xa56\\xb7l\\xba\\xf4\\xcc\\xf6\\xf4k\\nx\\x8cpf-m\\xd1\\x86\\xc6\\x98\\xb5z\\x940\\xb0k\\x8c\\xda\\xb3\\x08\\x1a\\x91\\x8bS\\xa8E#i\\xd0\\xcd%\\xc1*\\xc4,\\xc2\\xa3\\xee\\x06_\\x89i\\xf9\\xbe\\x1d\\xbe\\x863\\x9a2\\xfe\\x86\\xb1\\x7f\\x94s\\xdf\\xf5\\xaf\\x9a\\xb8\\x93G\\xd9|\\xe45c\\xeaL\\x02\\x94} \\x04\\x16\\xcc\\x810\\x01w \\xb5\\xa6\\xd5v\\xfa\\x95\\xbdT\\xf1\\xd3Q<\\x9c\\xfc\\x99\\xeelt\\xf1\\xdejW\\xb3J}t#.z\\xa3\\x93\\xe0j>\\xfcq\\x9e%Xq\\xfa\\x9b\\xf1\\xb9yVt\\xcay\\xa5\\x1f\\xa1u\\xed3\\xe9\\xac\\xed\\x94\\xa1\\x9c\\x19Vm\\xc5\\xaf+\\x06\\xa2X\\xca\\xbd\\xd3\\xd4\\xe0\\xdaF\\xe5b\\xc7=^\\xc5\\xc6o\\x08\\xdf\\\\\\xf8\\x81\\xdaT[\\xc7#\\xa7\\x12S\\x8d\\xdd7\\xe9\\x93/O\\xb5\\x98U\\xd4\\x9a\\xc2\\x9c\\x88\\xbd\\xa9\\xa9\\xdb_\\xd6xy\\xfd\\t\\xd3\\xed\\xadg\\xe1\\xdb\\x9b\\x86\\x9dYI\\xaf\\x99.\\x96e\\xd3\\xe9\\xfe\\x1a\\x85,7\\x13?u\\xbeH\\xdc\\xa5\\xa6\\xc6\\x94v\\x8a\\x1c:o\\xbby\\xb5\\x93ib<lN/Z4\\xe2\\xa0\\xbe\\x85e\\x16\\xad][i\\x95\\xa5\\x94\\xa5\\xd0\\xf0\\xc1\\x1f>\\xea\\xb5\\xfc\\xfdR\\xbde\\xbee\\x88\\xa3\\xd9\\x89\\xc8\\xf0\\xf9/uRQ\\x8a\\xa5N\\x0b>\\xaed\\xcd\\xb9\\xa5\\xb5\\x9bUT\\xf6\\xe7+\\xe6\\xc8\\xb1%z\\xd9\\xac\\xf1\\'\\xbe\\x10Uk\\xaa\\x8f\\xef1i\\xf0\\xb0X\\x95_R\\x93WT)\\xbe\\xd1\\xc0E\\xc5R.\\x84#\\x1d\\xe5\\xd2\\x14\\xf4[T\\xf6\\xfc\\xc0\\xbdM\\xa7/\\xa7\\x05\\x12V\\xd4\\xef\\xadh\\xba6\\xd7uiBk\\x12Px\\xc9\\xd321k2\\x96\\xf72m\\xf0\\x91\\xe8\\xcb\\x9d\\x16\\x13\\xb8\\x8f\\xd4\\xddG\\xd1\\x9e\\x1aIh\\x96\\xf5;*QK\\xf4<\\xde<\\xf3\\xb5\\xf5|S\\xf8\\xc6\\x9d\\x17\\xe8r\\xf7d\\xf3k\\x99t\\xd7\\xf8\\xbb\\xd5\\xb1\\xf3\\xfa\\xe7\\xc4\\x15Vx1[\\x88z\\x1eQ8\\xd7N\\xe9\\x8e\\'PU\\xa2\\x9a\\xc6\\x02\\xf5\\xc9\\xf8\\x8b\\xc3\\xf0\\xbc\\xa5)\\xc2)T[\\xa6r\\xf2bj;x\\xfc\\x9f\\x1a\\xf3\\x9a\\xf4\\'B\\xb4\\xa9\\xcdbQxg\\x92\\xceW\\xb2^\\xce\\xa3\\xc1aV\\xad~$u\\xc3\\x86\\xfd:+\\x1e\\xc7\\xb7\\x0f\\x07\\x95\\xbfo\\xc1\\xe9\\x8f&\\x96\\xe0i\\x94\\xd1\\x084P\\xe1\\x0e\\x02(`\\x10@\\xb0\\x01\\x81\\x1b\\x026\\x002\\x01`\\tC0\\xa1`3 \\x8e\\xa3\\xc2\\x03>\\xb7\\xa9\\xb2*\\xc4\\xa0VPN\\x00W\\xa9K=\\x80\\xcc\\xbb\\xb5R\\x8b\\xd8\\x8a\\xe75\\x0b\\x1c\\xe7c\\x167+\\x97\\xbc\\xb4p\\x93\\xd8\\xc3s\\xed\\x9b(a\\x96\\x1c\\x03F\\x99\\xa1h\\xa8\\x16\\x8a\\x81O\\x0c#R\\xc2\\xf3\\xa5\\xa8\\xb6\\x06\\xed;\\x85(\\xf2\\x15\\x15f\\x9e\\xe8*8I\\xe4\\xcbqf\\x133]\"G,\\xa3\\x9dv\\x95\\x1c\\xe2\\xd9\\x8e\\xb5\\xc4[\\xc6AW(T\\xca\\xc1\\xcbM\\xe5+\\xa7\\xe64\\xbd\\xd9%j\\xc7i\\xe1\\xfa*0\\x8a\\xc7\\x06\\xf4\\xe5\\x97wc\\x0cE\\x08V\\xc5\\x13Q\\xce\\xae\\xc1\\x1b\\x8c\\xd4\\xf1\\xd9\\x15\\x91-\\x97 4\\x98\\xa4A-\\x8c\\xb6\\x15\\xb3!T\\xf5u\\xd7\\xa5]G\\xde\\x94\\xbf\\xa1\\xa9\\xed\\x8dO\\xa7\\xcc\\x93\\x8aU\\xe6\\xbd\\x9b>\\xd4\\xf4\\xf9\\x95\\ro\\x89\\x00\\xf3{`\\x00AI\\x84\\x03\\\\\\x90\\x12}2R]\\xb7%X\\xf6m>j\\xe7E\\xb6\\xaa\\xbb\\xd3G\\xc0\\xf2\\xcej\\xc7\\xde\\xf1k\\xb9\\x95\\xca\\xf8\\x9a-\\xd4\\xa7\\x1f\\x98\\xf1\\xb3\\xe5^\\xd2#\\x9aQO\\x91\\xaff}7\\xa1\\x0e\\x17\\xb9\\x95Cum\\xb7\\x05F]j])\\xc5\\xa2\\xc4\\xack\\x8bh\\xb9=\\x8d\\xf5\\x8b\\x03F\\xce\\r\\xe3\\x01d^\\xa3\\xa7B\\\\\\xc5\\x11x\\xd3\\xb6\\xd2)ezW\\xe8>\\xd3\\x8d\\xabm\\x1a\\t\\'\\xd0\\x87\\x0e\\xf1\\xb1m\\xa5\\xc2\\t7\\x13S)t\\xb9\\x1bh\\xc7d\\xb6/\\x13\\xa8.\\x12\\x8e\\xd1\\xfa\\x12\\xacWX\\x86\\xd8\\xfc\\xc8\\xa9\\xe95V\\xacb\\xbe\\x18\\xef&A\\xcbx\\xf7R\\x8d\\xae\\x8d^I\\xa4\\xe5\\xe9\\x82\\xf77\\x89\\xdd1\\xbb\\xcc\\xd7\\x8a\\xd0\\xa6\\xea\\xc9\\xcd\\xbce\\xf2\\xff\\x00\\xa9\\xeb\\x8f\\x15YUT\\xb3&\\xb1\\x15\\xb7\\xe5\\xfe\\xe5e\\x1d\\x1a\\xaeu\\x9c\\xf6Im\\x14\\xbb\\x05\\x85:\\x8d\\xd4\\xcb{\\xf6 \\x1b\\x86\\xdd\\xdc6\\xc2,*-Q\\xff\\x00\\xd5R\\x96r\\xf0\"\\x02\\xda\\xbc\\xbc\\xdc7\\xb2\\x03V/\\xa2;\\xfbd*z;,\\xafb\\xc4\\x05\\xedE\\x98\\xc7\\xbe\\x0e\\xd8f\\xa2\\x83\\xfc_\\xa9\\xdb.u,R\\xfb\\xc4\\x17\\xbb7R>\\x8e\\xd3)\\xc6\\xd7@\\xb4\\xa7\\x1e<\\xa8\\xaf\\xd8\\xe7\\x1fk\\x13\\x9c\\x8d\\x1ak\\xa6\\x958\\xf7\\xc6Y\\xe3\\xfc\\xad~\\x99\\xbfu\"\\x99\\xe38t\\x9by\\x07D\\xa1\\xdcq:yA\\x8e\\'P\\xce;\\x11\\xa5+\\x8a]QyDjW\\x9f\\xf8\\xb3HXwT\\xa3\\xbc~,{\\x1c<\\xb8\\xfd\\xbd>\\x1d\\xfe\\xab\\x8d\\xc1\\xe7\\x8fB\\xcd\\xb7\\xc4\\x8e\\xb8r\\xdf\\xa7Gc\\xd8\\xf6\\xf8\\xde\\x0f+z\\xdf\\xe1=1\\xe3\\xd7\\xb5\\xc8\\x1ae,B\\x0c\\xa1\\xc2\\x1c\\xa1\\x00\\xc1\\x08\\x01`\\x03\\x026\\x04l\\x00`\\x0b\\x01\\x80\\x16\\x030\\x05\\x85W\\xad-\\x89EI.L\\xaa\\xf4\\xa0m\\x84R\\x80T\\x13\\x81\\x05j\\x94\\xb2\\xb8\\x03*\\xf2\\xd3\\xa9=\\x8c\\xab\\x99\\xd4l6{\\x19\\xb1\\xd2W1wj\\xe9\\xc9\\xece\\xb5\\x19G\\x0c\\xa9@\\xd1Y\\x03E@4T(\\xc9\\xc5\\xa6\\x825-o\\x1e\\x12l,_\\x8d^\\xb4e\\xa8\\x92\\x08\\x96\\xbaH\\x9e(\\xcd\\xae\\x92%\\x8a9\\xda\\xe9\\x98\\x93\\xa3(\\xe5k\\xac\\x80\\x95-\\xc9\\xd5\\xe0\\xe9\\xd3\\xc33j\\xc8\\xbbEz\\x913\\xedo\\xa7i\\xa1\\xc7\\x11\\x89\\xbd9e\\xdbY\\xfc(\\xb1+Z\\x8a7\\x18\\xab\\x90\\xe0\\xd3\\t\\xe2\\xf6*\\x1d\\xb0\\x02L\\x95b\\x197\\xdc\\xc3@\\xceB\\xa2\\xbd]VU\\x97\\xbc\\x1f\\xf45\\x18\\xaf\\x99n\\xa3\\xd1}]q\\x8a\\x92\\xfe\\xa7\\xda\\xc7\\xf5\\x8f\\x99}\\xaa\\xd6\\xdd\\xa2\\xa0r\\x03c\\xd4@\\xfb)nP\\x12\\xe5\\x90<VPW\\xacxF\\xe1\\\\xn\\x8a\\xef\\x0c\\xc5\\x9f\\x17\\xf2\\xb3\\xcf-}\\x7f\\xc6\\xd7|q\\x9b\\xaf\\xd3\\xf3.\\xa1\\xec\\x8e8\\xf4\\xeb\\xbfk\\x1a_\\xa5$4GAJ9I\\x99T\\xb2\\x82q\\xc34\\x8c\\xfb\\xabT\\xd3\\xf6\\x03\\n\\xea\\xdd\\xc1\\xbe\\xe8\\xd4f\\xa0\\xa7\\x14\\xe5\\x805m\\xe1\\xd4\\x96\\xfc\\x05mY\\xf4\\xb6\\x93k\"3]\\x15\\xaa\\x8a\\x8a\\xe1\\x9d#\\x15i\\xd4\\x84S\\xcb*qZ\\xa5\\xdai\\xa8\\x99\\xea\\xf1\\x9bV\\xe35\\x1b\\xceL\\xda\\xdc\\x81\\x85O1\\xe2-\\xfdpg\\xaa\\xb0\\xea\\xc6\\x95\\x17\\x8d\\x97\\r\\x95\\x1eS\\xf6\\x8f\\x7f*\\xf5!C>\\x95\\xb2^\\xc7o\\x14p\\xf3_\\xae8J\\x95U(a{`\\xf4G\\x96\\xa2u\\\\\\xa3\\xbb\\xfc\\x8a\\xcaj3Q\\x82]\\xdb\\nz\\xb2\\xc5X\\xae\\xec\\x05s&\\xabE\\xa0!\\xd4\\xa7\\x9a\\xb4\\xde?\\x856 \\x8e\\xd1fy\\xff\\x00\\x11F\\xb5iaG\\x0f\\x95\\x82\\x0bV\\xd9k~;\\x96\\x08%/6\\xb3\\xcfg\\xfb\\x1d\\xf2\\xe7CI\\xe2M\\xbe\\xfc\\x1d\\xb2\\xc5OI\\xe6\\xee\\x9a\\xf9\\xa2\\xdfK=\\xbe\\x90\\xb6nV\\x96\\x94\\xbb*q\\xe3\\xe8c\\xf4\\xfbs\\xeauq\\xcf\\xd6\\xfd\\xb8>g\\x9f]\\xdb\\x10q\\x92g\\x11f\\x9a\\xea\\xfa\\x161V\\x14v\\xe0\\xdf\\x18\\xe9\\xa5\\x1fa\\xc5\\x95\\x0c\\xa3\\x85\\xf33\\xc6\\xba\\xabZ+\\x192\\xb1\\x87\\xa9\\xda\\xc6\\xad\\x1a\\x91k*H\\xcd\\x8e\\x92\\xbc\\x9a\\xf2\\x8b\\xb7\\xbb\\xa9I\\xff\\x00\\x0c\\x8f\\x1e\\xa7+\\xdd\\x9b\\xd9\\xd1[|h\\xde\\x18\\xdb\\xa2\\xb1\\xec{|o\\x07\\x95\\xbfo\\xf0\\x9e\\x98\\xf1\\xe9r\\x06\\x99M\\x12\\xa0\\x82\\x1c\\x07(@0C\\x00\\xcc\\x00`\\x03\\x029\\x01\\x1b\\x01\\x98\\x02\\xc0f\\x00\\xb0\\x02O\\x08\\n\\xb3\\xdc\\x8a\\x86KfEiJ&\\x98E(\\x81\\x14\\xa2\\x15\\x04\\xe0AZ\\xad$\\xd3\\xd8\\x0c\\x8b\\xdb5$\\xf6\"\\xca\\xe5\\xb5\\x1d?\\x9d\\x8cX\\xe9+\\x99\\xb9\\xb7t\\xe4\\xf62\\xd2\\xa3X*\\x02H\\xb1\\x11\\xb4VC\\x82\\x89)\\xe5=\\x884\\xad\\xe6\\xf0\\x8c\\xda\\xdchR\\x96Q\\x9a\\xe9\\x16\\xa0b\\xd7l\\xa7\\x8cNv\\xba\\xc8\\x9a+\\x07;[\\x82qL\\xca\\x94c\\x86f\\xacY\\xa0\\xb3Q\\x1a\\xc4\\xfbg~\\x9d\\x9e\\x88\\xb1\\x18\\x9b\\xd7\\xb63\\xe9\\xd9\\xd9/J5\\x12\\xb5\\xa8\\x9a\\x8eun\\x1b\\x15\\x9a\\x9dli\\x92\"\\x85\\x91QOs5\\xa8\\x8d\\x00\\x15\\xff\\x00\\xb8\\x9a\\xff\\x00\\x0b+5\\xf3N\\xa9\\x06\\xb5[\\xb4\\xf6\\xc5im\\xf9\\x9fg\\xc7\\xfd#\\xe6o\\xfbU\\n\\xa8\\xdb! ~\\xe8\\xa0e\\xf1\\x10\\x0c\\xb2\\xfe\\x81M\\x17\\x89`\\x0fB\\xfb>\\xb9\\xcd\\x0b\\x9bi>\\x1fRG\\xcd\\xfc\\xec\\xfd\\xcd>\\x87\\xe1\\xeb\\xea\\xc6\\xae\\xa7C\\xcc\\xaa\\xdf\\xb3<\\x11\\xee\\xa8-sNb\\xa4o\\xda\\xcf\\xaa(\\x85Z\\xe9\\xdb\\x82\\xa2)\\xc5a\\xe5\\x15\\x19\\x976\\xf1\\x9eq\\xfa\\x01\\x97R\\xd1\\xc6y\\x8f\\xe8i8\\xb1k\\xd4\\xb6\\x03N\\x83{4\\x15\\xa3F\\xeeq\\xef\\x82\\xf5,L\\xee\\xfa\\xf0\\x9c\\xb2\\xcb\\xd4\\xe0*Ui{\"tA\\x05:\\x953/L\\x1f\\xb9\\x96\\x96\\xa3\\x8ct\\xc3d\\x11^\\xf6\\xe6\\x14\\xa89\\xbd\\xe3M7\\xf9\\x85x\\xbf\\x8a\\xaf\\x1d\\xc6\\xa1\\x96\\xf7[\\xbf\\x91\\xea\\xf1\\xcf\\xa7\\x8b\\xcd{\\\\\\xd5Iu%\\xf5;<\\xf4\\xf9\\xe1\\x14MI\\xbe\\xb4\\xbd\\x91\\x14_\\xfe\\xa6\\x19\\xdc\\t.\\xbf\\xbdM\\xff\\x00.D\\x15\\xef\\xfdR\\xa4\\xfd\\xe1\\xfe\\xa5A\\xda\\xacF\\x9f\\xbb\\x96H\\xab\\x92\\x93\\x94\\xd7\\xf8X\\x17\\xe0\\xdch\\xbcr\\xf6\\xfc\\xcb\\x92\\xab\\xad\\xa3R_\\x91\\xe8\\xcb\\x141~\\xb8\\xe4\\xeb\\x18\\xab4\\xf6\\xb8\\xa6\\xdf\\xf3\"\\xdfD\\xf6\\xfaCM\\xff\\x00\\xca[\\xd4k\\xff\\x00J?\\xd0\\xe7\\xab\\xc8\\xfbW\\xd2\\xd2{\\xee|\\x8d^\\xde\\xb2\\x92$\\x16i3Q\\x8a\\xb9\\x05\\x95\\xb9\\xb8\\xe7O.\\x00\\x8ak(\\xcdj*V\\x87\\xa4\\xcdjV]\\xcc\\x13\\x8b#o,\\xf15\\x05KV\\x93K\\xe3Y<\\x9eY\\xf6\\xf6\\xf8\\xafr\\xcd\\xb7\\xf8\\xc6\\x17~\\x9d\\x15\\x87c\\xdb\\xe3|\\xff\\x00+\\xa0\\xb7\\xf8Q\\xe9\\x8f\\x1e\\x97 i\\x94\\xd1*\\x08\\x07\\x08p\\x11C\\x040\\x0c\\xc0\\x06\\x000#`\\x03\\n\\x10\\x81`3\\x00X\\x11\\xc8\\x08$\\x88\\xa8\\xa4\\xb6d\\x1a\\x8e&\\xd9G(\\x81\\x14\\xa2\\x04R\\x81\\x04\\x13\\x80UZ\\xd4T\\x97\\x04\\x18\\xb7\\xd6]I\\xecE\\x95\\xcaj:\\x7f;\\x18\\xb1\\xd2W7qA\\xc2M`\\x8a\\xab$TF\\xca\\x86\\xc1Q%35b\\xe5\\x17\\x83\\x15\\xb8\\xbfI\\xf0F\\xe2\\xf5\\'\\x94cN\\xb8\\xabt\\xce:z2\\x9e(\\xc7[\\xe14\\x03d\\x0b\\x16\\xaf5R7\\x88\\xe7\\xe4\\xbfN\\xe3D\\x8f\\xa69\\x17\\xdb3\\xd3\\xae\\xb4\\xd9#Q+Z\\x97\\x08\\xd4b\\xad\\xc3r\\xb0\\x99\\x1aAl\\x00\\xc9d\\x8b\\x11I\\x19\\xadD]\\xcc\\xa9\\xaa\\xac\\xd3k\\xe4T|\\xe3\\xe28y\\x1e$\\xbe\\xa5\\xff\\x00\\xc5l\\xfb\\x1e\\x0b\\xdf\\x1c|\\xdf,\\xe6\\xeb\"\\xa7\\x07g4m\\x90\\'\\xd8\\x01\\xc7\\xa8\\x04\\xf8\\xd8\\x00\\xea\\xc4\\x91\\x95t\\xde\\x0e\\xbdV\\xba\\xed%\\'\\x88\\xd5]\\x0c\\xf3\\xfeV>^?\\xff\\x00\\xc7\\xa3\\xf1\\xb5\\xf1\\xf2=\\x16\\xf2\\x86^Q\\xf1\\xdfY\\x95V\\x9b\\xa7.\\xa5\\xc0\\x1a\\x16\\x15\\xb2\\xb3\\xfa\\xa0\\x95\\xb1\\x16\\xa5\\x15\\x8e\\n\\xc8\\'\\x0c\\xe4\\xa36\\xe2.2\"\\xa1}5\\x16$\\xb7(*V\\xd9\\x97;\\xfb\\x81r6Uq\\x9e\\x94\\xfe\\x85\\xe3=\\x89\\xe1iW\\xff\\x00m\\xb5\\xf5/\\x0e\\xc4\\xf0\\xb4\\xa9\\x8f\\x87\\x05\\xe2Z\\x93\\xee\\x91\\x86\\xf2yc\\x89\\xd4\\x15\\x9cb\\xcc\\xd6\\xa2/1\\xf4c;\\xbe\\xe6U\\x8d\\xac\\xd6\\xeb\\xa2\\xe8\\'\\x85%\\xea\\xfa\\x1a\\xcaW\\x8fk\\xd5\\x14\\xb5\\x1a\\xfd<g\\x07\\xaf\\x13\\xe9\\xe0\\xf2_\\xe4\\xcb\\xec\\x8e\\xaeE\\x16\\xdc\\x92\\x02zo\\xd7\\'\\xf9\\x11OJY\\xaf\\x9eJ\\x0e\\xf9\\xb8\\xd4\\x8e\\xff\\x00\\xc2HT7o.\\x97?\\x01Q-\\x1c\\xa8\\xc3\\xe4EZ\\xa7\\xebq\\xfa\\xee\\x06\\x93X\\xa2\\x91\\xac\\x95Z\\xae\\xd4#\\x1c\\xf2\\xce\\xf9b\\x8a\\x11NH\\xed\\x18O\\x08\\xfe-?~\\xa4)\\x1fF\\xd8EGN\\xb7_\\xfc8\\xff\\x00C\\xcb\\xe7\\xd70\\xfb6\\xad%\\x93\\xe6\"H\\x96\\x0b4\\xf95\\x18\\xab\\x90{\\x1bs>[|\\x01\\x1c\\xf63UZ\\xb2\\xca3Z\\x8c\\xbb\\x85\\xb32\\xdcy\\xb7\\x8c#\\x8b\\xear\\xf7L\\xf3\\xf9}\\xbd\\x9e\\x0fL\\x1b\\x7f\\x8c\\xc6=\\xb7\\xb7Ca\\xd8\\xf6\\xf8\\xde\\x0f+\\xa1\\xb6\\xe0\\xf5G\\x8fK\\xb04\\xc2X\\x95\\x04\\x10\\xe08\\x0cP\\x82\\x18\\x06`\\x03\\x00$\\x04l\\x00aB\\xc2\\x19\\x80,\\x01`E\"\\x08\\xa4\\x15\\x14\\xbb\\x81\\xae\\xd1\\xb6\\x00\\xe2A\\x1c\\xa2\\x15\\x14\\xa2\\x04R\\x81\\x04\\x13\\x81\\x15R\\xbd\\x1e\\xa4\\xf6\\x03\\n\\xfe\\xc5I=\\x89cR\\xb9-KO\\xc3{\\x18\\xb1\\xb9\\\\\\xedz.\\r\\xecEVh\\xa8\\x06VG\\x19`*\\xc59\\x98\\xb1\\xb9W\\xe8U^\\xe4k\\xab\\xf4\\xa4K\\x1a\\x95v\\x93\\xca8\\xeb/F4\\xb3\\x13\\x85\\x8fD\\xbd\\x17bJ\\xb5\\x1c\\xb6f\\xa3\\x15b\\xc5uWG\\\\\\xb9m\\xdf\\xe8\\xf1\\xc4\"g\\xf6\\xb3\\xd3\\xaa\\xb6X\\xc25\\x19\\xad:<\\x1a\\x8cU\\xca}\\x8d1S\\xa2\\xa1\\xc0\\x16EG#5Q\\xb4E,e`\\x15\\xf3\\xff\\x00\\xda\\x15\\xa3\\xb4\\xf1\\x85\\xc6V\\x15LI\\x1fS\\xf1/|||\\xff\\x00<\\xfenbk\\x19=N\\x08\\x99\\x14\\xa5\\xd8\\x01\\x7f\\x10\\x0b\\xb0\\x11TX\\xc33Uj\\xd6\\xbc\\xa8\\xd4\\x85X?T$\\xa4\\x85\\x9d\\x9c%\\xe5\\xeb\\xda,\\xea\\xab\\xfd2\\x85\\xcc^T\\xe0\\x99\\xf0\\xbc\\x99\\xf8\\xea\\xc7\\xdb\\xf1\\xeb\\xe5\\x99U.-\\xf6{\\x1c\\xdbS\\xa5\\'F\\xaf\\x18\\xc0F\\xe5\\xadN\\xa8\\xac~\\x86\\xa35k\\x94TS\\xbb\\xa7\\xd5\\x17\\xc1\\x1a\\x8c\\xbc\\xb8\\xc9\\xff\\x00@\\xa2\\x85\\xef\\x93?VR\\xf7*6,\\xf5:R\\xc2rF\\xa5b\\xe5\\xab\\x0b\\x8a}?\\x124\\xcf\\x03R\\xee\\x94c\\xbc\\x91zqB\\xb5\\xf4g\\xe9\\x87\\xeab\\xd6\\xa4R\\xabZ+y3\\x15\\xb8\\x82wY\\x8b\\xe9M\\x90r\\xda\\xf5\\xfc\\xe9R\\xab<\\xf4\\xfa\\x7f3\\xae\\'\\\\\\xbc\\x9a\\xe3\\xcbn\\xea:\\x95\\xa5,\\xe4\\xf6G\\x83U\\x01\\xa6E\\x07\\x87\\x90%\\xa5,)0\\x1e\\x8e\\xf53\\xfb\\x80\\xf5\\xe5\\xd75\\x97\\xc0T\\x97\\xcb\\x12\\x82}\\xa2\\x90\\x82D\\xbaRK\\x8c\\x10Md\\x94\\x9eq\\xdf`4j\\xe78\\xecj%W\\xaa\\xba\\x9a^\\xc7l\\xb3O\\x07\\x89/\\x91\\xda1V(\\xbf2\\xee\\x92\\xce\\xeeK\\xfa\\x96\\xdf\\xa3>\\xdfG\\xdbE\\xabJ1\\xf6\\x82\\xfe\\x87\\xce\\xfc\\x9dz\\x8f\\xb1V\\x11\\xe3\\x07\\x1d\\xca\\x8b4\\x97sQ\\x9a\\xb5\\x13L\\x0f%@I\\x91Uj\\x98\\xadFe\\xca\\xf4\\xb6f\\xb7\\x1eu\\xe3\\x18\\xfe=\\x17\\xf5<\\xfeW\\xaf\\xc1\\xfbs\\x94>3\\x9e]u\\xe9\\xd0\\xd8v=\\xbe7\\x83\\xca\\xe8-\\xbe\\x14z\\xe3\\xc5\\xa5\\xe8\\x1aa**\\x08!\\xc0E\\x08\\x04\\x10\\xc03\\x00\\x18\\x00\\xc0\\x8d\\x80\\x0c\\x01`\\x0b\\x01\\x98\\x02\\xc0\\x8d\\x91QH\\x08jl\\x98\\x1bM\\x1b`-\\x00\\x0e$Tn G(\\x81\\x0c\\xa0A^p\\n\\xa7qAI=\\x889\\xfdB\\xc3)\\xecf\\xc6\\xa5rZ\\x8d\\x86\\x1bx3c\\xa4\\xae~\\xb5\\x17\\x06\\xf6!\\xc5y\"\\xa03\\x82\\xa0\\xa3Q\\xa1\\xc1f\\x95|w3\\xc5\\x95\\xa1B\\xe5{\\x8e5\\xd6\\x85\\x1b\\x8cw3r\\xdeu\\xc6\\x85*\\xaaK\\x93\\xcf\\xbc\\xbdX\\xda\\\\\\x9c,\\xe3\\xd1/L\\xd6QeK\\x16\\xf4\\xd8\\xe6\\xb1\\xd7>\\x9c6\\xf4\\r)z\"A\\xd3[p\\x8dFkN\\x91\\xa8\\xc5[\\xa7\\xc1\\xa6jt\\xca\\x87\\xec\\x00\\x11B\\xc8\\x01\\x99h\\xc8%y/\\xda\\xee\\x9a\\xd5\\xc5\\x96\\xa1\\x18\\xec\\xf3\\t?\\xe8{\\xbf\\x0f_w/\\'\\xe4g\\xd5y\\x9c\\xdfs\\xe8<\\xa8%\\xc3\\x01\\xbb\\x11\\x0c\\xfe \\t\\xad\\x80\\x86k1d\\xaa*\\x12X\\xc0\\x83\\xd4>\\xcf5\\x05^\\xc6\\xb6\\x9dQ\\xfa\\xa9>\\xa8}\\x19\\xf3\\x7f7\\xc7\\xcd|\\xbf\\xd7\\xd0\\xfcM\\xf7?\\x17OqC\\x0c\\xf9\\xf5\\xee\\xeb\"\\xea\\x8e$\\xe4\\xb9\\x02K:\\xed4\\x99acf\\x94\\xe3(\\xe3\\x86j1\\xc0\\\\Pr\\x83qy%\\x8b+\\x12\\xaap\\xaa\\xd3\\xe7\\xd9\\x91\\xb0>\\x8a\\x8f\\xa6[}J\\xca\\n\\x96\\xd2\\x8b\\xcd92\\x83\\xa5V\\xfa\\x1e\\x9e\\xa7\\x8f\\x98\\xe8\\xb5I\\xd6\\x93\\xcdIg\\xf3\\x08\\x9aSP\\x8f\\xbb\\n\\xa7\\xd6\\xea\\xd6\\xdfs*\\x92\\xbd\\xd4-m\\xe5\\x15\\xea\\x967\\xf9\\x1a\\x91\\x9b^o\\xaf_N\\xeeuSo\\xa1l\\x8fF\\'\\x1e_%\\xeb\\x8f\\xab\\xcbgx\\xf2\\xd0gcHx\\xbd\\x80\\x91|\\x0c\\th\\xad\\x9b\\xf6@7JO/\\x9d\\x9e\\x00\\xb1{\\x89\\xce\\x9c\\xfd\\xe3\\xb9\\x14.Y\\xdf<\\x81\\xa1\\xa5\\xd2\\xeb\\xa9\\xf2@hUX\\xca|\\x9b\\xcaU\\t6\\xa2\\x9f\\xeat\\xcb4\\xf1\\xde[\\x9d\\xa3\\x15j\\xc2\\x1ef\\xa7k\\x0f\\xe6\\xa9\\x15\\xfb\\x97^\\x97\\x1f\\xda>\\x91\\xa5\\x1e\\x9aQ\\x8f\\xb2H\\xf9\\x1e]w]}d\\x91\\x8b\\xf79\\t\\xe3\\x16\\xd1Q-8\\xb4j3Vb\\x9e\\x11\\xa6R\\xe3`\\x80\\x94p\\x80\\xadY\\xed\\x835\\xa8\\xcd\\xb9\\xdd3\\x15\\xd2<\\xfb\\xc6Q\\xfe\\xe9\\xfc\\xd9\\xc3\\xcb\\xe9\\xea\\xf0{\\xaeZ\\x8e\\xd3G,\\xfbw\\xd3~\\xc1\\xf0{|o\\x07\\x95\\xd1[|(\\xf5\\xe5\\xe1\\xd2\\xf4\\r0\\x95\\x15\\x04\\x03\\x84\"\\x84\\x03\\x04 \\x05\\x80,\\x00`F\\xc0\\x06\\x00\\xb0\\xa1a\\x0c\\xc2\\x85\\x80\\x0c \\x1a \\xafYzXV\\xe6\\r\\xb0f\\x80\\x06\\x80\\x07\\x12*9D\\x08\\xe5\\x10 \\x9c\\x08+\\xd4\\x80\\x14nm\\xd4\\xe2\\xf6\"\\xb9\\xddF\\xc3)\\xecf\\xc6\\xe5r:\\x85\\x83\\x8bm#\\x15\\xd20\\xea\\xd2ql\\x92\\x96+I\\x1ad\\x05C\\xa94\\x11,+\\xb8\\xf7\\x07W(\\xdecf\\xc7\\x17\\xad;{\\xbe79\\xeb.\\xb8\\xdf\\x1a\\xb4k)\\xa5\\xb9\\xe6\\xde^\\xccm:g\\x17e\\xfd5f\\xba:\\xe7\\xd3\\x8e\\xfd\\xbb\\xed/\\xe0\\x88\\xfd\\x8e\\x96\\xdbdj1ZT\\x9e\\xc8\\xd4b\\xad\\xd34\\xcdL\\x8a\\x87\\xec\\x00\\xb2\\x00\\x96\\xe4\\xad\\x04\\x81\\xf0\\x07\\t\\xf6\\xa7N2\\xf0\\xac\\x9b[\\xc6qk\\xe4w\\xfco\\xfe\\x91\\xc7\\xcd\\xfd+\\xc4d\\xf3\\x03\\xeb<\\x08e\\xc3\"\\x12\\xf8\\x13\\x00Sm\\x85\\x11Q\\x1c\\x96S3U\\x0c[H\\x8a\\xe9\\xbc\\'\\xa9\\xff\\x00f\\xebv\\xd5\\xe4\\xf1NO\\xa2\\x7fFr\\xf3\\xe3\\xe7\\x8b\\x1d|;\\xf8nW\\xb3\\xd6\\xa4\\xa7\\x15%\\xba\\x92\\xca>.\\xa3\\xeb\\xc6E\\xd5\\x16\\x9bF\\x1af8\\xbau2\\xb8\\n\\xd2\\xb6\\xab\\x95\\xf35\\xd6l]\\xeaR\\x8e;\\x95\\x95\\x0b\\xabxT\\xf8\\x96>h\\xcbQA\\xd2\\x9c6R\\xea_3P\\x0c\\xea8s\\x19/\\xa0C*\\xa9\\xf0\\xdb\\xfa\\x81,jao\\x9f\\xc8\\x08\\xabV\\xf4\\xbc\\xb4\\xbf\\xa9\\x15VU\\xfa\\x17Dvx\\xcbf\\xa4J\\xcd\\xbc\\xaf*\\xd4\\xe4\\xd3j\\x0b\\xf77\\x18\\xae7Q\\xde2\\xf9\\x9dr\\xf3\\xe9\\xcd\\xd5[\\xb3\\xbcy\\xaa3L\\x98\\tb\\xf3\\x00,R\\xe9TZKw\\xbf\\xe4E6\\x1c\\xa5\\x14\\xca\\x89n\\xa2\\xd2\\xa4\\x9f\\xb1\\x15\\x1c\\xb6\\x94W\\xf2\\xb06\\xf4\\xbf\\xc3\\xa7\\xd7%\\xc8\\x16\\xab\\xef\\xe6?dj%g&\\xa5\\x84u\\x8c\\xd3\\xe3\\x7f\\xa6\\xc7\\\\\\xb3Z\\x1a\\x14\\x1do\\x10X\\xc3\\x9c\\xd7\\x87\\xf5\\x1e[\\xccZx\\xff\\x00\\xbc}\\x1a\\x97\\xa5#\\xe3W\\xd5K\\x15\\xb9\\x05\\x88#Q\\x9a\\x9e+cQ\\x94\\xd1\\xe0\\xb1\\x06\\xb8(\\x8e|\\x12\\x91Z\\xaa\\xca3Z\\x8c\\xdb\\x9e\\x19\\x8a\\xe9\\x1c\\x0f\\x8c\\x96)\\xd2\\x7f\\xe28y}=>\\x0fnJ\\x93\\xf5\\x9cr\\xf4k\\xd3\\x7fO|\\x1e\\xdf\\x1b\\xc1\\xe5tv\\xbf\\n=\\x99xt\\xbd\\x03L%EA \\x1c\\xa8@ \\x18!\\x98\\x0c\\xc0\\x16\\x04l\\x00`\\x03\\x00\\x18S0\\x04\\x06`\\x0b\\x08\\x06A^\\xb7\\x0c+t\\xe8\\xc1\\x9a\\x00Z \\x16\\x80\\x07\\x12*9D\\x08\\xa5\\x10 \\x9c\\x00\\xaf8\\x10g\\xdd[)\\xc5\\xecEsz\\x8d\\x86s\\xb1\\x9b\\x1b\\x95\\xc8\\xea\\x16.2m#\\x9d\\x8e\\x8cZ\\xb4\\xdcYeK\\x104i\\x00T \\x84\\x9b@Y\\xa1p\\xe2\\xf0\\xd9\\t[Vw\\\\&\\xce[\\xcb\\xd1\\xe3\\xdf\\x1b\\x14\\xaa\\xa9/\\x99\\xe6\\xd6^\\xbc\\xef\\xad}+z\\xc8\\xb2}3\\xab\\xda\\xef4\\xbe\"H\\xae\\x96\\x83\\xe0\\xdb\\x15~\\x93,b\\xaeC\\x83L\\xa6EC\\xe4\\x06l\\x8a\\x8d\\x99\\xaal\\x91K9*8\\xaf\\xb4\\xf89xJ\\xbb_\\xc3$\\xff\\x00s\\xb7\\xe3\\xdf\\xfd#\\x97\\x9a\\x7f\\n\\xf0\\xc5\\xf0\\x9f]\\xf3\\xc1Qb/n\\xc0\\x04\\x7f\\xba Q\\x01\\xfb\\x14\\x079%\\x11\\xc2\\x1edf\\x97(\\xc8\\x9a\\xdao\\xcb\\xc7tQ\\xee\\xbe\\r\\xd4a\\xacxn\\x84\\x9c\\xb3V\\x92\\xf2\\xe7\\xf2h\\xf9\\x1f\\x91\\xe3\\xf8n\\xc7\\xd5\\xf0y>X\\x95\\xa1yf\\xe4\\x9e\\x16\\xe8\\xf2\\xd8\\xf5J\\xc3\\xb8\\xb6y{a\\xa3\\r \\xa2\\xdc\\'\\x86^\\x964iIH\\xac\\xf0S\\x8fS\\x08\\xabqm\\x17\\x1c\\xac&Q\\x95Z\\x9c\\xe3\\x9c6QJR\\xa8\\xa5\\xb8\\x05\\x19N^\\xe1N\\x94\\xa75\\xb3j?\\xd4\\x82\\x1a\\xb1n\\xe1G\\x19\\xdb\\xd4\\xfd\\x8dJ\\xcdV\\xbe\\xa5\\xd5K\\xa5l\\x92\\xdc\\xb2\\xa5\\x8eGT\\x8a\\x8c2v\\xc3\\xcf\\xb73Uee3\\xd1\\x1eZ\\x87\\x18F\\x986\\xd9`\\x1cq\\xd2\\xc0\\x9e\\x94\\xbd8\\xc0\\x12\\xc5e\\xe7\\xe4\\x88,^EJ\\xde\\x94\\xfb\\x85S\\x8a\\xeb\\x9a_\\x90\\x1b\\xd6\\xf9\\x8d\\x1f\\xf2\\xf0A?WR\\x9b\\xef\\x8e\\rB\\xb3\\xe7\\x14\\xae\\x16\\x1f=\\x8e\\xd1\\x8a\\x92k\\x0f\\xeat\\x8c\\xd6\\xb7\\x84)\\xf9\\xbe*\\xd3\\xd6?\\xf5\\x933\\xe7\\xbf\\xf9\\xd6\\xbcS\\xf9\\xc7\\xd0\\xa8\\xf9\\x0f\\xa6\\x9a(\\xa8\\xb1L\\xb1\\x9a\\x99o\\xb24\\x89\\x92\\xd8\\xd2\\x1c\"9\\x92\\xacV\\xa9\\xc33[\\x8c\\xdb\\x8d\\xd31[\\x8e\\x0f\\xc6\\x9f\\xdcS\\x7f\\xe28\\xf9}=>\\x0fn6\\x94\\xbdh\\xe1\\x9foF\\xbd:\\r=\\xf0{|o\\x0f\\x95\\xd2\\xda\\xfc(\\xf6e\\xe0\\xd2\\xf4M0\\x95\\x15\\x06\\x82\\x11C\\x80\\x82\\x18\\x06`3\\x00X\\x11\\xb0\\x01\\x80\\x0c\\x00aB\\xc0`\\x13\\x08\\x06\\x00\\xb2\\n\\xf5\\xbe\\x16\\x15\\xbat`\\xb0\\x034\\x00\\xb4@\\r\\x00-\\x01\\x14\\xa2A\\x0c\\xe2\\x15\\x0c\\xe2\\x05j\\x90 \\xcd\\xbb\\xb5ROb,\\xaegR\\xd3\\xf2\\x9e\\xc6,t\\x95\\xc9_Y8I\\xb4\\x8c_\\xa6\\xe7\\xdb\"\\xa5<2\\xcaX\\x89\\xc4\\xac\\x81\\xa2\\xa1\\xb0T.\\x00\\xb7m]\\xc5\\xa4\\xd9,Y[\\xb6\\x979Ks\\x8e\\xb2\\xef\\x8d\\xba\\x8d\\x1e]rL\\xc5\\x9c\\x8e\\xb2\\xf6\\xbb\\xdd3\\xe1G(\\xe8\\xe8\\xed\\xb7K\\xdc\\xd35\\xa3KcQ\\x8a\\xb5\\r\\x8a\\xcdM\\x16T8S6@\\x12{\\x91A\\xd5\\xb9\\x1a\\x12a\\x1c\\xbf\\xda\\x04<\\xcf\\x08\\xde\\xafhd\\xe9\\xe1\\xbf\\xfaG?\\'\\xf4\\xaf\\x01\\x8b\\xd8\\xfbQ\\xf3J\\xa4}\\x1b\\xfb\\x04W\\x84\\xb3\\x0e\\x92\\x02\\xee\\xb7(~\\xc0\\x02{\\xb2*(\\xc9\\xc2\\xb3\\xc32$\\xb7\\x97\\xaaK\\xe6X;\\x9f\\xb3\\x8dk\\xfb;^\\xfb\\x9dI\\xe2\\x8d\\xd7\\xa7w\\xb2\\x97c\\xcd\\xf9^?\\x96{?OG\\xe3y>:\\xe7\\xfa\\xf6\\xa9\\xd0RG\\xcb\\xb1\\xf4\\xa6\\x99\\x97v1\\x97o\\xcc\\xc5\\x8e\\x92\\xb1\\xae,\\\\[x\\xc3F,t\\x95\\x1d\\x08\\xb8<2B\\xc5\\xd8\\xc6-d\\xd3\\n\\xd5 \\xdbi\\x03\\x8a\\xd5-s\\xca\\x02\\xac\\xac\\x96~\\x11\\xd5\\xe0U\\x9evDP\\xdc\\xd2\\x8d\\n\\x0f\\xa5}>l\"\\x05C\\xcbOn\\xa9>~\\xa5\\xea\\xf1F\\xee\\xd9\\xaa-\\xac\\xe1\\xf2\\x8dJ\\xcd\\x8e/[\\x96!Q\\xb5\\x8c,#\\xd1\\xe3y|\\xbe\\x9c\\xcfG\\xe1\\xbfs\\xbcy*\\xb4\\xa1\\xb9\\xa8\\xc2\\'\\xb4\\xb2PJ[0,\\xd0\\x8b\\x94^\\x00\\xb1Mz\\xb0\\xf6\\xc2\\x02\\xc5t\\xdd\\x9c\\x1b\\xc67H\\x8a\\xabm\\x1f\\xfa\\x84\\xbb4\\x06\\xcd\\xaa\\xccw\\xf6\\x00\\xe1<\\xd5q\\xe39\\x10S\\x9a\\xc5U\\xee\\x8e\\xd1\\x9a\\x95\\xef\\r\\xf9L\\xe9\\x19\\xae\\x93\\xc0tT\\xfcWi\\xfe\\x16\\xe5\\xfb\\x1c\\xbf&\\xff\\x00\\xe7]<\\x13\\xf9\\xc7\\xbbA\\xe1$|\\xc7\\xd0X\\x8b\\xc2*&\\x81c5f\\x0bcQ\\x94\\xa8\\xd2\\x13\\x02)\\x91\\xa8\\xafP\\xcdX\\xce\\xaf\\xdc\\xc3\\xa4p^7x\\xb6\\xa7\\xfec\\x97\\x97\\xd3\\xd1\\xe0\\xf6\\xe1\\xe9\\xcb\\xd6\\x8e\\x19\\xf6\\xf4Z\\xe8\\xf4\\xd7\\x9c\\x1e\\xdf\\x1b\\xc5\\xe5t\\xf6\\x9c#\\xd7\\x97\\x87k\\xf14\\xe6\\x96%A\\xa0\\x11P\\x80@ \\x86\\x01\\x99@0\\x01\\x90F\\xc0\\x06\\x00\\xb0\\x18)\\x82\\x19\\x80,\\x00aU\\xeb|,\\x83x\\xe8\\xc1\\x00\\xd8\\x01\\x9a\\x00Z \\x16\\x80\\x8eQ\\x02)D\\x8a\\x86Q\\x02\\t\\xc0\\n\\xf5!\\x92\\x0c\\xbb\\xcbE$\\xf6%W/\\xa8\\xd8s\\xb1\\x8b\\x1ds\\\\\\xa5\\xed\\x9b\\x84\\x9e\\xc6\\x1bfN\\x18bT\\xb1\\x0b\\x89\\xa6C\\x82\\xa1\\xb0T:\\xd9\\xec\\x05\\xeb[\\x8e\\x96\\x93%\\x8b+\\xbd\\xf0\\xe3\\xeb\\xa5\\x19{\\x9c<\\x8fO\\x89\\xdf\\xe9\\xbc#\\x83\\xbb\\xa3\\xb6|\\x1a\\x8c\\xd6\\x94\\x1f\\x06\\x98Y\\x83*%\\x8b*\\x0c\\x00dTs{\\x19\\xab\\x10\\xcaxfZ\\x90Q\\x9eA\\xc75\\xe3\\xea\\xde_\\x84\\xaf_\\xbc0u\\xf0\\xfd\\xf9#\\x97\\x97\\xeb\\x15\\xe0qxG\\xdb|\\xc2\\x94\\xb2\\xbeA\\x15\\xa9\\xc5\\xe5\\xbf\\x99\\x14o\\x92\\xa0\\xb7K\\x80#|\\x91Q/\\xef\\x8c\\x82\\x83\\xf2\\xee\\\\_r\\xc1f\\x9di\\xdb\\\\\\xd3\\xadN]3\\x84\\x94\\xa2\\xfd\\x9a\\x16vp\\x97\\x97\\xaf\\xa3\\xfc1\\xabS\\xd74\\x1bk\\xc8\\xb5\\xd5(%5\\xed%\\xc9\\xf2<\\x98\\xf8j\\xc7\\xd4\\xc6\\xfeY\\x95\\xa9:JK\\x83\\x95\\x8e\\xb2\\xa8\\xd7\\xb4RO(\\xcd\\x8e\\x99\\xd36\\xa5\\x93\\x83\\xe0\\xc7\\xc5\\xd3\\xe4J\\x86#\\x8c`q\\r\\xf7N\\xe3\\x87C+d8\\x88go\\x84\\xf3\\x824\\x89PK/\\xb0\\x14k\\xc3\\xcd\\xb8T\\xf1\\xb4\\x17S\\xfa\\xf62\\xbc(\\xdb\\xb7\\x1f\\x98\\x15\\xefm\\xd2\\x861\\xb6\\rFk\\xcc|A>\\xbb\\xc7E/\\x9b\\xf9#\\xd7\\xe3\\xf4\\xf1\\xf9}\\xf1\\x80\\xe3\\xf1#\\xb4y\\xaa\\tC\\x83LUI\\xc5\\xa9\\xb4T\\x0cVS`^\\xb5]-\\xa6\\x05\\x88\\xc75\\xa5\\xbf\\x0b\\x92\\t\\xee\\x1aV\\xd4!\\xf3l*\\x1ap\\xe9\\x9a\\x97\\xcb\\x00h\\xd2\\xca\\xf4\\xe7\\xb0\\x01\\n\\x9f\\xf5\\tw\\x11AWj\\xbd~\\xcf\\x18:\\xe5\\x8a?\\xe0\\x97\\xcdd\\xeb\\x19u\\xff\\x00f\\xb4\\xa5[\\xc41\\x9e6\\xa7I\\xb6\\xcf?\\xe5_\\xe1\\xc7\\x7f\\xc7\\x9f\\xcd\\xedT~\\x1d\\xfb\\x1f=\\xed\\xa9\\xe2\\xc0\\xb3\\x03LU\\x88<\\x9a\\x8c\\xd4\\x89\\x9aC\\xb6\\x04r\\xdd\\x91U\\xea\\x99\\xadFm\\xc7s5\\xb8\\xf3\\xdf\\x1c\\xcb\\xf0\\xe9/\\xf1\\x1c|\\xbe\\x9e\\x9f\\x0f\\xb7\\x13\\x0f\\x8d\\x1cg\\xb7z\\xe94\\xbe\\xc7\\xb3\\xc6\\xf1\\xf9]M\\xa7\\xc2\\x8f^^\\x1d\\xaf\\xc4\\xdb\\x9aT\\x01\\x84\"\\xa1\\x00\\x80A\\x0cP,\\x01`\\x03\\x026@\\x0c\\x01\\x01\\x82\\x90C0\\x01\\x80\\x12\\x02\\xbdo\\x85\\x91[\\xe7F\\x08\\x04\\x03`\\x06h\\x01h\\x00\\x92 \\x8aH\\x08\\xa5\\x12*\\x19D\\n\\xf3\\x88\\x15\\xaaA4Ed\\xdeZ)\\'\\xb1\\x9b\\x16W-\\xa9Xs\\xb1\\x8b\\x1d%r\\xf7v\\xae\\x12{\\x18t\\xf6\\xcf\\x940\\xcb+6#q4\\xcd\\x03EC\\x15\\n-\\xc6I\\xa0=3\\xc3q\\x7fs\\xa2\\xfeG\\x9f\\xc9\\xed\\xea\\xf1zw\\xba{\\xc6\\x0e\\x0fC\\xa1\\xb6y4\\xcdi\\xd2m\\xe0\\xd4b\\xac\\xc5\\x95\\x94\\xb0\\xd8\\t;\\x15\\x00\\xc8\\xa8\\xe6f\\xacT\\xad,d\\xc5t\\x88\\xe9V\\xcb$\\xadX\\xe5>\\xd2n:|)Z9\\xf8\\xa4\\x97\\xeez\\x7f\\x1b\\xef\\xcb\\x1eo\\xc8\\xfa\\xf1\\xd7\\x89gs\\xec\\xc7\\xcc\\x05Ya\\x12\\x87\\xa7\\xf0\\x08\\x1a[2\\x82Rn \\x03\\xceH\\x88e\\xb4\\xf2\\x8c\\xa8j\\xc9\\xaa\\xb0\\x9b\\x02\\xd5E\\xd5\\r\\x8d\\x0fB\\xfb(\\xf1\\x1f\\xdd/\\xe7\\xa5W\\x9e)\\xd7\\xde\\x9e{K\\xfeO\\x17\\xe5c\\xb3\\xe5\\x1e\\xaf\\xc6\\xdf/\\xc6\\xbd\\xa1I4x\\x1e\\xd0\\xce\\nH\\x9cYU\\xe7H\\x9ct\\x95\\x03\\xa0\\x9b\\xde$\\xe3]/!\"p\\xea\\x19\\xd1Y\\xd8\\x9c:\\x8av\\xf9\\x1c^\\xa1\\x9d\\x08\\xae\\xd9\\'\\x0e\\xa9S\\xa4\\xa5\\t\\xd4IfR\\xfd\\x89\\xc6\\x86\\xe8\\'\\x0c\\xe3\\x7fq\\xc4\\xeb\\x17T\\x9chR\\xab9Kh\\xac,\\x9a\\x90\\xbe\\x9ec^\\x0e\\xba\\xaf{%\\xfd\\xe4\\xb1\\x1f\\xa2=9\\xff\\x00\\x1e=}\\xfd\\xb0\\xd7\\xc6\\xce\\xd1\\xe7\\xa8\\'\\x06\\xe1\\x97\\xd9\\x9as\\xaa\\xb7\\x10\\xfcD\\xfd\\xd1Q_\\x80/\\xda\\xc7\\xaeM\\xfc\\x80\\x9a\\x8b\\xc3}\\xf6\\xc6\\x00\\xb3\\xd1\\xd5m\\x19\\xc9|\\x91\\x140I(\\xe5l\\xd0\\x17m\\xd7_\\xd5\\x81],\\\\\\xc9\\xf3\\x86\\x14W+\\xd7/\\xa9\\xd7,R\\x83\\xf8\\xa3\\xfe\\x13\\xa4G\\xa3}\\x94\\xdb?2\\xf6\\xb3[%\\x18\\xaf\\xeay?.\\xfa\\x8fO\\xe3Ou\\xea\\xb4\\x9fc\\xc6\\xf5,E\\x04O\\x03Q\\x9a\\x9e\\x0c\\xd3)\\x13(w\\xc0\\x02\\x05z\\xadnJ\\xb1\\x99p\\xf91]#\\xce<m.\\xa9Q\\x8f\\xcd\\xb3\\x87\\x96\\xfd=^\\t\\xed\\xc9S^\\xb4p\\x95\\xe8\\xb1\\xd1\\xe9\\xabd{<u\\xe2\\xf2\\xc7Oi\\xf0\\xa3\\xdb\\x97\\x83~\\xd7\\xe2m\\xcd*\\x00\\x82\\x1c\\xa8@ \\x11P\\xcc\\x01`\\x0b\\x026\\x002\\x00`\\x08\\x08\\x06\\x01\\x98\\x02\\xc0\\x8e@AW\\x86\\x15\\xbem\\x82\\x01\\x00\\xc03\\x01\\x9a\\x00\\x1a\\x029\"\\x08\\xe4\\x80\\x86H\\x8a\\x82h\\n\\xf3\\x89\\x05j\\xb0RX\\n\\xc7\\xbe\\xb4ROc6,\\xaeWQ\\xb0\\xe7c\\x16:\\xe6\\xb9\\xab\\x9bw\\t=\\x8c6\\xa5(\\xe0\\xb2\\xb3b6\\x8d3@\\xca\\xc9\\xa2\\xb35\\xf5(\\xf5M\\x06\\x1d6\\xb4\\x17\\xf8Q\\xe5\\xf2{z\\xfc~\\x9d\\xb6\\x9e\\xbd(\\xe4\\xee\\xdf\\xb5{\\xa3Q\\x9a\\xd3\\xa5\\xc1X\\xab0*&\\x81Y\\x18\\r\"*\\x19\\x92\\xb5\\x14n\\xb6\\x8b1[\\xcb\"\\xda\\xeb\\xfe\\xaet\\xdb\\xe0\\xe5/\\xdb\\xb5\\x9fNk\\xedB\\xe1G\\xc3\\xf4\\xe1\\xfc\\xd5Q\\xed\\xfcO\\xfe\\xaf\\x17\\xe5}a\\xe3\\xfdK\\xaf\\x07\\xd7\\x8f\\x98\\n\\xbb\\xcd &\\x8f\\x08\\xd4\\r-\\xf6\\x08jdR\\x90Ej\\x9bM3*{\\x85\\x9aI\\xe3t*\\xa7\\xa5.\\xba\\t\\xfc\\x8b= mn\\xeaX_\\xd2\\xafNN3\\xa75(\\xb5\\xee\\x8cjw\\xe9\\xa9yz\\xfa?\\xc3\\xda\\xdc5}\\x1e\\xda\\xf2\\x12\\xcf\\\\WW\\xc9\\xf7>O\\x93?\\x1dX\\xfa\\x98\\xd7\\xcb=m\\xc6\\xaa\\x922\\xd7\\r)\\xa25\\x02\\xdcH\\xa8\\xa5$E\\x0f$P\\xba|\\x95:\\xa7q\\x17\\x18M\\xfc\\x99\\x9a\\xd4V\\x84:(Ec\\xb19\\xf4\\xd7\\xec5_E6\\xd7%G\\x05\\xe2\\xdb\\x99B\\xdb\\xc9\\xa7\\'\\xd7R]?\\xeeo\\xc7>\\xd9\\xf2\\xdeN9\\xcdR\\x1fv\\xb2\\xa5K\\x1c$u\\xc7\\xddy\\xfc\\x9fYr\\xefz\\xd2^\\xef\\x83\\xd1\\x1eJ\\'\\x0e\\xaaSk\\xb7%eF\\xe6\\x1d2\\x81QNpi\\xe3\\xe6\\x05\\xdb\\\\\\xa8\\xb7\\x9e\\xc0K\\x07\\xebx\\xee\\x80\\xbe\\x9bv\\xd1Y\\xf4\\xc5\\xbc\"4\\x86_\\x02K\\xb0D\\xf6\\x92n\\x9b\\x97\\xb3\\x04\\x05\\'\\xf8\\xb5W\\xbe\\xe1G[\\xd5\\xd15\\xdd\\x1d2\\xcdG\\x17\\x9e\\xaf~\\r\\xa3\\xd7>\\xcd)\\xaaZ-Z\\xcf\\xe2\\xa9S\\x8f\\xa1\\xe1\\xfc\\x9d\\x7f>=\\x9f\\x8f?\\x8b\\xbe\\xa4\\xf1\\xcf\\'\\x9d\\xddj\\x0f%f\\xadA\\x9b\\x8c\\xd4\\xc8\\xac\\x8d\\x14;\\x00d\\xc0\\xa9Y\\x99\\xadFm\\xcc\\xb1\\x16e\\xb8\\xf3_\\x17\\xcf\\xaa\\xee\\x9a\\xf6L\\xf2\\xf9\\xeb\\xdb\\xf8\\xf3\\xea\\xb9\\xa8?Z8K\\xf6\\xf4X\\xe84\\xe7\\xc1\\xed\\xf1<>gOh\\xfd(\\xf7e\\xf3\\xb6\\xd0\\x89\\xd1\\xcd*\\x00\\x82\\x1c\\xa8@ \\x86(`\\x19\\x80\\x0c\\x00`\\x03 \\x06\\x03\\x00\\xc00\\x08\\x01`E  \\xab\\xf0\\xb0\\xad\\xf3l\\x10C\\x05 \\x84\\x14\\xc0\\x0b\\x00\\x1a\\x02)\"\\x08\\xa4\\x80\\x82h\\x8a\\x82h\\x08&\\x88*\\xd6\\xa6\\xa4\\x99\\x15\\x89}f\\xa4\\x9e\\xc4\\xb1\\xa9\\\\\\xae\\xa3c\\xce\\xc7;\\x1d%s\\xb5\\xe8\\xb87\\xb1\\x96\\x95$\\x8dFj&i\\x91[\\xc7\\xaa\\xe2\\x9a\\xf7\\x92\\x08\\xf5\\x8d\"\\x1d4\\xe9,vG\\x97on\\x1du\\x8eS9:\\xb7\\xadMD\\xadJOdm\\xcdj\\x1b`\\xac\\xa6\\x88A\\x80\\xd2\"\\xc4\\x13\\xe0\\x8dE+\\x95\\x98\\xb3\\x15\\xbc\\xb9J\\xf5\\x1d\\xbe\\xb9\\x1f\\xe5\\x94N7\\xdb\\xd1>\\xe3\\x96\\xfbM\\xb9\\xea\\xb2\\xb3\\xa7\\x9eg\\x9c\\x1fC\\xf0\\xbe\\xf7k\\xc1\\xf9\\x9f\\xd6G\\x99JK\\xac\\xfa\\x92\\xbei\\xe4\\xf34Qb\\x06\\x90\\r\\xfa\\x98B_\\x11\\x14\\xf2Y_2\\xa2\\xadn\\xc6*\\x9fyR\\xe9\"\\x8e\\xcaY\\x83\\x8ftk)Q\\xddG\\x1b\\xfe\\xe4\\xd4X\\xf4\\x7f\\xb2\\xddw\\xa5T\\xd3jO\\x9f\\\\\\x13\\xfd\\xcf\\x07\\xe5c\\xff\\x00\\xda=\\xdf\\x89\\xbfy\\xafU\\x85\\xc6\\xdc\\x9e\\'\\xb7\\x89\\x95l\\xf7\\x07\\r*\\xa4^\\x196\\xd9\\x15b\\x10l\\xac\\xda\\x95\\xc3b\\xb2\\xa3x\\xbf\\r\\xe1\\x12\\xb5\\x9fj\\xbd9\\xd9\\xfb\\x13\\x8d(\\xdf\\xd5P\\xa4\\xd7\\x0f\\x04\\xab\\x1e\\x7f\\x7f8\\xde\\xea\\xcb\\xbca\\xc7\\xe4u\\xcc\\xe4r\\xd5\\xed`k\\xd7>ehS]\\x9e\\xe7o\\x1cy\\xfc\\xba\\xef\\xd3\\x9a\\x9c\\xb1u\\x1f\\xa9\\xd9\\xe6\\xabp\\x86aYvq\\xc0Fu\\xeb\\x96)\\xbfe\\x82\\xa2\\xac\\xe3\\x99>\\xe0Kl\\xf0\\xff\\x00 $\\x86\\xd5S\\xc8\\x1a\\x12x\\xa1\\x1c,o\\xbf\\xcc\\xca\\xa1\\xea\\xebol.\\xc8\\xa2\\xed\\x9c3mQ\\xa0DPM\\xd6o\\x86F\\x8a\\xa7\\xf78\\xc6\\xf1l\\xe9\\x96*\\xb4g\\xc6\\xfb\\xe4\\xe8\\x8ff\\xf0&(\\xe8\\x16\\xcd\\xec\\xe4\\x9c\\x8f\\x99\\xe7\\xbf\\xfaW\\xd0\\xf0O\\xfc\\xe3\\xb2\\xa3W\\xa9\\x9c\\xddlh\\xd3{#Q\\x8a\\xb5\\x07\\xc1\\xb6*dTH\\x8a\\x86\\x94\\x9evY\\x00$\\xc8*\\xd6\\xdc\\x8dFU\\xe4\\xb1\\x16f\\xb7\\x1ec\\xe2\\x9a\\x9dZ\\x9e3\\xc4O\\x1f\\x9f\\xdb\\xdf\\xf8\\xff\\x00\\xd5\\x85\\x0f\\x89\\x1cs\\xed\\xde\\xb7\\xf4\\xd7\\xc1\\xee\\xf1<>gQh\\xfd(\\xf7e\\xf3\\xb6\\xd1\\x89\\xd1\\xc9\"a\\x06\\x98\\x0eT \\x16J\\x86\\x01\\xb2\\x00\\xb0\\x01\\x80\\r\\x80\\r\\x80\\x0c\\x81\\x80`\\x10\\x0c\\xd8\\x00\\xd8\\x11\\xc9\\x81\\x05W\\xe9\\x7fB+\\x7f\\'F\\x08!\\x00\\xc0 \\x10\\x02\\xc0\\x16\\x14\\x0c\\x08d\\x88!\\x9a\\x02\\xbc\\xd1\\x15\\x04\\xd0\\x10M\\x10S\\xafMI2\\x0c;\\xfbN\\xa4\\xf6%\\x8d\\xca\\xe55\\x0b,7\\xb1\\xce\\xc7IX5\\xe98\\xb2E\\xaa\\xd2F\\x99Kc\\x1e\\xab\\xea+\\xfcHT\\x9e\\xde\\xaf\\xa6&\\x94\\x17\\xc8\\xf2\\xe9\\xed\\xcb\\xab\\xb3\\xecstnZ=\\x91\\xa8\\xcdjS{#Q\\x8a\\xb5M\\x9af\\xacD \\xfb\\x00,\\x08\\xa6f\\xb5\\x14\\xeb\\xc7)\\x99\\xad\\xc7\\x1f\\xae\\xaf&\\xe2\\x8do\\xe5\\x96\\x19\\xca\\xcf\\xb7l\\xdf\\xa7\\x9d}\\xa1_*\\xfa\\x8d\\xb5\\x18\\xbd\\xa1\\x0c\\xb3\\xe8\\xfe\\x14\\xe4\\xb5\\xe0\\xfc\\xcb\\xf7#\\x89o5\\x0f\\x7f^\\x14\\xb1y\\x91\\xa8\\x8b0\\x96\\xc6\\xd0\\x1d^\\xb6\\x9f\\xb9\\x10\\xefb\\x83\\xc6P\\x15\\xab\\xc5\\xe3&j\\x9a\\x1b\\xc3+\\xf4\"\\xa3\\xa1.\\x8b\\x96\\xbd\\xc9/\\xd8\\xb5^=P\\xc1\\xba\\x85\\xa1j\\x13\\xd2\\xf5z5\\xe0\\xdap\\x96~\\xbe\\xe7\\r\\xe7\\xe5.k\\xa65s\\xa9c\\xe8;\\x1b\\x98\\xdeY\\xd2\\xb8\\xa6\\xf3\\x1a\\x91RL\\xf9\\x1a\\x96^W\\xd8\\xcd\\x96v-\\xc5\\x99i,p\\x04\\xd0\\xdb\\x05E\\xa82\\xb3G)l\\x11J\\xe1\\xac0\\xd4S\\x9dU\\x1am\\xf0\\xc9\\xd5r\\xda\\xce\\xa3\\xd3\\t\\xc7?&\\xfebN\\xad\\xfaq\\x92\\xb8TUz\\x89\\xef\\xf0\\xaf\\xa9\\xd68Z\\xe7.\\xb3R\\xe9,\\xe5\\xae_\\xcc\\xed\\x97\\x9bl\\x8b\\x87\\xd3r\\xbf\\xcctq\\xadZ\\x0f\\xd2\\xdb\\xf7k\\xf6\\x037Q\\x8a\\x8d:m-\\xda*(\\xcbg\\x17\\xee\\x80\\x92\\x8ez\\xb0\\x80\\x9a\\x8e\\xf5$\\x9fe\\x80/eJ\\xda/<cb*\\xab\\x9a\\x8b_V\\x98\\x1a\\xfadUK:\\xab\\xb8\"\\xb3]\\x17[\\xf0\\xc8\\xd29\\xc9\\xf9\\x95\"\\xfd\\xb2o,\\xd5%,UGX\\xc5z\\xd7\\x85\\xef\\x144KX)=\\xa2|\\xaf\\xc8\\xff\\x00\\xe9_S\\xf1\\xff\\x00\\xf9\\xc7m\\xa7VS\\xc3\\xcf\\'8\\xe9\\xa6\\xed&t\\x8eUn\\x9b4\\xc5X\\x89\\xa6FP\\xcd\\xe0\\x08\\xa4\\xc8\\xaa\\xb5\\xa5\\xc9\\x162/e\\xe9\\x91\\x8a\\xe9\\x1e[\\xe2\\x19\\xf5j\\xb57\\xe0\\xf1\\xf9\\xbf\\xb3\\xdf\\xe1\\xfe\\xac\\xb8\\xf2\\x8eyu\\xad\\xdd5\\xf0{|O\\x17\\x99\\xd4Z=\\x91\\xee\\xcb\\xe7m\\xa3\\x07\\xb1\\xd1\\xc9*a\\x04\\x98C\\xe4\\xa1d\\x05\\x90\\x86\\xc9C6\\x00\\xb6\\x006\\x006\\x006\\x00\\xe4\\x81\\x80f\\xc0l\\x80-\\x80\\x12`G&A\\x05W\\xe9a]\\x06N\\x8c\\x1f ,\\x846@l\\x80\\xb2\\x03d\\x01`\\x0b\\x029\\x01\\x04\\xc8\\xaa\\xf3 \\x86aU\\xe6\\x04\\x13 \\xa5qMI2\\x0c\\x0b\\xfbD\\xd3\\xd8\\xcd\\x8d\\xca\\xe5\\xaf\\xad0\\xde\\xc6,t\\x95\\x8dV\\x9e\\x1b\\x10M\\xa5C\\xabR\\xa2\\xbf\\xc4[\\xe8\\x9e\\xde\\xab\\xa7,t\\x9eM=yt\\xf6\\x8b)v0\\xe8\\xda\\xb6\\xdb\\x06\\xa35\\xa7I\\x9aaj\\x0c\\xd2,E\\x95\\x91\\xe4\\x06l\\x829\\x91\\xa5J\\xdc35\\xa8\\xe6<EK\\xae\\xc2\\xa3\\xc6\\xe9e\\x18\\xb1\\xb9^\\x17\\xaf\\xde;\\xadVso\\x8fI\\xf4\\xff\\x00\\x1e|p\\xf9\\xbe}|\\xb6\\xcc\\x8b\\xcc\\x8fC\\x82Zo\\xba7\\x11e=\\x8d\\xa2)<N?6A+eAgm\\x8a\"\\xac\\x9c\\xa2J+\\xd3\\xf4\\xb6\\xb2\\xcc*:\\xaf\\xa6\\xacd\\x89o\\xda\\xb4\\x17\\xaa)\\xe7\\xb1\\xd22\\xa1p\\x9d*\\xd1\\x9fd\\xcez\\x9c\\xadG\\xae\\xfd\\x9b\\xebJ\\xe6\\xc2z}I\\xae\\xaa^\\xaay\\xfeS\\xe7\\xfeV9~S\\xf6\\xfa\\x1f\\x8b\\xe4\\xec\\xf8\\xdf\\xd3\\xbbS\\xc1\\xe3{\\x07\\n\\x9b\\x85Y\\x84\\xfd\\xca\\xcaeW\\x1c\\x03\\x85*\\xbbo\\xb08\\xa1sSg\\xbe\\xec\\x95\\xa8\\xc7\\xd4o\\xfc\\x98tE\\xe6O\\xf6\"\\xb8\\xadf\\xef\\xaa\\xa4#\\x1e\\x16[7\\x967\\\\\\xd5J\\xfdTw\\xf7rgi\\x1e{Y\\xd4\\xa7\\x9b\\x9d\\xfd\\x99\\xd7/>\\xab.\\xeb\\xff\\x006\\xd7=\\xcd\\xb9\\xafQ\\x9c\\xa5\\x15\\x15\\xef\\xfe\\x81\\x10\\xeax\\xc4b\\xb8P(\\xcd\\x9e\\xf0\\x83\\xf6\\x02Kiz\\x9b\\x02Kv\\x95I6(\\xb1Jy\\xb3k\\xbeH\\xa8\\x1b\\xf4g\\xe6Tkh\\xf2\\x92\\xa7Qc\\x92U\\x80\\xb9\\x8ef\\xdfx\\xcc\\x8d+\\xb9)U_L\\x1a\\xcaU*\\x8f\\xa6\\xa2\\xfa\\x9d\\xa3\\x9dw^\\x13\\xb9\\x95z\\x14\\xa9\\'\\xf0\\xf2|\\xff\\x00\\xc9\\x9f\\xcb\\xaf\\xa1\\xf8\\xd7\\xf8\\xf1\\xe9\\xfaRq\\x8a<\\xb1\\xe9\\xae\\x92\\xdd\\xe6)\\x9dc\\x8d]\\x87cQ\\x8a\\x9d\\x15\\x06\\x99\\xa44\\x9e\\xc4\\x10M\\x91U+K\\x92V\\xa3\"\\xfa^\\x86f\\xb7\\x1eW\\xacK\\xabR\\xae\\xff\\x00\\xc4x\\xbc\\xbf\\xd9\\xf4|_\\xd6(E\\xee\\x8eq\\xba\\xdc\\xd3\\xa5\\xc1\\xee\\xf1<^gOf\\xf6G\\xb7/\\x9d\\xb6\\x9c\\x1e\\xc7G$\\xa9\\x95\\x04\\x98C\\xe4\\xa1d\\x05\\x90\\x86\\xc8\\x0c\\xd9@6\\x10-\\x85\\x03`\\x03d\\x0c\\x036\\x036P\\r\\x90\\x0b\\x90\\x11\\xca@\\x03d\\x10U{0\\xae\\x813\\xa3\\x07\\xc8\\x0b!\\r\\x90\\x16@l\\x80\\xb2\\x00\\xb6\\x00\\xb6\\x00I\\x81\\x0c\\xc8\\xaa\\xf3\\x02\\t\\x10A0 \\x99\\x15Z`Q\\xb8\\xa4\\xa4\\x99\\x15\\x81\\x7fi\\x9c\\xecf\\xc6\\xe5s7\\x96\\xae-\\xeca\\xbe\\xa3\\xd2)\\xe7T\\xa5\\xf2d\\xbe\\x97>\\xde\\xa1`\\xb1\\xd2y\\xb4\\xf5\\xe5\\xd2\\xdap\\xb2e\\xa6\\xbd\\x1e\\x11Q\\xa3FX4\\xcd[\\xa7,\\x95\\x95\\x98H\\xac\\x8d0\\x19\\xc8*92*\\xb5]\\xd1\\x1615Z~e\\xbc\\xe3\\xee\\x9a3Z|\\xe7\\xac\\xc1\\xd0\\xd5\\xaei\\xbeT\\xd9\\xf4\\xbcw\\xf8\\xc7\\xcd\\xf2O\\xe5U\\xa0\\xf1\\x1c\\x9d\\xa3\\x9aj_\\n\\xf77\\x19O\\x9cE\\x9bDU^%\\x0c\\x11R\\xe7)\\x16\"E\\xc24\\x81\\x9a\\xf4\\x92\\x8a\\xcdbF\\x15\\r}\\xd1\\x9a\\xabV\\xb3\\xea\\xa2\\xb7\\xdd\\x1b\\xcd\\xfaJk\\x98\\xf5\\xd3cS\\xe8\\x8b\\x1e\\x1b\\xd6ki:\\x95*\\xf0\\x93]\\x12\\xdd{\\xae\\xe8\\xe3\\xac\\xcd\\xe6\\xe6\\xba\\xf8\\xf7q\\xaf\\x94{\\xed\\xa5\\xe5;\\xeb:W4e\\x98T\\x8a\\x92g\\xc8\\xd6no+\\xeb\\xe7R\\xce\\xc5\\x98K\\x06z\\xd2X\\xd5i\\x8e\\x89|\\xdc\"\\xf5\\x11N\\xbb~\\xe3\\xab\\xc5\\x1b\\xaa\\xafe\\x14\\xdb\\xf63U\\x85|\\xdf\\x97Vr\\xdd\\xe3\\x1f!\\n\\xe2\\xf5:\\xcb\\xaeM\\xbd\\xa3\\x1c\\x1d\\xb2\\xe5\\xba\\xc3\\xa9/B\\xf9\\x9dc\\xcfY\\xf4jf\\xbdIg\\xdc\\xed\\x1e}U7\\x9a\\xb7-\\xfc\\xb74\\xc2\\xe5\\xb3Q\\x84\\x1b\\xee\\xf0EC\\xa8z\\x9b\\xff\\x00)QRK\\xfe\\x96\\x9e?\\x9b\\x00\\x15\\x18\\xa8\\xf5{\\x80T1\\xeaK\\x90%\\xb6\\x7f\\x81=\\xb2\\xc8\\xa8\\x9b\\xf45\\x8f\\xe2\\xc9Q\\xab\\xa2K\\xaaU`\\xf8\\xc1*\\xc0^I\\xc6\\xbdd\\xbf\\x98\\x8d*I\\xe1\\xc6]\\xcde*\\xb5\\xd3]M\\xae\\xe7F\\x1e\\x85\\xe0}>T\\xadaRKyn|\\xff\\x00\\xc8\\xd7t\\xf7\\xfe>y\\x9e\\xbd:\\xc2\\x9fJH\\xe3#\\xbd\\xad\\xbbiv7\\x18\\xad\\x08=\\x91\\xa7:\\x9a&\\x90Y\\x08\\x16\\xc0\\xafRDj)\\xd6\\x96\\xc6Z\\x8c{\\xf9zdF\\x9e]\\xa9\\xbc\\xea\\x15\\xbf\\xccx\\xbc\\x9f\\xd9\\xf4<_\\xd6(\\xe7s\\x11\\xba\\xda\\xd3\\x9f\\x07\\xb3\\xc4\\xf1\\xf9\\x9dE\\x9b\\xd9\\x1e\\xec>~\\xdap{\\x1d\\x1cR\\xa6T\\x1eB\\x16J\\x16B\\x16@f\\xc0\\x17\"\\x80r\\x00\\x1c\\x80\\x17\"\\x06\\xc8Ra\\x02\\xd9@JD\\x00\\xe4\\x009\\x00\\x0e@\\x03\\x90\\x15\\xea\\xcb\\xd2\\xc0\\xe8S6\\xc8\\xb2\\x02\\xc9\\x10\\xb2P\\xd9\\x01\\xb2\\x02\\xc8\\x02\\xd8\\x02\\xd8\\x00\\xd8\\x11I\\x81\\x0c\\xc8+\\xc8*\\t\\x81\\x04\\xc8+L*\\xbc\\xc9E\\x0b\\xaaqi\\x99j9\\xdb\\xfa1\\xdc\\xcd\\x8d\\xc6v\\x99MGT\\x81\\xce\\xfao>\\xde\\x8ba\\xd9\\x1em=ytv\\xafdH\\xd3Z\\x8b\\xd9\\x15\\x17\\xe9p\\x8d3W)\\x95\\x95\\x88\\xbc\\x15\\x07\\xd5\\x90\\x19\\xb2\\x00\\x93#Hjl\\x06]\\xea\\xcd9d\\x8a\\xf0\\x0f\\x1c\\xd0\\x8d\\x1f\\x12Uq\\xfe5\\x96{\\x7f\\x1e\\xff\\x00\\x07\\x87\\xcf?\\x9b\\x9f\\xce\\xc7\\xa68\\'\\xa6\\xf6GH\\xcaY\\xbcD\\xd0\\n\\xfc\\xc4\\x82X\\xf0X%\\x8f\\x06\\xa2\\x17l\\x15\\x15\\xe6\\xb71U\\x05o\\x80\\xc5X;\\x19>\\xa7\\x1e\\xc5\\xc1V\\xa7\\xc3GJ\\xcb2^\\x8a\\xcf\\x07\\x0b\\xed\\xb7\\xac\\xfd\\x99\\xea\\xb5\\xab\\xd9V\\xb3\\xa8\\x93\\x85/T^x\\xcfc\\xc3\\xf9y\\x92\\xcd=\\xff\\x00\\x89\\xbbe\\xcb\\xbe\\xeay<Oi\\x94\\xe4\\xdb\"\\x8f\\xad\\xa4\\xbb\\x94\\xe2:\\x93y\\xc7\\xc8\\x82\\xadI\\xee\\xf6\\xe1\\x01\\x8d\\xa8M\\xf9\\x13\\x13\\xd9}8MVX\\xb3\\x94\\x97.g\\xa3\\x1e\\xde}\\xfac\\xdc\\xb7\\x08m\\xda\\'h\\xe1\\xafL\\xda3iM\\xfb\\xa6u\\x8f=Gl\\xf3q\\xf5EE\\x85&\\xa9E\\x7f\\x8b\\x00\\x0e\\xa3\\xe9\\xa9Q/d\\x05(\\xbf\\xfat\\xbd\\xa4\\x04\\xc9b\\r\\xa0\\x02\\xdaO\\xae_F(\\xbbg\\xbd:\\xab\\x1f\\xc2ERm\\xf58\\xfc\\xca\\x8dM\\x16XSk\\x9e\\x96J\\xb0\\xf5_U\\xdc\\xf3\\xdd\\x91\\xa8\\xadS\\xe2\\xc7\\xcc\\xd6R\\x82\\x14\\xe3Z\\xee\\x8c$\\xbd.[\\x9a\\xd5\\xfaI>\\xde\\xbd\\xe1\\xeaP\\x85((\\xaca\\x1f3^\\xdfK?Q\\xd9Z,\\xc7?1\\x16\\xb4\\xa8m$i\\x8a\\xd1\\x87\\x06\\xd8H\\x98Av(\\x16\\xc0\\xadQ\\xb35\\xa8\\xa5Y\\xec\\xcc\\xb5\\x18\\xf7\\xef\\xd0\\xc9Zyv\\xa0\\xf3{[\\xfc\\xcc\\xf1\\xf9?\\xb3\\xdf\\xe3\\xfe\\xb1S;\\x98\\x8dV\\xce\\x9c\\xf8=\\x9e\\'\\x93\\xcc\\xe9\\xec\\xde\\xc8\\xf6\\xe1\\xf3\\xf6\\xd4\\x83\\xd8\\xea\\xe2\\x952\\xa0\\xd3\\x08Y(Y\\x08l\\x80\\xcd\\x80-\\x80\\r\\x80-\\x94E)a\\xa2\\x03R\\xf9\\x05.\\xaf\\x91P2\\x96\\xdc\\x10E$\\xfd\\xc0\\x16\\x9f\\xb8\\x02\\xd3\\xf7\\x02)\\xbe\\x90!\\x94\\xfeDT\\x15g\\xb3\\xd8\\xa3\\xff\\xd9'}"
            ]
          },
          "metadata": {
            "tags": []
          },
          "execution_count": 77
        }
      ]
    },
    {
      "cell_type": "markdown",
      "metadata": {
        "id": "UXbJw3fdudv-",
        "colab_type": "text"
      },
      "source": [
        "#### **Predicting new images**\n",
        "To predict the label of an image, it is first reshaped to 48x48 grayscale image to meet the requirements of the model, and then, its pixel values are divided by 255, so that, it ranges 0-1."
      ]
    },
    {
      "cell_type": "code",
      "metadata": {
        "id": "YXxWDgWf-d1e",
        "colab_type": "code",
        "colab": {}
      },
      "source": [
        "from keras.preprocessing import image\n",
        "\n",
        "def load_predict(addr,true_emo):\n",
        "\n",
        "  img = image.load_img(addr, color_mode = \"grayscale\", target_size=(48, 48))\n",
        "  plt.imshow(img)\n",
        "  img = image.img_to_array(img)\n",
        "  img = np.expand_dims(img, axis=0)\n",
        "  img/=255.0\n",
        "  classes = model.predict(img)\n",
        "  pred_idx = np.argmax(classes)\n",
        "  labels = ['angry', 'disgust', 'fear', 'happy', 'sad', 'surprise', 'neutral']\n",
        "  print('The predicted label is ',labels[pred_idx],\",The true label is \", true_emo)"
      ],
      "execution_count": 0,
      "outputs": []
    },
    {
      "cell_type": "code",
      "metadata": {
        "id": "qCpLfyq-VEgD",
        "colab_type": "code",
        "outputId": "1b437a26-21f1-446b-eb7a-5561d1b577c0",
        "colab": {
          "base_uri": "https://localhost:8080/",
          "height": 284
        }
      },
      "source": [
        "load_predict('angry.jpg','angry')"
      ],
      "execution_count": 0,
      "outputs": [
        {
          "output_type": "stream",
          "text": [
            "The predicted label is  angry ,The true label is  angry\n"
          ],
          "name": "stdout"
        },
        {
          "output_type": "display_data",
          "data": {
            "image/png": "[encoded data removed]",
            "text/plain": [
              "<Figure size 432x288 with 1 Axes>"
            ]
          },
          "metadata": {
            "tags": []
          }
        }
      ]
    },
    {
      "cell_type": "code",
      "metadata": {
        "id": "LCMz9Q1ZUvOw",
        "colab_type": "code",
        "outputId": "71eaa80d-f5af-4674-8868-53510a63049b",
        "colab": {
          "base_uri": "https://localhost:8080/",
          "height": 284
        }
      },
      "source": [
        "load_predict('happy.png','happy')\n"
      ],
      "execution_count": 0,
      "outputs": [
        {
          "output_type": "stream",
          "text": [
            "The predicted label is  happy ,The true label is  happy\n"
          ],
          "name": "stdout"
        },
        {
          "output_type": "display_data",
          "data": {
            "image/png": "[encoded data removed]",
            "text/plain": [
              "<Figure size 432x288 with 1 Axes>"
            ]
          },
          "metadata": {
            "tags": []
          }
        }
      ]
    },
    {
      "cell_type": "code",
      "metadata": {
        "id": "JT9_AxgMUws2",
        "colab_type": "code",
        "outputId": "9e051df5-2903-4839-8dd0-442a9c3cc0a3",
        "colab": {
          "base_uri": "https://localhost:8080/",
          "height": 284
        }
      },
      "source": [
        "load_predict('sad.jpg','sad')\n"
      ],
      "execution_count": 0,
      "outputs": [
        {
          "output_type": "stream",
          "text": [
            "The predicted label is  sad ,The true label is  sad\n"
          ],
          "name": "stdout"
        },
        {
          "output_type": "display_data",
          "data": {
            "image/png": "[encoded data removed]",
            "text/plain": [
              "<Figure size 432x288 with 1 Axes>"
            ]
          },
          "metadata": {
            "tags": []
          }
        }
      ]
    },
    {
      "cell_type": "code",
      "metadata": {
        "id": "FKZEbCXYUygh",
        "colab_type": "code",
        "outputId": "2d2714cc-bc73-498f-f59e-279ecbd3b315",
        "colab": {
          "base_uri": "https://localhost:8080/",
          "height": 284
        }
      },
      "source": [
        "load_predict('surprise.jpeg','surprise')\n"
      ],
      "execution_count": 0,
      "outputs": [
        {
          "output_type": "stream",
          "text": [
            "The predicted label is  fear ,The true label is  surprise\n"
          ],
          "name": "stdout"
        },
        {
          "output_type": "display_data",
          "data": {
            "image/png": "[encoded data removed]",
            "text/plain": [
              "<Figure size 432x288 with 1 Axes>"
            ]
          },
          "metadata": {
            "tags": []
          }
        }
      ]
    },
    {
      "cell_type": "code",
      "metadata": {
        "id": "L4iMuUFKVLun",
        "colab_type": "code",
        "outputId": "18c21c73-518c-4254-844a-14b4ce14a291",
        "colab": {
          "base_uri": "https://localhost:8080/",
          "height": 284
        }
      },
      "source": [
        "load_predict('fear.jpg','fear')"
      ],
      "execution_count": 0,
      "outputs": [
        {
          "output_type": "stream",
          "text": [
            "The predicted label is  fear ,The true label is  fear\n"
          ],
          "name": "stdout"
        },
        {
          "output_type": "display_data",
          "data": {
            "image/png": "[encoded data removed]",
            "text/plain": [
              "<Figure size 432x288 with 1 Axes>"
            ]
          },
          "metadata": {
            "tags": []
          }
        }
      ]
    },
    {
      "cell_type": "code",
      "metadata": {
        "id": "S7ZuJjVxVS6L",
        "colab_type": "code",
        "outputId": "1328d5b9-aff4-4aa3-eb21-6743fec06916",
        "colab": {
          "base_uri": "https://localhost:8080/",
          "height": 284
        }
      },
      "source": [
        "load_predict('disgust.jpg','disgust')"
      ],
      "execution_count": 0,
      "outputs": [
        {
          "output_type": "stream",
          "text": [
            "The predicted label is  sad ,The true label is  disgust\n"
          ],
          "name": "stdout"
        },
        {
          "output_type": "display_data",
          "data": {
            "image/png": "[encoded data removed]",
            "text/plain": [
              "<Figure size 432x288 with 1 Axes>"
            ]
          },
          "metadata": {
            "tags": []
          }
        }
      ]
    },
    {
      "cell_type": "markdown",
      "metadata": {
        "id": "9tO1UhUT-tE3",
        "colab_type": "text"
      },
      "source": [
        "## **6. Benchmark model**\n",
        "Support Vector Machine SVM is used as a benchmark model. SVMs have been widely applied to machine vision fields such as character, handwriting digit and text recognition, and more recently to satellite image classification. It is interesting to compare our results with a wide-scoped machine learning algorithm like SVM. "
      ]
    },
    {
      "cell_type": "code",
      "metadata": {
        "id": "4J6cq4pL8Uoz",
        "colab_type": "code",
        "outputId": "938194f1-9566-47db-de86-7c8824c4defd",
        "colab": {
          "base_uri": "https://localhost:8080/",
          "height": 139
        }
      },
      "source": [
        "from sklearn import svm\n",
        "clf = svm.SVC()\n",
        "clf.fit(X_train_pre,y_train_pre)"
      ],
      "execution_count": 0,
      "outputs": [
        {
          "output_type": "stream",
          "text": [
            "/usr/local/lib/python3.6/dist-packages/sklearn/svm/base.py:193: FutureWarning: The default value of gamma will change from 'auto' to 'scale' in version 0.22 to account better for unscaled features. Set gamma explicitly to 'auto' or 'scale' to avoid this warning.\n",
            "  \"avoid this warning.\", FutureWarning)\n"
          ],
          "name": "stderr"
        },
        {
          "output_type": "execute_result",
          "data": {
            "text/plain": [
              "SVC(C=1.0, cache_size=200, class_weight=None, coef0=0.0,\n",
              "    decision_function_shape='ovr', degree=3, gamma='auto_deprecated',\n",
              "    kernel='rbf', max_iter=-1, probability=False, random_state=None,\n",
              "    shrinking=True, tol=0.001, verbose=False)"
            ]
          },
          "metadata": {
            "tags": []
          },
          "execution_count": 122
        }
      ]
    },
    {
      "cell_type": "markdown",
      "metadata": {
        "id": "GVZ1KqMckrf8",
        "colab_type": "text"
      },
      "source": [
        "We can expect for CNN to have higher accuracy than the general algorithm. If this assumption is confirmed, we can conclude that, when it comes to image recognition we should give preference to more specialized algorithm in that domain."
      ]
    },
    {
      "cell_type": "code",
      "metadata": {
        "id": "Euf0bv7hUbYu",
        "colab_type": "code",
        "outputId": "99de711e-7300-4a31-f581-04a0d3f8bfe6",
        "colab": {
          "base_uri": "https://localhost:8080/",
          "height": 51
        }
      },
      "source": [
        "from sklearn.metrics import accuracy_score\n",
        "y_predicted = clf.predict(X_test_pre)\n",
        "accuracy = accuracy_score(y_test_pre, y_predicted)\n",
        "print(\"Testing accuracy= \",accuracy)\n",
        "\n",
        "y_predicted = clf.predict(X_train_pre)\n",
        "accuracy = accuracy_score(y_train_pre, y_predicted)\n",
        "print(\"Training accuracy= \",accuracy)"
      ],
      "execution_count": 0,
      "outputs": [
        {
          "output_type": "stream",
          "text": [
            "Testing accuracy=  0.36834772917247144\n",
            "Training accuracy=  0.377059458706329\n"
          ],
          "name": "stdout"
        }
      ]
    }
  ]
}
